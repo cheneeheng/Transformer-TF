{
  "nbformat": 4,
  "nbformat_minor": 0,
  "metadata": {
    "colab": {
      "name": "sandbox.ipynb",
      "provenance": [],
      "collapsed_sections": [],
      "mount_file_id": "https://github.com/cheneeheng/Transformer-TF/blob/colab_dev/Cifar10_VIT.ipynb",
      "authorship_tag": "ABX9TyOlwOvFpHgrKKIERf+tdils",
      "include_colab_link": true
    },
    "kernelspec": {
      "name": "python3",
      "display_name": "Python 3"
    },
    "accelerator": "GPU"
  },
  "cells": [
    {
      "cell_type": "markdown",
      "metadata": {
        "id": "view-in-github",
        "colab_type": "text"
      },
      "source": [
        "<a href=\"https://colab.research.google.com/github/cheneeheng/Transformer-TF/blob/colab_dev/Cifar10_VIT_p2.ipynb\" target=\"_parent\"><img src=\"https://colab.research.google.com/assets/colab-badge.svg\" alt=\"Open In Colab\"/></a>"
      ]
    },
    {
      "cell_type": "markdown",
      "metadata": {
        "id": "gTYg3rNWKMt7"
      },
      "source": [
        "# **CIFAR10 Classification**\n",
        "\n",
        "Based on [CIFAR10_Keras_GPU.ipynb](https://github.com/katnoria/cifar10-native-vs-colab/blob/master/CIFAR10_Keras_GPU.ipynb) from [katnoria/cifar10-native-vs-colab](https://github.com/katnoria/cifar10-native-vs-colab) .\n",
        "\n",
        "General info about the dataset:\n",
        "- 50K Train, 10K Test\n",
        "- 10 object classes\n"
      ]
    },
    {
      "cell_type": "markdown",
      "metadata": {
        "id": "Ncg-GVYwK1TG"
      },
      "source": [
        "# Imports"
      ]
    },
    {
      "cell_type": "code",
      "metadata": {
        "id": "uV1eLcgmDsyN",
        "colab": {
          "base_uri": "https://localhost:8080/",
          "height": 35
        },
        "outputId": "66ecc573-b231-4323-d862-8cccd06fa7f1"
      },
      "source": [
        "# from google.colab import drive\n",
        "# drive.mount(\"/content/drive\")\n",
        "\n",
        "SAVE_PATH = \"/content/drive/MyDrive/02_Work/05_Experiments/TF-Transformer/Cifar10_VIT/210318_\"\n",
        "\n",
        "import os\n",
        "os.environ['CUDA_VISIBLE_DEVICES'] = '0'\n",
        "\n",
        "from time import time\n",
        "import numpy as np\n",
        "from sklearn.model_selection import train_test_split\n",
        "import matplotlib.pyplot as plt\n",
        "plt.style.use('ggplot')\n",
        "%matplotlib inline\n",
        "\n",
        "import tensorflow as tf\n",
        "tf.__version__"
      ],
      "execution_count": 1,
      "outputs": [
        {
          "output_type": "execute_result",
          "data": {
            "application/vnd.google.colaboratory.intrinsic+json": {
              "type": "string"
            },
            "text/plain": [
              "'2.4.1'"
            ]
          },
          "metadata": {
            "tags": []
          },
          "execution_count": 1
        }
      ]
    },
    {
      "cell_type": "markdown",
      "metadata": {
        "id": "wnrIX5LiLGqz"
      },
      "source": [
        "# Data generator"
      ]
    },
    {
      "cell_type": "code",
      "metadata": {
        "id": "NwetmhNHLGPv",
        "colab": {
          "base_uri": "https://localhost:8080/"
        },
        "outputId": "5e83f132-e214-4439-c7a7-d75969446a49"
      },
      "source": [
        "from tensorflow.keras.datasets import cifar10\n",
        "\n",
        "(x_trn_full, y_trn_full), (x_tst, y_tst) = cifar10.load_data()\n",
        "\n",
        "# remove the last dimension\n",
        "y_trn_full = y_trn_full.reshape(y_trn_full.shape[0],)\n",
        "y_tst = y_tst.reshape(y_tst.shape[0],)\n",
        "\n",
        "# perform in model.\n",
        "# # normalize data to 0..1\n",
        "# x_trn_full, x_tst = x_trn_full / 255.0, x_tst / 255.0\n",
        "\n",
        "# create validation split\n",
        "# split = 0.2\n",
        "# x_trn, x_val, y_trn, y_val = train_test_split(\n",
        "#     x_trn_full, y_trn_full, test_size=split, random_state=1969)\n",
        "x_trn, x_val, y_trn, y_val = x_trn_full, x_tst, y_trn_full, y_tst\n",
        "\n",
        "print(f'x_trn.shape: {x_trn.shape}')\n",
        "print(f'y_trn.shape: {y_trn.shape}')\n",
        "print(f'x_val.shape: {x_val.shape}')\n",
        "print(f'y_val.shape: {y_val.shape}')\n",
        "print(f'x_tst shape: {x_tst.shape}')\n",
        "print(f'y_tst.shape: {y_tst.shape}')"
      ],
      "execution_count": 2,
      "outputs": [
        {
          "output_type": "stream",
          "text": [
            "Downloading data from https://www.cs.toronto.edu/~kriz/cifar-10-python.tar.gz\n",
            "170500096/170498071 [==============================] - 2s 0us/step\n",
            "x_trn.shape: (50000, 32, 32, 3)\n",
            "y_trn.shape: (50000,)\n",
            "x_val.shape: (10000, 32, 32, 3)\n",
            "y_val.shape: (10000,)\n",
            "x_tst shape: (10000, 32, 32, 3)\n",
            "y_tst.shape: (10000,)\n"
          ],
          "name": "stdout"
        }
      ]
    },
    {
      "cell_type": "code",
      "metadata": {
        "id": "0JqdGbPROPRm",
        "colab": {
          "base_uri": "https://localhost:8080/",
          "height": 530
        },
        "outputId": "5392e8e4-e745-4279-a12f-bad8ed0cd820"
      },
      "source": [
        "# pick 25 random images and plot\n",
        "idxs = np.random.randint(x_trn.shape[0], size=25)\n",
        "images = x_trn[idxs]\n",
        "labels = y_trn[idxs]\n",
        "classnames = ['airplane', 'automobile', 'bird', 'cat', 'deer',\n",
        "              'dog', 'frog', 'horse', 'ship', 'truck']\n",
        "\n",
        "fig, axes = plt.subplots(5,5, figsize=(8,9))\n",
        "for i, ax in enumerate(axes.flat):\n",
        "  ax.imshow(images[i])\n",
        "  ax.axis('off')\n",
        "  idx = labels[i]\n",
        "  ax.set_title(classnames[idx])\n",
        "plt.show()"
      ],
      "execution_count": 3,
      "outputs": [
        {
          "output_type": "display_data",
          "data": {
            "image/png": "[encoded data removed]",
            "text/plain": [
              "<Figure size 576x648 with 25 Axes>"
            ]
          },
          "metadata": {
            "tags": [],
            "needs_background": "light"
          }
        }
      ]
    },
    {
      "cell_type": "code",
      "metadata": {
        "id": "hJ0WDLT4s00F"
      },
      "source": [
        "class Patches(tf.keras.layers.Layer):\n",
        "  \"\"\"Creates patches from an image. Implemented as a keras layer.\"\"\"\n",
        "  def __init__(self, patch_size: int):\n",
        "    super().__init__()\n",
        "    self.patch_size = patch_size\n",
        "\n",
        "  def call(self, x):\n",
        "    batch_size = tf.shape(x)[0]\n",
        "    patches = tf.image.extract_patches(\n",
        "        images=x,\n",
        "        sizes=[1, self.patch_size, self.patch_size, 1],\n",
        "        strides=[1, self.patch_size, self.patch_size, 1],\n",
        "        rates=[1, 1, 1, 1],\n",
        "        padding=\"VALID\",\n",
        "    )\n",
        "    patch_dims = patches.shape[-1]\n",
        "    patches = tf.reshape(patches, [batch_size, -1, patch_dims])\n",
        "    return patches\n",
        "\n",
        "  def get_config(self):\n",
        "    return {\"patch_size\": self.patch_size}\n",
        "\n",
        "  @classmethod\n",
        "  def from_config(cls, config):\n",
        "    return cls(**config)\n"
      ],
      "execution_count": 4,
      "outputs": []
    },
    {
      "cell_type": "code",
      "metadata": {
        "colab": {
          "base_uri": "https://localhost:8080/",
          "height": 551
        },
        "id": "vRUfSiYstKud",
        "outputId": "f68bcf79-7b8e-4109-a517-61799e2d65b9"
      },
      "source": [
        "plt.figure(figsize=(4, 4))\n",
        "image = x_trn[np.random.choice(range(x_trn.shape[0]))]\n",
        "plt.imshow(image)\n",
        "plt.axis(\"off\")\n",
        "\n",
        "image_size = 32\n",
        "patch_size = 4\n",
        "\n",
        "resized_image = tf.image.resize(\n",
        "    tf.convert_to_tensor([image]), size=(image_size, image_size)\n",
        ")\n",
        "patches = Patches(patch_size)(resized_image)\n",
        "print(f\"Image size: {image_size} X {image_size}\")\n",
        "print(f\"Patch size: {patch_size} X {patch_size}\")\n",
        "print(f\"Patches per image: {patches.shape[1]}\")\n",
        "print(f\"Elements per patch: {patches.shape[-1]}\")\n",
        "\n",
        "n = int(np.sqrt(patches.shape[1]))\n",
        "plt.figure(figsize=(4, 4))\n",
        "for i, patch in enumerate(patches[0]):\n",
        "    ax = plt.subplot(n, n, i + 1)\n",
        "    patch_img = tf.reshape(patch, (patch_size, patch_size, 3))\n",
        "    plt.imshow(patch_img.numpy().astype(\"uint8\"))\n",
        "    plt.axis(\"off\")"
      ],
      "execution_count": 5,
      "outputs": [
        {
          "output_type": "stream",
          "text": [
            "Image size: 32 X 32\n",
            "Patch size: 4 X 4\n",
            "Patches per image: 64\n",
            "Elements per patch: 48\n"
          ],
          "name": "stdout"
        },
        {
          "output_type": "display_data",
          "data": {
            "image/png": "[encoded data removed]",
            "text/plain": [
              "<Figure size 288x288 with 1 Axes>"
            ]
          },
          "metadata": {
            "tags": [],
            "needs_background": "light"
          }
        },
        {
          "output_type": "display_data",
          "data": {
            "image/png": "[encoded data removed]",
            "text/plain": [
              "<Figure size 288x288 with 64 Axes>"
            ]
          },
          "metadata": {
            "tags": [],
            "needs_background": "light"
          }
        }
      ]
    },
    {
      "cell_type": "code",
      "metadata": {
        "id": "FHDdb2NJOVYU"
      },
      "source": [
        "def data_generator(split: str, batch_size: int, shuffle_buffer: int = 10000):\n",
        "  \"\"\"Creates a tf.data.Dataset instance.\n",
        "\n",
        "  Args:\n",
        "      split: The type of data to generate, ['train', 'val', 'test'].\n",
        "      batch_size: Batch size.\n",
        "      shuffle_buffer: Number of elements used for shuffling.\n",
        "\n",
        "  Returns:\n",
        "      A tf.data.Dataset instance.\n",
        "\n",
        "  Raises:\n",
        "      ValueError: If `split` is not ['train', 'val', 'test'].\n",
        "\n",
        "  \"\"\"\n",
        "  if split == 'train':\n",
        "    ds = tf.data.Dataset.from_tensor_slices((x_trn, y_trn))\n",
        "    ds = ds.shuffle(shuffle_buffer)\n",
        "  elif split == 'val':\n",
        "    ds = tf.data.Dataset.from_tensor_slices((x_val, y_val))\n",
        "  elif split == 'test':\n",
        "    ds = tf.data.Dataset.from_tensor_slices((x_tst, y_tst))\n",
        "  else:\n",
        "    raise ValueError(f\"Unknown data split : {split}\")\n",
        "  return ds.batch(batch_size)"
      ],
      "execution_count": 6,
      "outputs": []
    },
    {
      "cell_type": "markdown",
      "metadata": {
        "id": "lqkixwrjM7wE"
      },
      "source": [
        "# Model"
      ]
    },
    {
      "cell_type": "markdown",
      "metadata": {
        "id": "mn9ZY763Jg7x"
      },
      "source": [
        "A simple CNN example from the keras [CNN benchmark](https://github.com/keras-team/keras/blob/master/keras/benchmarks/keras_examples_benchmarks/cifar10_cnn_benchmark_test.py) .  \n",
        "It is based on this [CNN example](https://github.com/keras-team/keras/blob/master/examples/cifar10_cnn.py) but the example is no longer available.\n"
      ]
    },
    {
      "cell_type": "code",
      "metadata": {
        "id": "McvCeeVJJf8j"
      },
      "source": [
        "from tensorflow.keras import Input, Model\n",
        "from tensorflow.keras.layers import (\n",
        "  Conv2D, \n",
        "  BatchNormalization, \n",
        "  MaxPool2D,\n",
        "  Dropout,\n",
        "  Flatten,\n",
        "  Dense\n",
        ")\n",
        "from tensorflow.keras.initializers import TruncatedNormal, Constant, Zeros\n",
        "from tensorflow.keras.regularizers import L2\n",
        "from tensorflow.keras.activations import relu\n",
        "from tensorflow.keras.layers.experimental.preprocessing import (\n",
        "  RandomFlip,\n",
        "  RandomTranslation,\n",
        "  RandomRotation,\n",
        "  RandomZoom,\n",
        "  Normalization,\n",
        "  Rescaling,\n",
        "  Resizing\n",
        ")\n",
        "\n",
        "def conv2d(filters, kernel_size, strides=(1, 1), padding='valid', **kwargs):\n",
        "  return Conv2D(filters, \n",
        "                kernel_size, \n",
        "                strides, \n",
        "                padding=padding, \n",
        "                activation=relu,\n",
        "                **kwargs)\n",
        "  \n",
        "def maxpool2d(**kwargs):\n",
        "  return MaxPool2D([3, 3], 2, padding='valid', **kwargs)\n",
        "\n",
        "class SmallCNN(Model):\n",
        "  \"\"\"SmallCNN implementation.\n",
        "  \n",
        "  Changes compared to the original model:\n",
        "  - maxpool2d uses a kernel_size=3, stride=2.\n",
        "  \n",
        "  \"\"\"\n",
        "\n",
        "  def __init__(self, \n",
        "               num_classes: int, \n",
        "               image_height: int, \n",
        "               image_width: int,\n",
        "               preprocess: bool = False):\n",
        "    super().__init__()\n",
        "\n",
        "    self.num_classes = num_classes\n",
        "    self.image_height = image_height\n",
        "    self.image_width = image_width\n",
        "    self.preprocess = preprocess\n",
        "\n",
        "    self.rescale = Rescaling(1./255., name='rescale')\n",
        "    self.resize = Resizing(self.image_height, self.image_width, name='resize')\n",
        "\n",
        "    # Preprocessing\n",
        "    self.augs = [\n",
        "      RandomFlip(\"horizontal\", name='data_aug_flip'),\n",
        "      # RandomTranslation((-0.1, 0.1), (-0.1, 0.1), name='data_aug2'),\n",
        "      RandomRotation(0.02, name='data_aug_rot'),\n",
        "      RandomZoom(0.2, 0.2, name='data_aug_zoom'),\n",
        "    ]\n",
        "\n",
        "    # Model\n",
        "    self.conv1 = conv2d(32, 3, name='conv1', padding='same')\n",
        "    self.conv2 = conv2d(32, 3, name='conv2')\n",
        "    self.pool2 = maxpool2d(name='pool1')\n",
        "    self.drop2 = Dropout(0.5, name='drop2')\n",
        "    self.conv3 = conv2d(64, 3, name='conv3', padding='same')\n",
        "    self.conv4 = conv2d(64, 3, name='conv4')\n",
        "    self.pool4 = maxpool2d(name='pool4')\n",
        "    self.drop4 = Dropout(0.25, name='drop4')\n",
        "    self.flat5 = Flatten(name='flat5')\n",
        "    self.dens5 = Dense(512, activation=relu, name='dens5')\n",
        "    self.drop5 = Dropout(0.5, name='drop5')\n",
        "    self.dens6 = Dense(self.num_classes, name='logits')\n",
        "\n",
        "  def call(self, x, training: bool = None):\n",
        "    x = self.rescale(x)\n",
        "    x = self.resize(x)\n",
        "    if self.preprocess:\n",
        "      for aug_i in self.augs:\n",
        "        x = aug_i(x, training=training)\n",
        "    x = self.pool2(self.conv2(self.conv1(x)))\n",
        "    x = self.drop2(x, training=training)\n",
        "    x = self.pool4(self.conv4(self.conv3(x)))\n",
        "    x = self.drop4(x, training=training)\n",
        "    x = self.dens5(self.flat5(x))\n",
        "    x = self.drop5(x, training=training)\n",
        "    x = self.dens6(x)\n",
        "    return x\n",
        "  \n",
        "  # https://stackoverflow.com/questions/55235212\n",
        "  def model(self, input_shape=None):\n",
        "    if input_shape is None:\n",
        "      x = Input(shape=(self.image_height, self.image_width, 3))\n",
        "    else:\n",
        "      x = Input(shape=input_shape)\n",
        "    return Model(inputs=[x], outputs=self.call(x))\n",
        "  \n",
        "  def get_config(self):\n",
        "    return {\"num_classes\": self.num_classes,\n",
        "            \"image_height\": self.image_height,\n",
        "            \"image_width\": self.image_width,\n",
        "            \"preprocess\": self.preprocess}\n",
        "\n",
        "  @classmethod\n",
        "  def from_config(cls, config):\n",
        "    return cls(**config)"
      ],
      "execution_count": 7,
      "outputs": []
    },
    {
      "cell_type": "markdown",
      "metadata": {
        "id": "rGHzfefDfO5z"
      },
      "source": [
        "[Vision Transformer](https://arxiv.org/abs/2010.11929) by Alexey Dosovitskiy et al.  \n",
        "Code taken from this [example](https://keras.io/examples/vision/image_classification_with_vision_transformer/) ."
      ]
    },
    {
      "cell_type": "code",
      "metadata": {
        "id": "qfUPza88W8GY"
      },
      "source": [
        "from tensorflow.keras import Input, Model\n",
        "from tensorflow.keras.layers import (\n",
        "  Layer,\n",
        "  Add,\n",
        "  BatchNormalization, \n",
        "  Conv2D, \n",
        "  Dense,\n",
        "  Dropout,\n",
        "  Embedding,\n",
        "  Flatten,\n",
        "  LayerNormalization,\n",
        "  MaxPool2D,\n",
        "  MultiHeadAttention\n",
        ")\n",
        "from tensorflow.keras.initializers import TruncatedNormal, Constant, Zeros\n",
        "from tensorflow.keras.regularizers import L2\n",
        "from tensorflow.keras.activations import relu, gelu\n",
        "from tensorflow.keras.layers.experimental.preprocessing import (\n",
        "  Normalization,\n",
        "  RandomFlip,\n",
        "  RandomRotation,\n",
        "  RandomZoom,\n",
        "  Rescaling,\n",
        "  Resizing,\n",
        ")\n",
        "\n",
        "def mlp(hidden_units: list, dropout_rate: float, name: str = ''):\n",
        "  \"\"\"Multilayer perceptron.\"\"\"\n",
        "  layers = []\n",
        "  for idx, units in enumerate(hidden_units):\n",
        "    layers.append(Dense(units, activation=gelu, name=f'{name}/dens{idx}'))\n",
        "    layers.append(Dropout(dropout_rate, name=f'{name}/drop{idx}'))\n",
        "  return layers\n",
        "\n",
        "class MLP(Layer):\n",
        "  \"\"\"Multilayer perceptron.\"\"\"\n",
        "  def __init__(self, hidden_units: list, dropout_rate: float):\n",
        "    super().__init__()\n",
        "    self.hidden_units = hidden_units\n",
        "    self.dropout_rate = dropout_rate\n",
        "    \n",
        "    self.layers = []\n",
        "    self.dropouts = []\n",
        "    for idx, units in enumerate(self.hidden_units):\n",
        "      self.layers.append(Dense(units, activation=gelu, name=f'dens{idx}'))\n",
        "      self.dropouts.append(Dropout(dropout_rate))\n",
        "\n",
        "  def call(self, x, training: bool = None):\n",
        "    for layer_i, dropout_i in zip(self.layers, self.dropouts):\n",
        "        x = layer_i(x)\n",
        "        x = dropout_i(x, training=training)\n",
        "    return x\n",
        "  \n",
        "  def get_config(self):\n",
        "    return {\"hidden_units\": self.hidden_units,\n",
        "            \"dropout_rate\": self.dropout_rate}\n",
        "\n",
        "  @classmethod\n",
        "  def from_config(cls, config):\n",
        "    return cls(**config)\n",
        "\n",
        "\n",
        "class PatchEncoder(Layer):\n",
        "  \"\"\"Encoder for the image patches.\"\"\"\n",
        "  def __init__(self, num_patches: int, projection_dim: int):\n",
        "    super().__init__()\n",
        "    self.num_patches = num_patches\n",
        "    self.projection_dim = projection_dim\n",
        "    self.projection = Dense(units=self.projection_dim)\n",
        "    self.position_embedding = Embedding(input_dim=num_patches,\n",
        "                                        output_dim=self.projection_dim)\n",
        "\n",
        "  def call(self, x):\n",
        "    positions = tf.range(start=0, limit=self.num_patches, delta=1)\n",
        "    encoded = self.projection(x) + self.position_embedding(positions)\n",
        "    return encoded\n",
        "  \n",
        "  def get_config(self):\n",
        "    return {\"num_patches\": self.num_patches,\n",
        "            \"projection_dim\": self.projection_dim}\n",
        "\n",
        "  @classmethod\n",
        "  def from_config(cls, config):\n",
        "    return cls(**config)\n",
        "\n",
        "\n",
        "class VIT(Model):\n",
        "  \"\"\"Vision Transformer implementation.\n",
        "  \n",
        "  Changes compared to the original model:\n",
        "  - maxpool2d uses a kernel_size=3, stride=2.\n",
        "  \n",
        "  \"\"\"\n",
        "  def __init__(self, \n",
        "               num_classes: int, \n",
        "               image_height: int, \n",
        "               image_width: int,\n",
        "               patch_size: int, \n",
        "               projection_dim: int,\n",
        "               num_layers: int,\n",
        "               num_heads: int,\n",
        "               mlp_dims: list,\n",
        "               classifier_mlp_dims: list,\n",
        "               preprocess: bool = False):\n",
        "    super().__init__()\n",
        "    \n",
        "    self.num_classes = num_classes\n",
        "    self.image_height = image_height\n",
        "    self.image_width = image_width\n",
        "    self.patch_size = patch_size\n",
        "    self.projection_dim = projection_dim\n",
        "    self.num_layers = num_layers\n",
        "    self.num_heads = num_heads\n",
        "    self.mlp_dims = mlp_dims\n",
        "    self.classifier_mlp_dims = classifier_mlp_dims\n",
        "    self.preprocess = preprocess\n",
        "\n",
        "    self.rescale = Rescaling(1./255., name='rescale')\n",
        "    self.resize = Resizing(self.image_height, self.image_width, name='resize')\n",
        "\n",
        "    # Preprocessing\n",
        "    self.augs = [\n",
        "      RandomFlip(\"horizontal\", name='data_aug_flip'),\n",
        "      # RandomTranslation((-0.1, 0.1), (-0.1, 0.1), name='data_aug2'),\n",
        "      RandomRotation(0.02, name='data_aug_rot'),\n",
        "      RandomZoom(0.2, 0.2, name='data_aug_zoom'),\n",
        "    ]\n",
        "\n",
        "    # Patches\n",
        "    self.patch = Patches(self.patch_size)\n",
        "    num_patches = (self.image_height // self.patch_size) * \\\n",
        "                  (self.image_width // self.patch_size)\n",
        "    self.patch_enc = PatchEncoder(num_patches, self.projection_dim)\n",
        "\n",
        "    # Model\n",
        "    self.transformer_blocks = []\n",
        "    for idx in range(self.num_layers):\n",
        "      block = []\n",
        "      block += [LayerNormalization(epsilon=1e-6, name=f'ln{idx + 1}_1')]\n",
        "      block += [MultiHeadAttention(self.num_heads, \n",
        "                                   self.projection_dim, \n",
        "                                   dropout=0.1, \n",
        "                                   name=f'mha{idx + 1}')]\n",
        "      block += [Add(name=f'skip{idx + 1}_1')]\n",
        "      block += [LayerNormalization(epsilon=1e-6, name=f'ln{idx + 1}_2')]\n",
        "      block += [mlp(mlp_dims, dropout_rate=0.1, name=f'mlp{idx + 1}')]\n",
        "      block += [Add(name=f'skip{idx + 1}_2')]\n",
        "      self.transformer_blocks.append(block)\n",
        "\n",
        "    self.lnorm = LayerNormalization(epsilon=1e-6, name='classifier_ln')\n",
        "    self.flat = Flatten(name='classifier_flat')\n",
        "    self.drop = Dropout(0.5, name='classifier_drop')\n",
        "    self.mlp = mlp(self.classifier_mlp_dims, dropout_rate=0.5, \n",
        "                   name='classifier_mlp')\n",
        "    self.logits = Dense(self.num_classes, name='logits')\n",
        "\n",
        "  def call(self, x, training: bool = None):\n",
        "    x = self.rescale(x)\n",
        "    x = self.resize(x)\n",
        "\n",
        "    if self.preprocess:\n",
        "      for aug_i in self.augs:\n",
        "        x = aug_i(x, training=training)\n",
        "\n",
        "    x = self.patch(x)\n",
        "    x = self.patch_enc(x)\n",
        "    \n",
        "    for block in self.transformer_blocks:\n",
        "      x_layer_norm_1 = block[0](x)\n",
        "      x_attention    = block[1](x_layer_norm_1, x_layer_norm_1)\n",
        "      x_skip         = block[2]([x_attention, x])\n",
        "      x_layer_norm_2 = block[3](x_skip)\n",
        "      x_mlp          = self._iterate_mlp(block[4], x_layer_norm_2)\n",
        "      x              = block[5]([x_mlp, x_skip])\n",
        "    \n",
        "    x = self.lnorm(x)\n",
        "    x = self.flat(x)\n",
        "    x = self.drop(x, training=training)\n",
        "    x = self._iterate_mlp(self.mlp, x)\n",
        "    x = self.logits(x)\n",
        "    return x\n",
        "  \n",
        "  @staticmethod\n",
        "  def _iterate_mlp(mlp_layers: list, x: tf.Tensor):\n",
        "    _x = x\n",
        "    for mlp_i in mlp_layers:\n",
        "      _x = mlp_i(_x)\n",
        "    return _x\n",
        "\n",
        "  # https://stackoverflow.com/questions/55235212\n",
        "  def model(self, input_shape=None):\n",
        "    if input_shape is None:\n",
        "      x = Input(shape=(self.image_height, self.image_width, 3))\n",
        "    else:\n",
        "      x = Input(shape=input_shape)\n",
        "    return Model(inputs=[x], outputs=self.call(x))\n",
        "  \n",
        "  def get_config(self):\n",
        "      return {\"num_classes\": self.num_classes,\n",
        "              \"image_height\": self.image_height,\n",
        "              \"image_width\": self.image_width,\n",
        "              \"patch_size\": self.patch_size,\n",
        "              \"projection_dim\": self.projection_dim,\n",
        "              \"num_layers\": self.num_layers,\n",
        "              \"num_heads\": self.num_heads,\n",
        "              \"mlp_dims\": self.mlp_dims,\n",
        "              \"classifier_mlp_dims\": self.classifier_mlp_dims,\n",
        "              \"preprocess\": self.preprocess}\n",
        "\n",
        "  @classmethod\n",
        "  def from_config(cls, config):\n",
        "      return cls(**config)"
      ],
      "execution_count": 8,
      "outputs": []
    },
    {
      "cell_type": "markdown",
      "metadata": {
        "id": "_SRpqgwZUhg2"
      },
      "source": [
        "Save an initial copy of the weights.  \n",
        "The weights will be used to initialize all the experiments, allowing for fair comparison.\n"
      ]
    },
    {
      "cell_type": "code",
      "metadata": {
        "id": "qX0AlyjijjZg"
      },
      "source": [
        "%%script false \n",
        "# Kept as reference.\n",
        "\n",
        "# # Saves a full copy of the model.\n",
        "# model_SmallCNN = SmallCNN(num_classes=10, \n",
        "#                           image_height=32, \n",
        "#                           image_width=32,\n",
        "#                           preprocess=False).model()\n",
        "# model_SmallCNN.save('model_SmallCNN')\n",
        "\n",
        "# # Loads model\n",
        "# model_SmallCNN = tf.keras.models.load_model('model_SmallCNN')\n",
        "# model_SmallCNN.summary()\n",
        "\n",
        "# # Saves a full copy of the model.\n",
        "# model_VIT = VIT(num_classes=10, \n",
        "#                 image_height=32, \n",
        "#                 image_width=32,\n",
        "#                 patch_size=4, \n",
        "#                 projection_dim=32,\n",
        "#                 num_layers=4,\n",
        "#                 num_heads=4,\n",
        "#                 mlp_dims=[64, 32],\n",
        "#                 classifier_mlp_dims=[512],\n",
        "#                 preprocess=False).model()\n",
        "# model_VIT.save('model_VIT')\n",
        "\n",
        "# # Loads model\n",
        "# model_VIT = tf.keras.models.load_model('model_VIT')\n",
        "# model_VIT.summary()\n",
        "\n",
        "# # Saves only the weights of the model.\n",
        "# model = SmallCNN(num_classes=10)\n",
        "# model(tf.zeros([1,32,32,3]))\n",
        "# model.save_weights('model.h5')\n",
        "\n",
        "# # Loads weights\n",
        "# model.load_weights('model.h5')\n",
        "# model.preprocess = True\n",
        "# for layer in model.model().layers:\n",
        "#   print(layer.output)\n",
        "# model.model().summary()"
      ],
      "execution_count": 9,
      "outputs": []
    },
    {
      "cell_type": "markdown",
      "metadata": {
        "id": "470J_-chCJN-"
      },
      "source": [
        "# Train"
      ]
    },
    {
      "cell_type": "markdown",
      "metadata": {
        "id": "9A3t5koq9X5x"
      },
      "source": [
        "Training configs."
      ]
    },
    {
      "cell_type": "code",
      "metadata": {
        "id": "L0rfLzW6CKvI"
      },
      "source": [
        "loss_fn = tf.keras.losses.SparseCategoricalCrossentropy(from_logits=True)\n",
        "acc_metric_fn = tf.keras.metrics.SparseCategoricalAccuracy\n",
        "batch_size = 256\n",
        "shuffle_buffer = 50000\n",
        "epochs = 50\n",
        "learning_rate = 1e-3\n",
        "\n",
        "num_classes = 10 \n",
        "image_height = 32\n",
        "image_width = 32"
      ],
      "execution_count": 10,
      "outputs": []
    },
    {
      "cell_type": "markdown",
      "metadata": {
        "id": "ZK_xHPHD81nx"
      },
      "source": [
        "Keras model.compile(...) and model.fit(...) .\n"
      ]
    },
    {
      "cell_type": "code",
      "metadata": {
        "id": "x83Opo2GCQWY"
      },
      "source": [
        "def train_and_eval(_model, _checkpoint_filepath):\n",
        "  \"\"\"Wrapper code for training and evaluating.\n",
        "\n",
        "  Args:\n",
        "      _model: A keras Model.\n",
        "      _checkpoint_filepath: Path to save a checkpoint.\n",
        "\n",
        "  Returns:\n",
        "      A history instance that contains logged values per epoch.\n",
        "\n",
        "  \"\"\"\n",
        "  _model.compile(\n",
        "    optimizer=tf.keras.optimizers.Adam(learning_rate=learning_rate),\n",
        "    loss=loss_fn,\n",
        "    metrics=[acc_metric_fn(name='sparse_categorical_accuracy')]\n",
        "  )\n",
        "\n",
        "  checkpoint_callback = tf.keras.callbacks.ModelCheckpoint(\n",
        "    _checkpoint_filepath,\n",
        "    monitor=\"val_sparse_categorical_accuracy\",\n",
        "    save_best_only=True,\n",
        "  )\n",
        "\n",
        "  tensorboard_callback = tf.keras.callbacks.TensorBoard(\n",
        "    log_dir=os.path.join(_checkpoint_filepath, 'logs'), \n",
        "    histogram_freq=epochs//10,\n",
        "    update_freq='epoch'\n",
        "  )\n",
        "\n",
        "  start = time()\n",
        "  history = _model.fit(\n",
        "      data_generator('train', batch_size, shuffle_buffer), \n",
        "      epochs=epochs, \n",
        "      steps_per_epoch=len(data_generator('train', batch_size, shuffle_buffer)),\n",
        "      validation_data=data_generator('val', batch_size),\n",
        "      callbacks=[tensorboard_callback, checkpoint_callback],\n",
        "  )\n",
        "  end = time()\n",
        "  print(f'Total training time {end - start} seconds')\n",
        "  \n",
        "  # Save history output, should be the same as the tensorboard logs.\n",
        "  np.save(os.path.join(_checkpoint_filepath, 'history.npy'), history.history)\n",
        "\n",
        "  return history"
      ],
      "execution_count": 11,
      "outputs": []
    },
    {
      "cell_type": "markdown",
      "metadata": {
        "id": "7hngMmgl87ln"
      },
      "source": [
        "Native TF with GradientTape.  \n",
        "This is exactly the same as using compite(...) and fit(...) in keras.  \n",
        "However, this exposes the gradient and the train loop, allowing for more flexibility."
      ]
    },
    {
      "cell_type": "code",
      "metadata": {
        "id": "unJNqufNCaCe"
      },
      "source": [
        "%%script false\n",
        "# This is just for reference.\n",
        "\n",
        "train_loss = tf.keras.metrics.Mean(name='train_loss')\n",
        "train_accuracy = acc_metric_fn(name='sparse_categorical_accuracy')\n",
        "val_loss = tf.keras.metrics.Mean(name='val_loss')\n",
        "val_accuracy = acc_metric_fn(name='val_sparse_categorical_accuracy')\n",
        "\n",
        "@tf.function\n",
        "def train_step(images, labels):\n",
        "  with tf.GradientTape() as tape:\n",
        "    # training=True is only needed if there are layers with different\n",
        "    # behavior during training versus inference (e.g. Dropout).\n",
        "    predictions = model(images, training=True)\n",
        "    loss = loss_fn(labels, predictions)\n",
        "  gradients = tape.gradient(loss, model.trainable_variables)\n",
        "  optimizer.apply_gradients(zip(gradients, model.trainable_variables))\n",
        "  # Container to keep the results.\n",
        "  train_loss(loss)\n",
        "  train_accuracy(labels, predictions)\n",
        "\n",
        "@tf.function\n",
        "def val_step(images, labels):\n",
        "  # training=False is only needed if there are layers with different\n",
        "  # behavior during training versus inference (e.g. Dropout).\n",
        "  predictions = model(images, training=False)\n",
        "  v_loss = loss_fn(labels, predictions)\n",
        "  # Container to keep the results.\n",
        "  val_loss(v_loss)\n",
        "  val_accuracy(labels, predictions)\n",
        "\n",
        "train_losses, train_accuracies = [], []\n",
        "val_losses, val_accuracies = [], []\n",
        "progbar = tf.keras.utils.Progbar\n",
        "trn_ds = data_generator('train', batch_size, shuffle_buffer)\n",
        "val_ds = data_generator('val', batch_size)\n",
        "\n",
        "start = time()\n",
        "for epoch in range(epochs):\n",
        "  # Reset the metrics at the start of the next epoch\n",
        "  train_loss.reset_states()\n",
        "  train_accuracy.reset_states()\n",
        "  val_loss.reset_states()\n",
        "  val_accuracy.reset_states()\n",
        "\n",
        "  print(f\"Epoch {epoch+1}/{epochs}\")\n",
        "  pb_i = progbar(steps_per_epoch=len(trn_ds), \n",
        "                 stateful_metrics=['Loss', 'Accuracy',\n",
        "                                   'Val Loss', 'Val Accuracy'])\n",
        "  \n",
        "  for idx, (images, labels) in enumerate(trn_ds):\n",
        "    train_step(images, labels)\n",
        "    if idx + 1 < mini_batches:\n",
        "      pb_i.add(1, values=[('Loss', train_loss.result()), \n",
        "                          ('Accuracy', train_accuracy.result())])\n",
        "\n",
        "  for val_images, val_labels in val_ds:\n",
        "    val_step(val_images, val_labels)\n",
        "  pb_i.add(1, values=[('Loss', train_loss.result()), \n",
        "                      ('Accuracy', train_accuracy.result()),\n",
        "                      ('Val Loss', val_loss.result()), \n",
        "                      ('Val Accuracy', val_accuracy.result())])\n",
        "\n",
        "  train_losses.append(train_loss.result())\n",
        "  train_accuracies.append(train_accuracy.result())\n",
        "  val_losses.append(val_loss.result())\n",
        "  val_accuracies.append(val_accuracy.result())\n",
        "\n",
        "end = time()\n",
        "\n",
        "print(f'Total training time {end - start} seconds')"
      ],
      "execution_count": 12,
      "outputs": []
    },
    {
      "cell_type": "markdown",
      "metadata": {
        "id": "2n8bpH3YC3jZ"
      },
      "source": [
        "# Loss and accuracy plots"
      ]
    },
    {
      "cell_type": "code",
      "metadata": {
        "id": "oYmEyrccDQBr"
      },
      "source": [
        "def plot(losses: list, \n",
        "         accuracies: list, \n",
        "         legend_labels: list, \n",
        "         subplot_title: list):\n",
        "  \n",
        "  fig, (ax1, ax2) = plt.subplots(1, 2, figsize=(20,5))\n",
        "  \n",
        "  for x, ll in zip(losses, legend_labels):\n",
        "    c = ax1.plot(x[0], label='Trn: ' + ll, linestyle='--')[0].get_c()\n",
        "    _ = ax1.plot(x[1], label='Val: ' + ll, linestyle='-', color=c)\n",
        "  ax1.set_xlabel('Epochs')\n",
        "  ax1.set_ylabel('Loss')\n",
        "  ax1.set_title(subplot_title[0])\n",
        "  ax1.legend()   \n",
        "\n",
        "  for x, ll in zip(accuracies, legend_labels):\n",
        "    c = ax2.plot(x[0], label='Trn: ' + ll, linestyle='--')[0].get_c()\n",
        "    _ = ax2.plot(x[1], label='Val: ' + ll, linestyle='-', color=c)\n",
        "  ax2.set_xlabel('Epochs')\n",
        "  ax2.set_ylabel('Accuracy')\n",
        "  ax2.set_title(subplot_title[1])\n",
        "  ax2.legend()   \n",
        "\n",
        "  plt.show()"
      ],
      "execution_count": 2,
      "outputs": []
    },
    {
      "cell_type": "markdown",
      "metadata": {
        "id": "DN8M9xvRS1iL"
      },
      "source": [
        "#Experiments"
      ]
    },
    {
      "cell_type": "code",
      "metadata": {
        "id": "rJfbDBahdk54"
      },
      "source": [
        "history = dict()"
      ],
      "execution_count": 14,
      "outputs": []
    },
    {
      "cell_type": "markdown",
      "metadata": {
        "id": "2XKFICEKCZxE"
      },
      "source": [
        "**Experiment 1**  \n",
        "Model : VIT  \n",
        "Preprocessing : False  \n",
        "Batch size : 256  \n",
        "Patch : 4x4  \n",
        "Heads : 1"
      ]
    },
    {
      "cell_type": "code",
      "metadata": {
        "colab": {
          "base_uri": "https://localhost:8080/"
        },
        "id": "6lyrU-_sXgkU",
        "outputId": "48efa05e-3b40-4ebe-bbd3-f5b830b98834"
      },
      "source": [
        "model = VIT(num_classes=num_classes, \n",
        "            image_height=image_height, \n",
        "            image_width=image_width,\n",
        "            patch_size=4, \n",
        "            projection_dim=32,\n",
        "            num_layers=4,\n",
        "            num_heads=1,\n",
        "            mlp_dims=[64, 32],\n",
        "            classifier_mlp_dims=[512],\n",
        "            preprocess=False).model()\n",
        "model.summary()\n",
        "train_and_eval(model, SAVE_PATH + 'VIT_4x4_1hd')"
      ],
      "execution_count": 15,
      "outputs": [
        {
          "output_type": "stream",
          "text": [
            "Model: \"model\"\n",
            "__________________________________________________________________________________________________\n",
            "Layer (type)                    Output Shape         Param #     Connected to                     \n",
            "==================================================================================================\n",
            "input_1 (InputLayer)            [(None, 32, 32, 3)]  0                                            \n",
            "__________________________________________________________________________________________________\n",
            "rescale (Rescaling)             (None, 32, 32, 3)    0           input_1[0][0]                    \n",
            "__________________________________________________________________________________________________\n",
            "resize (Resizing)               (None, 32, 32, 3)    0           rescale[0][0]                    \n",
            "__________________________________________________________________________________________________\n",
            "patches_1 (Patches)             (None, None, 48)     0           resize[0][0]                     \n",
            "__________________________________________________________________________________________________\n",
            "patch_encoder (PatchEncoder)    (None, 64, 32)       3616        patches_1[0][0]                  \n",
            "__________________________________________________________________________________________________\n",
            "ln1_1 (LayerNormalization)      (None, 64, 32)       64          patch_encoder[0][0]              \n",
            "__________________________________________________________________________________________________\n",
            "mha1 (MultiHeadAttention)       (None, 64, 32)       4224        ln1_1[0][0]                      \n",
            "                                                                 ln1_1[0][0]                      \n",
            "__________________________________________________________________________________________________\n",
            "skip1_1 (Add)                   (None, 64, 32)       0           mha1[0][0]                       \n",
            "                                                                 patch_encoder[0][0]              \n",
            "__________________________________________________________________________________________________\n",
            "ln1_2 (LayerNormalization)      (None, 64, 32)       64          skip1_1[0][0]                    \n",
            "__________________________________________________________________________________________________\n",
            "mlp1/dens0 (Dense)              (None, 64, 64)       2112        ln1_2[0][0]                      \n",
            "__________________________________________________________________________________________________\n",
            "mlp1/drop0 (Dropout)            (None, 64, 64)       0           mlp1/dens0[0][0]                 \n",
            "__________________________________________________________________________________________________\n",
            "mlp1/dens1 (Dense)              (None, 64, 32)       2080        mlp1/drop0[0][0]                 \n",
            "__________________________________________________________________________________________________\n",
            "mlp1/drop1 (Dropout)            (None, 64, 32)       0           mlp1/dens1[0][0]                 \n",
            "__________________________________________________________________________________________________\n",
            "skip1_2 (Add)                   (None, 64, 32)       0           mlp1/drop1[0][0]                 \n",
            "                                                                 skip1_1[0][0]                    \n",
            "__________________________________________________________________________________________________\n",
            "ln2_1 (LayerNormalization)      (None, 64, 32)       64          skip1_2[0][0]                    \n",
            "__________________________________________________________________________________________________\n",
            "mha2 (MultiHeadAttention)       (None, 64, 32)       4224        ln2_1[0][0]                      \n",
            "                                                                 ln2_1[0][0]                      \n",
            "__________________________________________________________________________________________________\n",
            "skip2_1 (Add)                   (None, 64, 32)       0           mha2[0][0]                       \n",
            "                                                                 skip1_2[0][0]                    \n",
            "__________________________________________________________________________________________________\n",
            "ln2_2 (LayerNormalization)      (None, 64, 32)       64          skip2_1[0][0]                    \n",
            "__________________________________________________________________________________________________\n",
            "mlp2/dens0 (Dense)              (None, 64, 64)       2112        ln2_2[0][0]                      \n",
            "__________________________________________________________________________________________________\n",
            "mlp2/drop0 (Dropout)            (None, 64, 64)       0           mlp2/dens0[0][0]                 \n",
            "__________________________________________________________________________________________________\n",
            "mlp2/dens1 (Dense)              (None, 64, 32)       2080        mlp2/drop0[0][0]                 \n",
            "__________________________________________________________________________________________________\n",
            "mlp2/drop1 (Dropout)            (None, 64, 32)       0           mlp2/dens1[0][0]                 \n",
            "__________________________________________________________________________________________________\n",
            "skip2_2 (Add)                   (None, 64, 32)       0           mlp2/drop1[0][0]                 \n",
            "                                                                 skip2_1[0][0]                    \n",
            "__________________________________________________________________________________________________\n",
            "ln3_1 (LayerNormalization)      (None, 64, 32)       64          skip2_2[0][0]                    \n",
            "__________________________________________________________________________________________________\n",
            "mha3 (MultiHeadAttention)       (None, 64, 32)       4224        ln3_1[0][0]                      \n",
            "                                                                 ln3_1[0][0]                      \n",
            "__________________________________________________________________________________________________\n",
            "skip3_1 (Add)                   (None, 64, 32)       0           mha3[0][0]                       \n",
            "                                                                 skip2_2[0][0]                    \n",
            "__________________________________________________________________________________________________\n",
            "ln3_2 (LayerNormalization)      (None, 64, 32)       64          skip3_1[0][0]                    \n",
            "__________________________________________________________________________________________________\n",
            "mlp3/dens0 (Dense)              (None, 64, 64)       2112        ln3_2[0][0]                      \n",
            "__________________________________________________________________________________________________\n",
            "mlp3/drop0 (Dropout)            (None, 64, 64)       0           mlp3/dens0[0][0]                 \n",
            "__________________________________________________________________________________________________\n",
            "mlp3/dens1 (Dense)              (None, 64, 32)       2080        mlp3/drop0[0][0]                 \n",
            "__________________________________________________________________________________________________\n",
            "mlp3/drop1 (Dropout)            (None, 64, 32)       0           mlp3/dens1[0][0]                 \n",
            "__________________________________________________________________________________________________\n",
            "skip3_2 (Add)                   (None, 64, 32)       0           mlp3/drop1[0][0]                 \n",
            "                                                                 skip3_1[0][0]                    \n",
            "__________________________________________________________________________________________________\n",
            "ln4_1 (LayerNormalization)      (None, 64, 32)       64          skip3_2[0][0]                    \n",
            "__________________________________________________________________________________________________\n",
            "mha4 (MultiHeadAttention)       (None, 64, 32)       4224        ln4_1[0][0]                      \n",
            "                                                                 ln4_1[0][0]                      \n",
            "__________________________________________________________________________________________________\n",
            "skip4_1 (Add)                   (None, 64, 32)       0           mha4[0][0]                       \n",
            "                                                                 skip3_2[0][0]                    \n",
            "__________________________________________________________________________________________________\n",
            "ln4_2 (LayerNormalization)      (None, 64, 32)       64          skip4_1[0][0]                    \n",
            "__________________________________________________________________________________________________\n",
            "mlp4/dens0 (Dense)              (None, 64, 64)       2112        ln4_2[0][0]                      \n",
            "__________________________________________________________________________________________________\n",
            "mlp4/drop0 (Dropout)            (None, 64, 64)       0           mlp4/dens0[0][0]                 \n",
            "__________________________________________________________________________________________________\n",
            "mlp4/dens1 (Dense)              (None, 64, 32)       2080        mlp4/drop0[0][0]                 \n",
            "__________________________________________________________________________________________________\n",
            "mlp4/drop1 (Dropout)            (None, 64, 32)       0           mlp4/dens1[0][0]                 \n",
            "__________________________________________________________________________________________________\n",
            "skip4_2 (Add)                   (None, 64, 32)       0           mlp4/drop1[0][0]                 \n",
            "                                                                 skip4_1[0][0]                    \n",
            "__________________________________________________________________________________________________\n",
            "classifier_ln (LayerNormalizati (None, 64, 32)       64          skip4_2[0][0]                    \n",
            "__________________________________________________________________________________________________\n",
            "classifier_flat (Flatten)       (None, 2048)         0           classifier_ln[0][0]              \n",
            "__________________________________________________________________________________________________\n",
            "classifier_drop (Dropout)       (None, 2048)         0           classifier_flat[0][0]            \n",
            "__________________________________________________________________________________________________\n",
            "classifier_mlp/dens0 (Dense)    (None, 512)          1049088     classifier_drop[0][0]            \n",
            "__________________________________________________________________________________________________\n",
            "classifier_mlp/drop0 (Dropout)  (None, 512)          0           classifier_mlp/dens0[0][0]       \n",
            "__________________________________________________________________________________________________\n",
            "logits (Dense)                  (None, 10)           5130        classifier_mlp/drop0[0][0]       \n",
            "==================================================================================================\n",
            "Total params: 1,092,074\n",
            "Trainable params: 1,092,074\n",
            "Non-trainable params: 0\n",
            "__________________________________________________________________________________________________\n",
            "Epoch 1/50\n",
            "196/196 [==============================] - 14s 35ms/step - loss: 2.4607 - sparse_categorical_accuracy: 0.1745 - val_loss: 1.6981 - val_sparse_categorical_accuracy: 0.3831\n"
          ],
          "name": "stdout"
        },
        {
          "output_type": "stream",
          "text": [
            "WARNING:absl:Found untraced functions such as dense_layer_call_fn, dense_layer_call_and_return_conditional_losses, embedding_layer_call_fn, embedding_layer_call_and_return_conditional_losses, query_layer_call_fn while saving (showing 5 of 130). These functions will not be directly callable after loading.\n",
            "WARNING:absl:Found untraced functions such as dense_layer_call_fn, dense_layer_call_and_return_conditional_losses, embedding_layer_call_fn, embedding_layer_call_and_return_conditional_losses, query_layer_call_fn while saving (showing 5 of 130). These functions will not be directly callable after loading.\n"
          ],
          "name": "stderr"
        },
        {
          "output_type": "stream",
          "text": [
            "INFO:tensorflow:Assets written to: /content/drive/MyDrive/02_Work/05_Experiments/TF-Transformer/Cifar10_VIT/210318_VIT_4x4_1hd/assets\n"
          ],
          "name": "stdout"
        },
        {
          "output_type": "stream",
          "text": [
            "INFO:tensorflow:Assets written to: /content/drive/MyDrive/02_Work/05_Experiments/TF-Transformer/Cifar10_VIT/210318_VIT_4x4_1hd/assets\n"
          ],
          "name": "stderr"
        },
        {
          "output_type": "stream",
          "text": [
            "Epoch 2/50\n",
            "196/196 [==============================] - 5s 27ms/step - loss: 1.7887 - sparse_categorical_accuracy: 0.3464 - val_loss: 1.4799 - val_sparse_categorical_accuracy: 0.4630\n"
          ],
          "name": "stdout"
        },
        {
          "output_type": "stream",
          "text": [
            "WARNING:absl:Found untraced functions such as dense_layer_call_fn, dense_layer_call_and_return_conditional_losses, embedding_layer_call_fn, embedding_layer_call_and_return_conditional_losses, query_layer_call_fn while saving (showing 5 of 130). These functions will not be directly callable after loading.\n",
            "WARNING:absl:Found untraced functions such as dense_layer_call_fn, dense_layer_call_and_return_conditional_losses, embedding_layer_call_fn, embedding_layer_call_and_return_conditional_losses, query_layer_call_fn while saving (showing 5 of 130). These functions will not be directly callable after loading.\n"
          ],
          "name": "stderr"
        },
        {
          "output_type": "stream",
          "text": [
            "INFO:tensorflow:Assets written to: /content/drive/MyDrive/02_Work/05_Experiments/TF-Transformer/Cifar10_VIT/210318_VIT_4x4_1hd/assets\n"
          ],
          "name": "stdout"
        },
        {
          "output_type": "stream",
          "text": [
            "INFO:tensorflow:Assets written to: /content/drive/MyDrive/02_Work/05_Experiments/TF-Transformer/Cifar10_VIT/210318_VIT_4x4_1hd/assets\n"
          ],
          "name": "stderr"
        },
        {
          "output_type": "stream",
          "text": [
            "Epoch 3/50\n",
            "196/196 [==============================] - 5s 27ms/step - loss: 1.5961 - sparse_categorical_accuracy: 0.4207 - val_loss: 1.3715 - val_sparse_categorical_accuracy: 0.4996\n"
          ],
          "name": "stdout"
        },
        {
          "output_type": "stream",
          "text": [
            "WARNING:absl:Found untraced functions such as dense_layer_call_fn, dense_layer_call_and_return_conditional_losses, embedding_layer_call_fn, embedding_layer_call_and_return_conditional_losses, query_layer_call_fn while saving (showing 5 of 130). These functions will not be directly callable after loading.\n",
            "WARNING:absl:Found untraced functions such as dense_layer_call_fn, dense_layer_call_and_return_conditional_losses, embedding_layer_call_fn, embedding_layer_call_and_return_conditional_losses, query_layer_call_fn while saving (showing 5 of 130). These functions will not be directly callable after loading.\n"
          ],
          "name": "stderr"
        },
        {
          "output_type": "stream",
          "text": [
            "INFO:tensorflow:Assets written to: /content/drive/MyDrive/02_Work/05_Experiments/TF-Transformer/Cifar10_VIT/210318_VIT_4x4_1hd/assets\n"
          ],
          "name": "stdout"
        },
        {
          "output_type": "stream",
          "text": [
            "INFO:tensorflow:Assets written to: /content/drive/MyDrive/02_Work/05_Experiments/TF-Transformer/Cifar10_VIT/210318_VIT_4x4_1hd/assets\n"
          ],
          "name": "stderr"
        },
        {
          "output_type": "stream",
          "text": [
            "Epoch 4/50\n",
            "196/196 [==============================] - 5s 27ms/step - loss: 1.4893 - sparse_categorical_accuracy: 0.4630 - val_loss: 1.3198 - val_sparse_categorical_accuracy: 0.5248\n"
          ],
          "name": "stdout"
        },
        {
          "output_type": "stream",
          "text": [
            "WARNING:absl:Found untraced functions such as dense_layer_call_fn, dense_layer_call_and_return_conditional_losses, embedding_layer_call_fn, embedding_layer_call_and_return_conditional_losses, query_layer_call_fn while saving (showing 5 of 130). These functions will not be directly callable after loading.\n",
            "WARNING:absl:Found untraced functions such as dense_layer_call_fn, dense_layer_call_and_return_conditional_losses, embedding_layer_call_fn, embedding_layer_call_and_return_conditional_losses, query_layer_call_fn while saving (showing 5 of 130). These functions will not be directly callable after loading.\n"
          ],
          "name": "stderr"
        },
        {
          "output_type": "stream",
          "text": [
            "INFO:tensorflow:Assets written to: /content/drive/MyDrive/02_Work/05_Experiments/TF-Transformer/Cifar10_VIT/210318_VIT_4x4_1hd/assets\n"
          ],
          "name": "stdout"
        },
        {
          "output_type": "stream",
          "text": [
            "INFO:tensorflow:Assets written to: /content/drive/MyDrive/02_Work/05_Experiments/TF-Transformer/Cifar10_VIT/210318_VIT_4x4_1hd/assets\n"
          ],
          "name": "stderr"
        },
        {
          "output_type": "stream",
          "text": [
            "Epoch 5/50\n",
            "196/196 [==============================] - 5s 27ms/step - loss: 1.4262 - sparse_categorical_accuracy: 0.4836 - val_loss: 1.2427 - val_sparse_categorical_accuracy: 0.5488\n"
          ],
          "name": "stdout"
        },
        {
          "output_type": "stream",
          "text": [
            "WARNING:absl:Found untraced functions such as dense_layer_call_fn, dense_layer_call_and_return_conditional_losses, embedding_layer_call_fn, embedding_layer_call_and_return_conditional_losses, query_layer_call_fn while saving (showing 5 of 130). These functions will not be directly callable after loading.\n",
            "WARNING:absl:Found untraced functions such as dense_layer_call_fn, dense_layer_call_and_return_conditional_losses, embedding_layer_call_fn, embedding_layer_call_and_return_conditional_losses, query_layer_call_fn while saving (showing 5 of 130). These functions will not be directly callable after loading.\n"
          ],
          "name": "stderr"
        },
        {
          "output_type": "stream",
          "text": [
            "INFO:tensorflow:Assets written to: /content/drive/MyDrive/02_Work/05_Experiments/TF-Transformer/Cifar10_VIT/210318_VIT_4x4_1hd/assets\n"
          ],
          "name": "stdout"
        },
        {
          "output_type": "stream",
          "text": [
            "INFO:tensorflow:Assets written to: /content/drive/MyDrive/02_Work/05_Experiments/TF-Transformer/Cifar10_VIT/210318_VIT_4x4_1hd/assets\n"
          ],
          "name": "stderr"
        },
        {
          "output_type": "stream",
          "text": [
            "Epoch 6/50\n",
            "196/196 [==============================] - 5s 27ms/step - loss: 1.3604 - sparse_categorical_accuracy: 0.5064 - val_loss: 1.2120 - val_sparse_categorical_accuracy: 0.5641\n"
          ],
          "name": "stdout"
        },
        {
          "output_type": "stream",
          "text": [
            "WARNING:absl:Found untraced functions such as dense_layer_call_fn, dense_layer_call_and_return_conditional_losses, embedding_layer_call_fn, embedding_layer_call_and_return_conditional_losses, query_layer_call_fn while saving (showing 5 of 130). These functions will not be directly callable after loading.\n",
            "WARNING:absl:Found untraced functions such as dense_layer_call_fn, dense_layer_call_and_return_conditional_losses, embedding_layer_call_fn, embedding_layer_call_and_return_conditional_losses, query_layer_call_fn while saving (showing 5 of 130). These functions will not be directly callable after loading.\n"
          ],
          "name": "stderr"
        },
        {
          "output_type": "stream",
          "text": [
            "INFO:tensorflow:Assets written to: /content/drive/MyDrive/02_Work/05_Experiments/TF-Transformer/Cifar10_VIT/210318_VIT_4x4_1hd/assets\n"
          ],
          "name": "stdout"
        },
        {
          "output_type": "stream",
          "text": [
            "INFO:tensorflow:Assets written to: /content/drive/MyDrive/02_Work/05_Experiments/TF-Transformer/Cifar10_VIT/210318_VIT_4x4_1hd/assets\n"
          ],
          "name": "stderr"
        },
        {
          "output_type": "stream",
          "text": [
            "Epoch 7/50\n",
            "196/196 [==============================] - 5s 27ms/step - loss: 1.3263 - sparse_categorical_accuracy: 0.5218 - val_loss: 1.1615 - val_sparse_categorical_accuracy: 0.5752\n"
          ],
          "name": "stdout"
        },
        {
          "output_type": "stream",
          "text": [
            "WARNING:absl:Found untraced functions such as dense_layer_call_fn, dense_layer_call_and_return_conditional_losses, embedding_layer_call_fn, embedding_layer_call_and_return_conditional_losses, query_layer_call_fn while saving (showing 5 of 130). These functions will not be directly callable after loading.\n",
            "WARNING:absl:Found untraced functions such as dense_layer_call_fn, dense_layer_call_and_return_conditional_losses, embedding_layer_call_fn, embedding_layer_call_and_return_conditional_losses, query_layer_call_fn while saving (showing 5 of 130). These functions will not be directly callable after loading.\n"
          ],
          "name": "stderr"
        },
        {
          "output_type": "stream",
          "text": [
            "INFO:tensorflow:Assets written to: /content/drive/MyDrive/02_Work/05_Experiments/TF-Transformer/Cifar10_VIT/210318_VIT_4x4_1hd/assets\n"
          ],
          "name": "stdout"
        },
        {
          "output_type": "stream",
          "text": [
            "INFO:tensorflow:Assets written to: /content/drive/MyDrive/02_Work/05_Experiments/TF-Transformer/Cifar10_VIT/210318_VIT_4x4_1hd/assets\n"
          ],
          "name": "stderr"
        },
        {
          "output_type": "stream",
          "text": [
            "Epoch 8/50\n",
            "196/196 [==============================] - 5s 27ms/step - loss: 1.2838 - sparse_categorical_accuracy: 0.5329 - val_loss: 1.1414 - val_sparse_categorical_accuracy: 0.5900\n"
          ],
          "name": "stdout"
        },
        {
          "output_type": "stream",
          "text": [
            "WARNING:absl:Found untraced functions such as dense_layer_call_fn, dense_layer_call_and_return_conditional_losses, embedding_layer_call_fn, embedding_layer_call_and_return_conditional_losses, query_layer_call_fn while saving (showing 5 of 130). These functions will not be directly callable after loading.\n",
            "WARNING:absl:Found untraced functions such as dense_layer_call_fn, dense_layer_call_and_return_conditional_losses, embedding_layer_call_fn, embedding_layer_call_and_return_conditional_losses, query_layer_call_fn while saving (showing 5 of 130). These functions will not be directly callable after loading.\n"
          ],
          "name": "stderr"
        },
        {
          "output_type": "stream",
          "text": [
            "INFO:tensorflow:Assets written to: /content/drive/MyDrive/02_Work/05_Experiments/TF-Transformer/Cifar10_VIT/210318_VIT_4x4_1hd/assets\n"
          ],
          "name": "stdout"
        },
        {
          "output_type": "stream",
          "text": [
            "INFO:tensorflow:Assets written to: /content/drive/MyDrive/02_Work/05_Experiments/TF-Transformer/Cifar10_VIT/210318_VIT_4x4_1hd/assets\n"
          ],
          "name": "stderr"
        },
        {
          "output_type": "stream",
          "text": [
            "Epoch 9/50\n",
            "196/196 [==============================] - 5s 27ms/step - loss: 1.2548 - sparse_categorical_accuracy: 0.5446 - val_loss: 1.1057 - val_sparse_categorical_accuracy: 0.6012\n"
          ],
          "name": "stdout"
        },
        {
          "output_type": "stream",
          "text": [
            "WARNING:absl:Found untraced functions such as dense_layer_call_fn, dense_layer_call_and_return_conditional_losses, embedding_layer_call_fn, embedding_layer_call_and_return_conditional_losses, query_layer_call_fn while saving (showing 5 of 130). These functions will not be directly callable after loading.\n",
            "WARNING:absl:Found untraced functions such as dense_layer_call_fn, dense_layer_call_and_return_conditional_losses, embedding_layer_call_fn, embedding_layer_call_and_return_conditional_losses, query_layer_call_fn while saving (showing 5 of 130). These functions will not be directly callable after loading.\n"
          ],
          "name": "stderr"
        },
        {
          "output_type": "stream",
          "text": [
            "INFO:tensorflow:Assets written to: /content/drive/MyDrive/02_Work/05_Experiments/TF-Transformer/Cifar10_VIT/210318_VIT_4x4_1hd/assets\n"
          ],
          "name": "stdout"
        },
        {
          "output_type": "stream",
          "text": [
            "INFO:tensorflow:Assets written to: /content/drive/MyDrive/02_Work/05_Experiments/TF-Transformer/Cifar10_VIT/210318_VIT_4x4_1hd/assets\n"
          ],
          "name": "stderr"
        },
        {
          "output_type": "stream",
          "text": [
            "Epoch 10/50\n",
            "196/196 [==============================] - 5s 27ms/step - loss: 1.2090 - sparse_categorical_accuracy: 0.5672 - val_loss: 1.0959 - val_sparse_categorical_accuracy: 0.6120\n"
          ],
          "name": "stdout"
        },
        {
          "output_type": "stream",
          "text": [
            "WARNING:absl:Found untraced functions such as dense_layer_call_fn, dense_layer_call_and_return_conditional_losses, embedding_layer_call_fn, embedding_layer_call_and_return_conditional_losses, query_layer_call_fn while saving (showing 5 of 130). These functions will not be directly callable after loading.\n",
            "WARNING:absl:Found untraced functions such as dense_layer_call_fn, dense_layer_call_and_return_conditional_losses, embedding_layer_call_fn, embedding_layer_call_and_return_conditional_losses, query_layer_call_fn while saving (showing 5 of 130). These functions will not be directly callable after loading.\n"
          ],
          "name": "stderr"
        },
        {
          "output_type": "stream",
          "text": [
            "INFO:tensorflow:Assets written to: /content/drive/MyDrive/02_Work/05_Experiments/TF-Transformer/Cifar10_VIT/210318_VIT_4x4_1hd/assets\n"
          ],
          "name": "stdout"
        },
        {
          "output_type": "stream",
          "text": [
            "INFO:tensorflow:Assets written to: /content/drive/MyDrive/02_Work/05_Experiments/TF-Transformer/Cifar10_VIT/210318_VIT_4x4_1hd/assets\n"
          ],
          "name": "stderr"
        },
        {
          "output_type": "stream",
          "text": [
            "Epoch 11/50\n",
            "196/196 [==============================] - 5s 27ms/step - loss: 1.1945 - sparse_categorical_accuracy: 0.5686 - val_loss: 1.0711 - val_sparse_categorical_accuracy: 0.6136\n"
          ],
          "name": "stdout"
        },
        {
          "output_type": "stream",
          "text": [
            "WARNING:absl:Found untraced functions such as dense_layer_call_fn, dense_layer_call_and_return_conditional_losses, embedding_layer_call_fn, embedding_layer_call_and_return_conditional_losses, query_layer_call_fn while saving (showing 5 of 130). These functions will not be directly callable after loading.\n",
            "WARNING:absl:Found untraced functions such as dense_layer_call_fn, dense_layer_call_and_return_conditional_losses, embedding_layer_call_fn, embedding_layer_call_and_return_conditional_losses, query_layer_call_fn while saving (showing 5 of 130). These functions will not be directly callable after loading.\n"
          ],
          "name": "stderr"
        },
        {
          "output_type": "stream",
          "text": [
            "INFO:tensorflow:Assets written to: /content/drive/MyDrive/02_Work/05_Experiments/TF-Transformer/Cifar10_VIT/210318_VIT_4x4_1hd/assets\n"
          ],
          "name": "stdout"
        },
        {
          "output_type": "stream",
          "text": [
            "INFO:tensorflow:Assets written to: /content/drive/MyDrive/02_Work/05_Experiments/TF-Transformer/Cifar10_VIT/210318_VIT_4x4_1hd/assets\n"
          ],
          "name": "stderr"
        },
        {
          "output_type": "stream",
          "text": [
            "Epoch 12/50\n",
            "196/196 [==============================] - 5s 27ms/step - loss: 1.1615 - sparse_categorical_accuracy: 0.5865 - val_loss: 1.0464 - val_sparse_categorical_accuracy: 0.6243\n"
          ],
          "name": "stdout"
        },
        {
          "output_type": "stream",
          "text": [
            "WARNING:absl:Found untraced functions such as dense_layer_call_fn, dense_layer_call_and_return_conditional_losses, embedding_layer_call_fn, embedding_layer_call_and_return_conditional_losses, query_layer_call_fn while saving (showing 5 of 130). These functions will not be directly callable after loading.\n",
            "WARNING:absl:Found untraced functions such as dense_layer_call_fn, dense_layer_call_and_return_conditional_losses, embedding_layer_call_fn, embedding_layer_call_and_return_conditional_losses, query_layer_call_fn while saving (showing 5 of 130). These functions will not be directly callable after loading.\n"
          ],
          "name": "stderr"
        },
        {
          "output_type": "stream",
          "text": [
            "INFO:tensorflow:Assets written to: /content/drive/MyDrive/02_Work/05_Experiments/TF-Transformer/Cifar10_VIT/210318_VIT_4x4_1hd/assets\n"
          ],
          "name": "stdout"
        },
        {
          "output_type": "stream",
          "text": [
            "INFO:tensorflow:Assets written to: /content/drive/MyDrive/02_Work/05_Experiments/TF-Transformer/Cifar10_VIT/210318_VIT_4x4_1hd/assets\n"
          ],
          "name": "stderr"
        },
        {
          "output_type": "stream",
          "text": [
            "Epoch 13/50\n",
            "196/196 [==============================] - 5s 27ms/step - loss: 1.1390 - sparse_categorical_accuracy: 0.5944 - val_loss: 1.0430 - val_sparse_categorical_accuracy: 0.6332\n"
          ],
          "name": "stdout"
        },
        {
          "output_type": "stream",
          "text": [
            "WARNING:absl:Found untraced functions such as dense_layer_call_fn, dense_layer_call_and_return_conditional_losses, embedding_layer_call_fn, embedding_layer_call_and_return_conditional_losses, query_layer_call_fn while saving (showing 5 of 130). These functions will not be directly callable after loading.\n",
            "WARNING:absl:Found untraced functions such as dense_layer_call_fn, dense_layer_call_and_return_conditional_losses, embedding_layer_call_fn, embedding_layer_call_and_return_conditional_losses, query_layer_call_fn while saving (showing 5 of 130). These functions will not be directly callable after loading.\n"
          ],
          "name": "stderr"
        },
        {
          "output_type": "stream",
          "text": [
            "INFO:tensorflow:Assets written to: /content/drive/MyDrive/02_Work/05_Experiments/TF-Transformer/Cifar10_VIT/210318_VIT_4x4_1hd/assets\n"
          ],
          "name": "stdout"
        },
        {
          "output_type": "stream",
          "text": [
            "INFO:tensorflow:Assets written to: /content/drive/MyDrive/02_Work/05_Experiments/TF-Transformer/Cifar10_VIT/210318_VIT_4x4_1hd/assets\n"
          ],
          "name": "stderr"
        },
        {
          "output_type": "stream",
          "text": [
            "Epoch 14/50\n",
            "196/196 [==============================] - 5s 27ms/step - loss: 1.1219 - sparse_categorical_accuracy: 0.6020 - val_loss: 1.0158 - val_sparse_categorical_accuracy: 0.6400\n"
          ],
          "name": "stdout"
        },
        {
          "output_type": "stream",
          "text": [
            "WARNING:absl:Found untraced functions such as dense_layer_call_fn, dense_layer_call_and_return_conditional_losses, embedding_layer_call_fn, embedding_layer_call_and_return_conditional_losses, query_layer_call_fn while saving (showing 5 of 130). These functions will not be directly callable after loading.\n",
            "WARNING:absl:Found untraced functions such as dense_layer_call_fn, dense_layer_call_and_return_conditional_losses, embedding_layer_call_fn, embedding_layer_call_and_return_conditional_losses, query_layer_call_fn while saving (showing 5 of 130). These functions will not be directly callable after loading.\n"
          ],
          "name": "stderr"
        },
        {
          "output_type": "stream",
          "text": [
            "INFO:tensorflow:Assets written to: /content/drive/MyDrive/02_Work/05_Experiments/TF-Transformer/Cifar10_VIT/210318_VIT_4x4_1hd/assets\n"
          ],
          "name": "stdout"
        },
        {
          "output_type": "stream",
          "text": [
            "INFO:tensorflow:Assets written to: /content/drive/MyDrive/02_Work/05_Experiments/TF-Transformer/Cifar10_VIT/210318_VIT_4x4_1hd/assets\n"
          ],
          "name": "stderr"
        },
        {
          "output_type": "stream",
          "text": [
            "Epoch 15/50\n",
            "196/196 [==============================] - 5s 27ms/step - loss: 1.0786 - sparse_categorical_accuracy: 0.6138 - val_loss: 0.9914 - val_sparse_categorical_accuracy: 0.6527\n"
          ],
          "name": "stdout"
        },
        {
          "output_type": "stream",
          "text": [
            "WARNING:absl:Found untraced functions such as dense_layer_call_fn, dense_layer_call_and_return_conditional_losses, embedding_layer_call_fn, embedding_layer_call_and_return_conditional_losses, query_layer_call_fn while saving (showing 5 of 130). These functions will not be directly callable after loading.\n",
            "WARNING:absl:Found untraced functions such as dense_layer_call_fn, dense_layer_call_and_return_conditional_losses, embedding_layer_call_fn, embedding_layer_call_and_return_conditional_losses, query_layer_call_fn while saving (showing 5 of 130). These functions will not be directly callable after loading.\n"
          ],
          "name": "stderr"
        },
        {
          "output_type": "stream",
          "text": [
            "INFO:tensorflow:Assets written to: /content/drive/MyDrive/02_Work/05_Experiments/TF-Transformer/Cifar10_VIT/210318_VIT_4x4_1hd/assets\n"
          ],
          "name": "stdout"
        },
        {
          "output_type": "stream",
          "text": [
            "INFO:tensorflow:Assets written to: /content/drive/MyDrive/02_Work/05_Experiments/TF-Transformer/Cifar10_VIT/210318_VIT_4x4_1hd/assets\n"
          ],
          "name": "stderr"
        },
        {
          "output_type": "stream",
          "text": [
            "Epoch 16/50\n",
            "196/196 [==============================] - 5s 27ms/step - loss: 1.0638 - sparse_categorical_accuracy: 0.6175 - val_loss: 0.9716 - val_sparse_categorical_accuracy: 0.6515\n",
            "Epoch 17/50\n",
            "196/196 [==============================] - 5s 27ms/step - loss: 1.0442 - sparse_categorical_accuracy: 0.6305 - val_loss: 0.9517 - val_sparse_categorical_accuracy: 0.6617\n"
          ],
          "name": "stdout"
        },
        {
          "output_type": "stream",
          "text": [
            "WARNING:absl:Found untraced functions such as dense_layer_call_fn, dense_layer_call_and_return_conditional_losses, embedding_layer_call_fn, embedding_layer_call_and_return_conditional_losses, query_layer_call_fn while saving (showing 5 of 130). These functions will not be directly callable after loading.\n",
            "WARNING:absl:Found untraced functions such as dense_layer_call_fn, dense_layer_call_and_return_conditional_losses, embedding_layer_call_fn, embedding_layer_call_and_return_conditional_losses, query_layer_call_fn while saving (showing 5 of 130). These functions will not be directly callable after loading.\n"
          ],
          "name": "stderr"
        },
        {
          "output_type": "stream",
          "text": [
            "INFO:tensorflow:Assets written to: /content/drive/MyDrive/02_Work/05_Experiments/TF-Transformer/Cifar10_VIT/210318_VIT_4x4_1hd/assets\n"
          ],
          "name": "stdout"
        },
        {
          "output_type": "stream",
          "text": [
            "INFO:tensorflow:Assets written to: /content/drive/MyDrive/02_Work/05_Experiments/TF-Transformer/Cifar10_VIT/210318_VIT_4x4_1hd/assets\n"
          ],
          "name": "stderr"
        },
        {
          "output_type": "stream",
          "text": [
            "Epoch 18/50\n",
            "196/196 [==============================] - 5s 27ms/step - loss: 1.0251 - sparse_categorical_accuracy: 0.6317 - val_loss: 0.9556 - val_sparse_categorical_accuracy: 0.6614\n",
            "Epoch 19/50\n",
            "196/196 [==============================] - 5s 27ms/step - loss: 1.0027 - sparse_categorical_accuracy: 0.6463 - val_loss: 0.9467 - val_sparse_categorical_accuracy: 0.6620\n"
          ],
          "name": "stdout"
        },
        {
          "output_type": "stream",
          "text": [
            "WARNING:absl:Found untraced functions such as dense_layer_call_fn, dense_layer_call_and_return_conditional_losses, embedding_layer_call_fn, embedding_layer_call_and_return_conditional_losses, query_layer_call_fn while saving (showing 5 of 130). These functions will not be directly callable after loading.\n",
            "WARNING:absl:Found untraced functions such as dense_layer_call_fn, dense_layer_call_and_return_conditional_losses, embedding_layer_call_fn, embedding_layer_call_and_return_conditional_losses, query_layer_call_fn while saving (showing 5 of 130). These functions will not be directly callable after loading.\n"
          ],
          "name": "stderr"
        },
        {
          "output_type": "stream",
          "text": [
            "INFO:tensorflow:Assets written to: /content/drive/MyDrive/02_Work/05_Experiments/TF-Transformer/Cifar10_VIT/210318_VIT_4x4_1hd/assets\n"
          ],
          "name": "stdout"
        },
        {
          "output_type": "stream",
          "text": [
            "INFO:tensorflow:Assets written to: /content/drive/MyDrive/02_Work/05_Experiments/TF-Transformer/Cifar10_VIT/210318_VIT_4x4_1hd/assets\n"
          ],
          "name": "stderr"
        },
        {
          "output_type": "stream",
          "text": [
            "Epoch 20/50\n",
            "196/196 [==============================] - 5s 27ms/step - loss: 0.9943 - sparse_categorical_accuracy: 0.6454 - val_loss: 0.9286 - val_sparse_categorical_accuracy: 0.6706\n"
          ],
          "name": "stdout"
        },
        {
          "output_type": "stream",
          "text": [
            "WARNING:absl:Found untraced functions such as dense_layer_call_fn, dense_layer_call_and_return_conditional_losses, embedding_layer_call_fn, embedding_layer_call_and_return_conditional_losses, query_layer_call_fn while saving (showing 5 of 130). These functions will not be directly callable after loading.\n",
            "WARNING:absl:Found untraced functions such as dense_layer_call_fn, dense_layer_call_and_return_conditional_losses, embedding_layer_call_fn, embedding_layer_call_and_return_conditional_losses, query_layer_call_fn while saving (showing 5 of 130). These functions will not be directly callable after loading.\n"
          ],
          "name": "stderr"
        },
        {
          "output_type": "stream",
          "text": [
            "INFO:tensorflow:Assets written to: /content/drive/MyDrive/02_Work/05_Experiments/TF-Transformer/Cifar10_VIT/210318_VIT_4x4_1hd/assets\n"
          ],
          "name": "stdout"
        },
        {
          "output_type": "stream",
          "text": [
            "INFO:tensorflow:Assets written to: /content/drive/MyDrive/02_Work/05_Experiments/TF-Transformer/Cifar10_VIT/210318_VIT_4x4_1hd/assets\n"
          ],
          "name": "stderr"
        },
        {
          "output_type": "stream",
          "text": [
            "Epoch 21/50\n",
            "196/196 [==============================] - 5s 27ms/step - loss: 0.9575 - sparse_categorical_accuracy: 0.6632 - val_loss: 0.9341 - val_sparse_categorical_accuracy: 0.6701\n",
            "Epoch 22/50\n",
            "196/196 [==============================] - 5s 27ms/step - loss: 0.9465 - sparse_categorical_accuracy: 0.6657 - val_loss: 0.9267 - val_sparse_categorical_accuracy: 0.6701\n",
            "Epoch 23/50\n",
            "196/196 [==============================] - 5s 27ms/step - loss: 0.9281 - sparse_categorical_accuracy: 0.6690 - val_loss: 0.9051 - val_sparse_categorical_accuracy: 0.6789\n"
          ],
          "name": "stdout"
        },
        {
          "output_type": "stream",
          "text": [
            "WARNING:absl:Found untraced functions such as dense_layer_call_fn, dense_layer_call_and_return_conditional_losses, embedding_layer_call_fn, embedding_layer_call_and_return_conditional_losses, query_layer_call_fn while saving (showing 5 of 130). These functions will not be directly callable after loading.\n",
            "WARNING:absl:Found untraced functions such as dense_layer_call_fn, dense_layer_call_and_return_conditional_losses, embedding_layer_call_fn, embedding_layer_call_and_return_conditional_losses, query_layer_call_fn while saving (showing 5 of 130). These functions will not be directly callable after loading.\n"
          ],
          "name": "stderr"
        },
        {
          "output_type": "stream",
          "text": [
            "INFO:tensorflow:Assets written to: /content/drive/MyDrive/02_Work/05_Experiments/TF-Transformer/Cifar10_VIT/210318_VIT_4x4_1hd/assets\n"
          ],
          "name": "stdout"
        },
        {
          "output_type": "stream",
          "text": [
            "INFO:tensorflow:Assets written to: /content/drive/MyDrive/02_Work/05_Experiments/TF-Transformer/Cifar10_VIT/210318_VIT_4x4_1hd/assets\n"
          ],
          "name": "stderr"
        },
        {
          "output_type": "stream",
          "text": [
            "Epoch 24/50\n",
            "196/196 [==============================] - 5s 27ms/step - loss: 0.9293 - sparse_categorical_accuracy: 0.6704 - val_loss: 0.8917 - val_sparse_categorical_accuracy: 0.6860\n"
          ],
          "name": "stdout"
        },
        {
          "output_type": "stream",
          "text": [
            "WARNING:absl:Found untraced functions such as dense_layer_call_fn, dense_layer_call_and_return_conditional_losses, embedding_layer_call_fn, embedding_layer_call_and_return_conditional_losses, query_layer_call_fn while saving (showing 5 of 130). These functions will not be directly callable after loading.\n",
            "WARNING:absl:Found untraced functions such as dense_layer_call_fn, dense_layer_call_and_return_conditional_losses, embedding_layer_call_fn, embedding_layer_call_and_return_conditional_losses, query_layer_call_fn while saving (showing 5 of 130). These functions will not be directly callable after loading.\n"
          ],
          "name": "stderr"
        },
        {
          "output_type": "stream",
          "text": [
            "INFO:tensorflow:Assets written to: /content/drive/MyDrive/02_Work/05_Experiments/TF-Transformer/Cifar10_VIT/210318_VIT_4x4_1hd/assets\n"
          ],
          "name": "stdout"
        },
        {
          "output_type": "stream",
          "text": [
            "INFO:tensorflow:Assets written to: /content/drive/MyDrive/02_Work/05_Experiments/TF-Transformer/Cifar10_VIT/210318_VIT_4x4_1hd/assets\n"
          ],
          "name": "stderr"
        },
        {
          "output_type": "stream",
          "text": [
            "Epoch 25/50\n",
            "196/196 [==============================] - 5s 28ms/step - loss: 0.8891 - sparse_categorical_accuracy: 0.6837 - val_loss: 0.8892 - val_sparse_categorical_accuracy: 0.6867\n"
          ],
          "name": "stdout"
        },
        {
          "output_type": "stream",
          "text": [
            "WARNING:absl:Found untraced functions such as dense_layer_call_fn, dense_layer_call_and_return_conditional_losses, embedding_layer_call_fn, embedding_layer_call_and_return_conditional_losses, query_layer_call_fn while saving (showing 5 of 130). These functions will not be directly callable after loading.\n",
            "WARNING:absl:Found untraced functions such as dense_layer_call_fn, dense_layer_call_and_return_conditional_losses, embedding_layer_call_fn, embedding_layer_call_and_return_conditional_losses, query_layer_call_fn while saving (showing 5 of 130). These functions will not be directly callable after loading.\n"
          ],
          "name": "stderr"
        },
        {
          "output_type": "stream",
          "text": [
            "INFO:tensorflow:Assets written to: /content/drive/MyDrive/02_Work/05_Experiments/TF-Transformer/Cifar10_VIT/210318_VIT_4x4_1hd/assets\n"
          ],
          "name": "stdout"
        },
        {
          "output_type": "stream",
          "text": [
            "INFO:tensorflow:Assets written to: /content/drive/MyDrive/02_Work/05_Experiments/TF-Transformer/Cifar10_VIT/210318_VIT_4x4_1hd/assets\n"
          ],
          "name": "stderr"
        },
        {
          "output_type": "stream",
          "text": [
            "Epoch 26/50\n",
            "196/196 [==============================] - 5s 27ms/step - loss: 0.8768 - sparse_categorical_accuracy: 0.6889 - val_loss: 0.8848 - val_sparse_categorical_accuracy: 0.6911\n"
          ],
          "name": "stdout"
        },
        {
          "output_type": "stream",
          "text": [
            "WARNING:absl:Found untraced functions such as dense_layer_call_fn, dense_layer_call_and_return_conditional_losses, embedding_layer_call_fn, embedding_layer_call_and_return_conditional_losses, query_layer_call_fn while saving (showing 5 of 130). These functions will not be directly callable after loading.\n",
            "WARNING:absl:Found untraced functions such as dense_layer_call_fn, dense_layer_call_and_return_conditional_losses, embedding_layer_call_fn, embedding_layer_call_and_return_conditional_losses, query_layer_call_fn while saving (showing 5 of 130). These functions will not be directly callable after loading.\n"
          ],
          "name": "stderr"
        },
        {
          "output_type": "stream",
          "text": [
            "INFO:tensorflow:Assets written to: /content/drive/MyDrive/02_Work/05_Experiments/TF-Transformer/Cifar10_VIT/210318_VIT_4x4_1hd/assets\n"
          ],
          "name": "stdout"
        },
        {
          "output_type": "stream",
          "text": [
            "INFO:tensorflow:Assets written to: /content/drive/MyDrive/02_Work/05_Experiments/TF-Transformer/Cifar10_VIT/210318_VIT_4x4_1hd/assets\n"
          ],
          "name": "stderr"
        },
        {
          "output_type": "stream",
          "text": [
            "Epoch 27/50\n",
            "196/196 [==============================] - 5s 27ms/step - loss: 0.8727 - sparse_categorical_accuracy: 0.6914 - val_loss: 0.8774 - val_sparse_categorical_accuracy: 0.6902\n",
            "Epoch 28/50\n",
            "196/196 [==============================] - 5s 27ms/step - loss: 0.8532 - sparse_categorical_accuracy: 0.6957 - val_loss: 0.8803 - val_sparse_categorical_accuracy: 0.6892\n",
            "Epoch 29/50\n",
            "196/196 [==============================] - 5s 26ms/step - loss: 0.8394 - sparse_categorical_accuracy: 0.7021 - val_loss: 0.8527 - val_sparse_categorical_accuracy: 0.6985\n"
          ],
          "name": "stdout"
        },
        {
          "output_type": "stream",
          "text": [
            "WARNING:absl:Found untraced functions such as dense_layer_call_fn, dense_layer_call_and_return_conditional_losses, embedding_layer_call_fn, embedding_layer_call_and_return_conditional_losses, query_layer_call_fn while saving (showing 5 of 130). These functions will not be directly callable after loading.\n",
            "WARNING:absl:Found untraced functions such as dense_layer_call_fn, dense_layer_call_and_return_conditional_losses, embedding_layer_call_fn, embedding_layer_call_and_return_conditional_losses, query_layer_call_fn while saving (showing 5 of 130). These functions will not be directly callable after loading.\n"
          ],
          "name": "stderr"
        },
        {
          "output_type": "stream",
          "text": [
            "INFO:tensorflow:Assets written to: /content/drive/MyDrive/02_Work/05_Experiments/TF-Transformer/Cifar10_VIT/210318_VIT_4x4_1hd/assets\n"
          ],
          "name": "stdout"
        },
        {
          "output_type": "stream",
          "text": [
            "INFO:tensorflow:Assets written to: /content/drive/MyDrive/02_Work/05_Experiments/TF-Transformer/Cifar10_VIT/210318_VIT_4x4_1hd/assets\n"
          ],
          "name": "stderr"
        },
        {
          "output_type": "stream",
          "text": [
            "Epoch 30/50\n",
            "196/196 [==============================] - 5s 27ms/step - loss: 0.8211 - sparse_categorical_accuracy: 0.7081 - val_loss: 0.8552 - val_sparse_categorical_accuracy: 0.7015\n"
          ],
          "name": "stdout"
        },
        {
          "output_type": "stream",
          "text": [
            "WARNING:absl:Found untraced functions such as dense_layer_call_fn, dense_layer_call_and_return_conditional_losses, embedding_layer_call_fn, embedding_layer_call_and_return_conditional_losses, query_layer_call_fn while saving (showing 5 of 130). These functions will not be directly callable after loading.\n",
            "WARNING:absl:Found untraced functions such as dense_layer_call_fn, dense_layer_call_and_return_conditional_losses, embedding_layer_call_fn, embedding_layer_call_and_return_conditional_losses, query_layer_call_fn while saving (showing 5 of 130). These functions will not be directly callable after loading.\n"
          ],
          "name": "stderr"
        },
        {
          "output_type": "stream",
          "text": [
            "INFO:tensorflow:Assets written to: /content/drive/MyDrive/02_Work/05_Experiments/TF-Transformer/Cifar10_VIT/210318_VIT_4x4_1hd/assets\n"
          ],
          "name": "stdout"
        },
        {
          "output_type": "stream",
          "text": [
            "INFO:tensorflow:Assets written to: /content/drive/MyDrive/02_Work/05_Experiments/TF-Transformer/Cifar10_VIT/210318_VIT_4x4_1hd/assets\n"
          ],
          "name": "stderr"
        },
        {
          "output_type": "stream",
          "text": [
            "Epoch 31/50\n",
            "196/196 [==============================] - 5s 27ms/step - loss: 0.8076 - sparse_categorical_accuracy: 0.7162 - val_loss: 0.8398 - val_sparse_categorical_accuracy: 0.7063\n"
          ],
          "name": "stdout"
        },
        {
          "output_type": "stream",
          "text": [
            "WARNING:absl:Found untraced functions such as dense_layer_call_fn, dense_layer_call_and_return_conditional_losses, embedding_layer_call_fn, embedding_layer_call_and_return_conditional_losses, query_layer_call_fn while saving (showing 5 of 130). These functions will not be directly callable after loading.\n",
            "WARNING:absl:Found untraced functions such as dense_layer_call_fn, dense_layer_call_and_return_conditional_losses, embedding_layer_call_fn, embedding_layer_call_and_return_conditional_losses, query_layer_call_fn while saving (showing 5 of 130). These functions will not be directly callable after loading.\n"
          ],
          "name": "stderr"
        },
        {
          "output_type": "stream",
          "text": [
            "INFO:tensorflow:Assets written to: /content/drive/MyDrive/02_Work/05_Experiments/TF-Transformer/Cifar10_VIT/210318_VIT_4x4_1hd/assets\n"
          ],
          "name": "stdout"
        },
        {
          "output_type": "stream",
          "text": [
            "INFO:tensorflow:Assets written to: /content/drive/MyDrive/02_Work/05_Experiments/TF-Transformer/Cifar10_VIT/210318_VIT_4x4_1hd/assets\n"
          ],
          "name": "stderr"
        },
        {
          "output_type": "stream",
          "text": [
            "Epoch 32/50\n",
            "196/196 [==============================] - 5s 27ms/step - loss: 0.7978 - sparse_categorical_accuracy: 0.7176 - val_loss: 0.8433 - val_sparse_categorical_accuracy: 0.7032\n",
            "Epoch 33/50\n",
            "196/196 [==============================] - 5s 27ms/step - loss: 0.7999 - sparse_categorical_accuracy: 0.7140 - val_loss: 0.8437 - val_sparse_categorical_accuracy: 0.7036\n",
            "Epoch 34/50\n",
            "196/196 [==============================] - 5s 26ms/step - loss: 0.7846 - sparse_categorical_accuracy: 0.7238 - val_loss: 0.8291 - val_sparse_categorical_accuracy: 0.7078\n"
          ],
          "name": "stdout"
        },
        {
          "output_type": "stream",
          "text": [
            "WARNING:absl:Found untraced functions such as dense_layer_call_fn, dense_layer_call_and_return_conditional_losses, embedding_layer_call_fn, embedding_layer_call_and_return_conditional_losses, query_layer_call_fn while saving (showing 5 of 130). These functions will not be directly callable after loading.\n",
            "WARNING:absl:Found untraced functions such as dense_layer_call_fn, dense_layer_call_and_return_conditional_losses, embedding_layer_call_fn, embedding_layer_call_and_return_conditional_losses, query_layer_call_fn while saving (showing 5 of 130). These functions will not be directly callable after loading.\n"
          ],
          "name": "stderr"
        },
        {
          "output_type": "stream",
          "text": [
            "INFO:tensorflow:Assets written to: /content/drive/MyDrive/02_Work/05_Experiments/TF-Transformer/Cifar10_VIT/210318_VIT_4x4_1hd/assets\n"
          ],
          "name": "stdout"
        },
        {
          "output_type": "stream",
          "text": [
            "INFO:tensorflow:Assets written to: /content/drive/MyDrive/02_Work/05_Experiments/TF-Transformer/Cifar10_VIT/210318_VIT_4x4_1hd/assets\n"
          ],
          "name": "stderr"
        },
        {
          "output_type": "stream",
          "text": [
            "Epoch 35/50\n",
            "196/196 [==============================] - 5s 27ms/step - loss: 0.7669 - sparse_categorical_accuracy: 0.7297 - val_loss: 0.8258 - val_sparse_categorical_accuracy: 0.7083\n"
          ],
          "name": "stdout"
        },
        {
          "output_type": "stream",
          "text": [
            "WARNING:absl:Found untraced functions such as dense_layer_call_fn, dense_layer_call_and_return_conditional_losses, embedding_layer_call_fn, embedding_layer_call_and_return_conditional_losses, query_layer_call_fn while saving (showing 5 of 130). These functions will not be directly callable after loading.\n",
            "WARNING:absl:Found untraced functions such as dense_layer_call_fn, dense_layer_call_and_return_conditional_losses, embedding_layer_call_fn, embedding_layer_call_and_return_conditional_losses, query_layer_call_fn while saving (showing 5 of 130). These functions will not be directly callable after loading.\n"
          ],
          "name": "stderr"
        },
        {
          "output_type": "stream",
          "text": [
            "INFO:tensorflow:Assets written to: /content/drive/MyDrive/02_Work/05_Experiments/TF-Transformer/Cifar10_VIT/210318_VIT_4x4_1hd/assets\n"
          ],
          "name": "stdout"
        },
        {
          "output_type": "stream",
          "text": [
            "INFO:tensorflow:Assets written to: /content/drive/MyDrive/02_Work/05_Experiments/TF-Transformer/Cifar10_VIT/210318_VIT_4x4_1hd/assets\n"
          ],
          "name": "stderr"
        },
        {
          "output_type": "stream",
          "text": [
            "Epoch 36/50\n",
            "196/196 [==============================] - 5s 27ms/step - loss: 0.7466 - sparse_categorical_accuracy: 0.7346 - val_loss: 0.8178 - val_sparse_categorical_accuracy: 0.7136\n"
          ],
          "name": "stdout"
        },
        {
          "output_type": "stream",
          "text": [
            "WARNING:absl:Found untraced functions such as dense_layer_call_fn, dense_layer_call_and_return_conditional_losses, embedding_layer_call_fn, embedding_layer_call_and_return_conditional_losses, query_layer_call_fn while saving (showing 5 of 130). These functions will not be directly callable after loading.\n",
            "WARNING:absl:Found untraced functions such as dense_layer_call_fn, dense_layer_call_and_return_conditional_losses, embedding_layer_call_fn, embedding_layer_call_and_return_conditional_losses, query_layer_call_fn while saving (showing 5 of 130). These functions will not be directly callable after loading.\n"
          ],
          "name": "stderr"
        },
        {
          "output_type": "stream",
          "text": [
            "INFO:tensorflow:Assets written to: /content/drive/MyDrive/02_Work/05_Experiments/TF-Transformer/Cifar10_VIT/210318_VIT_4x4_1hd/assets\n"
          ],
          "name": "stdout"
        },
        {
          "output_type": "stream",
          "text": [
            "INFO:tensorflow:Assets written to: /content/drive/MyDrive/02_Work/05_Experiments/TF-Transformer/Cifar10_VIT/210318_VIT_4x4_1hd/assets\n"
          ],
          "name": "stderr"
        },
        {
          "output_type": "stream",
          "text": [
            "Epoch 37/50\n",
            "196/196 [==============================] - 5s 27ms/step - loss: 0.7477 - sparse_categorical_accuracy: 0.7332 - val_loss: 0.8302 - val_sparse_categorical_accuracy: 0.7138\n"
          ],
          "name": "stdout"
        },
        {
          "output_type": "stream",
          "text": [
            "WARNING:absl:Found untraced functions such as dense_layer_call_fn, dense_layer_call_and_return_conditional_losses, embedding_layer_call_fn, embedding_layer_call_and_return_conditional_losses, query_layer_call_fn while saving (showing 5 of 130). These functions will not be directly callable after loading.\n",
            "WARNING:absl:Found untraced functions such as dense_layer_call_fn, dense_layer_call_and_return_conditional_losses, embedding_layer_call_fn, embedding_layer_call_and_return_conditional_losses, query_layer_call_fn while saving (showing 5 of 130). These functions will not be directly callable after loading.\n"
          ],
          "name": "stderr"
        },
        {
          "output_type": "stream",
          "text": [
            "INFO:tensorflow:Assets written to: /content/drive/MyDrive/02_Work/05_Experiments/TF-Transformer/Cifar10_VIT/210318_VIT_4x4_1hd/assets\n"
          ],
          "name": "stdout"
        },
        {
          "output_type": "stream",
          "text": [
            "INFO:tensorflow:Assets written to: /content/drive/MyDrive/02_Work/05_Experiments/TF-Transformer/Cifar10_VIT/210318_VIT_4x4_1hd/assets\n"
          ],
          "name": "stderr"
        },
        {
          "output_type": "stream",
          "text": [
            "Epoch 38/50\n",
            "196/196 [==============================] - 5s 27ms/step - loss: 0.7285 - sparse_categorical_accuracy: 0.7402 - val_loss: 0.8308 - val_sparse_categorical_accuracy: 0.7119\n",
            "Epoch 39/50\n",
            "196/196 [==============================] - 5s 27ms/step - loss: 0.7285 - sparse_categorical_accuracy: 0.7397 - val_loss: 0.8154 - val_sparse_categorical_accuracy: 0.7184\n"
          ],
          "name": "stdout"
        },
        {
          "output_type": "stream",
          "text": [
            "WARNING:absl:Found untraced functions such as dense_layer_call_fn, dense_layer_call_and_return_conditional_losses, embedding_layer_call_fn, embedding_layer_call_and_return_conditional_losses, query_layer_call_fn while saving (showing 5 of 130). These functions will not be directly callable after loading.\n",
            "WARNING:absl:Found untraced functions such as dense_layer_call_fn, dense_layer_call_and_return_conditional_losses, embedding_layer_call_fn, embedding_layer_call_and_return_conditional_losses, query_layer_call_fn while saving (showing 5 of 130). These functions will not be directly callable after loading.\n"
          ],
          "name": "stderr"
        },
        {
          "output_type": "stream",
          "text": [
            "INFO:tensorflow:Assets written to: /content/drive/MyDrive/02_Work/05_Experiments/TF-Transformer/Cifar10_VIT/210318_VIT_4x4_1hd/assets\n"
          ],
          "name": "stdout"
        },
        {
          "output_type": "stream",
          "text": [
            "INFO:tensorflow:Assets written to: /content/drive/MyDrive/02_Work/05_Experiments/TF-Transformer/Cifar10_VIT/210318_VIT_4x4_1hd/assets\n"
          ],
          "name": "stderr"
        },
        {
          "output_type": "stream",
          "text": [
            "Epoch 40/50\n",
            "196/196 [==============================] - 5s 27ms/step - loss: 0.7166 - sparse_categorical_accuracy: 0.7424 - val_loss: 0.8112 - val_sparse_categorical_accuracy: 0.7177\n",
            "Epoch 41/50\n",
            "196/196 [==============================] - 5s 27ms/step - loss: 0.6943 - sparse_categorical_accuracy: 0.7537 - val_loss: 0.8110 - val_sparse_categorical_accuracy: 0.7165\n",
            "Epoch 42/50\n",
            "196/196 [==============================] - 5s 27ms/step - loss: 0.6893 - sparse_categorical_accuracy: 0.7568 - val_loss: 0.8046 - val_sparse_categorical_accuracy: 0.7188\n"
          ],
          "name": "stdout"
        },
        {
          "output_type": "stream",
          "text": [
            "WARNING:absl:Found untraced functions such as dense_layer_call_fn, dense_layer_call_and_return_conditional_losses, embedding_layer_call_fn, embedding_layer_call_and_return_conditional_losses, query_layer_call_fn while saving (showing 5 of 130). These functions will not be directly callable after loading.\n",
            "WARNING:absl:Found untraced functions such as dense_layer_call_fn, dense_layer_call_and_return_conditional_losses, embedding_layer_call_fn, embedding_layer_call_and_return_conditional_losses, query_layer_call_fn while saving (showing 5 of 130). These functions will not be directly callable after loading.\n"
          ],
          "name": "stderr"
        },
        {
          "output_type": "stream",
          "text": [
            "INFO:tensorflow:Assets written to: /content/drive/MyDrive/02_Work/05_Experiments/TF-Transformer/Cifar10_VIT/210318_VIT_4x4_1hd/assets\n"
          ],
          "name": "stdout"
        },
        {
          "output_type": "stream",
          "text": [
            "INFO:tensorflow:Assets written to: /content/drive/MyDrive/02_Work/05_Experiments/TF-Transformer/Cifar10_VIT/210318_VIT_4x4_1hd/assets\n"
          ],
          "name": "stderr"
        },
        {
          "output_type": "stream",
          "text": [
            "Epoch 43/50\n",
            "196/196 [==============================] - 5s 27ms/step - loss: 0.6899 - sparse_categorical_accuracy: 0.7564 - val_loss: 0.7952 - val_sparse_categorical_accuracy: 0.7232\n"
          ],
          "name": "stdout"
        },
        {
          "output_type": "stream",
          "text": [
            "WARNING:absl:Found untraced functions such as dense_layer_call_fn, dense_layer_call_and_return_conditional_losses, embedding_layer_call_fn, embedding_layer_call_and_return_conditional_losses, query_layer_call_fn while saving (showing 5 of 130). These functions will not be directly callable after loading.\n",
            "WARNING:absl:Found untraced functions such as dense_layer_call_fn, dense_layer_call_and_return_conditional_losses, embedding_layer_call_fn, embedding_layer_call_and_return_conditional_losses, query_layer_call_fn while saving (showing 5 of 130). These functions will not be directly callable after loading.\n"
          ],
          "name": "stderr"
        },
        {
          "output_type": "stream",
          "text": [
            "INFO:tensorflow:Assets written to: /content/drive/MyDrive/02_Work/05_Experiments/TF-Transformer/Cifar10_VIT/210318_VIT_4x4_1hd/assets\n"
          ],
          "name": "stdout"
        },
        {
          "output_type": "stream",
          "text": [
            "INFO:tensorflow:Assets written to: /content/drive/MyDrive/02_Work/05_Experiments/TF-Transformer/Cifar10_VIT/210318_VIT_4x4_1hd/assets\n"
          ],
          "name": "stderr"
        },
        {
          "output_type": "stream",
          "text": [
            "Epoch 44/50\n",
            "196/196 [==============================] - 5s 27ms/step - loss: 0.6680 - sparse_categorical_accuracy: 0.7634 - val_loss: 0.7912 - val_sparse_categorical_accuracy: 0.7267\n"
          ],
          "name": "stdout"
        },
        {
          "output_type": "stream",
          "text": [
            "WARNING:absl:Found untraced functions such as dense_layer_call_fn, dense_layer_call_and_return_conditional_losses, embedding_layer_call_fn, embedding_layer_call_and_return_conditional_losses, query_layer_call_fn while saving (showing 5 of 130). These functions will not be directly callable after loading.\n",
            "WARNING:absl:Found untraced functions such as dense_layer_call_fn, dense_layer_call_and_return_conditional_losses, embedding_layer_call_fn, embedding_layer_call_and_return_conditional_losses, query_layer_call_fn while saving (showing 5 of 130). These functions will not be directly callable after loading.\n"
          ],
          "name": "stderr"
        },
        {
          "output_type": "stream",
          "text": [
            "INFO:tensorflow:Assets written to: /content/drive/MyDrive/02_Work/05_Experiments/TF-Transformer/Cifar10_VIT/210318_VIT_4x4_1hd/assets\n"
          ],
          "name": "stdout"
        },
        {
          "output_type": "stream",
          "text": [
            "INFO:tensorflow:Assets written to: /content/drive/MyDrive/02_Work/05_Experiments/TF-Transformer/Cifar10_VIT/210318_VIT_4x4_1hd/assets\n"
          ],
          "name": "stderr"
        },
        {
          "output_type": "stream",
          "text": [
            "Epoch 45/50\n",
            "196/196 [==============================] - 5s 27ms/step - loss: 0.6736 - sparse_categorical_accuracy: 0.7606 - val_loss: 0.8098 - val_sparse_categorical_accuracy: 0.7221\n",
            "Epoch 46/50\n",
            "196/196 [==============================] - 5s 27ms/step - loss: 0.6481 - sparse_categorical_accuracy: 0.7703 - val_loss: 0.8057 - val_sparse_categorical_accuracy: 0.7206\n",
            "Epoch 47/50\n",
            "196/196 [==============================] - 5s 27ms/step - loss: 0.6607 - sparse_categorical_accuracy: 0.7648 - val_loss: 0.7960 - val_sparse_categorical_accuracy: 0.7237\n",
            "Epoch 48/50\n",
            "196/196 [==============================] - 5s 27ms/step - loss: 0.6443 - sparse_categorical_accuracy: 0.7726 - val_loss: 0.8069 - val_sparse_categorical_accuracy: 0.7215\n",
            "Epoch 49/50\n",
            "196/196 [==============================] - 5s 27ms/step - loss: 0.6339 - sparse_categorical_accuracy: 0.7768 - val_loss: 0.7966 - val_sparse_categorical_accuracy: 0.7239\n",
            "Epoch 50/50\n",
            "196/196 [==============================] - 5s 27ms/step - loss: 0.6375 - sparse_categorical_accuracy: 0.7728 - val_loss: 0.7833 - val_sparse_categorical_accuracy: 0.7325\n"
          ],
          "name": "stdout"
        },
        {
          "output_type": "stream",
          "text": [
            "WARNING:absl:Found untraced functions such as dense_layer_call_fn, dense_layer_call_and_return_conditional_losses, embedding_layer_call_fn, embedding_layer_call_and_return_conditional_losses, query_layer_call_fn while saving (showing 5 of 130). These functions will not be directly callable after loading.\n",
            "WARNING:absl:Found untraced functions such as dense_layer_call_fn, dense_layer_call_and_return_conditional_losses, embedding_layer_call_fn, embedding_layer_call_and_return_conditional_losses, query_layer_call_fn while saving (showing 5 of 130). These functions will not be directly callable after loading.\n"
          ],
          "name": "stderr"
        },
        {
          "output_type": "stream",
          "text": [
            "INFO:tensorflow:Assets written to: /content/drive/MyDrive/02_Work/05_Experiments/TF-Transformer/Cifar10_VIT/210318_VIT_4x4_1hd/assets\n"
          ],
          "name": "stdout"
        },
        {
          "output_type": "stream",
          "text": [
            "INFO:tensorflow:Assets written to: /content/drive/MyDrive/02_Work/05_Experiments/TF-Transformer/Cifar10_VIT/210318_VIT_4x4_1hd/assets\n"
          ],
          "name": "stderr"
        },
        {
          "output_type": "stream",
          "text": [
            "Total training time 513.8743381500244 seconds\n"
          ],
          "name": "stdout"
        },
        {
          "output_type": "execute_result",
          "data": {
            "text/plain": [
              "<tensorflow.python.keras.callbacks.History at 0x7fd400093fd0>"
            ]
          },
          "metadata": {
            "tags": []
          },
          "execution_count": 15
        }
      ]
    },
    {
      "cell_type": "markdown",
      "metadata": {
        "id": "u0PLk6GUHlk2"
      },
      "source": [
        "**Experiment 2**  \n",
        "Model : VIT  \n",
        "Preprocessing : False  \n",
        "Batch size : 256  \n",
        "Patch : 4x4  \n",
        "Heads : 1, 2  \n",
        "Projections : 32 only, 64 only"
      ]
    },
    {
      "cell_type": "code",
      "metadata": {
        "id": "QqBcn0DXdOoe",
        "outputId": "4928cf40-0fa9-48c5-f5a6-4419a2d92232",
        "colab": {
          "base_uri": "https://localhost:8080/"
        }
      },
      "source": [
        "for hds in [1, 2]:\n",
        "  for proj in [32, 64]:\n",
        "    model = VIT(num_classes=num_classes, \n",
        "                image_height=image_height, \n",
        "                image_width=image_width,\n",
        "                patch_size=4, \n",
        "                projection_dim=proj,\n",
        "                num_layers=4,\n",
        "                num_heads=1,\n",
        "                mlp_dims=[proj, proj],\n",
        "                classifier_mlp_dims=[512],\n",
        "                preprocess=False).model()\n",
        "    model.summary()\n",
        "    train_and_eval(model, SAVE_PATH + f'VIT_4x4_{hds}hd_{proj}proj')"
      ],
      "execution_count": 16,
      "outputs": [
        {
          "output_type": "stream",
          "text": [
            "Model: \"model_1\"\n",
            "__________________________________________________________________________________________________\n",
            "Layer (type)                    Output Shape         Param #     Connected to                     \n",
            "==================================================================================================\n",
            "input_2 (InputLayer)            [(None, 32, 32, 3)]  0                                            \n",
            "__________________________________________________________________________________________________\n",
            "rescale (Rescaling)             (None, 32, 32, 3)    0           input_2[0][0]                    \n",
            "__________________________________________________________________________________________________\n",
            "resize (Resizing)               (None, 32, 32, 3)    0           rescale[0][0]                    \n",
            "__________________________________________________________________________________________________\n",
            "patches_2 (Patches)             (None, None, 48)     0           resize[0][0]                     \n",
            "__________________________________________________________________________________________________\n",
            "patch_encoder_1 (PatchEncoder)  (None, 64, 32)       3616        patches_2[0][0]                  \n",
            "__________________________________________________________________________________________________\n",
            "ln1_1 (LayerNormalization)      (None, 64, 32)       64          patch_encoder_1[0][0]            \n",
            "__________________________________________________________________________________________________\n",
            "mha1 (MultiHeadAttention)       (None, 64, 32)       4224        ln1_1[0][0]                      \n",
            "                                                                 ln1_1[0][0]                      \n",
            "__________________________________________________________________________________________________\n",
            "skip1_1 (Add)                   (None, 64, 32)       0           mha1[0][0]                       \n",
            "                                                                 patch_encoder_1[0][0]            \n",
            "__________________________________________________________________________________________________\n",
            "ln1_2 (LayerNormalization)      (None, 64, 32)       64          skip1_1[0][0]                    \n",
            "__________________________________________________________________________________________________\n",
            "mlp1/dens0 (Dense)              (None, 64, 32)       1056        ln1_2[0][0]                      \n",
            "__________________________________________________________________________________________________\n",
            "mlp1/drop0 (Dropout)            (None, 64, 32)       0           mlp1/dens0[0][0]                 \n",
            "__________________________________________________________________________________________________\n",
            "mlp1/dens1 (Dense)              (None, 64, 32)       1056        mlp1/drop0[0][0]                 \n",
            "__________________________________________________________________________________________________\n",
            "mlp1/drop1 (Dropout)            (None, 64, 32)       0           mlp1/dens1[0][0]                 \n",
            "__________________________________________________________________________________________________\n",
            "skip1_2 (Add)                   (None, 64, 32)       0           mlp1/drop1[0][0]                 \n",
            "                                                                 skip1_1[0][0]                    \n",
            "__________________________________________________________________________________________________\n",
            "ln2_1 (LayerNormalization)      (None, 64, 32)       64          skip1_2[0][0]                    \n",
            "__________________________________________________________________________________________________\n",
            "mha2 (MultiHeadAttention)       (None, 64, 32)       4224        ln2_1[0][0]                      \n",
            "                                                                 ln2_1[0][0]                      \n",
            "__________________________________________________________________________________________________\n",
            "skip2_1 (Add)                   (None, 64, 32)       0           mha2[0][0]                       \n",
            "                                                                 skip1_2[0][0]                    \n",
            "__________________________________________________________________________________________________\n",
            "ln2_2 (LayerNormalization)      (None, 64, 32)       64          skip2_1[0][0]                    \n",
            "__________________________________________________________________________________________________\n",
            "mlp2/dens0 (Dense)              (None, 64, 32)       1056        ln2_2[0][0]                      \n",
            "__________________________________________________________________________________________________\n",
            "mlp2/drop0 (Dropout)            (None, 64, 32)       0           mlp2/dens0[0][0]                 \n",
            "__________________________________________________________________________________________________\n",
            "mlp2/dens1 (Dense)              (None, 64, 32)       1056        mlp2/drop0[0][0]                 \n",
            "__________________________________________________________________________________________________\n",
            "mlp2/drop1 (Dropout)            (None, 64, 32)       0           mlp2/dens1[0][0]                 \n",
            "__________________________________________________________________________________________________\n",
            "skip2_2 (Add)                   (None, 64, 32)       0           mlp2/drop1[0][0]                 \n",
            "                                                                 skip2_1[0][0]                    \n",
            "__________________________________________________________________________________________________\n",
            "ln3_1 (LayerNormalization)      (None, 64, 32)       64          skip2_2[0][0]                    \n",
            "__________________________________________________________________________________________________\n",
            "mha3 (MultiHeadAttention)       (None, 64, 32)       4224        ln3_1[0][0]                      \n",
            "                                                                 ln3_1[0][0]                      \n",
            "__________________________________________________________________________________________________\n",
            "skip3_1 (Add)                   (None, 64, 32)       0           mha3[0][0]                       \n",
            "                                                                 skip2_2[0][0]                    \n",
            "__________________________________________________________________________________________________\n",
            "ln3_2 (LayerNormalization)      (None, 64, 32)       64          skip3_1[0][0]                    \n",
            "__________________________________________________________________________________________________\n",
            "mlp3/dens0 (Dense)              (None, 64, 32)       1056        ln3_2[0][0]                      \n",
            "__________________________________________________________________________________________________\n",
            "mlp3/drop0 (Dropout)            (None, 64, 32)       0           mlp3/dens0[0][0]                 \n",
            "__________________________________________________________________________________________________\n",
            "mlp3/dens1 (Dense)              (None, 64, 32)       1056        mlp3/drop0[0][0]                 \n",
            "__________________________________________________________________________________________________\n",
            "mlp3/drop1 (Dropout)            (None, 64, 32)       0           mlp3/dens1[0][0]                 \n",
            "__________________________________________________________________________________________________\n",
            "skip3_2 (Add)                   (None, 64, 32)       0           mlp3/drop1[0][0]                 \n",
            "                                                                 skip3_1[0][0]                    \n",
            "__________________________________________________________________________________________________\n",
            "ln4_1 (LayerNormalization)      (None, 64, 32)       64          skip3_2[0][0]                    \n",
            "__________________________________________________________________________________________________\n",
            "mha4 (MultiHeadAttention)       (None, 64, 32)       4224        ln4_1[0][0]                      \n",
            "                                                                 ln4_1[0][0]                      \n",
            "__________________________________________________________________________________________________\n",
            "skip4_1 (Add)                   (None, 64, 32)       0           mha4[0][0]                       \n",
            "                                                                 skip3_2[0][0]                    \n",
            "__________________________________________________________________________________________________\n",
            "ln4_2 (LayerNormalization)      (None, 64, 32)       64          skip4_1[0][0]                    \n",
            "__________________________________________________________________________________________________\n",
            "mlp4/dens0 (Dense)              (None, 64, 32)       1056        ln4_2[0][0]                      \n",
            "__________________________________________________________________________________________________\n",
            "mlp4/drop0 (Dropout)            (None, 64, 32)       0           mlp4/dens0[0][0]                 \n",
            "__________________________________________________________________________________________________\n",
            "mlp4/dens1 (Dense)              (None, 64, 32)       1056        mlp4/drop0[0][0]                 \n",
            "__________________________________________________________________________________________________\n",
            "mlp4/drop1 (Dropout)            (None, 64, 32)       0           mlp4/dens1[0][0]                 \n",
            "__________________________________________________________________________________________________\n",
            "skip4_2 (Add)                   (None, 64, 32)       0           mlp4/drop1[0][0]                 \n",
            "                                                                 skip4_1[0][0]                    \n",
            "__________________________________________________________________________________________________\n",
            "classifier_ln (LayerNormalizati (None, 64, 32)       64          skip4_2[0][0]                    \n",
            "__________________________________________________________________________________________________\n",
            "classifier_flat (Flatten)       (None, 2048)         0           classifier_ln[0][0]              \n",
            "__________________________________________________________________________________________________\n",
            "classifier_drop (Dropout)       (None, 2048)         0           classifier_flat[0][0]            \n",
            "__________________________________________________________________________________________________\n",
            "classifier_mlp/dens0 (Dense)    (None, 512)          1049088     classifier_drop[0][0]            \n",
            "__________________________________________________________________________________________________\n",
            "classifier_mlp/drop0 (Dropout)  (None, 512)          0           classifier_mlp/dens0[0][0]       \n",
            "__________________________________________________________________________________________________\n",
            "logits (Dense)                  (None, 10)           5130        classifier_mlp/drop0[0][0]       \n",
            "==================================================================================================\n",
            "Total params: 1,083,754\n",
            "Trainable params: 1,083,754\n",
            "Non-trainable params: 0\n",
            "__________________________________________________________________________________________________\n",
            "Epoch 1/50\n",
            "196/196 [==============================] - 11s 31ms/step - loss: 2.4340 - sparse_categorical_accuracy: 0.1949 - val_loss: 1.6416 - val_sparse_categorical_accuracy: 0.4027\n"
          ],
          "name": "stdout"
        },
        {
          "output_type": "stream",
          "text": [
            "WARNING:absl:Found untraced functions such as dense_1_layer_call_fn, dense_1_layer_call_and_return_conditional_losses, embedding_1_layer_call_fn, embedding_1_layer_call_and_return_conditional_losses, query_layer_call_fn while saving (showing 5 of 130). These functions will not be directly callable after loading.\n",
            "WARNING:absl:Found untraced functions such as dense_1_layer_call_fn, dense_1_layer_call_and_return_conditional_losses, embedding_1_layer_call_fn, embedding_1_layer_call_and_return_conditional_losses, query_layer_call_fn while saving (showing 5 of 130). These functions will not be directly callable after loading.\n"
          ],
          "name": "stderr"
        },
        {
          "output_type": "stream",
          "text": [
            "INFO:tensorflow:Assets written to: /content/drive/MyDrive/02_Work/05_Experiments/TF-Transformer/Cifar10_VIT/210318_VIT_4x4_1hd_32proj/assets\n"
          ],
          "name": "stdout"
        },
        {
          "output_type": "stream",
          "text": [
            "INFO:tensorflow:Assets written to: /content/drive/MyDrive/02_Work/05_Experiments/TF-Transformer/Cifar10_VIT/210318_VIT_4x4_1hd_32proj/assets\n"
          ],
          "name": "stderr"
        },
        {
          "output_type": "stream",
          "text": [
            "Epoch 2/50\n",
            "196/196 [==============================] - 5s 24ms/step - loss: 1.7389 - sparse_categorical_accuracy: 0.3574 - val_loss: 1.4401 - val_sparse_categorical_accuracy: 0.4795\n"
          ],
          "name": "stdout"
        },
        {
          "output_type": "stream",
          "text": [
            "WARNING:absl:Found untraced functions such as dense_1_layer_call_fn, dense_1_layer_call_and_return_conditional_losses, embedding_1_layer_call_fn, embedding_1_layer_call_and_return_conditional_losses, query_layer_call_fn while saving (showing 5 of 130). These functions will not be directly callable after loading.\n",
            "WARNING:absl:Found untraced functions such as dense_1_layer_call_fn, dense_1_layer_call_and_return_conditional_losses, embedding_1_layer_call_fn, embedding_1_layer_call_and_return_conditional_losses, query_layer_call_fn while saving (showing 5 of 130). These functions will not be directly callable after loading.\n"
          ],
          "name": "stderr"
        },
        {
          "output_type": "stream",
          "text": [
            "INFO:tensorflow:Assets written to: /content/drive/MyDrive/02_Work/05_Experiments/TF-Transformer/Cifar10_VIT/210318_VIT_4x4_1hd_32proj/assets\n"
          ],
          "name": "stdout"
        },
        {
          "output_type": "stream",
          "text": [
            "INFO:tensorflow:Assets written to: /content/drive/MyDrive/02_Work/05_Experiments/TF-Transformer/Cifar10_VIT/210318_VIT_4x4_1hd_32proj/assets\n"
          ],
          "name": "stderr"
        },
        {
          "output_type": "stream",
          "text": [
            "Epoch 3/50\n",
            "196/196 [==============================] - 5s 23ms/step - loss: 1.5770 - sparse_categorical_accuracy: 0.4286 - val_loss: 1.3738 - val_sparse_categorical_accuracy: 0.4991\n"
          ],
          "name": "stdout"
        },
        {
          "output_type": "stream",
          "text": [
            "WARNING:absl:Found untraced functions such as dense_1_layer_call_fn, dense_1_layer_call_and_return_conditional_losses, embedding_1_layer_call_fn, embedding_1_layer_call_and_return_conditional_losses, query_layer_call_fn while saving (showing 5 of 130). These functions will not be directly callable after loading.\n",
            "WARNING:absl:Found untraced functions such as dense_1_layer_call_fn, dense_1_layer_call_and_return_conditional_losses, embedding_1_layer_call_fn, embedding_1_layer_call_and_return_conditional_losses, query_layer_call_fn while saving (showing 5 of 130). These functions will not be directly callable after loading.\n"
          ],
          "name": "stderr"
        },
        {
          "output_type": "stream",
          "text": [
            "INFO:tensorflow:Assets written to: /content/drive/MyDrive/02_Work/05_Experiments/TF-Transformer/Cifar10_VIT/210318_VIT_4x4_1hd_32proj/assets\n"
          ],
          "name": "stdout"
        },
        {
          "output_type": "stream",
          "text": [
            "INFO:tensorflow:Assets written to: /content/drive/MyDrive/02_Work/05_Experiments/TF-Transformer/Cifar10_VIT/210318_VIT_4x4_1hd_32proj/assets\n"
          ],
          "name": "stderr"
        },
        {
          "output_type": "stream",
          "text": [
            "Epoch 4/50\n",
            "196/196 [==============================] - 5s 23ms/step - loss: 1.4808 - sparse_categorical_accuracy: 0.4589 - val_loss: 1.3046 - val_sparse_categorical_accuracy: 0.5338\n"
          ],
          "name": "stdout"
        },
        {
          "output_type": "stream",
          "text": [
            "WARNING:absl:Found untraced functions such as dense_1_layer_call_fn, dense_1_layer_call_and_return_conditional_losses, embedding_1_layer_call_fn, embedding_1_layer_call_and_return_conditional_losses, query_layer_call_fn while saving (showing 5 of 130). These functions will not be directly callable after loading.\n",
            "WARNING:absl:Found untraced functions such as dense_1_layer_call_fn, dense_1_layer_call_and_return_conditional_losses, embedding_1_layer_call_fn, embedding_1_layer_call_and_return_conditional_losses, query_layer_call_fn while saving (showing 5 of 130). These functions will not be directly callable after loading.\n"
          ],
          "name": "stderr"
        },
        {
          "output_type": "stream",
          "text": [
            "INFO:tensorflow:Assets written to: /content/drive/MyDrive/02_Work/05_Experiments/TF-Transformer/Cifar10_VIT/210318_VIT_4x4_1hd_32proj/assets\n"
          ],
          "name": "stdout"
        },
        {
          "output_type": "stream",
          "text": [
            "INFO:tensorflow:Assets written to: /content/drive/MyDrive/02_Work/05_Experiments/TF-Transformer/Cifar10_VIT/210318_VIT_4x4_1hd_32proj/assets\n"
          ],
          "name": "stderr"
        },
        {
          "output_type": "stream",
          "text": [
            "Epoch 5/50\n",
            "196/196 [==============================] - 5s 24ms/step - loss: 1.4158 - sparse_categorical_accuracy: 0.4853 - val_loss: 1.2675 - val_sparse_categorical_accuracy: 0.5414\n"
          ],
          "name": "stdout"
        },
        {
          "output_type": "stream",
          "text": [
            "WARNING:absl:Found untraced functions such as dense_1_layer_call_fn, dense_1_layer_call_and_return_conditional_losses, embedding_1_layer_call_fn, embedding_1_layer_call_and_return_conditional_losses, query_layer_call_fn while saving (showing 5 of 130). These functions will not be directly callable after loading.\n",
            "WARNING:absl:Found untraced functions such as dense_1_layer_call_fn, dense_1_layer_call_and_return_conditional_losses, embedding_1_layer_call_fn, embedding_1_layer_call_and_return_conditional_losses, query_layer_call_fn while saving (showing 5 of 130). These functions will not be directly callable after loading.\n"
          ],
          "name": "stderr"
        },
        {
          "output_type": "stream",
          "text": [
            "INFO:tensorflow:Assets written to: /content/drive/MyDrive/02_Work/05_Experiments/TF-Transformer/Cifar10_VIT/210318_VIT_4x4_1hd_32proj/assets\n"
          ],
          "name": "stdout"
        },
        {
          "output_type": "stream",
          "text": [
            "INFO:tensorflow:Assets written to: /content/drive/MyDrive/02_Work/05_Experiments/TF-Transformer/Cifar10_VIT/210318_VIT_4x4_1hd_32proj/assets\n"
          ],
          "name": "stderr"
        },
        {
          "output_type": "stream",
          "text": [
            "Epoch 6/50\n",
            "196/196 [==============================] - 5s 24ms/step - loss: 1.3708 - sparse_categorical_accuracy: 0.5035 - val_loss: 1.2178 - val_sparse_categorical_accuracy: 0.5576\n"
          ],
          "name": "stdout"
        },
        {
          "output_type": "stream",
          "text": [
            "WARNING:absl:Found untraced functions such as dense_1_layer_call_fn, dense_1_layer_call_and_return_conditional_losses, embedding_1_layer_call_fn, embedding_1_layer_call_and_return_conditional_losses, query_layer_call_fn while saving (showing 5 of 130). These functions will not be directly callable after loading.\n",
            "WARNING:absl:Found untraced functions such as dense_1_layer_call_fn, dense_1_layer_call_and_return_conditional_losses, embedding_1_layer_call_fn, embedding_1_layer_call_and_return_conditional_losses, query_layer_call_fn while saving (showing 5 of 130). These functions will not be directly callable after loading.\n"
          ],
          "name": "stderr"
        },
        {
          "output_type": "stream",
          "text": [
            "INFO:tensorflow:Assets written to: /content/drive/MyDrive/02_Work/05_Experiments/TF-Transformer/Cifar10_VIT/210318_VIT_4x4_1hd_32proj/assets\n"
          ],
          "name": "stdout"
        },
        {
          "output_type": "stream",
          "text": [
            "INFO:tensorflow:Assets written to: /content/drive/MyDrive/02_Work/05_Experiments/TF-Transformer/Cifar10_VIT/210318_VIT_4x4_1hd_32proj/assets\n"
          ],
          "name": "stderr"
        },
        {
          "output_type": "stream",
          "text": [
            "Epoch 7/50\n",
            "196/196 [==============================] - 5s 24ms/step - loss: 1.3199 - sparse_categorical_accuracy: 0.5248 - val_loss: 1.1826 - val_sparse_categorical_accuracy: 0.5709\n"
          ],
          "name": "stdout"
        },
        {
          "output_type": "stream",
          "text": [
            "WARNING:absl:Found untraced functions such as dense_1_layer_call_fn, dense_1_layer_call_and_return_conditional_losses, embedding_1_layer_call_fn, embedding_1_layer_call_and_return_conditional_losses, query_layer_call_fn while saving (showing 5 of 130). These functions will not be directly callable after loading.\n",
            "WARNING:absl:Found untraced functions such as dense_1_layer_call_fn, dense_1_layer_call_and_return_conditional_losses, embedding_1_layer_call_fn, embedding_1_layer_call_and_return_conditional_losses, query_layer_call_fn while saving (showing 5 of 130). These functions will not be directly callable after loading.\n"
          ],
          "name": "stderr"
        },
        {
          "output_type": "stream",
          "text": [
            "INFO:tensorflow:Assets written to: /content/drive/MyDrive/02_Work/05_Experiments/TF-Transformer/Cifar10_VIT/210318_VIT_4x4_1hd_32proj/assets\n"
          ],
          "name": "stdout"
        },
        {
          "output_type": "stream",
          "text": [
            "INFO:tensorflow:Assets written to: /content/drive/MyDrive/02_Work/05_Experiments/TF-Transformer/Cifar10_VIT/210318_VIT_4x4_1hd_32proj/assets\n"
          ],
          "name": "stderr"
        },
        {
          "output_type": "stream",
          "text": [
            "Epoch 8/50\n",
            "196/196 [==============================] - 5s 24ms/step - loss: 1.2910 - sparse_categorical_accuracy: 0.5349 - val_loss: 1.1531 - val_sparse_categorical_accuracy: 0.5850\n"
          ],
          "name": "stdout"
        },
        {
          "output_type": "stream",
          "text": [
            "WARNING:absl:Found untraced functions such as dense_1_layer_call_fn, dense_1_layer_call_and_return_conditional_losses, embedding_1_layer_call_fn, embedding_1_layer_call_and_return_conditional_losses, query_layer_call_fn while saving (showing 5 of 130). These functions will not be directly callable after loading.\n",
            "WARNING:absl:Found untraced functions such as dense_1_layer_call_fn, dense_1_layer_call_and_return_conditional_losses, embedding_1_layer_call_fn, embedding_1_layer_call_and_return_conditional_losses, query_layer_call_fn while saving (showing 5 of 130). These functions will not be directly callable after loading.\n"
          ],
          "name": "stderr"
        },
        {
          "output_type": "stream",
          "text": [
            "INFO:tensorflow:Assets written to: /content/drive/MyDrive/02_Work/05_Experiments/TF-Transformer/Cifar10_VIT/210318_VIT_4x4_1hd_32proj/assets\n"
          ],
          "name": "stdout"
        },
        {
          "output_type": "stream",
          "text": [
            "INFO:tensorflow:Assets written to: /content/drive/MyDrive/02_Work/05_Experiments/TF-Transformer/Cifar10_VIT/210318_VIT_4x4_1hd_32proj/assets\n"
          ],
          "name": "stderr"
        },
        {
          "output_type": "stream",
          "text": [
            "Epoch 9/50\n",
            "196/196 [==============================] - 5s 23ms/step - loss: 1.2560 - sparse_categorical_accuracy: 0.5489 - val_loss: 1.1336 - val_sparse_categorical_accuracy: 0.5902\n"
          ],
          "name": "stdout"
        },
        {
          "output_type": "stream",
          "text": [
            "WARNING:absl:Found untraced functions such as dense_1_layer_call_fn, dense_1_layer_call_and_return_conditional_losses, embedding_1_layer_call_fn, embedding_1_layer_call_and_return_conditional_losses, query_layer_call_fn while saving (showing 5 of 130). These functions will not be directly callable after loading.\n",
            "WARNING:absl:Found untraced functions such as dense_1_layer_call_fn, dense_1_layer_call_and_return_conditional_losses, embedding_1_layer_call_fn, embedding_1_layer_call_and_return_conditional_losses, query_layer_call_fn while saving (showing 5 of 130). These functions will not be directly callable after loading.\n"
          ],
          "name": "stderr"
        },
        {
          "output_type": "stream",
          "text": [
            "INFO:tensorflow:Assets written to: /content/drive/MyDrive/02_Work/05_Experiments/TF-Transformer/Cifar10_VIT/210318_VIT_4x4_1hd_32proj/assets\n"
          ],
          "name": "stdout"
        },
        {
          "output_type": "stream",
          "text": [
            "INFO:tensorflow:Assets written to: /content/drive/MyDrive/02_Work/05_Experiments/TF-Transformer/Cifar10_VIT/210318_VIT_4x4_1hd_32proj/assets\n"
          ],
          "name": "stderr"
        },
        {
          "output_type": "stream",
          "text": [
            "Epoch 10/50\n",
            "196/196 [==============================] - 5s 23ms/step - loss: 1.2301 - sparse_categorical_accuracy: 0.5641 - val_loss: 1.1116 - val_sparse_categorical_accuracy: 0.6029\n"
          ],
          "name": "stdout"
        },
        {
          "output_type": "stream",
          "text": [
            "WARNING:absl:Found untraced functions such as dense_1_layer_call_fn, dense_1_layer_call_and_return_conditional_losses, embedding_1_layer_call_fn, embedding_1_layer_call_and_return_conditional_losses, query_layer_call_fn while saving (showing 5 of 130). These functions will not be directly callable after loading.\n",
            "WARNING:absl:Found untraced functions such as dense_1_layer_call_fn, dense_1_layer_call_and_return_conditional_losses, embedding_1_layer_call_fn, embedding_1_layer_call_and_return_conditional_losses, query_layer_call_fn while saving (showing 5 of 130). These functions will not be directly callable after loading.\n"
          ],
          "name": "stderr"
        },
        {
          "output_type": "stream",
          "text": [
            "INFO:tensorflow:Assets written to: /content/drive/MyDrive/02_Work/05_Experiments/TF-Transformer/Cifar10_VIT/210318_VIT_4x4_1hd_32proj/assets\n"
          ],
          "name": "stdout"
        },
        {
          "output_type": "stream",
          "text": [
            "INFO:tensorflow:Assets written to: /content/drive/MyDrive/02_Work/05_Experiments/TF-Transformer/Cifar10_VIT/210318_VIT_4x4_1hd_32proj/assets\n"
          ],
          "name": "stderr"
        },
        {
          "output_type": "stream",
          "text": [
            "Epoch 11/50\n",
            "196/196 [==============================] - 5s 23ms/step - loss: 1.2009 - sparse_categorical_accuracy: 0.5696 - val_loss: 1.0770 - val_sparse_categorical_accuracy: 0.6096\n"
          ],
          "name": "stdout"
        },
        {
          "output_type": "stream",
          "text": [
            "WARNING:absl:Found untraced functions such as dense_1_layer_call_fn, dense_1_layer_call_and_return_conditional_losses, embedding_1_layer_call_fn, embedding_1_layer_call_and_return_conditional_losses, query_layer_call_fn while saving (showing 5 of 130). These functions will not be directly callable after loading.\n",
            "WARNING:absl:Found untraced functions such as dense_1_layer_call_fn, dense_1_layer_call_and_return_conditional_losses, embedding_1_layer_call_fn, embedding_1_layer_call_and_return_conditional_losses, query_layer_call_fn while saving (showing 5 of 130). These functions will not be directly callable after loading.\n"
          ],
          "name": "stderr"
        },
        {
          "output_type": "stream",
          "text": [
            "INFO:tensorflow:Assets written to: /content/drive/MyDrive/02_Work/05_Experiments/TF-Transformer/Cifar10_VIT/210318_VIT_4x4_1hd_32proj/assets\n"
          ],
          "name": "stdout"
        },
        {
          "output_type": "stream",
          "text": [
            "INFO:tensorflow:Assets written to: /content/drive/MyDrive/02_Work/05_Experiments/TF-Transformer/Cifar10_VIT/210318_VIT_4x4_1hd_32proj/assets\n"
          ],
          "name": "stderr"
        },
        {
          "output_type": "stream",
          "text": [
            "Epoch 12/50\n",
            "196/196 [==============================] - 5s 23ms/step - loss: 1.1662 - sparse_categorical_accuracy: 0.5822 - val_loss: 1.0816 - val_sparse_categorical_accuracy: 0.6107\n"
          ],
          "name": "stdout"
        },
        {
          "output_type": "stream",
          "text": [
            "WARNING:absl:Found untraced functions such as dense_1_layer_call_fn, dense_1_layer_call_and_return_conditional_losses, embedding_1_layer_call_fn, embedding_1_layer_call_and_return_conditional_losses, query_layer_call_fn while saving (showing 5 of 130). These functions will not be directly callable after loading.\n",
            "WARNING:absl:Found untraced functions such as dense_1_layer_call_fn, dense_1_layer_call_and_return_conditional_losses, embedding_1_layer_call_fn, embedding_1_layer_call_and_return_conditional_losses, query_layer_call_fn while saving (showing 5 of 130). These functions will not be directly callable after loading.\n"
          ],
          "name": "stderr"
        },
        {
          "output_type": "stream",
          "text": [
            "INFO:tensorflow:Assets written to: /content/drive/MyDrive/02_Work/05_Experiments/TF-Transformer/Cifar10_VIT/210318_VIT_4x4_1hd_32proj/assets\n"
          ],
          "name": "stdout"
        },
        {
          "output_type": "stream",
          "text": [
            "INFO:tensorflow:Assets written to: /content/drive/MyDrive/02_Work/05_Experiments/TF-Transformer/Cifar10_VIT/210318_VIT_4x4_1hd_32proj/assets\n"
          ],
          "name": "stderr"
        },
        {
          "output_type": "stream",
          "text": [
            "Epoch 13/50\n",
            "196/196 [==============================] - 5s 23ms/step - loss: 1.1519 - sparse_categorical_accuracy: 0.5900 - val_loss: 1.0521 - val_sparse_categorical_accuracy: 0.6222\n"
          ],
          "name": "stdout"
        },
        {
          "output_type": "stream",
          "text": [
            "WARNING:absl:Found untraced functions such as dense_1_layer_call_fn, dense_1_layer_call_and_return_conditional_losses, embedding_1_layer_call_fn, embedding_1_layer_call_and_return_conditional_losses, query_layer_call_fn while saving (showing 5 of 130). These functions will not be directly callable after loading.\n",
            "WARNING:absl:Found untraced functions such as dense_1_layer_call_fn, dense_1_layer_call_and_return_conditional_losses, embedding_1_layer_call_fn, embedding_1_layer_call_and_return_conditional_losses, query_layer_call_fn while saving (showing 5 of 130). These functions will not be directly callable after loading.\n"
          ],
          "name": "stderr"
        },
        {
          "output_type": "stream",
          "text": [
            "INFO:tensorflow:Assets written to: /content/drive/MyDrive/02_Work/05_Experiments/TF-Transformer/Cifar10_VIT/210318_VIT_4x4_1hd_32proj/assets\n"
          ],
          "name": "stdout"
        },
        {
          "output_type": "stream",
          "text": [
            "INFO:tensorflow:Assets written to: /content/drive/MyDrive/02_Work/05_Experiments/TF-Transformer/Cifar10_VIT/210318_VIT_4x4_1hd_32proj/assets\n"
          ],
          "name": "stderr"
        },
        {
          "output_type": "stream",
          "text": [
            "Epoch 14/50\n",
            "196/196 [==============================] - 5s 23ms/step - loss: 1.1193 - sparse_categorical_accuracy: 0.6003 - val_loss: 1.0420 - val_sparse_categorical_accuracy: 0.6247\n"
          ],
          "name": "stdout"
        },
        {
          "output_type": "stream",
          "text": [
            "WARNING:absl:Found untraced functions such as dense_1_layer_call_fn, dense_1_layer_call_and_return_conditional_losses, embedding_1_layer_call_fn, embedding_1_layer_call_and_return_conditional_losses, query_layer_call_fn while saving (showing 5 of 130). These functions will not be directly callable after loading.\n",
            "WARNING:absl:Found untraced functions such as dense_1_layer_call_fn, dense_1_layer_call_and_return_conditional_losses, embedding_1_layer_call_fn, embedding_1_layer_call_and_return_conditional_losses, query_layer_call_fn while saving (showing 5 of 130). These functions will not be directly callable after loading.\n"
          ],
          "name": "stderr"
        },
        {
          "output_type": "stream",
          "text": [
            "INFO:tensorflow:Assets written to: /content/drive/MyDrive/02_Work/05_Experiments/TF-Transformer/Cifar10_VIT/210318_VIT_4x4_1hd_32proj/assets\n"
          ],
          "name": "stdout"
        },
        {
          "output_type": "stream",
          "text": [
            "INFO:tensorflow:Assets written to: /content/drive/MyDrive/02_Work/05_Experiments/TF-Transformer/Cifar10_VIT/210318_VIT_4x4_1hd_32proj/assets\n"
          ],
          "name": "stderr"
        },
        {
          "output_type": "stream",
          "text": [
            "Epoch 15/50\n",
            "196/196 [==============================] - 5s 23ms/step - loss: 1.1006 - sparse_categorical_accuracy: 0.6078 - val_loss: 1.0283 - val_sparse_categorical_accuracy: 0.6281\n"
          ],
          "name": "stdout"
        },
        {
          "output_type": "stream",
          "text": [
            "WARNING:absl:Found untraced functions such as dense_1_layer_call_fn, dense_1_layer_call_and_return_conditional_losses, embedding_1_layer_call_fn, embedding_1_layer_call_and_return_conditional_losses, query_layer_call_fn while saving (showing 5 of 130). These functions will not be directly callable after loading.\n",
            "WARNING:absl:Found untraced functions such as dense_1_layer_call_fn, dense_1_layer_call_and_return_conditional_losses, embedding_1_layer_call_fn, embedding_1_layer_call_and_return_conditional_losses, query_layer_call_fn while saving (showing 5 of 130). These functions will not be directly callable after loading.\n"
          ],
          "name": "stderr"
        },
        {
          "output_type": "stream",
          "text": [
            "INFO:tensorflow:Assets written to: /content/drive/MyDrive/02_Work/05_Experiments/TF-Transformer/Cifar10_VIT/210318_VIT_4x4_1hd_32proj/assets\n"
          ],
          "name": "stdout"
        },
        {
          "output_type": "stream",
          "text": [
            "INFO:tensorflow:Assets written to: /content/drive/MyDrive/02_Work/05_Experiments/TF-Transformer/Cifar10_VIT/210318_VIT_4x4_1hd_32proj/assets\n"
          ],
          "name": "stderr"
        },
        {
          "output_type": "stream",
          "text": [
            "Epoch 16/50\n",
            "196/196 [==============================] - 5s 23ms/step - loss: 1.0695 - sparse_categorical_accuracy: 0.6189 - val_loss: 1.0088 - val_sparse_categorical_accuracy: 0.6374\n"
          ],
          "name": "stdout"
        },
        {
          "output_type": "stream",
          "text": [
            "WARNING:absl:Found untraced functions such as dense_1_layer_call_fn, dense_1_layer_call_and_return_conditional_losses, embedding_1_layer_call_fn, embedding_1_layer_call_and_return_conditional_losses, query_layer_call_fn while saving (showing 5 of 130). These functions will not be directly callable after loading.\n",
            "WARNING:absl:Found untraced functions such as dense_1_layer_call_fn, dense_1_layer_call_and_return_conditional_losses, embedding_1_layer_call_fn, embedding_1_layer_call_and_return_conditional_losses, query_layer_call_fn while saving (showing 5 of 130). These functions will not be directly callable after loading.\n"
          ],
          "name": "stderr"
        },
        {
          "output_type": "stream",
          "text": [
            "INFO:tensorflow:Assets written to: /content/drive/MyDrive/02_Work/05_Experiments/TF-Transformer/Cifar10_VIT/210318_VIT_4x4_1hd_32proj/assets\n"
          ],
          "name": "stdout"
        },
        {
          "output_type": "stream",
          "text": [
            "INFO:tensorflow:Assets written to: /content/drive/MyDrive/02_Work/05_Experiments/TF-Transformer/Cifar10_VIT/210318_VIT_4x4_1hd_32proj/assets\n"
          ],
          "name": "stderr"
        },
        {
          "output_type": "stream",
          "text": [
            "Epoch 17/50\n",
            "196/196 [==============================] - 5s 23ms/step - loss: 1.0448 - sparse_categorical_accuracy: 0.6259 - val_loss: 0.9782 - val_sparse_categorical_accuracy: 0.6500\n"
          ],
          "name": "stdout"
        },
        {
          "output_type": "stream",
          "text": [
            "WARNING:absl:Found untraced functions such as dense_1_layer_call_fn, dense_1_layer_call_and_return_conditional_losses, embedding_1_layer_call_fn, embedding_1_layer_call_and_return_conditional_losses, query_layer_call_fn while saving (showing 5 of 130). These functions will not be directly callable after loading.\n",
            "WARNING:absl:Found untraced functions such as dense_1_layer_call_fn, dense_1_layer_call_and_return_conditional_losses, embedding_1_layer_call_fn, embedding_1_layer_call_and_return_conditional_losses, query_layer_call_fn while saving (showing 5 of 130). These functions will not be directly callable after loading.\n"
          ],
          "name": "stderr"
        },
        {
          "output_type": "stream",
          "text": [
            "INFO:tensorflow:Assets written to: /content/drive/MyDrive/02_Work/05_Experiments/TF-Transformer/Cifar10_VIT/210318_VIT_4x4_1hd_32proj/assets\n"
          ],
          "name": "stdout"
        },
        {
          "output_type": "stream",
          "text": [
            "INFO:tensorflow:Assets written to: /content/drive/MyDrive/02_Work/05_Experiments/TF-Transformer/Cifar10_VIT/210318_VIT_4x4_1hd_32proj/assets\n"
          ],
          "name": "stderr"
        },
        {
          "output_type": "stream",
          "text": [
            "Epoch 18/50\n",
            "196/196 [==============================] - 5s 23ms/step - loss: 1.0299 - sparse_categorical_accuracy: 0.6346 - val_loss: 0.9912 - val_sparse_categorical_accuracy: 0.6425\n",
            "Epoch 19/50\n",
            "196/196 [==============================] - 5s 23ms/step - loss: 1.0164 - sparse_categorical_accuracy: 0.6379 - val_loss: 0.9670 - val_sparse_categorical_accuracy: 0.6563\n"
          ],
          "name": "stdout"
        },
        {
          "output_type": "stream",
          "text": [
            "WARNING:absl:Found untraced functions such as dense_1_layer_call_fn, dense_1_layer_call_and_return_conditional_losses, embedding_1_layer_call_fn, embedding_1_layer_call_and_return_conditional_losses, query_layer_call_fn while saving (showing 5 of 130). These functions will not be directly callable after loading.\n",
            "WARNING:absl:Found untraced functions such as dense_1_layer_call_fn, dense_1_layer_call_and_return_conditional_losses, embedding_1_layer_call_fn, embedding_1_layer_call_and_return_conditional_losses, query_layer_call_fn while saving (showing 5 of 130). These functions will not be directly callable after loading.\n"
          ],
          "name": "stderr"
        },
        {
          "output_type": "stream",
          "text": [
            "INFO:tensorflow:Assets written to: /content/drive/MyDrive/02_Work/05_Experiments/TF-Transformer/Cifar10_VIT/210318_VIT_4x4_1hd_32proj/assets\n"
          ],
          "name": "stdout"
        },
        {
          "output_type": "stream",
          "text": [
            "INFO:tensorflow:Assets written to: /content/drive/MyDrive/02_Work/05_Experiments/TF-Transformer/Cifar10_VIT/210318_VIT_4x4_1hd_32proj/assets\n"
          ],
          "name": "stderr"
        },
        {
          "output_type": "stream",
          "text": [
            "Epoch 20/50\n",
            "196/196 [==============================] - 5s 24ms/step - loss: 1.0022 - sparse_categorical_accuracy: 0.6461 - val_loss: 0.9651 - val_sparse_categorical_accuracy: 0.6600\n"
          ],
          "name": "stdout"
        },
        {
          "output_type": "stream",
          "text": [
            "WARNING:absl:Found untraced functions such as dense_1_layer_call_fn, dense_1_layer_call_and_return_conditional_losses, embedding_1_layer_call_fn, embedding_1_layer_call_and_return_conditional_losses, query_layer_call_fn while saving (showing 5 of 130). These functions will not be directly callable after loading.\n",
            "WARNING:absl:Found untraced functions such as dense_1_layer_call_fn, dense_1_layer_call_and_return_conditional_losses, embedding_1_layer_call_fn, embedding_1_layer_call_and_return_conditional_losses, query_layer_call_fn while saving (showing 5 of 130). These functions will not be directly callable after loading.\n"
          ],
          "name": "stderr"
        },
        {
          "output_type": "stream",
          "text": [
            "INFO:tensorflow:Assets written to: /content/drive/MyDrive/02_Work/05_Experiments/TF-Transformer/Cifar10_VIT/210318_VIT_4x4_1hd_32proj/assets\n"
          ],
          "name": "stdout"
        },
        {
          "output_type": "stream",
          "text": [
            "INFO:tensorflow:Assets written to: /content/drive/MyDrive/02_Work/05_Experiments/TF-Transformer/Cifar10_VIT/210318_VIT_4x4_1hd_32proj/assets\n"
          ],
          "name": "stderr"
        },
        {
          "output_type": "stream",
          "text": [
            "Epoch 21/50\n",
            "196/196 [==============================] - 5s 24ms/step - loss: 0.9804 - sparse_categorical_accuracy: 0.6565 - val_loss: 0.9593 - val_sparse_categorical_accuracy: 0.6584\n",
            "Epoch 22/50\n",
            "196/196 [==============================] - 5s 23ms/step - loss: 0.9622 - sparse_categorical_accuracy: 0.6592 - val_loss: 0.9608 - val_sparse_categorical_accuracy: 0.6589\n",
            "Epoch 23/50\n",
            "196/196 [==============================] - 5s 23ms/step - loss: 0.9475 - sparse_categorical_accuracy: 0.6612 - val_loss: 0.9380 - val_sparse_categorical_accuracy: 0.6680\n"
          ],
          "name": "stdout"
        },
        {
          "output_type": "stream",
          "text": [
            "WARNING:absl:Found untraced functions such as dense_1_layer_call_fn, dense_1_layer_call_and_return_conditional_losses, embedding_1_layer_call_fn, embedding_1_layer_call_and_return_conditional_losses, query_layer_call_fn while saving (showing 5 of 130). These functions will not be directly callable after loading.\n",
            "WARNING:absl:Found untraced functions such as dense_1_layer_call_fn, dense_1_layer_call_and_return_conditional_losses, embedding_1_layer_call_fn, embedding_1_layer_call_and_return_conditional_losses, query_layer_call_fn while saving (showing 5 of 130). These functions will not be directly callable after loading.\n"
          ],
          "name": "stderr"
        },
        {
          "output_type": "stream",
          "text": [
            "INFO:tensorflow:Assets written to: /content/drive/MyDrive/02_Work/05_Experiments/TF-Transformer/Cifar10_VIT/210318_VIT_4x4_1hd_32proj/assets\n"
          ],
          "name": "stdout"
        },
        {
          "output_type": "stream",
          "text": [
            "INFO:tensorflow:Assets written to: /content/drive/MyDrive/02_Work/05_Experiments/TF-Transformer/Cifar10_VIT/210318_VIT_4x4_1hd_32proj/assets\n"
          ],
          "name": "stderr"
        },
        {
          "output_type": "stream",
          "text": [
            "Epoch 24/50\n",
            "196/196 [==============================] - 5s 24ms/step - loss: 0.9227 - sparse_categorical_accuracy: 0.6725 - val_loss: 0.9335 - val_sparse_categorical_accuracy: 0.6738\n"
          ],
          "name": "stdout"
        },
        {
          "output_type": "stream",
          "text": [
            "WARNING:absl:Found untraced functions such as dense_1_layer_call_fn, dense_1_layer_call_and_return_conditional_losses, embedding_1_layer_call_fn, embedding_1_layer_call_and_return_conditional_losses, query_layer_call_fn while saving (showing 5 of 130). These functions will not be directly callable after loading.\n",
            "WARNING:absl:Found untraced functions such as dense_1_layer_call_fn, dense_1_layer_call_and_return_conditional_losses, embedding_1_layer_call_fn, embedding_1_layer_call_and_return_conditional_losses, query_layer_call_fn while saving (showing 5 of 130). These functions will not be directly callable after loading.\n"
          ],
          "name": "stderr"
        },
        {
          "output_type": "stream",
          "text": [
            "INFO:tensorflow:Assets written to: /content/drive/MyDrive/02_Work/05_Experiments/TF-Transformer/Cifar10_VIT/210318_VIT_4x4_1hd_32proj/assets\n"
          ],
          "name": "stdout"
        },
        {
          "output_type": "stream",
          "text": [
            "INFO:tensorflow:Assets written to: /content/drive/MyDrive/02_Work/05_Experiments/TF-Transformer/Cifar10_VIT/210318_VIT_4x4_1hd_32proj/assets\n"
          ],
          "name": "stderr"
        },
        {
          "output_type": "stream",
          "text": [
            "Epoch 25/50\n",
            "196/196 [==============================] - 5s 23ms/step - loss: 0.9178 - sparse_categorical_accuracy: 0.6728 - val_loss: 0.9350 - val_sparse_categorical_accuracy: 0.6737\n",
            "Epoch 26/50\n",
            "196/196 [==============================] - 5s 23ms/step - loss: 0.9065 - sparse_categorical_accuracy: 0.6744 - val_loss: 0.9057 - val_sparse_categorical_accuracy: 0.6801\n"
          ],
          "name": "stdout"
        },
        {
          "output_type": "stream",
          "text": [
            "WARNING:absl:Found untraced functions such as dense_1_layer_call_fn, dense_1_layer_call_and_return_conditional_losses, embedding_1_layer_call_fn, embedding_1_layer_call_and_return_conditional_losses, query_layer_call_fn while saving (showing 5 of 130). These functions will not be directly callable after loading.\n",
            "WARNING:absl:Found untraced functions such as dense_1_layer_call_fn, dense_1_layer_call_and_return_conditional_losses, embedding_1_layer_call_fn, embedding_1_layer_call_and_return_conditional_losses, query_layer_call_fn while saving (showing 5 of 130). These functions will not be directly callable after loading.\n"
          ],
          "name": "stderr"
        },
        {
          "output_type": "stream",
          "text": [
            "INFO:tensorflow:Assets written to: /content/drive/MyDrive/02_Work/05_Experiments/TF-Transformer/Cifar10_VIT/210318_VIT_4x4_1hd_32proj/assets\n"
          ],
          "name": "stdout"
        },
        {
          "output_type": "stream",
          "text": [
            "INFO:tensorflow:Assets written to: /content/drive/MyDrive/02_Work/05_Experiments/TF-Transformer/Cifar10_VIT/210318_VIT_4x4_1hd_32proj/assets\n"
          ],
          "name": "stderr"
        },
        {
          "output_type": "stream",
          "text": [
            "Epoch 27/50\n",
            "196/196 [==============================] - 5s 24ms/step - loss: 0.8815 - sparse_categorical_accuracy: 0.6839 - val_loss: 0.9120 - val_sparse_categorical_accuracy: 0.6803\n"
          ],
          "name": "stdout"
        },
        {
          "output_type": "stream",
          "text": [
            "WARNING:absl:Found untraced functions such as dense_1_layer_call_fn, dense_1_layer_call_and_return_conditional_losses, embedding_1_layer_call_fn, embedding_1_layer_call_and_return_conditional_losses, query_layer_call_fn while saving (showing 5 of 130). These functions will not be directly callable after loading.\n",
            "WARNING:absl:Found untraced functions such as dense_1_layer_call_fn, dense_1_layer_call_and_return_conditional_losses, embedding_1_layer_call_fn, embedding_1_layer_call_and_return_conditional_losses, query_layer_call_fn while saving (showing 5 of 130). These functions will not be directly callable after loading.\n"
          ],
          "name": "stderr"
        },
        {
          "output_type": "stream",
          "text": [
            "INFO:tensorflow:Assets written to: /content/drive/MyDrive/02_Work/05_Experiments/TF-Transformer/Cifar10_VIT/210318_VIT_4x4_1hd_32proj/assets\n"
          ],
          "name": "stdout"
        },
        {
          "output_type": "stream",
          "text": [
            "INFO:tensorflow:Assets written to: /content/drive/MyDrive/02_Work/05_Experiments/TF-Transformer/Cifar10_VIT/210318_VIT_4x4_1hd_32proj/assets\n"
          ],
          "name": "stderr"
        },
        {
          "output_type": "stream",
          "text": [
            "Epoch 28/50\n",
            "196/196 [==============================] - 5s 23ms/step - loss: 0.8809 - sparse_categorical_accuracy: 0.6894 - val_loss: 0.8900 - val_sparse_categorical_accuracy: 0.6871\n"
          ],
          "name": "stdout"
        },
        {
          "output_type": "stream",
          "text": [
            "WARNING:absl:Found untraced functions such as dense_1_layer_call_fn, dense_1_layer_call_and_return_conditional_losses, embedding_1_layer_call_fn, embedding_1_layer_call_and_return_conditional_losses, query_layer_call_fn while saving (showing 5 of 130). These functions will not be directly callable after loading.\n",
            "WARNING:absl:Found untraced functions such as dense_1_layer_call_fn, dense_1_layer_call_and_return_conditional_losses, embedding_1_layer_call_fn, embedding_1_layer_call_and_return_conditional_losses, query_layer_call_fn while saving (showing 5 of 130). These functions will not be directly callable after loading.\n"
          ],
          "name": "stderr"
        },
        {
          "output_type": "stream",
          "text": [
            "INFO:tensorflow:Assets written to: /content/drive/MyDrive/02_Work/05_Experiments/TF-Transformer/Cifar10_VIT/210318_VIT_4x4_1hd_32proj/assets\n"
          ],
          "name": "stdout"
        },
        {
          "output_type": "stream",
          "text": [
            "INFO:tensorflow:Assets written to: /content/drive/MyDrive/02_Work/05_Experiments/TF-Transformer/Cifar10_VIT/210318_VIT_4x4_1hd_32proj/assets\n"
          ],
          "name": "stderr"
        },
        {
          "output_type": "stream",
          "text": [
            "Epoch 29/50\n",
            "196/196 [==============================] - 5s 24ms/step - loss: 0.8720 - sparse_categorical_accuracy: 0.6897 - val_loss: 0.8988 - val_sparse_categorical_accuracy: 0.6860\n",
            "Epoch 30/50\n",
            "196/196 [==============================] - 5s 24ms/step - loss: 0.8499 - sparse_categorical_accuracy: 0.7001 - val_loss: 0.8818 - val_sparse_categorical_accuracy: 0.6884\n"
          ],
          "name": "stdout"
        },
        {
          "output_type": "stream",
          "text": [
            "WARNING:absl:Found untraced functions such as dense_1_layer_call_fn, dense_1_layer_call_and_return_conditional_losses, embedding_1_layer_call_fn, embedding_1_layer_call_and_return_conditional_losses, query_layer_call_fn while saving (showing 5 of 130). These functions will not be directly callable after loading.\n",
            "WARNING:absl:Found untraced functions such as dense_1_layer_call_fn, dense_1_layer_call_and_return_conditional_losses, embedding_1_layer_call_fn, embedding_1_layer_call_and_return_conditional_losses, query_layer_call_fn while saving (showing 5 of 130). These functions will not be directly callable after loading.\n"
          ],
          "name": "stderr"
        },
        {
          "output_type": "stream",
          "text": [
            "INFO:tensorflow:Assets written to: /content/drive/MyDrive/02_Work/05_Experiments/TF-Transformer/Cifar10_VIT/210318_VIT_4x4_1hd_32proj/assets\n"
          ],
          "name": "stdout"
        },
        {
          "output_type": "stream",
          "text": [
            "INFO:tensorflow:Assets written to: /content/drive/MyDrive/02_Work/05_Experiments/TF-Transformer/Cifar10_VIT/210318_VIT_4x4_1hd_32proj/assets\n"
          ],
          "name": "stderr"
        },
        {
          "output_type": "stream",
          "text": [
            "Epoch 31/50\n",
            "196/196 [==============================] - 5s 24ms/step - loss: 0.8346 - sparse_categorical_accuracy: 0.7033 - val_loss: 0.8807 - val_sparse_categorical_accuracy: 0.6917\n"
          ],
          "name": "stdout"
        },
        {
          "output_type": "stream",
          "text": [
            "WARNING:absl:Found untraced functions such as dense_1_layer_call_fn, dense_1_layer_call_and_return_conditional_losses, embedding_1_layer_call_fn, embedding_1_layer_call_and_return_conditional_losses, query_layer_call_fn while saving (showing 5 of 130). These functions will not be directly callable after loading.\n",
            "WARNING:absl:Found untraced functions such as dense_1_layer_call_fn, dense_1_layer_call_and_return_conditional_losses, embedding_1_layer_call_fn, embedding_1_layer_call_and_return_conditional_losses, query_layer_call_fn while saving (showing 5 of 130). These functions will not be directly callable after loading.\n"
          ],
          "name": "stderr"
        },
        {
          "output_type": "stream",
          "text": [
            "INFO:tensorflow:Assets written to: /content/drive/MyDrive/02_Work/05_Experiments/TF-Transformer/Cifar10_VIT/210318_VIT_4x4_1hd_32proj/assets\n"
          ],
          "name": "stdout"
        },
        {
          "output_type": "stream",
          "text": [
            "INFO:tensorflow:Assets written to: /content/drive/MyDrive/02_Work/05_Experiments/TF-Transformer/Cifar10_VIT/210318_VIT_4x4_1hd_32proj/assets\n"
          ],
          "name": "stderr"
        },
        {
          "output_type": "stream",
          "text": [
            "Epoch 32/50\n",
            "196/196 [==============================] - 5s 24ms/step - loss: 0.8182 - sparse_categorical_accuracy: 0.7099 - val_loss: 0.8737 - val_sparse_categorical_accuracy: 0.6923\n"
          ],
          "name": "stdout"
        },
        {
          "output_type": "stream",
          "text": [
            "WARNING:absl:Found untraced functions such as dense_1_layer_call_fn, dense_1_layer_call_and_return_conditional_losses, embedding_1_layer_call_fn, embedding_1_layer_call_and_return_conditional_losses, query_layer_call_fn while saving (showing 5 of 130). These functions will not be directly callable after loading.\n",
            "WARNING:absl:Found untraced functions such as dense_1_layer_call_fn, dense_1_layer_call_and_return_conditional_losses, embedding_1_layer_call_fn, embedding_1_layer_call_and_return_conditional_losses, query_layer_call_fn while saving (showing 5 of 130). These functions will not be directly callable after loading.\n"
          ],
          "name": "stderr"
        },
        {
          "output_type": "stream",
          "text": [
            "INFO:tensorflow:Assets written to: /content/drive/MyDrive/02_Work/05_Experiments/TF-Transformer/Cifar10_VIT/210318_VIT_4x4_1hd_32proj/assets\n"
          ],
          "name": "stdout"
        },
        {
          "output_type": "stream",
          "text": [
            "INFO:tensorflow:Assets written to: /content/drive/MyDrive/02_Work/05_Experiments/TF-Transformer/Cifar10_VIT/210318_VIT_4x4_1hd_32proj/assets\n"
          ],
          "name": "stderr"
        },
        {
          "output_type": "stream",
          "text": [
            "Epoch 33/50\n",
            "196/196 [==============================] - 5s 24ms/step - loss: 0.8195 - sparse_categorical_accuracy: 0.7068 - val_loss: 0.8636 - val_sparse_categorical_accuracy: 0.6979\n"
          ],
          "name": "stdout"
        },
        {
          "output_type": "stream",
          "text": [
            "WARNING:absl:Found untraced functions such as dense_1_layer_call_fn, dense_1_layer_call_and_return_conditional_losses, embedding_1_layer_call_fn, embedding_1_layer_call_and_return_conditional_losses, query_layer_call_fn while saving (showing 5 of 130). These functions will not be directly callable after loading.\n",
            "WARNING:absl:Found untraced functions such as dense_1_layer_call_fn, dense_1_layer_call_and_return_conditional_losses, embedding_1_layer_call_fn, embedding_1_layer_call_and_return_conditional_losses, query_layer_call_fn while saving (showing 5 of 130). These functions will not be directly callable after loading.\n"
          ],
          "name": "stderr"
        },
        {
          "output_type": "stream",
          "text": [
            "INFO:tensorflow:Assets written to: /content/drive/MyDrive/02_Work/05_Experiments/TF-Transformer/Cifar10_VIT/210318_VIT_4x4_1hd_32proj/assets\n"
          ],
          "name": "stdout"
        },
        {
          "output_type": "stream",
          "text": [
            "INFO:tensorflow:Assets written to: /content/drive/MyDrive/02_Work/05_Experiments/TF-Transformer/Cifar10_VIT/210318_VIT_4x4_1hd_32proj/assets\n"
          ],
          "name": "stderr"
        },
        {
          "output_type": "stream",
          "text": [
            "Epoch 34/50\n",
            "196/196 [==============================] - 5s 23ms/step - loss: 0.7971 - sparse_categorical_accuracy: 0.7165 - val_loss: 0.8844 - val_sparse_categorical_accuracy: 0.6881\n",
            "Epoch 35/50\n",
            "196/196 [==============================] - 5s 23ms/step - loss: 0.7882 - sparse_categorical_accuracy: 0.7183 - val_loss: 0.8986 - val_sparse_categorical_accuracy: 0.6881\n",
            "Epoch 36/50\n",
            "196/196 [==============================] - 5s 24ms/step - loss: 0.7765 - sparse_categorical_accuracy: 0.7242 - val_loss: 0.8517 - val_sparse_categorical_accuracy: 0.7022\n"
          ],
          "name": "stdout"
        },
        {
          "output_type": "stream",
          "text": [
            "WARNING:absl:Found untraced functions such as dense_1_layer_call_fn, dense_1_layer_call_and_return_conditional_losses, embedding_1_layer_call_fn, embedding_1_layer_call_and_return_conditional_losses, query_layer_call_fn while saving (showing 5 of 130). These functions will not be directly callable after loading.\n",
            "WARNING:absl:Found untraced functions such as dense_1_layer_call_fn, dense_1_layer_call_and_return_conditional_losses, embedding_1_layer_call_fn, embedding_1_layer_call_and_return_conditional_losses, query_layer_call_fn while saving (showing 5 of 130). These functions will not be directly callable after loading.\n"
          ],
          "name": "stderr"
        },
        {
          "output_type": "stream",
          "text": [
            "INFO:tensorflow:Assets written to: /content/drive/MyDrive/02_Work/05_Experiments/TF-Transformer/Cifar10_VIT/210318_VIT_4x4_1hd_32proj/assets\n"
          ],
          "name": "stdout"
        },
        {
          "output_type": "stream",
          "text": [
            "INFO:tensorflow:Assets written to: /content/drive/MyDrive/02_Work/05_Experiments/TF-Transformer/Cifar10_VIT/210318_VIT_4x4_1hd_32proj/assets\n"
          ],
          "name": "stderr"
        },
        {
          "output_type": "stream",
          "text": [
            "Epoch 37/50\n",
            "196/196 [==============================] - 5s 24ms/step - loss: 0.7598 - sparse_categorical_accuracy: 0.7314 - val_loss: 0.8605 - val_sparse_categorical_accuracy: 0.7041\n"
          ],
          "name": "stdout"
        },
        {
          "output_type": "stream",
          "text": [
            "WARNING:absl:Found untraced functions such as dense_1_layer_call_fn, dense_1_layer_call_and_return_conditional_losses, embedding_1_layer_call_fn, embedding_1_layer_call_and_return_conditional_losses, query_layer_call_fn while saving (showing 5 of 130). These functions will not be directly callable after loading.\n",
            "WARNING:absl:Found untraced functions such as dense_1_layer_call_fn, dense_1_layer_call_and_return_conditional_losses, embedding_1_layer_call_fn, embedding_1_layer_call_and_return_conditional_losses, query_layer_call_fn while saving (showing 5 of 130). These functions will not be directly callable after loading.\n"
          ],
          "name": "stderr"
        },
        {
          "output_type": "stream",
          "text": [
            "INFO:tensorflow:Assets written to: /content/drive/MyDrive/02_Work/05_Experiments/TF-Transformer/Cifar10_VIT/210318_VIT_4x4_1hd_32proj/assets\n"
          ],
          "name": "stdout"
        },
        {
          "output_type": "stream",
          "text": [
            "INFO:tensorflow:Assets written to: /content/drive/MyDrive/02_Work/05_Experiments/TF-Transformer/Cifar10_VIT/210318_VIT_4x4_1hd_32proj/assets\n"
          ],
          "name": "stderr"
        },
        {
          "output_type": "stream",
          "text": [
            "Epoch 38/50\n",
            "196/196 [==============================] - 5s 24ms/step - loss: 0.7567 - sparse_categorical_accuracy: 0.7287 - val_loss: 0.8428 - val_sparse_categorical_accuracy: 0.7050\n"
          ],
          "name": "stdout"
        },
        {
          "output_type": "stream",
          "text": [
            "WARNING:absl:Found untraced functions such as dense_1_layer_call_fn, dense_1_layer_call_and_return_conditional_losses, embedding_1_layer_call_fn, embedding_1_layer_call_and_return_conditional_losses, query_layer_call_fn while saving (showing 5 of 130). These functions will not be directly callable after loading.\n",
            "WARNING:absl:Found untraced functions such as dense_1_layer_call_fn, dense_1_layer_call_and_return_conditional_losses, embedding_1_layer_call_fn, embedding_1_layer_call_and_return_conditional_losses, query_layer_call_fn while saving (showing 5 of 130). These functions will not be directly callable after loading.\n"
          ],
          "name": "stderr"
        },
        {
          "output_type": "stream",
          "text": [
            "INFO:tensorflow:Assets written to: /content/drive/MyDrive/02_Work/05_Experiments/TF-Transformer/Cifar10_VIT/210318_VIT_4x4_1hd_32proj/assets\n"
          ],
          "name": "stdout"
        },
        {
          "output_type": "stream",
          "text": [
            "INFO:tensorflow:Assets written to: /content/drive/MyDrive/02_Work/05_Experiments/TF-Transformer/Cifar10_VIT/210318_VIT_4x4_1hd_32proj/assets\n"
          ],
          "name": "stderr"
        },
        {
          "output_type": "stream",
          "text": [
            "Epoch 39/50\n",
            "196/196 [==============================] - 5s 24ms/step - loss: 0.7400 - sparse_categorical_accuracy: 0.7373 - val_loss: 0.8482 - val_sparse_categorical_accuracy: 0.7017\n",
            "Epoch 40/50\n",
            "196/196 [==============================] - 5s 23ms/step - loss: 0.7285 - sparse_categorical_accuracy: 0.7427 - val_loss: 0.8516 - val_sparse_categorical_accuracy: 0.7044\n",
            "Epoch 41/50\n",
            "196/196 [==============================] - 5s 24ms/step - loss: 0.7321 - sparse_categorical_accuracy: 0.7401 - val_loss: 0.8456 - val_sparse_categorical_accuracy: 0.7083\n"
          ],
          "name": "stdout"
        },
        {
          "output_type": "stream",
          "text": [
            "WARNING:absl:Found untraced functions such as dense_1_layer_call_fn, dense_1_layer_call_and_return_conditional_losses, embedding_1_layer_call_fn, embedding_1_layer_call_and_return_conditional_losses, query_layer_call_fn while saving (showing 5 of 130). These functions will not be directly callable after loading.\n",
            "WARNING:absl:Found untraced functions such as dense_1_layer_call_fn, dense_1_layer_call_and_return_conditional_losses, embedding_1_layer_call_fn, embedding_1_layer_call_and_return_conditional_losses, query_layer_call_fn while saving (showing 5 of 130). These functions will not be directly callable after loading.\n"
          ],
          "name": "stderr"
        },
        {
          "output_type": "stream",
          "text": [
            "INFO:tensorflow:Assets written to: /content/drive/MyDrive/02_Work/05_Experiments/TF-Transformer/Cifar10_VIT/210318_VIT_4x4_1hd_32proj/assets\n"
          ],
          "name": "stdout"
        },
        {
          "output_type": "stream",
          "text": [
            "INFO:tensorflow:Assets written to: /content/drive/MyDrive/02_Work/05_Experiments/TF-Transformer/Cifar10_VIT/210318_VIT_4x4_1hd_32proj/assets\n"
          ],
          "name": "stderr"
        },
        {
          "output_type": "stream",
          "text": [
            "Epoch 42/50\n",
            "196/196 [==============================] - 5s 24ms/step - loss: 0.7136 - sparse_categorical_accuracy: 0.7468 - val_loss: 0.8449 - val_sparse_categorical_accuracy: 0.7041\n",
            "Epoch 43/50\n",
            "196/196 [==============================] - 5s 24ms/step - loss: 0.7146 - sparse_categorical_accuracy: 0.7474 - val_loss: 0.8206 - val_sparse_categorical_accuracy: 0.7106\n"
          ],
          "name": "stdout"
        },
        {
          "output_type": "stream",
          "text": [
            "WARNING:absl:Found untraced functions such as dense_1_layer_call_fn, dense_1_layer_call_and_return_conditional_losses, embedding_1_layer_call_fn, embedding_1_layer_call_and_return_conditional_losses, query_layer_call_fn while saving (showing 5 of 130). These functions will not be directly callable after loading.\n",
            "WARNING:absl:Found untraced functions such as dense_1_layer_call_fn, dense_1_layer_call_and_return_conditional_losses, embedding_1_layer_call_fn, embedding_1_layer_call_and_return_conditional_losses, query_layer_call_fn while saving (showing 5 of 130). These functions will not be directly callable after loading.\n"
          ],
          "name": "stderr"
        },
        {
          "output_type": "stream",
          "text": [
            "INFO:tensorflow:Assets written to: /content/drive/MyDrive/02_Work/05_Experiments/TF-Transformer/Cifar10_VIT/210318_VIT_4x4_1hd_32proj/assets\n"
          ],
          "name": "stdout"
        },
        {
          "output_type": "stream",
          "text": [
            "INFO:tensorflow:Assets written to: /content/drive/MyDrive/02_Work/05_Experiments/TF-Transformer/Cifar10_VIT/210318_VIT_4x4_1hd_32proj/assets\n"
          ],
          "name": "stderr"
        },
        {
          "output_type": "stream",
          "text": [
            "Epoch 44/50\n",
            "196/196 [==============================] - 5s 24ms/step - loss: 0.6980 - sparse_categorical_accuracy: 0.7535 - val_loss: 0.8342 - val_sparse_categorical_accuracy: 0.7080\n",
            "Epoch 45/50\n",
            "196/196 [==============================] - 5s 24ms/step - loss: 0.6986 - sparse_categorical_accuracy: 0.7518 - val_loss: 0.8277 - val_sparse_categorical_accuracy: 0.7141\n"
          ],
          "name": "stdout"
        },
        {
          "output_type": "stream",
          "text": [
            "WARNING:absl:Found untraced functions such as dense_1_layer_call_fn, dense_1_layer_call_and_return_conditional_losses, embedding_1_layer_call_fn, embedding_1_layer_call_and_return_conditional_losses, query_layer_call_fn while saving (showing 5 of 130). These functions will not be directly callable after loading.\n",
            "WARNING:absl:Found untraced functions such as dense_1_layer_call_fn, dense_1_layer_call_and_return_conditional_losses, embedding_1_layer_call_fn, embedding_1_layer_call_and_return_conditional_losses, query_layer_call_fn while saving (showing 5 of 130). These functions will not be directly callable after loading.\n"
          ],
          "name": "stderr"
        },
        {
          "output_type": "stream",
          "text": [
            "INFO:tensorflow:Assets written to: /content/drive/MyDrive/02_Work/05_Experiments/TF-Transformer/Cifar10_VIT/210318_VIT_4x4_1hd_32proj/assets\n"
          ],
          "name": "stdout"
        },
        {
          "output_type": "stream",
          "text": [
            "INFO:tensorflow:Assets written to: /content/drive/MyDrive/02_Work/05_Experiments/TF-Transformer/Cifar10_VIT/210318_VIT_4x4_1hd_32proj/assets\n"
          ],
          "name": "stderr"
        },
        {
          "output_type": "stream",
          "text": [
            "Epoch 46/50\n",
            "196/196 [==============================] - 5s 24ms/step - loss: 0.6786 - sparse_categorical_accuracy: 0.7599 - val_loss: 0.8237 - val_sparse_categorical_accuracy: 0.7091\n",
            "Epoch 47/50\n",
            "196/196 [==============================] - 5s 23ms/step - loss: 0.6647 - sparse_categorical_accuracy: 0.7639 - val_loss: 0.8303 - val_sparse_categorical_accuracy: 0.7086\n",
            "Epoch 48/50\n",
            "196/196 [==============================] - 5s 23ms/step - loss: 0.6749 - sparse_categorical_accuracy: 0.7616 - val_loss: 0.8243 - val_sparse_categorical_accuracy: 0.7132\n",
            "Epoch 49/50\n",
            "196/196 [==============================] - 5s 23ms/step - loss: 0.6619 - sparse_categorical_accuracy: 0.7637 - val_loss: 0.8157 - val_sparse_categorical_accuracy: 0.7154\n"
          ],
          "name": "stdout"
        },
        {
          "output_type": "stream",
          "text": [
            "WARNING:absl:Found untraced functions such as dense_1_layer_call_fn, dense_1_layer_call_and_return_conditional_losses, embedding_1_layer_call_fn, embedding_1_layer_call_and_return_conditional_losses, query_layer_call_fn while saving (showing 5 of 130). These functions will not be directly callable after loading.\n",
            "WARNING:absl:Found untraced functions such as dense_1_layer_call_fn, dense_1_layer_call_and_return_conditional_losses, embedding_1_layer_call_fn, embedding_1_layer_call_and_return_conditional_losses, query_layer_call_fn while saving (showing 5 of 130). These functions will not be directly callable after loading.\n"
          ],
          "name": "stderr"
        },
        {
          "output_type": "stream",
          "text": [
            "INFO:tensorflow:Assets written to: /content/drive/MyDrive/02_Work/05_Experiments/TF-Transformer/Cifar10_VIT/210318_VIT_4x4_1hd_32proj/assets\n"
          ],
          "name": "stdout"
        },
        {
          "output_type": "stream",
          "text": [
            "INFO:tensorflow:Assets written to: /content/drive/MyDrive/02_Work/05_Experiments/TF-Transformer/Cifar10_VIT/210318_VIT_4x4_1hd_32proj/assets\n"
          ],
          "name": "stderr"
        },
        {
          "output_type": "stream",
          "text": [
            "Epoch 50/50\n",
            "196/196 [==============================] - 5s 24ms/step - loss: 0.6612 - sparse_categorical_accuracy: 0.7656 - val_loss: 0.8131 - val_sparse_categorical_accuracy: 0.7177\n"
          ],
          "name": "stdout"
        },
        {
          "output_type": "stream",
          "text": [
            "WARNING:absl:Found untraced functions such as dense_1_layer_call_fn, dense_1_layer_call_and_return_conditional_losses, embedding_1_layer_call_fn, embedding_1_layer_call_and_return_conditional_losses, query_layer_call_fn while saving (showing 5 of 130). These functions will not be directly callable after loading.\n",
            "WARNING:absl:Found untraced functions such as dense_1_layer_call_fn, dense_1_layer_call_and_return_conditional_losses, embedding_1_layer_call_fn, embedding_1_layer_call_and_return_conditional_losses, query_layer_call_fn while saving (showing 5 of 130). These functions will not be directly callable after loading.\n"
          ],
          "name": "stderr"
        },
        {
          "output_type": "stream",
          "text": [
            "INFO:tensorflow:Assets written to: /content/drive/MyDrive/02_Work/05_Experiments/TF-Transformer/Cifar10_VIT/210318_VIT_4x4_1hd_32proj/assets\n"
          ],
          "name": "stdout"
        },
        {
          "output_type": "stream",
          "text": [
            "INFO:tensorflow:Assets written to: /content/drive/MyDrive/02_Work/05_Experiments/TF-Transformer/Cifar10_VIT/210318_VIT_4x4_1hd_32proj/assets\n"
          ],
          "name": "stderr"
        },
        {
          "output_type": "stream",
          "text": [
            "Total training time 492.62294816970825 seconds\n",
            "Model: \"model_2\"\n",
            "__________________________________________________________________________________________________\n",
            "Layer (type)                    Output Shape         Param #     Connected to                     \n",
            "==================================================================================================\n",
            "input_3 (InputLayer)            [(None, 32, 32, 3)]  0                                            \n",
            "__________________________________________________________________________________________________\n",
            "rescale (Rescaling)             (None, 32, 32, 3)    0           input_3[0][0]                    \n",
            "__________________________________________________________________________________________________\n",
            "resize (Resizing)               (None, 32, 32, 3)    0           rescale[0][0]                    \n",
            "__________________________________________________________________________________________________\n",
            "patches_3 (Patches)             (None, None, 48)     0           resize[0][0]                     \n",
            "__________________________________________________________________________________________________\n",
            "patch_encoder_2 (PatchEncoder)  (None, 64, 64)       7232        patches_3[0][0]                  \n",
            "__________________________________________________________________________________________________\n",
            "ln1_1 (LayerNormalization)      (None, 64, 64)       128         patch_encoder_2[0][0]            \n",
            "__________________________________________________________________________________________________\n",
            "mha1 (MultiHeadAttention)       (None, 64, 64)       16640       ln1_1[0][0]                      \n",
            "                                                                 ln1_1[0][0]                      \n",
            "__________________________________________________________________________________________________\n",
            "skip1_1 (Add)                   (None, 64, 64)       0           mha1[0][0]                       \n",
            "                                                                 patch_encoder_2[0][0]            \n",
            "__________________________________________________________________________________________________\n",
            "ln1_2 (LayerNormalization)      (None, 64, 64)       128         skip1_1[0][0]                    \n",
            "__________________________________________________________________________________________________\n",
            "mlp1/dens0 (Dense)              (None, 64, 64)       4160        ln1_2[0][0]                      \n",
            "__________________________________________________________________________________________________\n",
            "mlp1/drop0 (Dropout)            (None, 64, 64)       0           mlp1/dens0[0][0]                 \n",
            "__________________________________________________________________________________________________\n",
            "mlp1/dens1 (Dense)              (None, 64, 64)       4160        mlp1/drop0[0][0]                 \n",
            "__________________________________________________________________________________________________\n",
            "mlp1/drop1 (Dropout)            (None, 64, 64)       0           mlp1/dens1[0][0]                 \n",
            "__________________________________________________________________________________________________\n",
            "skip1_2 (Add)                   (None, 64, 64)       0           mlp1/drop1[0][0]                 \n",
            "                                                                 skip1_1[0][0]                    \n",
            "__________________________________________________________________________________________________\n",
            "ln2_1 (LayerNormalization)      (None, 64, 64)       128         skip1_2[0][0]                    \n",
            "__________________________________________________________________________________________________\n",
            "mha2 (MultiHeadAttention)       (None, 64, 64)       16640       ln2_1[0][0]                      \n",
            "                                                                 ln2_1[0][0]                      \n",
            "__________________________________________________________________________________________________\n",
            "skip2_1 (Add)                   (None, 64, 64)       0           mha2[0][0]                       \n",
            "                                                                 skip1_2[0][0]                    \n",
            "__________________________________________________________________________________________________\n",
            "ln2_2 (LayerNormalization)      (None, 64, 64)       128         skip2_1[0][0]                    \n",
            "__________________________________________________________________________________________________\n",
            "mlp2/dens0 (Dense)              (None, 64, 64)       4160        ln2_2[0][0]                      \n",
            "__________________________________________________________________________________________________\n",
            "mlp2/drop0 (Dropout)            (None, 64, 64)       0           mlp2/dens0[0][0]                 \n",
            "__________________________________________________________________________________________________\n",
            "mlp2/dens1 (Dense)              (None, 64, 64)       4160        mlp2/drop0[0][0]                 \n",
            "__________________________________________________________________________________________________\n",
            "mlp2/drop1 (Dropout)            (None, 64, 64)       0           mlp2/dens1[0][0]                 \n",
            "__________________________________________________________________________________________________\n",
            "skip2_2 (Add)                   (None, 64, 64)       0           mlp2/drop1[0][0]                 \n",
            "                                                                 skip2_1[0][0]                    \n",
            "__________________________________________________________________________________________________\n",
            "ln3_1 (LayerNormalization)      (None, 64, 64)       128         skip2_2[0][0]                    \n",
            "__________________________________________________________________________________________________\n",
            "mha3 (MultiHeadAttention)       (None, 64, 64)       16640       ln3_1[0][0]                      \n",
            "                                                                 ln3_1[0][0]                      \n",
            "__________________________________________________________________________________________________\n",
            "skip3_1 (Add)                   (None, 64, 64)       0           mha3[0][0]                       \n",
            "                                                                 skip2_2[0][0]                    \n",
            "__________________________________________________________________________________________________\n",
            "ln3_2 (LayerNormalization)      (None, 64, 64)       128         skip3_1[0][0]                    \n",
            "__________________________________________________________________________________________________\n",
            "mlp3/dens0 (Dense)              (None, 64, 64)       4160        ln3_2[0][0]                      \n",
            "__________________________________________________________________________________________________\n",
            "mlp3/drop0 (Dropout)            (None, 64, 64)       0           mlp3/dens0[0][0]                 \n",
            "__________________________________________________________________________________________________\n",
            "mlp3/dens1 (Dense)              (None, 64, 64)       4160        mlp3/drop0[0][0]                 \n",
            "__________________________________________________________________________________________________\n",
            "mlp3/drop1 (Dropout)            (None, 64, 64)       0           mlp3/dens1[0][0]                 \n",
            "__________________________________________________________________________________________________\n",
            "skip3_2 (Add)                   (None, 64, 64)       0           mlp3/drop1[0][0]                 \n",
            "                                                                 skip3_1[0][0]                    \n",
            "__________________________________________________________________________________________________\n",
            "ln4_1 (LayerNormalization)      (None, 64, 64)       128         skip3_2[0][0]                    \n",
            "__________________________________________________________________________________________________\n",
            "mha4 (MultiHeadAttention)       (None, 64, 64)       16640       ln4_1[0][0]                      \n",
            "                                                                 ln4_1[0][0]                      \n",
            "__________________________________________________________________________________________________\n",
            "skip4_1 (Add)                   (None, 64, 64)       0           mha4[0][0]                       \n",
            "                                                                 skip3_2[0][0]                    \n",
            "__________________________________________________________________________________________________\n",
            "ln4_2 (LayerNormalization)      (None, 64, 64)       128         skip4_1[0][0]                    \n",
            "__________________________________________________________________________________________________\n",
            "mlp4/dens0 (Dense)              (None, 64, 64)       4160        ln4_2[0][0]                      \n",
            "__________________________________________________________________________________________________\n",
            "mlp4/drop0 (Dropout)            (None, 64, 64)       0           mlp4/dens0[0][0]                 \n",
            "__________________________________________________________________________________________________\n",
            "mlp4/dens1 (Dense)              (None, 64, 64)       4160        mlp4/drop0[0][0]                 \n",
            "__________________________________________________________________________________________________\n",
            "mlp4/drop1 (Dropout)            (None, 64, 64)       0           mlp4/dens1[0][0]                 \n",
            "__________________________________________________________________________________________________\n",
            "skip4_2 (Add)                   (None, 64, 64)       0           mlp4/drop1[0][0]                 \n",
            "                                                                 skip4_1[0][0]                    \n",
            "__________________________________________________________________________________________________\n",
            "classifier_ln (LayerNormalizati (None, 64, 64)       128         skip4_2[0][0]                    \n",
            "__________________________________________________________________________________________________\n",
            "classifier_flat (Flatten)       (None, 4096)         0           classifier_ln[0][0]              \n",
            "__________________________________________________________________________________________________\n",
            "classifier_drop (Dropout)       (None, 4096)         0           classifier_flat[0][0]            \n",
            "__________________________________________________________________________________________________\n",
            "classifier_mlp/dens0 (Dense)    (None, 512)          2097664     classifier_drop[0][0]            \n",
            "__________________________________________________________________________________________________\n",
            "classifier_mlp/drop0 (Dropout)  (None, 512)          0           classifier_mlp/dens0[0][0]       \n",
            "__________________________________________________________________________________________________\n",
            "logits (Dense)                  (None, 10)           5130        classifier_mlp/drop0[0][0]       \n",
            "==================================================================================================\n",
            "Total params: 2,211,018\n",
            "Trainable params: 2,211,018\n",
            "Non-trainable params: 0\n",
            "__________________________________________________________________________________________________\n",
            "Epoch 1/50\n",
            "196/196 [==============================] - 14s 48ms/step - loss: 2.5674 - sparse_categorical_accuracy: 0.1444 - val_loss: 1.9963 - val_sparse_categorical_accuracy: 0.2358\n"
          ],
          "name": "stdout"
        },
        {
          "output_type": "stream",
          "text": [
            "WARNING:absl:Found untraced functions such as dense_2_layer_call_fn, dense_2_layer_call_and_return_conditional_losses, embedding_2_layer_call_fn, embedding_2_layer_call_and_return_conditional_losses, query_layer_call_fn while saving (showing 5 of 130). These functions will not be directly callable after loading.\n",
            "WARNING:absl:Found untraced functions such as dense_2_layer_call_fn, dense_2_layer_call_and_return_conditional_losses, embedding_2_layer_call_fn, embedding_2_layer_call_and_return_conditional_losses, query_layer_call_fn while saving (showing 5 of 130). These functions will not be directly callable after loading.\n"
          ],
          "name": "stderr"
        },
        {
          "output_type": "stream",
          "text": [
            "INFO:tensorflow:Assets written to: /content/drive/MyDrive/02_Work/05_Experiments/TF-Transformer/Cifar10_VIT/210318_VIT_4x4_1hd_64proj/assets\n"
          ],
          "name": "stdout"
        },
        {
          "output_type": "stream",
          "text": [
            "INFO:tensorflow:Assets written to: /content/drive/MyDrive/02_Work/05_Experiments/TF-Transformer/Cifar10_VIT/210318_VIT_4x4_1hd_64proj/assets\n"
          ],
          "name": "stderr"
        },
        {
          "output_type": "stream",
          "text": [
            "Epoch 2/50\n",
            "196/196 [==============================] - 8s 40ms/step - loss: 1.9547 - sparse_categorical_accuracy: 0.2588 - val_loss: 1.6188 - val_sparse_categorical_accuracy: 0.4025\n"
          ],
          "name": "stdout"
        },
        {
          "output_type": "stream",
          "text": [
            "WARNING:absl:Found untraced functions such as dense_2_layer_call_fn, dense_2_layer_call_and_return_conditional_losses, embedding_2_layer_call_fn, embedding_2_layer_call_and_return_conditional_losses, query_layer_call_fn while saving (showing 5 of 130). These functions will not be directly callable after loading.\n",
            "WARNING:absl:Found untraced functions such as dense_2_layer_call_fn, dense_2_layer_call_and_return_conditional_losses, embedding_2_layer_call_fn, embedding_2_layer_call_and_return_conditional_losses, query_layer_call_fn while saving (showing 5 of 130). These functions will not be directly callable after loading.\n"
          ],
          "name": "stderr"
        },
        {
          "output_type": "stream",
          "text": [
            "INFO:tensorflow:Assets written to: /content/drive/MyDrive/02_Work/05_Experiments/TF-Transformer/Cifar10_VIT/210318_VIT_4x4_1hd_64proj/assets\n"
          ],
          "name": "stdout"
        },
        {
          "output_type": "stream",
          "text": [
            "INFO:tensorflow:Assets written to: /content/drive/MyDrive/02_Work/05_Experiments/TF-Transformer/Cifar10_VIT/210318_VIT_4x4_1hd_64proj/assets\n"
          ],
          "name": "stderr"
        },
        {
          "output_type": "stream",
          "text": [
            "Epoch 3/50\n",
            "196/196 [==============================] - 8s 40ms/step - loss: 1.7376 - sparse_categorical_accuracy: 0.3506 - val_loss: 1.4677 - val_sparse_categorical_accuracy: 0.4570\n"
          ],
          "name": "stdout"
        },
        {
          "output_type": "stream",
          "text": [
            "WARNING:absl:Found untraced functions such as dense_2_layer_call_fn, dense_2_layer_call_and_return_conditional_losses, embedding_2_layer_call_fn, embedding_2_layer_call_and_return_conditional_losses, query_layer_call_fn while saving (showing 5 of 130). These functions will not be directly callable after loading.\n",
            "WARNING:absl:Found untraced functions such as dense_2_layer_call_fn, dense_2_layer_call_and_return_conditional_losses, embedding_2_layer_call_fn, embedding_2_layer_call_and_return_conditional_losses, query_layer_call_fn while saving (showing 5 of 130). These functions will not be directly callable after loading.\n"
          ],
          "name": "stderr"
        },
        {
          "output_type": "stream",
          "text": [
            "INFO:tensorflow:Assets written to: /content/drive/MyDrive/02_Work/05_Experiments/TF-Transformer/Cifar10_VIT/210318_VIT_4x4_1hd_64proj/assets\n"
          ],
          "name": "stdout"
        },
        {
          "output_type": "stream",
          "text": [
            "INFO:tensorflow:Assets written to: /content/drive/MyDrive/02_Work/05_Experiments/TF-Transformer/Cifar10_VIT/210318_VIT_4x4_1hd_64proj/assets\n"
          ],
          "name": "stderr"
        },
        {
          "output_type": "stream",
          "text": [
            "Epoch 4/50\n",
            "196/196 [==============================] - 8s 40ms/step - loss: 1.5937 - sparse_categorical_accuracy: 0.4115 - val_loss: 1.3466 - val_sparse_categorical_accuracy: 0.5154\n"
          ],
          "name": "stdout"
        },
        {
          "output_type": "stream",
          "text": [
            "WARNING:absl:Found untraced functions such as dense_2_layer_call_fn, dense_2_layer_call_and_return_conditional_losses, embedding_2_layer_call_fn, embedding_2_layer_call_and_return_conditional_losses, query_layer_call_fn while saving (showing 5 of 130). These functions will not be directly callable after loading.\n",
            "WARNING:absl:Found untraced functions such as dense_2_layer_call_fn, dense_2_layer_call_and_return_conditional_losses, embedding_2_layer_call_fn, embedding_2_layer_call_and_return_conditional_losses, query_layer_call_fn while saving (showing 5 of 130). These functions will not be directly callable after loading.\n"
          ],
          "name": "stderr"
        },
        {
          "output_type": "stream",
          "text": [
            "INFO:tensorflow:Assets written to: /content/drive/MyDrive/02_Work/05_Experiments/TF-Transformer/Cifar10_VIT/210318_VIT_4x4_1hd_64proj/assets\n"
          ],
          "name": "stdout"
        },
        {
          "output_type": "stream",
          "text": [
            "INFO:tensorflow:Assets written to: /content/drive/MyDrive/02_Work/05_Experiments/TF-Transformer/Cifar10_VIT/210318_VIT_4x4_1hd_64proj/assets\n"
          ],
          "name": "stderr"
        },
        {
          "output_type": "stream",
          "text": [
            "Epoch 5/50\n",
            "196/196 [==============================] - 8s 40ms/step - loss: 1.4941 - sparse_categorical_accuracy: 0.4506 - val_loss: 1.3118 - val_sparse_categorical_accuracy: 0.5299\n"
          ],
          "name": "stdout"
        },
        {
          "output_type": "stream",
          "text": [
            "WARNING:absl:Found untraced functions such as dense_2_layer_call_fn, dense_2_layer_call_and_return_conditional_losses, embedding_2_layer_call_fn, embedding_2_layer_call_and_return_conditional_losses, query_layer_call_fn while saving (showing 5 of 130). These functions will not be directly callable after loading.\n",
            "WARNING:absl:Found untraced functions such as dense_2_layer_call_fn, dense_2_layer_call_and_return_conditional_losses, embedding_2_layer_call_fn, embedding_2_layer_call_and_return_conditional_losses, query_layer_call_fn while saving (showing 5 of 130). These functions will not be directly callable after loading.\n"
          ],
          "name": "stderr"
        },
        {
          "output_type": "stream",
          "text": [
            "INFO:tensorflow:Assets written to: /content/drive/MyDrive/02_Work/05_Experiments/TF-Transformer/Cifar10_VIT/210318_VIT_4x4_1hd_64proj/assets\n"
          ],
          "name": "stdout"
        },
        {
          "output_type": "stream",
          "text": [
            "INFO:tensorflow:Assets written to: /content/drive/MyDrive/02_Work/05_Experiments/TF-Transformer/Cifar10_VIT/210318_VIT_4x4_1hd_64proj/assets\n"
          ],
          "name": "stderr"
        },
        {
          "output_type": "stream",
          "text": [
            "Epoch 6/50\n",
            "196/196 [==============================] - 8s 40ms/step - loss: 1.4201 - sparse_categorical_accuracy: 0.4887 - val_loss: 1.2352 - val_sparse_categorical_accuracy: 0.5475\n"
          ],
          "name": "stdout"
        },
        {
          "output_type": "stream",
          "text": [
            "WARNING:absl:Found untraced functions such as dense_2_layer_call_fn, dense_2_layer_call_and_return_conditional_losses, embedding_2_layer_call_fn, embedding_2_layer_call_and_return_conditional_losses, query_layer_call_fn while saving (showing 5 of 130). These functions will not be directly callable after loading.\n",
            "WARNING:absl:Found untraced functions such as dense_2_layer_call_fn, dense_2_layer_call_and_return_conditional_losses, embedding_2_layer_call_fn, embedding_2_layer_call_and_return_conditional_losses, query_layer_call_fn while saving (showing 5 of 130). These functions will not be directly callable after loading.\n"
          ],
          "name": "stderr"
        },
        {
          "output_type": "stream",
          "text": [
            "INFO:tensorflow:Assets written to: /content/drive/MyDrive/02_Work/05_Experiments/TF-Transformer/Cifar10_VIT/210318_VIT_4x4_1hd_64proj/assets\n"
          ],
          "name": "stdout"
        },
        {
          "output_type": "stream",
          "text": [
            "INFO:tensorflow:Assets written to: /content/drive/MyDrive/02_Work/05_Experiments/TF-Transformer/Cifar10_VIT/210318_VIT_4x4_1hd_64proj/assets\n"
          ],
          "name": "stderr"
        },
        {
          "output_type": "stream",
          "text": [
            "Epoch 7/50\n",
            "196/196 [==============================] - 8s 40ms/step - loss: 1.3696 - sparse_categorical_accuracy: 0.5084 - val_loss: 1.1883 - val_sparse_categorical_accuracy: 0.5643\n"
          ],
          "name": "stdout"
        },
        {
          "output_type": "stream",
          "text": [
            "WARNING:absl:Found untraced functions such as dense_2_layer_call_fn, dense_2_layer_call_and_return_conditional_losses, embedding_2_layer_call_fn, embedding_2_layer_call_and_return_conditional_losses, query_layer_call_fn while saving (showing 5 of 130). These functions will not be directly callable after loading.\n",
            "WARNING:absl:Found untraced functions such as dense_2_layer_call_fn, dense_2_layer_call_and_return_conditional_losses, embedding_2_layer_call_fn, embedding_2_layer_call_and_return_conditional_losses, query_layer_call_fn while saving (showing 5 of 130). These functions will not be directly callable after loading.\n"
          ],
          "name": "stderr"
        },
        {
          "output_type": "stream",
          "text": [
            "INFO:tensorflow:Assets written to: /content/drive/MyDrive/02_Work/05_Experiments/TF-Transformer/Cifar10_VIT/210318_VIT_4x4_1hd_64proj/assets\n"
          ],
          "name": "stdout"
        },
        {
          "output_type": "stream",
          "text": [
            "INFO:tensorflow:Assets written to: /content/drive/MyDrive/02_Work/05_Experiments/TF-Transformer/Cifar10_VIT/210318_VIT_4x4_1hd_64proj/assets\n"
          ],
          "name": "stderr"
        },
        {
          "output_type": "stream",
          "text": [
            "Epoch 8/50\n",
            "196/196 [==============================] - 8s 40ms/step - loss: 1.3268 - sparse_categorical_accuracy: 0.5219 - val_loss: 1.1540 - val_sparse_categorical_accuracy: 0.5813\n"
          ],
          "name": "stdout"
        },
        {
          "output_type": "stream",
          "text": [
            "WARNING:absl:Found untraced functions such as dense_2_layer_call_fn, dense_2_layer_call_and_return_conditional_losses, embedding_2_layer_call_fn, embedding_2_layer_call_and_return_conditional_losses, query_layer_call_fn while saving (showing 5 of 130). These functions will not be directly callable after loading.\n",
            "WARNING:absl:Found untraced functions such as dense_2_layer_call_fn, dense_2_layer_call_and_return_conditional_losses, embedding_2_layer_call_fn, embedding_2_layer_call_and_return_conditional_losses, query_layer_call_fn while saving (showing 5 of 130). These functions will not be directly callable after loading.\n"
          ],
          "name": "stderr"
        },
        {
          "output_type": "stream",
          "text": [
            "INFO:tensorflow:Assets written to: /content/drive/MyDrive/02_Work/05_Experiments/TF-Transformer/Cifar10_VIT/210318_VIT_4x4_1hd_64proj/assets\n"
          ],
          "name": "stdout"
        },
        {
          "output_type": "stream",
          "text": [
            "INFO:tensorflow:Assets written to: /content/drive/MyDrive/02_Work/05_Experiments/TF-Transformer/Cifar10_VIT/210318_VIT_4x4_1hd_64proj/assets\n"
          ],
          "name": "stderr"
        },
        {
          "output_type": "stream",
          "text": [
            "Epoch 9/50\n",
            "196/196 [==============================] - 8s 40ms/step - loss: 1.2673 - sparse_categorical_accuracy: 0.5424 - val_loss: 1.1514 - val_sparse_categorical_accuracy: 0.5846\n"
          ],
          "name": "stdout"
        },
        {
          "output_type": "stream",
          "text": [
            "WARNING:absl:Found untraced functions such as dense_2_layer_call_fn, dense_2_layer_call_and_return_conditional_losses, embedding_2_layer_call_fn, embedding_2_layer_call_and_return_conditional_losses, query_layer_call_fn while saving (showing 5 of 130). These functions will not be directly callable after loading.\n",
            "WARNING:absl:Found untraced functions such as dense_2_layer_call_fn, dense_2_layer_call_and_return_conditional_losses, embedding_2_layer_call_fn, embedding_2_layer_call_and_return_conditional_losses, query_layer_call_fn while saving (showing 5 of 130). These functions will not be directly callable after loading.\n"
          ],
          "name": "stderr"
        },
        {
          "output_type": "stream",
          "text": [
            "INFO:tensorflow:Assets written to: /content/drive/MyDrive/02_Work/05_Experiments/TF-Transformer/Cifar10_VIT/210318_VIT_4x4_1hd_64proj/assets\n"
          ],
          "name": "stdout"
        },
        {
          "output_type": "stream",
          "text": [
            "INFO:tensorflow:Assets written to: /content/drive/MyDrive/02_Work/05_Experiments/TF-Transformer/Cifar10_VIT/210318_VIT_4x4_1hd_64proj/assets\n"
          ],
          "name": "stderr"
        },
        {
          "output_type": "stream",
          "text": [
            "Epoch 10/50\n",
            "196/196 [==============================] - 8s 40ms/step - loss: 1.2392 - sparse_categorical_accuracy: 0.5581 - val_loss: 1.0908 - val_sparse_categorical_accuracy: 0.6099\n"
          ],
          "name": "stdout"
        },
        {
          "output_type": "stream",
          "text": [
            "WARNING:absl:Found untraced functions such as dense_2_layer_call_fn, dense_2_layer_call_and_return_conditional_losses, embedding_2_layer_call_fn, embedding_2_layer_call_and_return_conditional_losses, query_layer_call_fn while saving (showing 5 of 130). These functions will not be directly callable after loading.\n",
            "WARNING:absl:Found untraced functions such as dense_2_layer_call_fn, dense_2_layer_call_and_return_conditional_losses, embedding_2_layer_call_fn, embedding_2_layer_call_and_return_conditional_losses, query_layer_call_fn while saving (showing 5 of 130). These functions will not be directly callable after loading.\n"
          ],
          "name": "stderr"
        },
        {
          "output_type": "stream",
          "text": [
            "INFO:tensorflow:Assets written to: /content/drive/MyDrive/02_Work/05_Experiments/TF-Transformer/Cifar10_VIT/210318_VIT_4x4_1hd_64proj/assets\n"
          ],
          "name": "stdout"
        },
        {
          "output_type": "stream",
          "text": [
            "INFO:tensorflow:Assets written to: /content/drive/MyDrive/02_Work/05_Experiments/TF-Transformer/Cifar10_VIT/210318_VIT_4x4_1hd_64proj/assets\n"
          ],
          "name": "stderr"
        },
        {
          "output_type": "stream",
          "text": [
            "Epoch 11/50\n",
            "196/196 [==============================] - 8s 40ms/step - loss: 1.1944 - sparse_categorical_accuracy: 0.5735 - val_loss: 1.0567 - val_sparse_categorical_accuracy: 0.6242\n"
          ],
          "name": "stdout"
        },
        {
          "output_type": "stream",
          "text": [
            "WARNING:absl:Found untraced functions such as dense_2_layer_call_fn, dense_2_layer_call_and_return_conditional_losses, embedding_2_layer_call_fn, embedding_2_layer_call_and_return_conditional_losses, query_layer_call_fn while saving (showing 5 of 130). These functions will not be directly callable after loading.\n",
            "WARNING:absl:Found untraced functions such as dense_2_layer_call_fn, dense_2_layer_call_and_return_conditional_losses, embedding_2_layer_call_fn, embedding_2_layer_call_and_return_conditional_losses, query_layer_call_fn while saving (showing 5 of 130). These functions will not be directly callable after loading.\n"
          ],
          "name": "stderr"
        },
        {
          "output_type": "stream",
          "text": [
            "INFO:tensorflow:Assets written to: /content/drive/MyDrive/02_Work/05_Experiments/TF-Transformer/Cifar10_VIT/210318_VIT_4x4_1hd_64proj/assets\n"
          ],
          "name": "stdout"
        },
        {
          "output_type": "stream",
          "text": [
            "INFO:tensorflow:Assets written to: /content/drive/MyDrive/02_Work/05_Experiments/TF-Transformer/Cifar10_VIT/210318_VIT_4x4_1hd_64proj/assets\n"
          ],
          "name": "stderr"
        },
        {
          "output_type": "stream",
          "text": [
            "Epoch 12/50\n",
            "196/196 [==============================] - 8s 40ms/step - loss: 1.1527 - sparse_categorical_accuracy: 0.5917 - val_loss: 1.0550 - val_sparse_categorical_accuracy: 0.6253\n"
          ],
          "name": "stdout"
        },
        {
          "output_type": "stream",
          "text": [
            "WARNING:absl:Found untraced functions such as dense_2_layer_call_fn, dense_2_layer_call_and_return_conditional_losses, embedding_2_layer_call_fn, embedding_2_layer_call_and_return_conditional_losses, query_layer_call_fn while saving (showing 5 of 130). These functions will not be directly callable after loading.\n",
            "WARNING:absl:Found untraced functions such as dense_2_layer_call_fn, dense_2_layer_call_and_return_conditional_losses, embedding_2_layer_call_fn, embedding_2_layer_call_and_return_conditional_losses, query_layer_call_fn while saving (showing 5 of 130). These functions will not be directly callable after loading.\n"
          ],
          "name": "stderr"
        },
        {
          "output_type": "stream",
          "text": [
            "INFO:tensorflow:Assets written to: /content/drive/MyDrive/02_Work/05_Experiments/TF-Transformer/Cifar10_VIT/210318_VIT_4x4_1hd_64proj/assets\n"
          ],
          "name": "stdout"
        },
        {
          "output_type": "stream",
          "text": [
            "INFO:tensorflow:Assets written to: /content/drive/MyDrive/02_Work/05_Experiments/TF-Transformer/Cifar10_VIT/210318_VIT_4x4_1hd_64proj/assets\n"
          ],
          "name": "stderr"
        },
        {
          "output_type": "stream",
          "text": [
            "Epoch 13/50\n",
            "196/196 [==============================] - 8s 40ms/step - loss: 1.1160 - sparse_categorical_accuracy: 0.6056 - val_loss: 1.0084 - val_sparse_categorical_accuracy: 0.6403\n"
          ],
          "name": "stdout"
        },
        {
          "output_type": "stream",
          "text": [
            "WARNING:absl:Found untraced functions such as dense_2_layer_call_fn, dense_2_layer_call_and_return_conditional_losses, embedding_2_layer_call_fn, embedding_2_layer_call_and_return_conditional_losses, query_layer_call_fn while saving (showing 5 of 130). These functions will not be directly callable after loading.\n",
            "WARNING:absl:Found untraced functions such as dense_2_layer_call_fn, dense_2_layer_call_and_return_conditional_losses, embedding_2_layer_call_fn, embedding_2_layer_call_and_return_conditional_losses, query_layer_call_fn while saving (showing 5 of 130). These functions will not be directly callable after loading.\n"
          ],
          "name": "stderr"
        },
        {
          "output_type": "stream",
          "text": [
            "INFO:tensorflow:Assets written to: /content/drive/MyDrive/02_Work/05_Experiments/TF-Transformer/Cifar10_VIT/210318_VIT_4x4_1hd_64proj/assets\n"
          ],
          "name": "stdout"
        },
        {
          "output_type": "stream",
          "text": [
            "INFO:tensorflow:Assets written to: /content/drive/MyDrive/02_Work/05_Experiments/TF-Transformer/Cifar10_VIT/210318_VIT_4x4_1hd_64proj/assets\n"
          ],
          "name": "stderr"
        },
        {
          "output_type": "stream",
          "text": [
            "Epoch 14/50\n",
            "196/196 [==============================] - 8s 40ms/step - loss: 1.0776 - sparse_categorical_accuracy: 0.6186 - val_loss: 0.9819 - val_sparse_categorical_accuracy: 0.6523\n"
          ],
          "name": "stdout"
        },
        {
          "output_type": "stream",
          "text": [
            "WARNING:absl:Found untraced functions such as dense_2_layer_call_fn, dense_2_layer_call_and_return_conditional_losses, embedding_2_layer_call_fn, embedding_2_layer_call_and_return_conditional_losses, query_layer_call_fn while saving (showing 5 of 130). These functions will not be directly callable after loading.\n",
            "WARNING:absl:Found untraced functions such as dense_2_layer_call_fn, dense_2_layer_call_and_return_conditional_losses, embedding_2_layer_call_fn, embedding_2_layer_call_and_return_conditional_losses, query_layer_call_fn while saving (showing 5 of 130). These functions will not be directly callable after loading.\n"
          ],
          "name": "stderr"
        },
        {
          "output_type": "stream",
          "text": [
            "INFO:tensorflow:Assets written to: /content/drive/MyDrive/02_Work/05_Experiments/TF-Transformer/Cifar10_VIT/210318_VIT_4x4_1hd_64proj/assets\n"
          ],
          "name": "stdout"
        },
        {
          "output_type": "stream",
          "text": [
            "INFO:tensorflow:Assets written to: /content/drive/MyDrive/02_Work/05_Experiments/TF-Transformer/Cifar10_VIT/210318_VIT_4x4_1hd_64proj/assets\n"
          ],
          "name": "stderr"
        },
        {
          "output_type": "stream",
          "text": [
            "Epoch 15/50\n",
            "196/196 [==============================] - 8s 40ms/step - loss: 1.0627 - sparse_categorical_accuracy: 0.6274 - val_loss: 0.9642 - val_sparse_categorical_accuracy: 0.6575\n"
          ],
          "name": "stdout"
        },
        {
          "output_type": "stream",
          "text": [
            "WARNING:absl:Found untraced functions such as dense_2_layer_call_fn, dense_2_layer_call_and_return_conditional_losses, embedding_2_layer_call_fn, embedding_2_layer_call_and_return_conditional_losses, query_layer_call_fn while saving (showing 5 of 130). These functions will not be directly callable after loading.\n",
            "WARNING:absl:Found untraced functions such as dense_2_layer_call_fn, dense_2_layer_call_and_return_conditional_losses, embedding_2_layer_call_fn, embedding_2_layer_call_and_return_conditional_losses, query_layer_call_fn while saving (showing 5 of 130). These functions will not be directly callable after loading.\n"
          ],
          "name": "stderr"
        },
        {
          "output_type": "stream",
          "text": [
            "INFO:tensorflow:Assets written to: /content/drive/MyDrive/02_Work/05_Experiments/TF-Transformer/Cifar10_VIT/210318_VIT_4x4_1hd_64proj/assets\n"
          ],
          "name": "stdout"
        },
        {
          "output_type": "stream",
          "text": [
            "INFO:tensorflow:Assets written to: /content/drive/MyDrive/02_Work/05_Experiments/TF-Transformer/Cifar10_VIT/210318_VIT_4x4_1hd_64proj/assets\n"
          ],
          "name": "stderr"
        },
        {
          "output_type": "stream",
          "text": [
            "Epoch 16/50\n",
            "196/196 [==============================] - 8s 40ms/step - loss: 1.0168 - sparse_categorical_accuracy: 0.6384 - val_loss: 0.9451 - val_sparse_categorical_accuracy: 0.6685\n"
          ],
          "name": "stdout"
        },
        {
          "output_type": "stream",
          "text": [
            "WARNING:absl:Found untraced functions such as dense_2_layer_call_fn, dense_2_layer_call_and_return_conditional_losses, embedding_2_layer_call_fn, embedding_2_layer_call_and_return_conditional_losses, query_layer_call_fn while saving (showing 5 of 130). These functions will not be directly callable after loading.\n",
            "WARNING:absl:Found untraced functions such as dense_2_layer_call_fn, dense_2_layer_call_and_return_conditional_losses, embedding_2_layer_call_fn, embedding_2_layer_call_and_return_conditional_losses, query_layer_call_fn while saving (showing 5 of 130). These functions will not be directly callable after loading.\n"
          ],
          "name": "stderr"
        },
        {
          "output_type": "stream",
          "text": [
            "INFO:tensorflow:Assets written to: /content/drive/MyDrive/02_Work/05_Experiments/TF-Transformer/Cifar10_VIT/210318_VIT_4x4_1hd_64proj/assets\n"
          ],
          "name": "stdout"
        },
        {
          "output_type": "stream",
          "text": [
            "INFO:tensorflow:Assets written to: /content/drive/MyDrive/02_Work/05_Experiments/TF-Transformer/Cifar10_VIT/210318_VIT_4x4_1hd_64proj/assets\n"
          ],
          "name": "stderr"
        },
        {
          "output_type": "stream",
          "text": [
            "Epoch 17/50\n",
            "196/196 [==============================] - 8s 41ms/step - loss: 0.9985 - sparse_categorical_accuracy: 0.6462 - val_loss: 0.9327 - val_sparse_categorical_accuracy: 0.6674\n",
            "Epoch 18/50\n",
            "196/196 [==============================] - 8s 40ms/step - loss: 0.9582 - sparse_categorical_accuracy: 0.6601 - val_loss: 0.9284 - val_sparse_categorical_accuracy: 0.6779\n"
          ],
          "name": "stdout"
        },
        {
          "output_type": "stream",
          "text": [
            "WARNING:absl:Found untraced functions such as dense_2_layer_call_fn, dense_2_layer_call_and_return_conditional_losses, embedding_2_layer_call_fn, embedding_2_layer_call_and_return_conditional_losses, query_layer_call_fn while saving (showing 5 of 130). These functions will not be directly callable after loading.\n",
            "WARNING:absl:Found untraced functions such as dense_2_layer_call_fn, dense_2_layer_call_and_return_conditional_losses, embedding_2_layer_call_fn, embedding_2_layer_call_and_return_conditional_losses, query_layer_call_fn while saving (showing 5 of 130). These functions will not be directly callable after loading.\n"
          ],
          "name": "stderr"
        },
        {
          "output_type": "stream",
          "text": [
            "INFO:tensorflow:Assets written to: /content/drive/MyDrive/02_Work/05_Experiments/TF-Transformer/Cifar10_VIT/210318_VIT_4x4_1hd_64proj/assets\n"
          ],
          "name": "stdout"
        },
        {
          "output_type": "stream",
          "text": [
            "INFO:tensorflow:Assets written to: /content/drive/MyDrive/02_Work/05_Experiments/TF-Transformer/Cifar10_VIT/210318_VIT_4x4_1hd_64proj/assets\n"
          ],
          "name": "stderr"
        },
        {
          "output_type": "stream",
          "text": [
            "Epoch 19/50\n",
            "196/196 [==============================] - 8s 41ms/step - loss: 0.9362 - sparse_categorical_accuracy: 0.6697 - val_loss: 0.9173 - val_sparse_categorical_accuracy: 0.6755\n",
            "Epoch 20/50\n",
            "196/196 [==============================] - 8s 40ms/step - loss: 0.9097 - sparse_categorical_accuracy: 0.6782 - val_loss: 0.9046 - val_sparse_categorical_accuracy: 0.6802\n"
          ],
          "name": "stdout"
        },
        {
          "output_type": "stream",
          "text": [
            "WARNING:absl:Found untraced functions such as dense_2_layer_call_fn, dense_2_layer_call_and_return_conditional_losses, embedding_2_layer_call_fn, embedding_2_layer_call_and_return_conditional_losses, query_layer_call_fn while saving (showing 5 of 130). These functions will not be directly callable after loading.\n",
            "WARNING:absl:Found untraced functions such as dense_2_layer_call_fn, dense_2_layer_call_and_return_conditional_losses, embedding_2_layer_call_fn, embedding_2_layer_call_and_return_conditional_losses, query_layer_call_fn while saving (showing 5 of 130). These functions will not be directly callable after loading.\n"
          ],
          "name": "stderr"
        },
        {
          "output_type": "stream",
          "text": [
            "INFO:tensorflow:Assets written to: /content/drive/MyDrive/02_Work/05_Experiments/TF-Transformer/Cifar10_VIT/210318_VIT_4x4_1hd_64proj/assets\n"
          ],
          "name": "stdout"
        },
        {
          "output_type": "stream",
          "text": [
            "INFO:tensorflow:Assets written to: /content/drive/MyDrive/02_Work/05_Experiments/TF-Transformer/Cifar10_VIT/210318_VIT_4x4_1hd_64proj/assets\n"
          ],
          "name": "stderr"
        },
        {
          "output_type": "stream",
          "text": [
            "Epoch 21/50\n",
            "196/196 [==============================] - 8s 40ms/step - loss: 0.8946 - sparse_categorical_accuracy: 0.6861 - val_loss: 0.8767 - val_sparse_categorical_accuracy: 0.6928\n"
          ],
          "name": "stdout"
        },
        {
          "output_type": "stream",
          "text": [
            "WARNING:absl:Found untraced functions such as dense_2_layer_call_fn, dense_2_layer_call_and_return_conditional_losses, embedding_2_layer_call_fn, embedding_2_layer_call_and_return_conditional_losses, query_layer_call_fn while saving (showing 5 of 130). These functions will not be directly callable after loading.\n",
            "WARNING:absl:Found untraced functions such as dense_2_layer_call_fn, dense_2_layer_call_and_return_conditional_losses, embedding_2_layer_call_fn, embedding_2_layer_call_and_return_conditional_losses, query_layer_call_fn while saving (showing 5 of 130). These functions will not be directly callable after loading.\n"
          ],
          "name": "stderr"
        },
        {
          "output_type": "stream",
          "text": [
            "INFO:tensorflow:Assets written to: /content/drive/MyDrive/02_Work/05_Experiments/TF-Transformer/Cifar10_VIT/210318_VIT_4x4_1hd_64proj/assets\n"
          ],
          "name": "stdout"
        },
        {
          "output_type": "stream",
          "text": [
            "INFO:tensorflow:Assets written to: /content/drive/MyDrive/02_Work/05_Experiments/TF-Transformer/Cifar10_VIT/210318_VIT_4x4_1hd_64proj/assets\n"
          ],
          "name": "stderr"
        },
        {
          "output_type": "stream",
          "text": [
            "Epoch 22/50\n",
            "196/196 [==============================] - 8s 41ms/step - loss: 0.8680 - sparse_categorical_accuracy: 0.6970 - val_loss: 0.8620 - val_sparse_categorical_accuracy: 0.6998\n"
          ],
          "name": "stdout"
        },
        {
          "output_type": "stream",
          "text": [
            "WARNING:absl:Found untraced functions such as dense_2_layer_call_fn, dense_2_layer_call_and_return_conditional_losses, embedding_2_layer_call_fn, embedding_2_layer_call_and_return_conditional_losses, query_layer_call_fn while saving (showing 5 of 130). These functions will not be directly callable after loading.\n",
            "WARNING:absl:Found untraced functions such as dense_2_layer_call_fn, dense_2_layer_call_and_return_conditional_losses, embedding_2_layer_call_fn, embedding_2_layer_call_and_return_conditional_losses, query_layer_call_fn while saving (showing 5 of 130). These functions will not be directly callable after loading.\n"
          ],
          "name": "stderr"
        },
        {
          "output_type": "stream",
          "text": [
            "INFO:tensorflow:Assets written to: /content/drive/MyDrive/02_Work/05_Experiments/TF-Transformer/Cifar10_VIT/210318_VIT_4x4_1hd_64proj/assets\n"
          ],
          "name": "stdout"
        },
        {
          "output_type": "stream",
          "text": [
            "INFO:tensorflow:Assets written to: /content/drive/MyDrive/02_Work/05_Experiments/TF-Transformer/Cifar10_VIT/210318_VIT_4x4_1hd_64proj/assets\n"
          ],
          "name": "stderr"
        },
        {
          "output_type": "stream",
          "text": [
            "Epoch 23/50\n",
            "196/196 [==============================] - 8s 40ms/step - loss: 0.8411 - sparse_categorical_accuracy: 0.7018 - val_loss: 0.8596 - val_sparse_categorical_accuracy: 0.6986\n",
            "Epoch 24/50\n",
            "196/196 [==============================] - 8s 40ms/step - loss: 0.8211 - sparse_categorical_accuracy: 0.7089 - val_loss: 0.8407 - val_sparse_categorical_accuracy: 0.7056\n"
          ],
          "name": "stdout"
        },
        {
          "output_type": "stream",
          "text": [
            "WARNING:absl:Found untraced functions such as dense_2_layer_call_fn, dense_2_layer_call_and_return_conditional_losses, embedding_2_layer_call_fn, embedding_2_layer_call_and_return_conditional_losses, query_layer_call_fn while saving (showing 5 of 130). These functions will not be directly callable after loading.\n",
            "WARNING:absl:Found untraced functions such as dense_2_layer_call_fn, dense_2_layer_call_and_return_conditional_losses, embedding_2_layer_call_fn, embedding_2_layer_call_and_return_conditional_losses, query_layer_call_fn while saving (showing 5 of 130). These functions will not be directly callable after loading.\n"
          ],
          "name": "stderr"
        },
        {
          "output_type": "stream",
          "text": [
            "INFO:tensorflow:Assets written to: /content/drive/MyDrive/02_Work/05_Experiments/TF-Transformer/Cifar10_VIT/210318_VIT_4x4_1hd_64proj/assets\n"
          ],
          "name": "stdout"
        },
        {
          "output_type": "stream",
          "text": [
            "INFO:tensorflow:Assets written to: /content/drive/MyDrive/02_Work/05_Experiments/TF-Transformer/Cifar10_VIT/210318_VIT_4x4_1hd_64proj/assets\n"
          ],
          "name": "stderr"
        },
        {
          "output_type": "stream",
          "text": [
            "Epoch 25/50\n",
            "196/196 [==============================] - 8s 40ms/step - loss: 0.8040 - sparse_categorical_accuracy: 0.7181 - val_loss: 0.8469 - val_sparse_categorical_accuracy: 0.7012\n",
            "Epoch 26/50\n",
            "196/196 [==============================] - 8s 40ms/step - loss: 0.7881 - sparse_categorical_accuracy: 0.7225 - val_loss: 0.8511 - val_sparse_categorical_accuracy: 0.7013\n",
            "Epoch 27/50\n",
            "196/196 [==============================] - 8s 40ms/step - loss: 0.7648 - sparse_categorical_accuracy: 0.7284 - val_loss: 0.8177 - val_sparse_categorical_accuracy: 0.7163\n"
          ],
          "name": "stdout"
        },
        {
          "output_type": "stream",
          "text": [
            "WARNING:absl:Found untraced functions such as dense_2_layer_call_fn, dense_2_layer_call_and_return_conditional_losses, embedding_2_layer_call_fn, embedding_2_layer_call_and_return_conditional_losses, query_layer_call_fn while saving (showing 5 of 130). These functions will not be directly callable after loading.\n",
            "WARNING:absl:Found untraced functions such as dense_2_layer_call_fn, dense_2_layer_call_and_return_conditional_losses, embedding_2_layer_call_fn, embedding_2_layer_call_and_return_conditional_losses, query_layer_call_fn while saving (showing 5 of 130). These functions will not be directly callable after loading.\n"
          ],
          "name": "stderr"
        },
        {
          "output_type": "stream",
          "text": [
            "INFO:tensorflow:Assets written to: /content/drive/MyDrive/02_Work/05_Experiments/TF-Transformer/Cifar10_VIT/210318_VIT_4x4_1hd_64proj/assets\n"
          ],
          "name": "stdout"
        },
        {
          "output_type": "stream",
          "text": [
            "INFO:tensorflow:Assets written to: /content/drive/MyDrive/02_Work/05_Experiments/TF-Transformer/Cifar10_VIT/210318_VIT_4x4_1hd_64proj/assets\n"
          ],
          "name": "stderr"
        },
        {
          "output_type": "stream",
          "text": [
            "Epoch 28/50\n",
            "196/196 [==============================] - 8s 40ms/step - loss: 0.7504 - sparse_categorical_accuracy: 0.7352 - val_loss: 0.8652 - val_sparse_categorical_accuracy: 0.6976\n",
            "Epoch 29/50\n",
            "196/196 [==============================] - 8s 41ms/step - loss: 0.7410 - sparse_categorical_accuracy: 0.7375 - val_loss: 0.8432 - val_sparse_categorical_accuracy: 0.7094\n",
            "Epoch 30/50\n",
            "196/196 [==============================] - 8s 40ms/step - loss: 0.7215 - sparse_categorical_accuracy: 0.7444 - val_loss: 0.8107 - val_sparse_categorical_accuracy: 0.7188\n"
          ],
          "name": "stdout"
        },
        {
          "output_type": "stream",
          "text": [
            "WARNING:absl:Found untraced functions such as dense_2_layer_call_fn, dense_2_layer_call_and_return_conditional_losses, embedding_2_layer_call_fn, embedding_2_layer_call_and_return_conditional_losses, query_layer_call_fn while saving (showing 5 of 130). These functions will not be directly callable after loading.\n",
            "WARNING:absl:Found untraced functions such as dense_2_layer_call_fn, dense_2_layer_call_and_return_conditional_losses, embedding_2_layer_call_fn, embedding_2_layer_call_and_return_conditional_losses, query_layer_call_fn while saving (showing 5 of 130). These functions will not be directly callable after loading.\n"
          ],
          "name": "stderr"
        },
        {
          "output_type": "stream",
          "text": [
            "INFO:tensorflow:Assets written to: /content/drive/MyDrive/02_Work/05_Experiments/TF-Transformer/Cifar10_VIT/210318_VIT_4x4_1hd_64proj/assets\n"
          ],
          "name": "stdout"
        },
        {
          "output_type": "stream",
          "text": [
            "INFO:tensorflow:Assets written to: /content/drive/MyDrive/02_Work/05_Experiments/TF-Transformer/Cifar10_VIT/210318_VIT_4x4_1hd_64proj/assets\n"
          ],
          "name": "stderr"
        },
        {
          "output_type": "stream",
          "text": [
            "Epoch 31/50\n",
            "196/196 [==============================] - 8s 41ms/step - loss: 0.6920 - sparse_categorical_accuracy: 0.7571 - val_loss: 0.7929 - val_sparse_categorical_accuracy: 0.7228\n"
          ],
          "name": "stdout"
        },
        {
          "output_type": "stream",
          "text": [
            "WARNING:absl:Found untraced functions such as dense_2_layer_call_fn, dense_2_layer_call_and_return_conditional_losses, embedding_2_layer_call_fn, embedding_2_layer_call_and_return_conditional_losses, query_layer_call_fn while saving (showing 5 of 130). These functions will not be directly callable after loading.\n",
            "WARNING:absl:Found untraced functions such as dense_2_layer_call_fn, dense_2_layer_call_and_return_conditional_losses, embedding_2_layer_call_fn, embedding_2_layer_call_and_return_conditional_losses, query_layer_call_fn while saving (showing 5 of 130). These functions will not be directly callable after loading.\n"
          ],
          "name": "stderr"
        },
        {
          "output_type": "stream",
          "text": [
            "INFO:tensorflow:Assets written to: /content/drive/MyDrive/02_Work/05_Experiments/TF-Transformer/Cifar10_VIT/210318_VIT_4x4_1hd_64proj/assets\n"
          ],
          "name": "stdout"
        },
        {
          "output_type": "stream",
          "text": [
            "INFO:tensorflow:Assets written to: /content/drive/MyDrive/02_Work/05_Experiments/TF-Transformer/Cifar10_VIT/210318_VIT_4x4_1hd_64proj/assets\n"
          ],
          "name": "stderr"
        },
        {
          "output_type": "stream",
          "text": [
            "Epoch 32/50\n",
            "196/196 [==============================] - 8s 41ms/step - loss: 0.6960 - sparse_categorical_accuracy: 0.7536 - val_loss: 0.8075 - val_sparse_categorical_accuracy: 0.7173\n",
            "Epoch 33/50\n",
            "196/196 [==============================] - 8s 41ms/step - loss: 0.6710 - sparse_categorical_accuracy: 0.7635 - val_loss: 0.8126 - val_sparse_categorical_accuracy: 0.7226\n",
            "Epoch 34/50\n",
            "196/196 [==============================] - 8s 40ms/step - loss: 0.6691 - sparse_categorical_accuracy: 0.7631 - val_loss: 0.7952 - val_sparse_categorical_accuracy: 0.7246\n"
          ],
          "name": "stdout"
        },
        {
          "output_type": "stream",
          "text": [
            "WARNING:absl:Found untraced functions such as dense_2_layer_call_fn, dense_2_layer_call_and_return_conditional_losses, embedding_2_layer_call_fn, embedding_2_layer_call_and_return_conditional_losses, query_layer_call_fn while saving (showing 5 of 130). These functions will not be directly callable after loading.\n",
            "WARNING:absl:Found untraced functions such as dense_2_layer_call_fn, dense_2_layer_call_and_return_conditional_losses, embedding_2_layer_call_fn, embedding_2_layer_call_and_return_conditional_losses, query_layer_call_fn while saving (showing 5 of 130). These functions will not be directly callable after loading.\n"
          ],
          "name": "stderr"
        },
        {
          "output_type": "stream",
          "text": [
            "INFO:tensorflow:Assets written to: /content/drive/MyDrive/02_Work/05_Experiments/TF-Transformer/Cifar10_VIT/210318_VIT_4x4_1hd_64proj/assets\n"
          ],
          "name": "stdout"
        },
        {
          "output_type": "stream",
          "text": [
            "INFO:tensorflow:Assets written to: /content/drive/MyDrive/02_Work/05_Experiments/TF-Transformer/Cifar10_VIT/210318_VIT_4x4_1hd_64proj/assets\n"
          ],
          "name": "stderr"
        },
        {
          "output_type": "stream",
          "text": [
            "Epoch 35/50\n",
            "196/196 [==============================] - 8s 41ms/step - loss: 0.6445 - sparse_categorical_accuracy: 0.7733 - val_loss: 0.7977 - val_sparse_categorical_accuracy: 0.7226\n",
            "Epoch 36/50\n",
            "196/196 [==============================] - 8s 40ms/step - loss: 0.6387 - sparse_categorical_accuracy: 0.7722 - val_loss: 0.7821 - val_sparse_categorical_accuracy: 0.7260\n"
          ],
          "name": "stdout"
        },
        {
          "output_type": "stream",
          "text": [
            "WARNING:absl:Found untraced functions such as dense_2_layer_call_fn, dense_2_layer_call_and_return_conditional_losses, embedding_2_layer_call_fn, embedding_2_layer_call_and_return_conditional_losses, query_layer_call_fn while saving (showing 5 of 130). These functions will not be directly callable after loading.\n",
            "WARNING:absl:Found untraced functions such as dense_2_layer_call_fn, dense_2_layer_call_and_return_conditional_losses, embedding_2_layer_call_fn, embedding_2_layer_call_and_return_conditional_losses, query_layer_call_fn while saving (showing 5 of 130). These functions will not be directly callable after loading.\n"
          ],
          "name": "stderr"
        },
        {
          "output_type": "stream",
          "text": [
            "INFO:tensorflow:Assets written to: /content/drive/MyDrive/02_Work/05_Experiments/TF-Transformer/Cifar10_VIT/210318_VIT_4x4_1hd_64proj/assets\n"
          ],
          "name": "stdout"
        },
        {
          "output_type": "stream",
          "text": [
            "INFO:tensorflow:Assets written to: /content/drive/MyDrive/02_Work/05_Experiments/TF-Transformer/Cifar10_VIT/210318_VIT_4x4_1hd_64proj/assets\n"
          ],
          "name": "stderr"
        },
        {
          "output_type": "stream",
          "text": [
            "Epoch 37/50\n",
            "196/196 [==============================] - 8s 41ms/step - loss: 0.6106 - sparse_categorical_accuracy: 0.7860 - val_loss: 0.7737 - val_sparse_categorical_accuracy: 0.7293\n"
          ],
          "name": "stdout"
        },
        {
          "output_type": "stream",
          "text": [
            "WARNING:absl:Found untraced functions such as dense_2_layer_call_fn, dense_2_layer_call_and_return_conditional_losses, embedding_2_layer_call_fn, embedding_2_layer_call_and_return_conditional_losses, query_layer_call_fn while saving (showing 5 of 130). These functions will not be directly callable after loading.\n",
            "WARNING:absl:Found untraced functions such as dense_2_layer_call_fn, dense_2_layer_call_and_return_conditional_losses, embedding_2_layer_call_fn, embedding_2_layer_call_and_return_conditional_losses, query_layer_call_fn while saving (showing 5 of 130). These functions will not be directly callable after loading.\n"
          ],
          "name": "stderr"
        },
        {
          "output_type": "stream",
          "text": [
            "INFO:tensorflow:Assets written to: /content/drive/MyDrive/02_Work/05_Experiments/TF-Transformer/Cifar10_VIT/210318_VIT_4x4_1hd_64proj/assets\n"
          ],
          "name": "stdout"
        },
        {
          "output_type": "stream",
          "text": [
            "INFO:tensorflow:Assets written to: /content/drive/MyDrive/02_Work/05_Experiments/TF-Transformer/Cifar10_VIT/210318_VIT_4x4_1hd_64proj/assets\n"
          ],
          "name": "stderr"
        },
        {
          "output_type": "stream",
          "text": [
            "Epoch 38/50\n",
            "196/196 [==============================] - 8s 41ms/step - loss: 0.6084 - sparse_categorical_accuracy: 0.7864 - val_loss: 0.8081 - val_sparse_categorical_accuracy: 0.7267\n",
            "Epoch 39/50\n",
            "196/196 [==============================] - 8s 40ms/step - loss: 0.5940 - sparse_categorical_accuracy: 0.7899 - val_loss: 0.7863 - val_sparse_categorical_accuracy: 0.7276\n",
            "Epoch 40/50\n",
            "196/196 [==============================] - 8s 41ms/step - loss: 0.5887 - sparse_categorical_accuracy: 0.7937 - val_loss: 0.7942 - val_sparse_categorical_accuracy: 0.7296\n"
          ],
          "name": "stdout"
        },
        {
          "output_type": "stream",
          "text": [
            "WARNING:absl:Found untraced functions such as dense_2_layer_call_fn, dense_2_layer_call_and_return_conditional_losses, embedding_2_layer_call_fn, embedding_2_layer_call_and_return_conditional_losses, query_layer_call_fn while saving (showing 5 of 130). These functions will not be directly callable after loading.\n",
            "WARNING:absl:Found untraced functions such as dense_2_layer_call_fn, dense_2_layer_call_and_return_conditional_losses, embedding_2_layer_call_fn, embedding_2_layer_call_and_return_conditional_losses, query_layer_call_fn while saving (showing 5 of 130). These functions will not be directly callable after loading.\n"
          ],
          "name": "stderr"
        },
        {
          "output_type": "stream",
          "text": [
            "INFO:tensorflow:Assets written to: /content/drive/MyDrive/02_Work/05_Experiments/TF-Transformer/Cifar10_VIT/210318_VIT_4x4_1hd_64proj/assets\n"
          ],
          "name": "stdout"
        },
        {
          "output_type": "stream",
          "text": [
            "INFO:tensorflow:Assets written to: /content/drive/MyDrive/02_Work/05_Experiments/TF-Transformer/Cifar10_VIT/210318_VIT_4x4_1hd_64proj/assets\n"
          ],
          "name": "stderr"
        },
        {
          "output_type": "stream",
          "text": [
            "Epoch 41/50\n",
            "196/196 [==============================] - 8s 41ms/step - loss: 0.5775 - sparse_categorical_accuracy: 0.7954 - val_loss: 0.7972 - val_sparse_categorical_accuracy: 0.7273\n",
            "Epoch 42/50\n",
            "196/196 [==============================] - 8s 40ms/step - loss: 0.5659 - sparse_categorical_accuracy: 0.7998 - val_loss: 0.7700 - val_sparse_categorical_accuracy: 0.7349\n"
          ],
          "name": "stdout"
        },
        {
          "output_type": "stream",
          "text": [
            "WARNING:absl:Found untraced functions such as dense_2_layer_call_fn, dense_2_layer_call_and_return_conditional_losses, embedding_2_layer_call_fn, embedding_2_layer_call_and_return_conditional_losses, query_layer_call_fn while saving (showing 5 of 130). These functions will not be directly callable after loading.\n",
            "WARNING:absl:Found untraced functions such as dense_2_layer_call_fn, dense_2_layer_call_and_return_conditional_losses, embedding_2_layer_call_fn, embedding_2_layer_call_and_return_conditional_losses, query_layer_call_fn while saving (showing 5 of 130). These functions will not be directly callable after loading.\n"
          ],
          "name": "stderr"
        },
        {
          "output_type": "stream",
          "text": [
            "INFO:tensorflow:Assets written to: /content/drive/MyDrive/02_Work/05_Experiments/TF-Transformer/Cifar10_VIT/210318_VIT_4x4_1hd_64proj/assets\n"
          ],
          "name": "stdout"
        },
        {
          "output_type": "stream",
          "text": [
            "INFO:tensorflow:Assets written to: /content/drive/MyDrive/02_Work/05_Experiments/TF-Transformer/Cifar10_VIT/210318_VIT_4x4_1hd_64proj/assets\n"
          ],
          "name": "stderr"
        },
        {
          "output_type": "stream",
          "text": [
            "Epoch 43/50\n",
            "196/196 [==============================] - 8s 41ms/step - loss: 0.5593 - sparse_categorical_accuracy: 0.8006 - val_loss: 0.7629 - val_sparse_categorical_accuracy: 0.7384\n"
          ],
          "name": "stdout"
        },
        {
          "output_type": "stream",
          "text": [
            "WARNING:absl:Found untraced functions such as dense_2_layer_call_fn, dense_2_layer_call_and_return_conditional_losses, embedding_2_layer_call_fn, embedding_2_layer_call_and_return_conditional_losses, query_layer_call_fn while saving (showing 5 of 130). These functions will not be directly callable after loading.\n",
            "WARNING:absl:Found untraced functions such as dense_2_layer_call_fn, dense_2_layer_call_and_return_conditional_losses, embedding_2_layer_call_fn, embedding_2_layer_call_and_return_conditional_losses, query_layer_call_fn while saving (showing 5 of 130). These functions will not be directly callable after loading.\n"
          ],
          "name": "stderr"
        },
        {
          "output_type": "stream",
          "text": [
            "INFO:tensorflow:Assets written to: /content/drive/MyDrive/02_Work/05_Experiments/TF-Transformer/Cifar10_VIT/210318_VIT_4x4_1hd_64proj/assets\n"
          ],
          "name": "stdout"
        },
        {
          "output_type": "stream",
          "text": [
            "INFO:tensorflow:Assets written to: /content/drive/MyDrive/02_Work/05_Experiments/TF-Transformer/Cifar10_VIT/210318_VIT_4x4_1hd_64proj/assets\n"
          ],
          "name": "stderr"
        },
        {
          "output_type": "stream",
          "text": [
            "Epoch 44/50\n",
            "196/196 [==============================] - 8s 40ms/step - loss: 0.5440 - sparse_categorical_accuracy: 0.8100 - val_loss: 0.7715 - val_sparse_categorical_accuracy: 0.7328\n",
            "Epoch 45/50\n",
            "196/196 [==============================] - 8s 41ms/step - loss: 0.5372 - sparse_categorical_accuracy: 0.8110 - val_loss: 0.7773 - val_sparse_categorical_accuracy: 0.7405\n"
          ],
          "name": "stdout"
        },
        {
          "output_type": "stream",
          "text": [
            "WARNING:absl:Found untraced functions such as dense_2_layer_call_fn, dense_2_layer_call_and_return_conditional_losses, embedding_2_layer_call_fn, embedding_2_layer_call_and_return_conditional_losses, query_layer_call_fn while saving (showing 5 of 130). These functions will not be directly callable after loading.\n",
            "WARNING:absl:Found untraced functions such as dense_2_layer_call_fn, dense_2_layer_call_and_return_conditional_losses, embedding_2_layer_call_fn, embedding_2_layer_call_and_return_conditional_losses, query_layer_call_fn while saving (showing 5 of 130). These functions will not be directly callable after loading.\n"
          ],
          "name": "stderr"
        },
        {
          "output_type": "stream",
          "text": [
            "INFO:tensorflow:Assets written to: /content/drive/MyDrive/02_Work/05_Experiments/TF-Transformer/Cifar10_VIT/210318_VIT_4x4_1hd_64proj/assets\n"
          ],
          "name": "stdout"
        },
        {
          "output_type": "stream",
          "text": [
            "INFO:tensorflow:Assets written to: /content/drive/MyDrive/02_Work/05_Experiments/TF-Transformer/Cifar10_VIT/210318_VIT_4x4_1hd_64proj/assets\n"
          ],
          "name": "stderr"
        },
        {
          "output_type": "stream",
          "text": [
            "Epoch 46/50\n",
            "196/196 [==============================] - 8s 41ms/step - loss: 0.5341 - sparse_categorical_accuracy: 0.8143 - val_loss: 0.7663 - val_sparse_categorical_accuracy: 0.7431\n"
          ],
          "name": "stdout"
        },
        {
          "output_type": "stream",
          "text": [
            "WARNING:absl:Found untraced functions such as dense_2_layer_call_fn, dense_2_layer_call_and_return_conditional_losses, embedding_2_layer_call_fn, embedding_2_layer_call_and_return_conditional_losses, query_layer_call_fn while saving (showing 5 of 130). These functions will not be directly callable after loading.\n",
            "WARNING:absl:Found untraced functions such as dense_2_layer_call_fn, dense_2_layer_call_and_return_conditional_losses, embedding_2_layer_call_fn, embedding_2_layer_call_and_return_conditional_losses, query_layer_call_fn while saving (showing 5 of 130). These functions will not be directly callable after loading.\n"
          ],
          "name": "stderr"
        },
        {
          "output_type": "stream",
          "text": [
            "INFO:tensorflow:Assets written to: /content/drive/MyDrive/02_Work/05_Experiments/TF-Transformer/Cifar10_VIT/210318_VIT_4x4_1hd_64proj/assets\n"
          ],
          "name": "stdout"
        },
        {
          "output_type": "stream",
          "text": [
            "INFO:tensorflow:Assets written to: /content/drive/MyDrive/02_Work/05_Experiments/TF-Transformer/Cifar10_VIT/210318_VIT_4x4_1hd_64proj/assets\n"
          ],
          "name": "stderr"
        },
        {
          "output_type": "stream",
          "text": [
            "Epoch 47/50\n",
            "196/196 [==============================] - 8s 41ms/step - loss: 0.5077 - sparse_categorical_accuracy: 0.8193 - val_loss: 0.7726 - val_sparse_categorical_accuracy: 0.7411\n",
            "Epoch 48/50\n",
            "196/196 [==============================] - 8s 40ms/step - loss: 0.5240 - sparse_categorical_accuracy: 0.8154 - val_loss: 0.7618 - val_sparse_categorical_accuracy: 0.7425\n",
            "Epoch 49/50\n",
            "196/196 [==============================] - 8s 41ms/step - loss: 0.5094 - sparse_categorical_accuracy: 0.8180 - val_loss: 0.7707 - val_sparse_categorical_accuracy: 0.7394\n",
            "Epoch 50/50\n",
            "196/196 [==============================] - 8s 40ms/step - loss: 0.5071 - sparse_categorical_accuracy: 0.8212 - val_loss: 0.7592 - val_sparse_categorical_accuracy: 0.7451\n"
          ],
          "name": "stdout"
        },
        {
          "output_type": "stream",
          "text": [
            "WARNING:absl:Found untraced functions such as dense_2_layer_call_fn, dense_2_layer_call_and_return_conditional_losses, embedding_2_layer_call_fn, embedding_2_layer_call_and_return_conditional_losses, query_layer_call_fn while saving (showing 5 of 130). These functions will not be directly callable after loading.\n",
            "WARNING:absl:Found untraced functions such as dense_2_layer_call_fn, dense_2_layer_call_and_return_conditional_losses, embedding_2_layer_call_fn, embedding_2_layer_call_and_return_conditional_losses, query_layer_call_fn while saving (showing 5 of 130). These functions will not be directly callable after loading.\n"
          ],
          "name": "stderr"
        },
        {
          "output_type": "stream",
          "text": [
            "INFO:tensorflow:Assets written to: /content/drive/MyDrive/02_Work/05_Experiments/TF-Transformer/Cifar10_VIT/210318_VIT_4x4_1hd_64proj/assets\n"
          ],
          "name": "stdout"
        },
        {
          "output_type": "stream",
          "text": [
            "INFO:tensorflow:Assets written to: /content/drive/MyDrive/02_Work/05_Experiments/TF-Transformer/Cifar10_VIT/210318_VIT_4x4_1hd_64proj/assets\n"
          ],
          "name": "stderr"
        },
        {
          "output_type": "stream",
          "text": [
            "Total training time 641.4144034385681 seconds\n",
            "Model: \"model_3\"\n",
            "__________________________________________________________________________________________________\n",
            "Layer (type)                    Output Shape         Param #     Connected to                     \n",
            "==================================================================================================\n",
            "input_4 (InputLayer)            [(None, 32, 32, 3)]  0                                            \n",
            "__________________________________________________________________________________________________\n",
            "rescale (Rescaling)             (None, 32, 32, 3)    0           input_4[0][0]                    \n",
            "__________________________________________________________________________________________________\n",
            "resize (Resizing)               (None, 32, 32, 3)    0           rescale[0][0]                    \n",
            "__________________________________________________________________________________________________\n",
            "patches_4 (Patches)             (None, None, 48)     0           resize[0][0]                     \n",
            "__________________________________________________________________________________________________\n",
            "patch_encoder_3 (PatchEncoder)  (None, 64, 32)       3616        patches_4[0][0]                  \n",
            "__________________________________________________________________________________________________\n",
            "ln1_1 (LayerNormalization)      (None, 64, 32)       64          patch_encoder_3[0][0]            \n",
            "__________________________________________________________________________________________________\n",
            "mha1 (MultiHeadAttention)       (None, 64, 32)       4224        ln1_1[0][0]                      \n",
            "                                                                 ln1_1[0][0]                      \n",
            "__________________________________________________________________________________________________\n",
            "skip1_1 (Add)                   (None, 64, 32)       0           mha1[0][0]                       \n",
            "                                                                 patch_encoder_3[0][0]            \n",
            "__________________________________________________________________________________________________\n",
            "ln1_2 (LayerNormalization)      (None, 64, 32)       64          skip1_1[0][0]                    \n",
            "__________________________________________________________________________________________________\n",
            "mlp1/dens0 (Dense)              (None, 64, 32)       1056        ln1_2[0][0]                      \n",
            "__________________________________________________________________________________________________\n",
            "mlp1/drop0 (Dropout)            (None, 64, 32)       0           mlp1/dens0[0][0]                 \n",
            "__________________________________________________________________________________________________\n",
            "mlp1/dens1 (Dense)              (None, 64, 32)       1056        mlp1/drop0[0][0]                 \n",
            "__________________________________________________________________________________________________\n",
            "mlp1/drop1 (Dropout)            (None, 64, 32)       0           mlp1/dens1[0][0]                 \n",
            "__________________________________________________________________________________________________\n",
            "skip1_2 (Add)                   (None, 64, 32)       0           mlp1/drop1[0][0]                 \n",
            "                                                                 skip1_1[0][0]                    \n",
            "__________________________________________________________________________________________________\n",
            "ln2_1 (LayerNormalization)      (None, 64, 32)       64          skip1_2[0][0]                    \n",
            "__________________________________________________________________________________________________\n",
            "mha2 (MultiHeadAttention)       (None, 64, 32)       4224        ln2_1[0][0]                      \n",
            "                                                                 ln2_1[0][0]                      \n",
            "__________________________________________________________________________________________________\n",
            "skip2_1 (Add)                   (None, 64, 32)       0           mha2[0][0]                       \n",
            "                                                                 skip1_2[0][0]                    \n",
            "__________________________________________________________________________________________________\n",
            "ln2_2 (LayerNormalization)      (None, 64, 32)       64          skip2_1[0][0]                    \n",
            "__________________________________________________________________________________________________\n",
            "mlp2/dens0 (Dense)              (None, 64, 32)       1056        ln2_2[0][0]                      \n",
            "__________________________________________________________________________________________________\n",
            "mlp2/drop0 (Dropout)            (None, 64, 32)       0           mlp2/dens0[0][0]                 \n",
            "__________________________________________________________________________________________________\n",
            "mlp2/dens1 (Dense)              (None, 64, 32)       1056        mlp2/drop0[0][0]                 \n",
            "__________________________________________________________________________________________________\n",
            "mlp2/drop1 (Dropout)            (None, 64, 32)       0           mlp2/dens1[0][0]                 \n",
            "__________________________________________________________________________________________________\n",
            "skip2_2 (Add)                   (None, 64, 32)       0           mlp2/drop1[0][0]                 \n",
            "                                                                 skip2_1[0][0]                    \n",
            "__________________________________________________________________________________________________\n",
            "ln3_1 (LayerNormalization)      (None, 64, 32)       64          skip2_2[0][0]                    \n",
            "__________________________________________________________________________________________________\n",
            "mha3 (MultiHeadAttention)       (None, 64, 32)       4224        ln3_1[0][0]                      \n",
            "                                                                 ln3_1[0][0]                      \n",
            "__________________________________________________________________________________________________\n",
            "skip3_1 (Add)                   (None, 64, 32)       0           mha3[0][0]                       \n",
            "                                                                 skip2_2[0][0]                    \n",
            "__________________________________________________________________________________________________\n",
            "ln3_2 (LayerNormalization)      (None, 64, 32)       64          skip3_1[0][0]                    \n",
            "__________________________________________________________________________________________________\n",
            "mlp3/dens0 (Dense)              (None, 64, 32)       1056        ln3_2[0][0]                      \n",
            "__________________________________________________________________________________________________\n",
            "mlp3/drop0 (Dropout)            (None, 64, 32)       0           mlp3/dens0[0][0]                 \n",
            "__________________________________________________________________________________________________\n",
            "mlp3/dens1 (Dense)              (None, 64, 32)       1056        mlp3/drop0[0][0]                 \n",
            "__________________________________________________________________________________________________\n",
            "mlp3/drop1 (Dropout)            (None, 64, 32)       0           mlp3/dens1[0][0]                 \n",
            "__________________________________________________________________________________________________\n",
            "skip3_2 (Add)                   (None, 64, 32)       0           mlp3/drop1[0][0]                 \n",
            "                                                                 skip3_1[0][0]                    \n",
            "__________________________________________________________________________________________________\n",
            "ln4_1 (LayerNormalization)      (None, 64, 32)       64          skip3_2[0][0]                    \n",
            "__________________________________________________________________________________________________\n",
            "mha4 (MultiHeadAttention)       (None, 64, 32)       4224        ln4_1[0][0]                      \n",
            "                                                                 ln4_1[0][0]                      \n",
            "__________________________________________________________________________________________________\n",
            "skip4_1 (Add)                   (None, 64, 32)       0           mha4[0][0]                       \n",
            "                                                                 skip3_2[0][0]                    \n",
            "__________________________________________________________________________________________________\n",
            "ln4_2 (LayerNormalization)      (None, 64, 32)       64          skip4_1[0][0]                    \n",
            "__________________________________________________________________________________________________\n",
            "mlp4/dens0 (Dense)              (None, 64, 32)       1056        ln4_2[0][0]                      \n",
            "__________________________________________________________________________________________________\n",
            "mlp4/drop0 (Dropout)            (None, 64, 32)       0           mlp4/dens0[0][0]                 \n",
            "__________________________________________________________________________________________________\n",
            "mlp4/dens1 (Dense)              (None, 64, 32)       1056        mlp4/drop0[0][0]                 \n",
            "__________________________________________________________________________________________________\n",
            "mlp4/drop1 (Dropout)            (None, 64, 32)       0           mlp4/dens1[0][0]                 \n",
            "__________________________________________________________________________________________________\n",
            "skip4_2 (Add)                   (None, 64, 32)       0           mlp4/drop1[0][0]                 \n",
            "                                                                 skip4_1[0][0]                    \n",
            "__________________________________________________________________________________________________\n",
            "classifier_ln (LayerNormalizati (None, 64, 32)       64          skip4_2[0][0]                    \n",
            "__________________________________________________________________________________________________\n",
            "classifier_flat (Flatten)       (None, 2048)         0           classifier_ln[0][0]              \n",
            "__________________________________________________________________________________________________\n",
            "classifier_drop (Dropout)       (None, 2048)         0           classifier_flat[0][0]            \n",
            "__________________________________________________________________________________________________\n",
            "classifier_mlp/dens0 (Dense)    (None, 512)          1049088     classifier_drop[0][0]            \n",
            "__________________________________________________________________________________________________\n",
            "classifier_mlp/drop0 (Dropout)  (None, 512)          0           classifier_mlp/dens0[0][0]       \n",
            "__________________________________________________________________________________________________\n",
            "logits (Dense)                  (None, 10)           5130        classifier_mlp/drop0[0][0]       \n",
            "==================================================================================================\n",
            "Total params: 1,083,754\n",
            "Trainable params: 1,083,754\n",
            "Non-trainable params: 0\n",
            "__________________________________________________________________________________________________\n",
            "Epoch 1/50\n",
            "196/196 [==============================] - 11s 32ms/step - loss: 2.4821 - sparse_categorical_accuracy: 0.1724 - val_loss: 1.7272 - val_sparse_categorical_accuracy: 0.3837\n"
          ],
          "name": "stdout"
        },
        {
          "output_type": "stream",
          "text": [
            "WARNING:absl:Found untraced functions such as dense_3_layer_call_fn, dense_3_layer_call_and_return_conditional_losses, embedding_3_layer_call_fn, embedding_3_layer_call_and_return_conditional_losses, query_layer_call_fn while saving (showing 5 of 130). These functions will not be directly callable after loading.\n",
            "WARNING:absl:Found untraced functions such as dense_3_layer_call_fn, dense_3_layer_call_and_return_conditional_losses, embedding_3_layer_call_fn, embedding_3_layer_call_and_return_conditional_losses, query_layer_call_fn while saving (showing 5 of 130). These functions will not be directly callable after loading.\n"
          ],
          "name": "stderr"
        },
        {
          "output_type": "stream",
          "text": [
            "INFO:tensorflow:Assets written to: /content/drive/MyDrive/02_Work/05_Experiments/TF-Transformer/Cifar10_VIT/210318_VIT_4x4_2hd_32proj/assets\n"
          ],
          "name": "stdout"
        },
        {
          "output_type": "stream",
          "text": [
            "INFO:tensorflow:Assets written to: /content/drive/MyDrive/02_Work/05_Experiments/TF-Transformer/Cifar10_VIT/210318_VIT_4x4_2hd_32proj/assets\n"
          ],
          "name": "stderr"
        },
        {
          "output_type": "stream",
          "text": [
            "Epoch 2/50\n",
            "196/196 [==============================] - 5s 24ms/step - loss: 1.7902 - sparse_categorical_accuracy: 0.3475 - val_loss: 1.4984 - val_sparse_categorical_accuracy: 0.4574\n"
          ],
          "name": "stdout"
        },
        {
          "output_type": "stream",
          "text": [
            "WARNING:absl:Found untraced functions such as dense_3_layer_call_fn, dense_3_layer_call_and_return_conditional_losses, embedding_3_layer_call_fn, embedding_3_layer_call_and_return_conditional_losses, query_layer_call_fn while saving (showing 5 of 130). These functions will not be directly callable after loading.\n",
            "WARNING:absl:Found untraced functions such as dense_3_layer_call_fn, dense_3_layer_call_and_return_conditional_losses, embedding_3_layer_call_fn, embedding_3_layer_call_and_return_conditional_losses, query_layer_call_fn while saving (showing 5 of 130). These functions will not be directly callable after loading.\n"
          ],
          "name": "stderr"
        },
        {
          "output_type": "stream",
          "text": [
            "INFO:tensorflow:Assets written to: /content/drive/MyDrive/02_Work/05_Experiments/TF-Transformer/Cifar10_VIT/210318_VIT_4x4_2hd_32proj/assets\n"
          ],
          "name": "stdout"
        },
        {
          "output_type": "stream",
          "text": [
            "INFO:tensorflow:Assets written to: /content/drive/MyDrive/02_Work/05_Experiments/TF-Transformer/Cifar10_VIT/210318_VIT_4x4_2hd_32proj/assets\n"
          ],
          "name": "stderr"
        },
        {
          "output_type": "stream",
          "text": [
            "Epoch 3/50\n",
            "196/196 [==============================] - 5s 24ms/step - loss: 1.6383 - sparse_categorical_accuracy: 0.4062 - val_loss: 1.4353 - val_sparse_categorical_accuracy: 0.4838\n"
          ],
          "name": "stdout"
        },
        {
          "output_type": "stream",
          "text": [
            "WARNING:absl:Found untraced functions such as dense_3_layer_call_fn, dense_3_layer_call_and_return_conditional_losses, embedding_3_layer_call_fn, embedding_3_layer_call_and_return_conditional_losses, query_layer_call_fn while saving (showing 5 of 130). These functions will not be directly callable after loading.\n",
            "WARNING:absl:Found untraced functions such as dense_3_layer_call_fn, dense_3_layer_call_and_return_conditional_losses, embedding_3_layer_call_fn, embedding_3_layer_call_and_return_conditional_losses, query_layer_call_fn while saving (showing 5 of 130). These functions will not be directly callable after loading.\n"
          ],
          "name": "stderr"
        },
        {
          "output_type": "stream",
          "text": [
            "INFO:tensorflow:Assets written to: /content/drive/MyDrive/02_Work/05_Experiments/TF-Transformer/Cifar10_VIT/210318_VIT_4x4_2hd_32proj/assets\n"
          ],
          "name": "stdout"
        },
        {
          "output_type": "stream",
          "text": [
            "INFO:tensorflow:Assets written to: /content/drive/MyDrive/02_Work/05_Experiments/TF-Transformer/Cifar10_VIT/210318_VIT_4x4_2hd_32proj/assets\n"
          ],
          "name": "stderr"
        },
        {
          "output_type": "stream",
          "text": [
            "Epoch 4/50\n",
            "196/196 [==============================] - 5s 24ms/step - loss: 1.5430 - sparse_categorical_accuracy: 0.4422 - val_loss: 1.3412 - val_sparse_categorical_accuracy: 0.5104\n"
          ],
          "name": "stdout"
        },
        {
          "output_type": "stream",
          "text": [
            "WARNING:absl:Found untraced functions such as dense_3_layer_call_fn, dense_3_layer_call_and_return_conditional_losses, embedding_3_layer_call_fn, embedding_3_layer_call_and_return_conditional_losses, query_layer_call_fn while saving (showing 5 of 130). These functions will not be directly callable after loading.\n",
            "WARNING:absl:Found untraced functions such as dense_3_layer_call_fn, dense_3_layer_call_and_return_conditional_losses, embedding_3_layer_call_fn, embedding_3_layer_call_and_return_conditional_losses, query_layer_call_fn while saving (showing 5 of 130). These functions will not be directly callable after loading.\n"
          ],
          "name": "stderr"
        },
        {
          "output_type": "stream",
          "text": [
            "INFO:tensorflow:Assets written to: /content/drive/MyDrive/02_Work/05_Experiments/TF-Transformer/Cifar10_VIT/210318_VIT_4x4_2hd_32proj/assets\n"
          ],
          "name": "stdout"
        },
        {
          "output_type": "stream",
          "text": [
            "INFO:tensorflow:Assets written to: /content/drive/MyDrive/02_Work/05_Experiments/TF-Transformer/Cifar10_VIT/210318_VIT_4x4_2hd_32proj/assets\n"
          ],
          "name": "stderr"
        },
        {
          "output_type": "stream",
          "text": [
            "Epoch 5/50\n",
            "196/196 [==============================] - 5s 24ms/step - loss: 1.4737 - sparse_categorical_accuracy: 0.4654 - val_loss: 1.3296 - val_sparse_categorical_accuracy: 0.5238\n"
          ],
          "name": "stdout"
        },
        {
          "output_type": "stream",
          "text": [
            "WARNING:absl:Found untraced functions such as dense_3_layer_call_fn, dense_3_layer_call_and_return_conditional_losses, embedding_3_layer_call_fn, embedding_3_layer_call_and_return_conditional_losses, query_layer_call_fn while saving (showing 5 of 130). These functions will not be directly callable after loading.\n",
            "WARNING:absl:Found untraced functions such as dense_3_layer_call_fn, dense_3_layer_call_and_return_conditional_losses, embedding_3_layer_call_fn, embedding_3_layer_call_and_return_conditional_losses, query_layer_call_fn while saving (showing 5 of 130). These functions will not be directly callable after loading.\n"
          ],
          "name": "stderr"
        },
        {
          "output_type": "stream",
          "text": [
            "INFO:tensorflow:Assets written to: /content/drive/MyDrive/02_Work/05_Experiments/TF-Transformer/Cifar10_VIT/210318_VIT_4x4_2hd_32proj/assets\n"
          ],
          "name": "stdout"
        },
        {
          "output_type": "stream",
          "text": [
            "INFO:tensorflow:Assets written to: /content/drive/MyDrive/02_Work/05_Experiments/TF-Transformer/Cifar10_VIT/210318_VIT_4x4_2hd_32proj/assets\n"
          ],
          "name": "stderr"
        },
        {
          "output_type": "stream",
          "text": [
            "Epoch 6/50\n",
            "196/196 [==============================] - 5s 24ms/step - loss: 1.4320 - sparse_categorical_accuracy: 0.4776 - val_loss: 1.2703 - val_sparse_categorical_accuracy: 0.5437\n"
          ],
          "name": "stdout"
        },
        {
          "output_type": "stream",
          "text": [
            "WARNING:absl:Found untraced functions such as dense_3_layer_call_fn, dense_3_layer_call_and_return_conditional_losses, embedding_3_layer_call_fn, embedding_3_layer_call_and_return_conditional_losses, query_layer_call_fn while saving (showing 5 of 130). These functions will not be directly callable after loading.\n",
            "WARNING:absl:Found untraced functions such as dense_3_layer_call_fn, dense_3_layer_call_and_return_conditional_losses, embedding_3_layer_call_fn, embedding_3_layer_call_and_return_conditional_losses, query_layer_call_fn while saving (showing 5 of 130). These functions will not be directly callable after loading.\n"
          ],
          "name": "stderr"
        },
        {
          "output_type": "stream",
          "text": [
            "INFO:tensorflow:Assets written to: /content/drive/MyDrive/02_Work/05_Experiments/TF-Transformer/Cifar10_VIT/210318_VIT_4x4_2hd_32proj/assets\n"
          ],
          "name": "stdout"
        },
        {
          "output_type": "stream",
          "text": [
            "INFO:tensorflow:Assets written to: /content/drive/MyDrive/02_Work/05_Experiments/TF-Transformer/Cifar10_VIT/210318_VIT_4x4_2hd_32proj/assets\n"
          ],
          "name": "stderr"
        },
        {
          "output_type": "stream",
          "text": [
            "Epoch 7/50\n",
            "196/196 [==============================] - 5s 24ms/step - loss: 1.3820 - sparse_categorical_accuracy: 0.5026 - val_loss: 1.2557 - val_sparse_categorical_accuracy: 0.5451\n"
          ],
          "name": "stdout"
        },
        {
          "output_type": "stream",
          "text": [
            "WARNING:absl:Found untraced functions such as dense_3_layer_call_fn, dense_3_layer_call_and_return_conditional_losses, embedding_3_layer_call_fn, embedding_3_layer_call_and_return_conditional_losses, query_layer_call_fn while saving (showing 5 of 130). These functions will not be directly callable after loading.\n",
            "WARNING:absl:Found untraced functions such as dense_3_layer_call_fn, dense_3_layer_call_and_return_conditional_losses, embedding_3_layer_call_fn, embedding_3_layer_call_and_return_conditional_losses, query_layer_call_fn while saving (showing 5 of 130). These functions will not be directly callable after loading.\n"
          ],
          "name": "stderr"
        },
        {
          "output_type": "stream",
          "text": [
            "INFO:tensorflow:Assets written to: /content/drive/MyDrive/02_Work/05_Experiments/TF-Transformer/Cifar10_VIT/210318_VIT_4x4_2hd_32proj/assets\n"
          ],
          "name": "stdout"
        },
        {
          "output_type": "stream",
          "text": [
            "INFO:tensorflow:Assets written to: /content/drive/MyDrive/02_Work/05_Experiments/TF-Transformer/Cifar10_VIT/210318_VIT_4x4_2hd_32proj/assets\n"
          ],
          "name": "stderr"
        },
        {
          "output_type": "stream",
          "text": [
            "Epoch 8/50\n",
            "196/196 [==============================] - 5s 24ms/step - loss: 1.3494 - sparse_categorical_accuracy: 0.5146 - val_loss: 1.1822 - val_sparse_categorical_accuracy: 0.5702\n"
          ],
          "name": "stdout"
        },
        {
          "output_type": "stream",
          "text": [
            "WARNING:absl:Found untraced functions such as dense_3_layer_call_fn, dense_3_layer_call_and_return_conditional_losses, embedding_3_layer_call_fn, embedding_3_layer_call_and_return_conditional_losses, query_layer_call_fn while saving (showing 5 of 130). These functions will not be directly callable after loading.\n",
            "WARNING:absl:Found untraced functions such as dense_3_layer_call_fn, dense_3_layer_call_and_return_conditional_losses, embedding_3_layer_call_fn, embedding_3_layer_call_and_return_conditional_losses, query_layer_call_fn while saving (showing 5 of 130). These functions will not be directly callable after loading.\n"
          ],
          "name": "stderr"
        },
        {
          "output_type": "stream",
          "text": [
            "INFO:tensorflow:Assets written to: /content/drive/MyDrive/02_Work/05_Experiments/TF-Transformer/Cifar10_VIT/210318_VIT_4x4_2hd_32proj/assets\n"
          ],
          "name": "stdout"
        },
        {
          "output_type": "stream",
          "text": [
            "INFO:tensorflow:Assets written to: /content/drive/MyDrive/02_Work/05_Experiments/TF-Transformer/Cifar10_VIT/210318_VIT_4x4_2hd_32proj/assets\n"
          ],
          "name": "stderr"
        },
        {
          "output_type": "stream",
          "text": [
            "Epoch 9/50\n",
            "196/196 [==============================] - 5s 24ms/step - loss: 1.3081 - sparse_categorical_accuracy: 0.5269 - val_loss: 1.1719 - val_sparse_categorical_accuracy: 0.5802\n"
          ],
          "name": "stdout"
        },
        {
          "output_type": "stream",
          "text": [
            "WARNING:absl:Found untraced functions such as dense_3_layer_call_fn, dense_3_layer_call_and_return_conditional_losses, embedding_3_layer_call_fn, embedding_3_layer_call_and_return_conditional_losses, query_layer_call_fn while saving (showing 5 of 130). These functions will not be directly callable after loading.\n",
            "WARNING:absl:Found untraced functions such as dense_3_layer_call_fn, dense_3_layer_call_and_return_conditional_losses, embedding_3_layer_call_fn, embedding_3_layer_call_and_return_conditional_losses, query_layer_call_fn while saving (showing 5 of 130). These functions will not be directly callable after loading.\n"
          ],
          "name": "stderr"
        },
        {
          "output_type": "stream",
          "text": [
            "INFO:tensorflow:Assets written to: /content/drive/MyDrive/02_Work/05_Experiments/TF-Transformer/Cifar10_VIT/210318_VIT_4x4_2hd_32proj/assets\n"
          ],
          "name": "stdout"
        },
        {
          "output_type": "stream",
          "text": [
            "INFO:tensorflow:Assets written to: /content/drive/MyDrive/02_Work/05_Experiments/TF-Transformer/Cifar10_VIT/210318_VIT_4x4_2hd_32proj/assets\n"
          ],
          "name": "stderr"
        },
        {
          "output_type": "stream",
          "text": [
            "Epoch 10/50\n",
            "196/196 [==============================] - 5s 25ms/step - loss: 1.2822 - sparse_categorical_accuracy: 0.5426 - val_loss: 1.1463 - val_sparse_categorical_accuracy: 0.5858\n"
          ],
          "name": "stdout"
        },
        {
          "output_type": "stream",
          "text": [
            "WARNING:absl:Found untraced functions such as dense_3_layer_call_fn, dense_3_layer_call_and_return_conditional_losses, embedding_3_layer_call_fn, embedding_3_layer_call_and_return_conditional_losses, query_layer_call_fn while saving (showing 5 of 130). These functions will not be directly callable after loading.\n",
            "WARNING:absl:Found untraced functions such as dense_3_layer_call_fn, dense_3_layer_call_and_return_conditional_losses, embedding_3_layer_call_fn, embedding_3_layer_call_and_return_conditional_losses, query_layer_call_fn while saving (showing 5 of 130). These functions will not be directly callable after loading.\n"
          ],
          "name": "stderr"
        },
        {
          "output_type": "stream",
          "text": [
            "INFO:tensorflow:Assets written to: /content/drive/MyDrive/02_Work/05_Experiments/TF-Transformer/Cifar10_VIT/210318_VIT_4x4_2hd_32proj/assets\n"
          ],
          "name": "stdout"
        },
        {
          "output_type": "stream",
          "text": [
            "INFO:tensorflow:Assets written to: /content/drive/MyDrive/02_Work/05_Experiments/TF-Transformer/Cifar10_VIT/210318_VIT_4x4_2hd_32proj/assets\n"
          ],
          "name": "stderr"
        },
        {
          "output_type": "stream",
          "text": [
            "Epoch 11/50\n",
            "196/196 [==============================] - 5s 24ms/step - loss: 1.2480 - sparse_categorical_accuracy: 0.5556 - val_loss: 1.1346 - val_sparse_categorical_accuracy: 0.5904\n"
          ],
          "name": "stdout"
        },
        {
          "output_type": "stream",
          "text": [
            "WARNING:absl:Found untraced functions such as dense_3_layer_call_fn, dense_3_layer_call_and_return_conditional_losses, embedding_3_layer_call_fn, embedding_3_layer_call_and_return_conditional_losses, query_layer_call_fn while saving (showing 5 of 130). These functions will not be directly callable after loading.\n",
            "WARNING:absl:Found untraced functions such as dense_3_layer_call_fn, dense_3_layer_call_and_return_conditional_losses, embedding_3_layer_call_fn, embedding_3_layer_call_and_return_conditional_losses, query_layer_call_fn while saving (showing 5 of 130). These functions will not be directly callable after loading.\n"
          ],
          "name": "stderr"
        },
        {
          "output_type": "stream",
          "text": [
            "INFO:tensorflow:Assets written to: /content/drive/MyDrive/02_Work/05_Experiments/TF-Transformer/Cifar10_VIT/210318_VIT_4x4_2hd_32proj/assets\n"
          ],
          "name": "stdout"
        },
        {
          "output_type": "stream",
          "text": [
            "INFO:tensorflow:Assets written to: /content/drive/MyDrive/02_Work/05_Experiments/TF-Transformer/Cifar10_VIT/210318_VIT_4x4_2hd_32proj/assets\n"
          ],
          "name": "stderr"
        },
        {
          "output_type": "stream",
          "text": [
            "Epoch 12/50\n",
            "196/196 [==============================] - 5s 24ms/step - loss: 1.2164 - sparse_categorical_accuracy: 0.5626 - val_loss: 1.1203 - val_sparse_categorical_accuracy: 0.5975\n"
          ],
          "name": "stdout"
        },
        {
          "output_type": "stream",
          "text": [
            "WARNING:absl:Found untraced functions such as dense_3_layer_call_fn, dense_3_layer_call_and_return_conditional_losses, embedding_3_layer_call_fn, embedding_3_layer_call_and_return_conditional_losses, query_layer_call_fn while saving (showing 5 of 130). These functions will not be directly callable after loading.\n",
            "WARNING:absl:Found untraced functions such as dense_3_layer_call_fn, dense_3_layer_call_and_return_conditional_losses, embedding_3_layer_call_fn, embedding_3_layer_call_and_return_conditional_losses, query_layer_call_fn while saving (showing 5 of 130). These functions will not be directly callable after loading.\n"
          ],
          "name": "stderr"
        },
        {
          "output_type": "stream",
          "text": [
            "INFO:tensorflow:Assets written to: /content/drive/MyDrive/02_Work/05_Experiments/TF-Transformer/Cifar10_VIT/210318_VIT_4x4_2hd_32proj/assets\n"
          ],
          "name": "stdout"
        },
        {
          "output_type": "stream",
          "text": [
            "INFO:tensorflow:Assets written to: /content/drive/MyDrive/02_Work/05_Experiments/TF-Transformer/Cifar10_VIT/210318_VIT_4x4_2hd_32proj/assets\n"
          ],
          "name": "stderr"
        },
        {
          "output_type": "stream",
          "text": [
            "Epoch 13/50\n",
            "196/196 [==============================] - 5s 24ms/step - loss: 1.1908 - sparse_categorical_accuracy: 0.5744 - val_loss: 1.0820 - val_sparse_categorical_accuracy: 0.6135\n"
          ],
          "name": "stdout"
        },
        {
          "output_type": "stream",
          "text": [
            "WARNING:absl:Found untraced functions such as dense_3_layer_call_fn, dense_3_layer_call_and_return_conditional_losses, embedding_3_layer_call_fn, embedding_3_layer_call_and_return_conditional_losses, query_layer_call_fn while saving (showing 5 of 130). These functions will not be directly callable after loading.\n",
            "WARNING:absl:Found untraced functions such as dense_3_layer_call_fn, dense_3_layer_call_and_return_conditional_losses, embedding_3_layer_call_fn, embedding_3_layer_call_and_return_conditional_losses, query_layer_call_fn while saving (showing 5 of 130). These functions will not be directly callable after loading.\n"
          ],
          "name": "stderr"
        },
        {
          "output_type": "stream",
          "text": [
            "INFO:tensorflow:Assets written to: /content/drive/MyDrive/02_Work/05_Experiments/TF-Transformer/Cifar10_VIT/210318_VIT_4x4_2hd_32proj/assets\n"
          ],
          "name": "stdout"
        },
        {
          "output_type": "stream",
          "text": [
            "INFO:tensorflow:Assets written to: /content/drive/MyDrive/02_Work/05_Experiments/TF-Transformer/Cifar10_VIT/210318_VIT_4x4_2hd_32proj/assets\n"
          ],
          "name": "stderr"
        },
        {
          "output_type": "stream",
          "text": [
            "Epoch 14/50\n",
            "196/196 [==============================] - 5s 24ms/step - loss: 1.1641 - sparse_categorical_accuracy: 0.5873 - val_loss: 1.0750 - val_sparse_categorical_accuracy: 0.6116\n",
            "Epoch 15/50\n",
            "196/196 [==============================] - 5s 24ms/step - loss: 1.1422 - sparse_categorical_accuracy: 0.5942 - val_loss: 1.0572 - val_sparse_categorical_accuracy: 0.6203\n"
          ],
          "name": "stdout"
        },
        {
          "output_type": "stream",
          "text": [
            "WARNING:absl:Found untraced functions such as dense_3_layer_call_fn, dense_3_layer_call_and_return_conditional_losses, embedding_3_layer_call_fn, embedding_3_layer_call_and_return_conditional_losses, query_layer_call_fn while saving (showing 5 of 130). These functions will not be directly callable after loading.\n",
            "WARNING:absl:Found untraced functions such as dense_3_layer_call_fn, dense_3_layer_call_and_return_conditional_losses, embedding_3_layer_call_fn, embedding_3_layer_call_and_return_conditional_losses, query_layer_call_fn while saving (showing 5 of 130). These functions will not be directly callable after loading.\n"
          ],
          "name": "stderr"
        },
        {
          "output_type": "stream",
          "text": [
            "INFO:tensorflow:Assets written to: /content/drive/MyDrive/02_Work/05_Experiments/TF-Transformer/Cifar10_VIT/210318_VIT_4x4_2hd_32proj/assets\n"
          ],
          "name": "stdout"
        },
        {
          "output_type": "stream",
          "text": [
            "INFO:tensorflow:Assets written to: /content/drive/MyDrive/02_Work/05_Experiments/TF-Transformer/Cifar10_VIT/210318_VIT_4x4_2hd_32proj/assets\n"
          ],
          "name": "stderr"
        },
        {
          "output_type": "stream",
          "text": [
            "Epoch 16/50\n",
            "196/196 [==============================] - 5s 24ms/step - loss: 1.1231 - sparse_categorical_accuracy: 0.5989 - val_loss: 1.0605 - val_sparse_categorical_accuracy: 0.6250\n"
          ],
          "name": "stdout"
        },
        {
          "output_type": "stream",
          "text": [
            "WARNING:absl:Found untraced functions such as dense_3_layer_call_fn, dense_3_layer_call_and_return_conditional_losses, embedding_3_layer_call_fn, embedding_3_layer_call_and_return_conditional_losses, query_layer_call_fn while saving (showing 5 of 130). These functions will not be directly callable after loading.\n",
            "WARNING:absl:Found untraced functions such as dense_3_layer_call_fn, dense_3_layer_call_and_return_conditional_losses, embedding_3_layer_call_fn, embedding_3_layer_call_and_return_conditional_losses, query_layer_call_fn while saving (showing 5 of 130). These functions will not be directly callable after loading.\n"
          ],
          "name": "stderr"
        },
        {
          "output_type": "stream",
          "text": [
            "INFO:tensorflow:Assets written to: /content/drive/MyDrive/02_Work/05_Experiments/TF-Transformer/Cifar10_VIT/210318_VIT_4x4_2hd_32proj/assets\n"
          ],
          "name": "stdout"
        },
        {
          "output_type": "stream",
          "text": [
            "INFO:tensorflow:Assets written to: /content/drive/MyDrive/02_Work/05_Experiments/TF-Transformer/Cifar10_VIT/210318_VIT_4x4_2hd_32proj/assets\n"
          ],
          "name": "stderr"
        },
        {
          "output_type": "stream",
          "text": [
            "Epoch 17/50\n",
            "196/196 [==============================] - 5s 24ms/step - loss: 1.1027 - sparse_categorical_accuracy: 0.6079 - val_loss: 1.0199 - val_sparse_categorical_accuracy: 0.6374\n"
          ],
          "name": "stdout"
        },
        {
          "output_type": "stream",
          "text": [
            "WARNING:absl:Found untraced functions such as dense_3_layer_call_fn, dense_3_layer_call_and_return_conditional_losses, embedding_3_layer_call_fn, embedding_3_layer_call_and_return_conditional_losses, query_layer_call_fn while saving (showing 5 of 130). These functions will not be directly callable after loading.\n",
            "WARNING:absl:Found untraced functions such as dense_3_layer_call_fn, dense_3_layer_call_and_return_conditional_losses, embedding_3_layer_call_fn, embedding_3_layer_call_and_return_conditional_losses, query_layer_call_fn while saving (showing 5 of 130). These functions will not be directly callable after loading.\n"
          ],
          "name": "stderr"
        },
        {
          "output_type": "stream",
          "text": [
            "INFO:tensorflow:Assets written to: /content/drive/MyDrive/02_Work/05_Experiments/TF-Transformer/Cifar10_VIT/210318_VIT_4x4_2hd_32proj/assets\n"
          ],
          "name": "stdout"
        },
        {
          "output_type": "stream",
          "text": [
            "INFO:tensorflow:Assets written to: /content/drive/MyDrive/02_Work/05_Experiments/TF-Transformer/Cifar10_VIT/210318_VIT_4x4_2hd_32proj/assets\n"
          ],
          "name": "stderr"
        },
        {
          "output_type": "stream",
          "text": [
            "Epoch 18/50\n",
            "196/196 [==============================] - 5s 24ms/step - loss: 1.0930 - sparse_categorical_accuracy: 0.6104 - val_loss: 1.0171 - val_sparse_categorical_accuracy: 0.6361\n",
            "Epoch 19/50\n",
            "196/196 [==============================] - 5s 25ms/step - loss: 1.0639 - sparse_categorical_accuracy: 0.6243 - val_loss: 1.0223 - val_sparse_categorical_accuracy: 0.6350\n",
            "Epoch 20/50\n",
            "196/196 [==============================] - 5s 24ms/step - loss: 1.0304 - sparse_categorical_accuracy: 0.6344 - val_loss: 1.0036 - val_sparse_categorical_accuracy: 0.6456\n"
          ],
          "name": "stdout"
        },
        {
          "output_type": "stream",
          "text": [
            "WARNING:absl:Found untraced functions such as dense_3_layer_call_fn, dense_3_layer_call_and_return_conditional_losses, embedding_3_layer_call_fn, embedding_3_layer_call_and_return_conditional_losses, query_layer_call_fn while saving (showing 5 of 130). These functions will not be directly callable after loading.\n",
            "WARNING:absl:Found untraced functions such as dense_3_layer_call_fn, dense_3_layer_call_and_return_conditional_losses, embedding_3_layer_call_fn, embedding_3_layer_call_and_return_conditional_losses, query_layer_call_fn while saving (showing 5 of 130). These functions will not be directly callable after loading.\n"
          ],
          "name": "stderr"
        },
        {
          "output_type": "stream",
          "text": [
            "INFO:tensorflow:Assets written to: /content/drive/MyDrive/02_Work/05_Experiments/TF-Transformer/Cifar10_VIT/210318_VIT_4x4_2hd_32proj/assets\n"
          ],
          "name": "stdout"
        },
        {
          "output_type": "stream",
          "text": [
            "INFO:tensorflow:Assets written to: /content/drive/MyDrive/02_Work/05_Experiments/TF-Transformer/Cifar10_VIT/210318_VIT_4x4_2hd_32proj/assets\n"
          ],
          "name": "stderr"
        },
        {
          "output_type": "stream",
          "text": [
            "Epoch 21/50\n",
            "196/196 [==============================] - 5s 24ms/step - loss: 1.0175 - sparse_categorical_accuracy: 0.6354 - val_loss: 0.9873 - val_sparse_categorical_accuracy: 0.6513\n"
          ],
          "name": "stdout"
        },
        {
          "output_type": "stream",
          "text": [
            "WARNING:absl:Found untraced functions such as dense_3_layer_call_fn, dense_3_layer_call_and_return_conditional_losses, embedding_3_layer_call_fn, embedding_3_layer_call_and_return_conditional_losses, query_layer_call_fn while saving (showing 5 of 130). These functions will not be directly callable after loading.\n",
            "WARNING:absl:Found untraced functions such as dense_3_layer_call_fn, dense_3_layer_call_and_return_conditional_losses, embedding_3_layer_call_fn, embedding_3_layer_call_and_return_conditional_losses, query_layer_call_fn while saving (showing 5 of 130). These functions will not be directly callable after loading.\n"
          ],
          "name": "stderr"
        },
        {
          "output_type": "stream",
          "text": [
            "INFO:tensorflow:Assets written to: /content/drive/MyDrive/02_Work/05_Experiments/TF-Transformer/Cifar10_VIT/210318_VIT_4x4_2hd_32proj/assets\n"
          ],
          "name": "stdout"
        },
        {
          "output_type": "stream",
          "text": [
            "INFO:tensorflow:Assets written to: /content/drive/MyDrive/02_Work/05_Experiments/TF-Transformer/Cifar10_VIT/210318_VIT_4x4_2hd_32proj/assets\n"
          ],
          "name": "stderr"
        },
        {
          "output_type": "stream",
          "text": [
            "Epoch 22/50\n",
            "196/196 [==============================] - 5s 24ms/step - loss: 1.0030 - sparse_categorical_accuracy: 0.6409 - val_loss: 0.9627 - val_sparse_categorical_accuracy: 0.6601\n"
          ],
          "name": "stdout"
        },
        {
          "output_type": "stream",
          "text": [
            "WARNING:absl:Found untraced functions such as dense_3_layer_call_fn, dense_3_layer_call_and_return_conditional_losses, embedding_3_layer_call_fn, embedding_3_layer_call_and_return_conditional_losses, query_layer_call_fn while saving (showing 5 of 130). These functions will not be directly callable after loading.\n",
            "WARNING:absl:Found untraced functions such as dense_3_layer_call_fn, dense_3_layer_call_and_return_conditional_losses, embedding_3_layer_call_fn, embedding_3_layer_call_and_return_conditional_losses, query_layer_call_fn while saving (showing 5 of 130). These functions will not be directly callable after loading.\n"
          ],
          "name": "stderr"
        },
        {
          "output_type": "stream",
          "text": [
            "INFO:tensorflow:Assets written to: /content/drive/MyDrive/02_Work/05_Experiments/TF-Transformer/Cifar10_VIT/210318_VIT_4x4_2hd_32proj/assets\n"
          ],
          "name": "stdout"
        },
        {
          "output_type": "stream",
          "text": [
            "INFO:tensorflow:Assets written to: /content/drive/MyDrive/02_Work/05_Experiments/TF-Transformer/Cifar10_VIT/210318_VIT_4x4_2hd_32proj/assets\n"
          ],
          "name": "stderr"
        },
        {
          "output_type": "stream",
          "text": [
            "Epoch 23/50\n",
            "196/196 [==============================] - 5s 24ms/step - loss: 0.9809 - sparse_categorical_accuracy: 0.6519 - val_loss: 0.9561 - val_sparse_categorical_accuracy: 0.6571\n",
            "Epoch 24/50\n",
            "196/196 [==============================] - 5s 24ms/step - loss: 0.9618 - sparse_categorical_accuracy: 0.6559 - val_loss: 0.9597 - val_sparse_categorical_accuracy: 0.6643\n"
          ],
          "name": "stdout"
        },
        {
          "output_type": "stream",
          "text": [
            "WARNING:absl:Found untraced functions such as dense_3_layer_call_fn, dense_3_layer_call_and_return_conditional_losses, embedding_3_layer_call_fn, embedding_3_layer_call_and_return_conditional_losses, query_layer_call_fn while saving (showing 5 of 130). These functions will not be directly callable after loading.\n",
            "WARNING:absl:Found untraced functions such as dense_3_layer_call_fn, dense_3_layer_call_and_return_conditional_losses, embedding_3_layer_call_fn, embedding_3_layer_call_and_return_conditional_losses, query_layer_call_fn while saving (showing 5 of 130). These functions will not be directly callable after loading.\n"
          ],
          "name": "stderr"
        },
        {
          "output_type": "stream",
          "text": [
            "INFO:tensorflow:Assets written to: /content/drive/MyDrive/02_Work/05_Experiments/TF-Transformer/Cifar10_VIT/210318_VIT_4x4_2hd_32proj/assets\n"
          ],
          "name": "stdout"
        },
        {
          "output_type": "stream",
          "text": [
            "INFO:tensorflow:Assets written to: /content/drive/MyDrive/02_Work/05_Experiments/TF-Transformer/Cifar10_VIT/210318_VIT_4x4_2hd_32proj/assets\n"
          ],
          "name": "stderr"
        },
        {
          "output_type": "stream",
          "text": [
            "Epoch 25/50\n",
            "196/196 [==============================] - 5s 25ms/step - loss: 0.9452 - sparse_categorical_accuracy: 0.6634 - val_loss: 0.9393 - val_sparse_categorical_accuracy: 0.6672\n"
          ],
          "name": "stdout"
        },
        {
          "output_type": "stream",
          "text": [
            "WARNING:absl:Found untraced functions such as dense_3_layer_call_fn, dense_3_layer_call_and_return_conditional_losses, embedding_3_layer_call_fn, embedding_3_layer_call_and_return_conditional_losses, query_layer_call_fn while saving (showing 5 of 130). These functions will not be directly callable after loading.\n",
            "WARNING:absl:Found untraced functions such as dense_3_layer_call_fn, dense_3_layer_call_and_return_conditional_losses, embedding_3_layer_call_fn, embedding_3_layer_call_and_return_conditional_losses, query_layer_call_fn while saving (showing 5 of 130). These functions will not be directly callable after loading.\n"
          ],
          "name": "stderr"
        },
        {
          "output_type": "stream",
          "text": [
            "INFO:tensorflow:Assets written to: /content/drive/MyDrive/02_Work/05_Experiments/TF-Transformer/Cifar10_VIT/210318_VIT_4x4_2hd_32proj/assets\n"
          ],
          "name": "stdout"
        },
        {
          "output_type": "stream",
          "text": [
            "INFO:tensorflow:Assets written to: /content/drive/MyDrive/02_Work/05_Experiments/TF-Transformer/Cifar10_VIT/210318_VIT_4x4_2hd_32proj/assets\n"
          ],
          "name": "stderr"
        },
        {
          "output_type": "stream",
          "text": [
            "Epoch 26/50\n",
            "196/196 [==============================] - 5s 24ms/step - loss: 0.9356 - sparse_categorical_accuracy: 0.6677 - val_loss: 0.9381 - val_sparse_categorical_accuracy: 0.6689\n"
          ],
          "name": "stdout"
        },
        {
          "output_type": "stream",
          "text": [
            "WARNING:absl:Found untraced functions such as dense_3_layer_call_fn, dense_3_layer_call_and_return_conditional_losses, embedding_3_layer_call_fn, embedding_3_layer_call_and_return_conditional_losses, query_layer_call_fn while saving (showing 5 of 130). These functions will not be directly callable after loading.\n",
            "WARNING:absl:Found untraced functions such as dense_3_layer_call_fn, dense_3_layer_call_and_return_conditional_losses, embedding_3_layer_call_fn, embedding_3_layer_call_and_return_conditional_losses, query_layer_call_fn while saving (showing 5 of 130). These functions will not be directly callable after loading.\n"
          ],
          "name": "stderr"
        },
        {
          "output_type": "stream",
          "text": [
            "INFO:tensorflow:Assets written to: /content/drive/MyDrive/02_Work/05_Experiments/TF-Transformer/Cifar10_VIT/210318_VIT_4x4_2hd_32proj/assets\n"
          ],
          "name": "stdout"
        },
        {
          "output_type": "stream",
          "text": [
            "INFO:tensorflow:Assets written to: /content/drive/MyDrive/02_Work/05_Experiments/TF-Transformer/Cifar10_VIT/210318_VIT_4x4_2hd_32proj/assets\n"
          ],
          "name": "stderr"
        },
        {
          "output_type": "stream",
          "text": [
            "Epoch 27/50\n",
            "196/196 [==============================] - 5s 24ms/step - loss: 0.9257 - sparse_categorical_accuracy: 0.6688 - val_loss: 0.9310 - val_sparse_categorical_accuracy: 0.6716\n"
          ],
          "name": "stdout"
        },
        {
          "output_type": "stream",
          "text": [
            "WARNING:absl:Found untraced functions such as dense_3_layer_call_fn, dense_3_layer_call_and_return_conditional_losses, embedding_3_layer_call_fn, embedding_3_layer_call_and_return_conditional_losses, query_layer_call_fn while saving (showing 5 of 130). These functions will not be directly callable after loading.\n",
            "WARNING:absl:Found untraced functions such as dense_3_layer_call_fn, dense_3_layer_call_and_return_conditional_losses, embedding_3_layer_call_fn, embedding_3_layer_call_and_return_conditional_losses, query_layer_call_fn while saving (showing 5 of 130). These functions will not be directly callable after loading.\n"
          ],
          "name": "stderr"
        },
        {
          "output_type": "stream",
          "text": [
            "INFO:tensorflow:Assets written to: /content/drive/MyDrive/02_Work/05_Experiments/TF-Transformer/Cifar10_VIT/210318_VIT_4x4_2hd_32proj/assets\n"
          ],
          "name": "stdout"
        },
        {
          "output_type": "stream",
          "text": [
            "INFO:tensorflow:Assets written to: /content/drive/MyDrive/02_Work/05_Experiments/TF-Transformer/Cifar10_VIT/210318_VIT_4x4_2hd_32proj/assets\n"
          ],
          "name": "stderr"
        },
        {
          "output_type": "stream",
          "text": [
            "Epoch 28/50\n",
            "196/196 [==============================] - 5s 24ms/step - loss: 0.9010 - sparse_categorical_accuracy: 0.6792 - val_loss: 0.9310 - val_sparse_categorical_accuracy: 0.6715\n",
            "Epoch 29/50\n",
            "196/196 [==============================] - 5s 24ms/step - loss: 0.8896 - sparse_categorical_accuracy: 0.6818 - val_loss: 0.9006 - val_sparse_categorical_accuracy: 0.6838\n"
          ],
          "name": "stdout"
        },
        {
          "output_type": "stream",
          "text": [
            "WARNING:absl:Found untraced functions such as dense_3_layer_call_fn, dense_3_layer_call_and_return_conditional_losses, embedding_3_layer_call_fn, embedding_3_layer_call_and_return_conditional_losses, query_layer_call_fn while saving (showing 5 of 130). These functions will not be directly callable after loading.\n",
            "WARNING:absl:Found untraced functions such as dense_3_layer_call_fn, dense_3_layer_call_and_return_conditional_losses, embedding_3_layer_call_fn, embedding_3_layer_call_and_return_conditional_losses, query_layer_call_fn while saving (showing 5 of 130). These functions will not be directly callable after loading.\n"
          ],
          "name": "stderr"
        },
        {
          "output_type": "stream",
          "text": [
            "INFO:tensorflow:Assets written to: /content/drive/MyDrive/02_Work/05_Experiments/TF-Transformer/Cifar10_VIT/210318_VIT_4x4_2hd_32proj/assets\n"
          ],
          "name": "stdout"
        },
        {
          "output_type": "stream",
          "text": [
            "INFO:tensorflow:Assets written to: /content/drive/MyDrive/02_Work/05_Experiments/TF-Transformer/Cifar10_VIT/210318_VIT_4x4_2hd_32proj/assets\n"
          ],
          "name": "stderr"
        },
        {
          "output_type": "stream",
          "text": [
            "Epoch 30/50\n",
            "196/196 [==============================] - 5s 24ms/step - loss: 0.8654 - sparse_categorical_accuracy: 0.6938 - val_loss: 0.9116 - val_sparse_categorical_accuracy: 0.6744\n",
            "Epoch 31/50\n",
            "196/196 [==============================] - 5s 24ms/step - loss: 0.8599 - sparse_categorical_accuracy: 0.6968 - val_loss: 0.9103 - val_sparse_categorical_accuracy: 0.6791\n",
            "Epoch 32/50\n",
            "196/196 [==============================] - 5s 24ms/step - loss: 0.8533 - sparse_categorical_accuracy: 0.6985 - val_loss: 0.8897 - val_sparse_categorical_accuracy: 0.6835\n",
            "Epoch 33/50\n",
            "196/196 [==============================] - 5s 24ms/step - loss: 0.8377 - sparse_categorical_accuracy: 0.7033 - val_loss: 0.8824 - val_sparse_categorical_accuracy: 0.6913\n"
          ],
          "name": "stdout"
        },
        {
          "output_type": "stream",
          "text": [
            "WARNING:absl:Found untraced functions such as dense_3_layer_call_fn, dense_3_layer_call_and_return_conditional_losses, embedding_3_layer_call_fn, embedding_3_layer_call_and_return_conditional_losses, query_layer_call_fn while saving (showing 5 of 130). These functions will not be directly callable after loading.\n",
            "WARNING:absl:Found untraced functions such as dense_3_layer_call_fn, dense_3_layer_call_and_return_conditional_losses, embedding_3_layer_call_fn, embedding_3_layer_call_and_return_conditional_losses, query_layer_call_fn while saving (showing 5 of 130). These functions will not be directly callable after loading.\n"
          ],
          "name": "stderr"
        },
        {
          "output_type": "stream",
          "text": [
            "INFO:tensorflow:Assets written to: /content/drive/MyDrive/02_Work/05_Experiments/TF-Transformer/Cifar10_VIT/210318_VIT_4x4_2hd_32proj/assets\n"
          ],
          "name": "stdout"
        },
        {
          "output_type": "stream",
          "text": [
            "INFO:tensorflow:Assets written to: /content/drive/MyDrive/02_Work/05_Experiments/TF-Transformer/Cifar10_VIT/210318_VIT_4x4_2hd_32proj/assets\n"
          ],
          "name": "stderr"
        },
        {
          "output_type": "stream",
          "text": [
            "Epoch 34/50\n",
            "196/196 [==============================] - 5s 24ms/step - loss: 0.8160 - sparse_categorical_accuracy: 0.7073 - val_loss: 0.8767 - val_sparse_categorical_accuracy: 0.6939\n"
          ],
          "name": "stdout"
        },
        {
          "output_type": "stream",
          "text": [
            "WARNING:absl:Found untraced functions such as dense_3_layer_call_fn, dense_3_layer_call_and_return_conditional_losses, embedding_3_layer_call_fn, embedding_3_layer_call_and_return_conditional_losses, query_layer_call_fn while saving (showing 5 of 130). These functions will not be directly callable after loading.\n",
            "WARNING:absl:Found untraced functions such as dense_3_layer_call_fn, dense_3_layer_call_and_return_conditional_losses, embedding_3_layer_call_fn, embedding_3_layer_call_and_return_conditional_losses, query_layer_call_fn while saving (showing 5 of 130). These functions will not be directly callable after loading.\n"
          ],
          "name": "stderr"
        },
        {
          "output_type": "stream",
          "text": [
            "INFO:tensorflow:Assets written to: /content/drive/MyDrive/02_Work/05_Experiments/TF-Transformer/Cifar10_VIT/210318_VIT_4x4_2hd_32proj/assets\n"
          ],
          "name": "stdout"
        },
        {
          "output_type": "stream",
          "text": [
            "INFO:tensorflow:Assets written to: /content/drive/MyDrive/02_Work/05_Experiments/TF-Transformer/Cifar10_VIT/210318_VIT_4x4_2hd_32proj/assets\n"
          ],
          "name": "stderr"
        },
        {
          "output_type": "stream",
          "text": [
            "Epoch 35/50\n",
            "196/196 [==============================] - 5s 24ms/step - loss: 0.8122 - sparse_categorical_accuracy: 0.7114 - val_loss: 0.8905 - val_sparse_categorical_accuracy: 0.6912\n",
            "Epoch 36/50\n",
            "196/196 [==============================] - 5s 24ms/step - loss: 0.7935 - sparse_categorical_accuracy: 0.7194 - val_loss: 0.8820 - val_sparse_categorical_accuracy: 0.6870\n",
            "Epoch 37/50\n",
            "196/196 [==============================] - 5s 24ms/step - loss: 0.8034 - sparse_categorical_accuracy: 0.7110 - val_loss: 0.8663 - val_sparse_categorical_accuracy: 0.6988\n"
          ],
          "name": "stdout"
        },
        {
          "output_type": "stream",
          "text": [
            "WARNING:absl:Found untraced functions such as dense_3_layer_call_fn, dense_3_layer_call_and_return_conditional_losses, embedding_3_layer_call_fn, embedding_3_layer_call_and_return_conditional_losses, query_layer_call_fn while saving (showing 5 of 130). These functions will not be directly callable after loading.\n",
            "WARNING:absl:Found untraced functions such as dense_3_layer_call_fn, dense_3_layer_call_and_return_conditional_losses, embedding_3_layer_call_fn, embedding_3_layer_call_and_return_conditional_losses, query_layer_call_fn while saving (showing 5 of 130). These functions will not be directly callable after loading.\n"
          ],
          "name": "stderr"
        },
        {
          "output_type": "stream",
          "text": [
            "INFO:tensorflow:Assets written to: /content/drive/MyDrive/02_Work/05_Experiments/TF-Transformer/Cifar10_VIT/210318_VIT_4x4_2hd_32proj/assets\n"
          ],
          "name": "stdout"
        },
        {
          "output_type": "stream",
          "text": [
            "INFO:tensorflow:Assets written to: /content/drive/MyDrive/02_Work/05_Experiments/TF-Transformer/Cifar10_VIT/210318_VIT_4x4_2hd_32proj/assets\n"
          ],
          "name": "stderr"
        },
        {
          "output_type": "stream",
          "text": [
            "Epoch 38/50\n",
            "196/196 [==============================] - 5s 24ms/step - loss: 0.7748 - sparse_categorical_accuracy: 0.7243 - val_loss: 0.8659 - val_sparse_categorical_accuracy: 0.6982\n",
            "Epoch 39/50\n",
            "196/196 [==============================] - 5s 24ms/step - loss: 0.7670 - sparse_categorical_accuracy: 0.7259 - val_loss: 0.8747 - val_sparse_categorical_accuracy: 0.6909\n",
            "Epoch 40/50\n",
            "196/196 [==============================] - 5s 24ms/step - loss: 0.7765 - sparse_categorical_accuracy: 0.7251 - val_loss: 0.8659 - val_sparse_categorical_accuracy: 0.7019\n"
          ],
          "name": "stdout"
        },
        {
          "output_type": "stream",
          "text": [
            "WARNING:absl:Found untraced functions such as dense_3_layer_call_fn, dense_3_layer_call_and_return_conditional_losses, embedding_3_layer_call_fn, embedding_3_layer_call_and_return_conditional_losses, query_layer_call_fn while saving (showing 5 of 130). These functions will not be directly callable after loading.\n",
            "WARNING:absl:Found untraced functions such as dense_3_layer_call_fn, dense_3_layer_call_and_return_conditional_losses, embedding_3_layer_call_fn, embedding_3_layer_call_and_return_conditional_losses, query_layer_call_fn while saving (showing 5 of 130). These functions will not be directly callable after loading.\n"
          ],
          "name": "stderr"
        },
        {
          "output_type": "stream",
          "text": [
            "INFO:tensorflow:Assets written to: /content/drive/MyDrive/02_Work/05_Experiments/TF-Transformer/Cifar10_VIT/210318_VIT_4x4_2hd_32proj/assets\n"
          ],
          "name": "stdout"
        },
        {
          "output_type": "stream",
          "text": [
            "INFO:tensorflow:Assets written to: /content/drive/MyDrive/02_Work/05_Experiments/TF-Transformer/Cifar10_VIT/210318_VIT_4x4_2hd_32proj/assets\n"
          ],
          "name": "stderr"
        },
        {
          "output_type": "stream",
          "text": [
            "Epoch 41/50\n",
            "196/196 [==============================] - 5s 25ms/step - loss: 0.7606 - sparse_categorical_accuracy: 0.7294 - val_loss: 0.8674 - val_sparse_categorical_accuracy: 0.6971\n",
            "Epoch 42/50\n",
            "196/196 [==============================] - 5s 25ms/step - loss: 0.7531 - sparse_categorical_accuracy: 0.7300 - val_loss: 0.8663 - val_sparse_categorical_accuracy: 0.6985\n",
            "Epoch 43/50\n",
            "196/196 [==============================] - 5s 24ms/step - loss: 0.7364 - sparse_categorical_accuracy: 0.7379 - val_loss: 0.8535 - val_sparse_categorical_accuracy: 0.7046\n"
          ],
          "name": "stdout"
        },
        {
          "output_type": "stream",
          "text": [
            "WARNING:absl:Found untraced functions such as dense_3_layer_call_fn, dense_3_layer_call_and_return_conditional_losses, embedding_3_layer_call_fn, embedding_3_layer_call_and_return_conditional_losses, query_layer_call_fn while saving (showing 5 of 130). These functions will not be directly callable after loading.\n",
            "WARNING:absl:Found untraced functions such as dense_3_layer_call_fn, dense_3_layer_call_and_return_conditional_losses, embedding_3_layer_call_fn, embedding_3_layer_call_and_return_conditional_losses, query_layer_call_fn while saving (showing 5 of 130). These functions will not be directly callable after loading.\n"
          ],
          "name": "stderr"
        },
        {
          "output_type": "stream",
          "text": [
            "INFO:tensorflow:Assets written to: /content/drive/MyDrive/02_Work/05_Experiments/TF-Transformer/Cifar10_VIT/210318_VIT_4x4_2hd_32proj/assets\n"
          ],
          "name": "stdout"
        },
        {
          "output_type": "stream",
          "text": [
            "INFO:tensorflow:Assets written to: /content/drive/MyDrive/02_Work/05_Experiments/TF-Transformer/Cifar10_VIT/210318_VIT_4x4_2hd_32proj/assets\n"
          ],
          "name": "stderr"
        },
        {
          "output_type": "stream",
          "text": [
            "Epoch 44/50\n",
            "196/196 [==============================] - 5s 24ms/step - loss: 0.7332 - sparse_categorical_accuracy: 0.7428 - val_loss: 0.8552 - val_sparse_categorical_accuracy: 0.7041\n",
            "Epoch 45/50\n",
            "196/196 [==============================] - 5s 24ms/step - loss: 0.7279 - sparse_categorical_accuracy: 0.7413 - val_loss: 0.8495 - val_sparse_categorical_accuracy: 0.7020\n",
            "Epoch 46/50\n",
            "196/196 [==============================] - 5s 24ms/step - loss: 0.7154 - sparse_categorical_accuracy: 0.7462 - val_loss: 0.8447 - val_sparse_categorical_accuracy: 0.7006\n",
            "Epoch 47/50\n",
            "196/196 [==============================] - 5s 24ms/step - loss: 0.7032 - sparse_categorical_accuracy: 0.7495 - val_loss: 0.8399 - val_sparse_categorical_accuracy: 0.7065\n"
          ],
          "name": "stdout"
        },
        {
          "output_type": "stream",
          "text": [
            "WARNING:absl:Found untraced functions such as dense_3_layer_call_fn, dense_3_layer_call_and_return_conditional_losses, embedding_3_layer_call_fn, embedding_3_layer_call_and_return_conditional_losses, query_layer_call_fn while saving (showing 5 of 130). These functions will not be directly callable after loading.\n",
            "WARNING:absl:Found untraced functions such as dense_3_layer_call_fn, dense_3_layer_call_and_return_conditional_losses, embedding_3_layer_call_fn, embedding_3_layer_call_and_return_conditional_losses, query_layer_call_fn while saving (showing 5 of 130). These functions will not be directly callable after loading.\n"
          ],
          "name": "stderr"
        },
        {
          "output_type": "stream",
          "text": [
            "INFO:tensorflow:Assets written to: /content/drive/MyDrive/02_Work/05_Experiments/TF-Transformer/Cifar10_VIT/210318_VIT_4x4_2hd_32proj/assets\n"
          ],
          "name": "stdout"
        },
        {
          "output_type": "stream",
          "text": [
            "INFO:tensorflow:Assets written to: /content/drive/MyDrive/02_Work/05_Experiments/TF-Transformer/Cifar10_VIT/210318_VIT_4x4_2hd_32proj/assets\n"
          ],
          "name": "stderr"
        },
        {
          "output_type": "stream",
          "text": [
            "Epoch 48/50\n",
            "196/196 [==============================] - 5s 25ms/step - loss: 0.6941 - sparse_categorical_accuracy: 0.7542 - val_loss: 0.8479 - val_sparse_categorical_accuracy: 0.7017\n",
            "Epoch 49/50\n",
            "196/196 [==============================] - 5s 25ms/step - loss: 0.6858 - sparse_categorical_accuracy: 0.7572 - val_loss: 0.8349 - val_sparse_categorical_accuracy: 0.7080\n"
          ],
          "name": "stdout"
        },
        {
          "output_type": "stream",
          "text": [
            "WARNING:absl:Found untraced functions such as dense_3_layer_call_fn, dense_3_layer_call_and_return_conditional_losses, embedding_3_layer_call_fn, embedding_3_layer_call_and_return_conditional_losses, query_layer_call_fn while saving (showing 5 of 130). These functions will not be directly callable after loading.\n",
            "WARNING:absl:Found untraced functions such as dense_3_layer_call_fn, dense_3_layer_call_and_return_conditional_losses, embedding_3_layer_call_fn, embedding_3_layer_call_and_return_conditional_losses, query_layer_call_fn while saving (showing 5 of 130). These functions will not be directly callable after loading.\n"
          ],
          "name": "stderr"
        },
        {
          "output_type": "stream",
          "text": [
            "INFO:tensorflow:Assets written to: /content/drive/MyDrive/02_Work/05_Experiments/TF-Transformer/Cifar10_VIT/210318_VIT_4x4_2hd_32proj/assets\n"
          ],
          "name": "stdout"
        },
        {
          "output_type": "stream",
          "text": [
            "INFO:tensorflow:Assets written to: /content/drive/MyDrive/02_Work/05_Experiments/TF-Transformer/Cifar10_VIT/210318_VIT_4x4_2hd_32proj/assets\n"
          ],
          "name": "stderr"
        },
        {
          "output_type": "stream",
          "text": [
            "Epoch 50/50\n",
            "196/196 [==============================] - 5s 25ms/step - loss: 0.6760 - sparse_categorical_accuracy: 0.7598 - val_loss: 0.8430 - val_sparse_categorical_accuracy: 0.7053\n",
            "Total training time 467.1190195083618 seconds\n",
            "Model: \"model_4\"\n",
            "__________________________________________________________________________________________________\n",
            "Layer (type)                    Output Shape         Param #     Connected to                     \n",
            "==================================================================================================\n",
            "input_5 (InputLayer)            [(None, 32, 32, 3)]  0                                            \n",
            "__________________________________________________________________________________________________\n",
            "rescale (Rescaling)             (None, 32, 32, 3)    0           input_5[0][0]                    \n",
            "__________________________________________________________________________________________________\n",
            "resize (Resizing)               (None, 32, 32, 3)    0           rescale[0][0]                    \n",
            "__________________________________________________________________________________________________\n",
            "patches_5 (Patches)             (None, None, 48)     0           resize[0][0]                     \n",
            "__________________________________________________________________________________________________\n",
            "patch_encoder_4 (PatchEncoder)  (None, 64, 64)       7232        patches_5[0][0]                  \n",
            "__________________________________________________________________________________________________\n",
            "ln1_1 (LayerNormalization)      (None, 64, 64)       128         patch_encoder_4[0][0]            \n",
            "__________________________________________________________________________________________________\n",
            "mha1 (MultiHeadAttention)       (None, 64, 64)       16640       ln1_1[0][0]                      \n",
            "                                                                 ln1_1[0][0]                      \n",
            "__________________________________________________________________________________________________\n",
            "skip1_1 (Add)                   (None, 64, 64)       0           mha1[0][0]                       \n",
            "                                                                 patch_encoder_4[0][0]            \n",
            "__________________________________________________________________________________________________\n",
            "ln1_2 (LayerNormalization)      (None, 64, 64)       128         skip1_1[0][0]                    \n",
            "__________________________________________________________________________________________________\n",
            "mlp1/dens0 (Dense)              (None, 64, 64)       4160        ln1_2[0][0]                      \n",
            "__________________________________________________________________________________________________\n",
            "mlp1/drop0 (Dropout)            (None, 64, 64)       0           mlp1/dens0[0][0]                 \n",
            "__________________________________________________________________________________________________\n",
            "mlp1/dens1 (Dense)              (None, 64, 64)       4160        mlp1/drop0[0][0]                 \n",
            "__________________________________________________________________________________________________\n",
            "mlp1/drop1 (Dropout)            (None, 64, 64)       0           mlp1/dens1[0][0]                 \n",
            "__________________________________________________________________________________________________\n",
            "skip1_2 (Add)                   (None, 64, 64)       0           mlp1/drop1[0][0]                 \n",
            "                                                                 skip1_1[0][0]                    \n",
            "__________________________________________________________________________________________________\n",
            "ln2_1 (LayerNormalization)      (None, 64, 64)       128         skip1_2[0][0]                    \n",
            "__________________________________________________________________________________________________\n",
            "mha2 (MultiHeadAttention)       (None, 64, 64)       16640       ln2_1[0][0]                      \n",
            "                                                                 ln2_1[0][0]                      \n",
            "__________________________________________________________________________________________________\n",
            "skip2_1 (Add)                   (None, 64, 64)       0           mha2[0][0]                       \n",
            "                                                                 skip1_2[0][0]                    \n",
            "__________________________________________________________________________________________________\n",
            "ln2_2 (LayerNormalization)      (None, 64, 64)       128         skip2_1[0][0]                    \n",
            "__________________________________________________________________________________________________\n",
            "mlp2/dens0 (Dense)              (None, 64, 64)       4160        ln2_2[0][0]                      \n",
            "__________________________________________________________________________________________________\n",
            "mlp2/drop0 (Dropout)            (None, 64, 64)       0           mlp2/dens0[0][0]                 \n",
            "__________________________________________________________________________________________________\n",
            "mlp2/dens1 (Dense)              (None, 64, 64)       4160        mlp2/drop0[0][0]                 \n",
            "__________________________________________________________________________________________________\n",
            "mlp2/drop1 (Dropout)            (None, 64, 64)       0           mlp2/dens1[0][0]                 \n",
            "__________________________________________________________________________________________________\n",
            "skip2_2 (Add)                   (None, 64, 64)       0           mlp2/drop1[0][0]                 \n",
            "                                                                 skip2_1[0][0]                    \n",
            "__________________________________________________________________________________________________\n",
            "ln3_1 (LayerNormalization)      (None, 64, 64)       128         skip2_2[0][0]                    \n",
            "__________________________________________________________________________________________________\n",
            "mha3 (MultiHeadAttention)       (None, 64, 64)       16640       ln3_1[0][0]                      \n",
            "                                                                 ln3_1[0][0]                      \n",
            "__________________________________________________________________________________________________\n",
            "skip3_1 (Add)                   (None, 64, 64)       0           mha3[0][0]                       \n",
            "                                                                 skip2_2[0][0]                    \n",
            "__________________________________________________________________________________________________\n",
            "ln3_2 (LayerNormalization)      (None, 64, 64)       128         skip3_1[0][0]                    \n",
            "__________________________________________________________________________________________________\n",
            "mlp3/dens0 (Dense)              (None, 64, 64)       4160        ln3_2[0][0]                      \n",
            "__________________________________________________________________________________________________\n",
            "mlp3/drop0 (Dropout)            (None, 64, 64)       0           mlp3/dens0[0][0]                 \n",
            "__________________________________________________________________________________________________\n",
            "mlp3/dens1 (Dense)              (None, 64, 64)       4160        mlp3/drop0[0][0]                 \n",
            "__________________________________________________________________________________________________\n",
            "mlp3/drop1 (Dropout)            (None, 64, 64)       0           mlp3/dens1[0][0]                 \n",
            "__________________________________________________________________________________________________\n",
            "skip3_2 (Add)                   (None, 64, 64)       0           mlp3/drop1[0][0]                 \n",
            "                                                                 skip3_1[0][0]                    \n",
            "__________________________________________________________________________________________________\n",
            "ln4_1 (LayerNormalization)      (None, 64, 64)       128         skip3_2[0][0]                    \n",
            "__________________________________________________________________________________________________\n",
            "mha4 (MultiHeadAttention)       (None, 64, 64)       16640       ln4_1[0][0]                      \n",
            "                                                                 ln4_1[0][0]                      \n",
            "__________________________________________________________________________________________________\n",
            "skip4_1 (Add)                   (None, 64, 64)       0           mha4[0][0]                       \n",
            "                                                                 skip3_2[0][0]                    \n",
            "__________________________________________________________________________________________________\n",
            "ln4_2 (LayerNormalization)      (None, 64, 64)       128         skip4_1[0][0]                    \n",
            "__________________________________________________________________________________________________\n",
            "mlp4/dens0 (Dense)              (None, 64, 64)       4160        ln4_2[0][0]                      \n",
            "__________________________________________________________________________________________________\n",
            "mlp4/drop0 (Dropout)            (None, 64, 64)       0           mlp4/dens0[0][0]                 \n",
            "__________________________________________________________________________________________________\n",
            "mlp4/dens1 (Dense)              (None, 64, 64)       4160        mlp4/drop0[0][0]                 \n",
            "__________________________________________________________________________________________________\n",
            "mlp4/drop1 (Dropout)            (None, 64, 64)       0           mlp4/dens1[0][0]                 \n",
            "__________________________________________________________________________________________________\n",
            "skip4_2 (Add)                   (None, 64, 64)       0           mlp4/drop1[0][0]                 \n",
            "                                                                 skip4_1[0][0]                    \n",
            "__________________________________________________________________________________________________\n",
            "classifier_ln (LayerNormalizati (None, 64, 64)       128         skip4_2[0][0]                    \n",
            "__________________________________________________________________________________________________\n",
            "classifier_flat (Flatten)       (None, 4096)         0           classifier_ln[0][0]              \n",
            "__________________________________________________________________________________________________\n",
            "classifier_drop (Dropout)       (None, 4096)         0           classifier_flat[0][0]            \n",
            "__________________________________________________________________________________________________\n",
            "classifier_mlp/dens0 (Dense)    (None, 512)          2097664     classifier_drop[0][0]            \n",
            "__________________________________________________________________________________________________\n",
            "classifier_mlp/drop0 (Dropout)  (None, 512)          0           classifier_mlp/dens0[0][0]       \n",
            "__________________________________________________________________________________________________\n",
            "logits (Dense)                  (None, 10)           5130        classifier_mlp/drop0[0][0]       \n",
            "==================================================================================================\n",
            "Total params: 2,211,018\n",
            "Trainable params: 2,211,018\n",
            "Non-trainable params: 0\n",
            "__________________________________________________________________________________________________\n",
            "Epoch 1/50\n",
            "196/196 [==============================] - 15s 50ms/step - loss: 2.5472 - sparse_categorical_accuracy: 0.1742 - val_loss: 1.7637 - val_sparse_categorical_accuracy: 0.3487\n"
          ],
          "name": "stdout"
        },
        {
          "output_type": "stream",
          "text": [
            "WARNING:absl:Found untraced functions such as dense_4_layer_call_fn, dense_4_layer_call_and_return_conditional_losses, embedding_4_layer_call_fn, embedding_4_layer_call_and_return_conditional_losses, query_layer_call_fn while saving (showing 5 of 130). These functions will not be directly callable after loading.\n",
            "WARNING:absl:Found untraced functions such as dense_4_layer_call_fn, dense_4_layer_call_and_return_conditional_losses, embedding_4_layer_call_fn, embedding_4_layer_call_and_return_conditional_losses, query_layer_call_fn while saving (showing 5 of 130). These functions will not be directly callable after loading.\n"
          ],
          "name": "stderr"
        },
        {
          "output_type": "stream",
          "text": [
            "INFO:tensorflow:Assets written to: /content/drive/MyDrive/02_Work/05_Experiments/TF-Transformer/Cifar10_VIT/210318_VIT_4x4_2hd_64proj/assets\n"
          ],
          "name": "stdout"
        },
        {
          "output_type": "stream",
          "text": [
            "INFO:tensorflow:Assets written to: /content/drive/MyDrive/02_Work/05_Experiments/TF-Transformer/Cifar10_VIT/210318_VIT_4x4_2hd_64proj/assets\n"
          ],
          "name": "stderr"
        },
        {
          "output_type": "stream",
          "text": [
            "Epoch 2/50\n",
            "196/196 [==============================] - 8s 42ms/step - loss: 1.8077 - sparse_categorical_accuracy: 0.3298 - val_loss: 1.4881 - val_sparse_categorical_accuracy: 0.4608\n"
          ],
          "name": "stdout"
        },
        {
          "output_type": "stream",
          "text": [
            "WARNING:absl:Found untraced functions such as dense_4_layer_call_fn, dense_4_layer_call_and_return_conditional_losses, embedding_4_layer_call_fn, embedding_4_layer_call_and_return_conditional_losses, query_layer_call_fn while saving (showing 5 of 130). These functions will not be directly callable after loading.\n",
            "WARNING:absl:Found untraced functions such as dense_4_layer_call_fn, dense_4_layer_call_and_return_conditional_losses, embedding_4_layer_call_fn, embedding_4_layer_call_and_return_conditional_losses, query_layer_call_fn while saving (showing 5 of 130). These functions will not be directly callable after loading.\n"
          ],
          "name": "stderr"
        },
        {
          "output_type": "stream",
          "text": [
            "INFO:tensorflow:Assets written to: /content/drive/MyDrive/02_Work/05_Experiments/TF-Transformer/Cifar10_VIT/210318_VIT_4x4_2hd_64proj/assets\n"
          ],
          "name": "stdout"
        },
        {
          "output_type": "stream",
          "text": [
            "INFO:tensorflow:Assets written to: /content/drive/MyDrive/02_Work/05_Experiments/TF-Transformer/Cifar10_VIT/210318_VIT_4x4_2hd_64proj/assets\n"
          ],
          "name": "stderr"
        },
        {
          "output_type": "stream",
          "text": [
            "Epoch 3/50\n",
            "196/196 [==============================] - 8s 42ms/step - loss: 1.6288 - sparse_categorical_accuracy: 0.4057 - val_loss: 1.3766 - val_sparse_categorical_accuracy: 0.4943\n"
          ],
          "name": "stdout"
        },
        {
          "output_type": "stream",
          "text": [
            "WARNING:absl:Found untraced functions such as dense_4_layer_call_fn, dense_4_layer_call_and_return_conditional_losses, embedding_4_layer_call_fn, embedding_4_layer_call_and_return_conditional_losses, query_layer_call_fn while saving (showing 5 of 130). These functions will not be directly callable after loading.\n",
            "WARNING:absl:Found untraced functions such as dense_4_layer_call_fn, dense_4_layer_call_and_return_conditional_losses, embedding_4_layer_call_fn, embedding_4_layer_call_and_return_conditional_losses, query_layer_call_fn while saving (showing 5 of 130). These functions will not be directly callable after loading.\n"
          ],
          "name": "stderr"
        },
        {
          "output_type": "stream",
          "text": [
            "INFO:tensorflow:Assets written to: /content/drive/MyDrive/02_Work/05_Experiments/TF-Transformer/Cifar10_VIT/210318_VIT_4x4_2hd_64proj/assets\n"
          ],
          "name": "stdout"
        },
        {
          "output_type": "stream",
          "text": [
            "INFO:tensorflow:Assets written to: /content/drive/MyDrive/02_Work/05_Experiments/TF-Transformer/Cifar10_VIT/210318_VIT_4x4_2hd_64proj/assets\n"
          ],
          "name": "stderr"
        },
        {
          "output_type": "stream",
          "text": [
            "Epoch 4/50\n",
            "196/196 [==============================] - 8s 41ms/step - loss: 1.5314 - sparse_categorical_accuracy: 0.4453 - val_loss: 1.3071 - val_sparse_categorical_accuracy: 0.5273\n"
          ],
          "name": "stdout"
        },
        {
          "output_type": "stream",
          "text": [
            "WARNING:absl:Found untraced functions such as dense_4_layer_call_fn, dense_4_layer_call_and_return_conditional_losses, embedding_4_layer_call_fn, embedding_4_layer_call_and_return_conditional_losses, query_layer_call_fn while saving (showing 5 of 130). These functions will not be directly callable after loading.\n",
            "WARNING:absl:Found untraced functions such as dense_4_layer_call_fn, dense_4_layer_call_and_return_conditional_losses, embedding_4_layer_call_fn, embedding_4_layer_call_and_return_conditional_losses, query_layer_call_fn while saving (showing 5 of 130). These functions will not be directly callable after loading.\n"
          ],
          "name": "stderr"
        },
        {
          "output_type": "stream",
          "text": [
            "INFO:tensorflow:Assets written to: /content/drive/MyDrive/02_Work/05_Experiments/TF-Transformer/Cifar10_VIT/210318_VIT_4x4_2hd_64proj/assets\n"
          ],
          "name": "stdout"
        },
        {
          "output_type": "stream",
          "text": [
            "INFO:tensorflow:Assets written to: /content/drive/MyDrive/02_Work/05_Experiments/TF-Transformer/Cifar10_VIT/210318_VIT_4x4_2hd_64proj/assets\n"
          ],
          "name": "stderr"
        },
        {
          "output_type": "stream",
          "text": [
            "Epoch 5/50\n",
            "196/196 [==============================] - 8s 42ms/step - loss: 1.4434 - sparse_categorical_accuracy: 0.4710 - val_loss: 1.2687 - val_sparse_categorical_accuracy: 0.5328\n"
          ],
          "name": "stdout"
        },
        {
          "output_type": "stream",
          "text": [
            "WARNING:absl:Found untraced functions such as dense_4_layer_call_fn, dense_4_layer_call_and_return_conditional_losses, embedding_4_layer_call_fn, embedding_4_layer_call_and_return_conditional_losses, query_layer_call_fn while saving (showing 5 of 130). These functions will not be directly callable after loading.\n",
            "WARNING:absl:Found untraced functions such as dense_4_layer_call_fn, dense_4_layer_call_and_return_conditional_losses, embedding_4_layer_call_fn, embedding_4_layer_call_and_return_conditional_losses, query_layer_call_fn while saving (showing 5 of 130). These functions will not be directly callable after loading.\n"
          ],
          "name": "stderr"
        },
        {
          "output_type": "stream",
          "text": [
            "INFO:tensorflow:Assets written to: /content/drive/MyDrive/02_Work/05_Experiments/TF-Transformer/Cifar10_VIT/210318_VIT_4x4_2hd_64proj/assets\n"
          ],
          "name": "stdout"
        },
        {
          "output_type": "stream",
          "text": [
            "INFO:tensorflow:Assets written to: /content/drive/MyDrive/02_Work/05_Experiments/TF-Transformer/Cifar10_VIT/210318_VIT_4x4_2hd_64proj/assets\n"
          ],
          "name": "stderr"
        },
        {
          "output_type": "stream",
          "text": [
            "Epoch 6/50\n",
            "196/196 [==============================] - 8s 41ms/step - loss: 1.3893 - sparse_categorical_accuracy: 0.4929 - val_loss: 1.2298 - val_sparse_categorical_accuracy: 0.5538\n"
          ],
          "name": "stdout"
        },
        {
          "output_type": "stream",
          "text": [
            "WARNING:absl:Found untraced functions such as dense_4_layer_call_fn, dense_4_layer_call_and_return_conditional_losses, embedding_4_layer_call_fn, embedding_4_layer_call_and_return_conditional_losses, query_layer_call_fn while saving (showing 5 of 130). These functions will not be directly callable after loading.\n",
            "WARNING:absl:Found untraced functions such as dense_4_layer_call_fn, dense_4_layer_call_and_return_conditional_losses, embedding_4_layer_call_fn, embedding_4_layer_call_and_return_conditional_losses, query_layer_call_fn while saving (showing 5 of 130). These functions will not be directly callable after loading.\n"
          ],
          "name": "stderr"
        },
        {
          "output_type": "stream",
          "text": [
            "INFO:tensorflow:Assets written to: /content/drive/MyDrive/02_Work/05_Experiments/TF-Transformer/Cifar10_VIT/210318_VIT_4x4_2hd_64proj/assets\n"
          ],
          "name": "stdout"
        },
        {
          "output_type": "stream",
          "text": [
            "INFO:tensorflow:Assets written to: /content/drive/MyDrive/02_Work/05_Experiments/TF-Transformer/Cifar10_VIT/210318_VIT_4x4_2hd_64proj/assets\n"
          ],
          "name": "stderr"
        },
        {
          "output_type": "stream",
          "text": [
            "Epoch 7/50\n",
            "196/196 [==============================] - 8s 41ms/step - loss: 1.3312 - sparse_categorical_accuracy: 0.5200 - val_loss: 1.1805 - val_sparse_categorical_accuracy: 0.5674\n"
          ],
          "name": "stdout"
        },
        {
          "output_type": "stream",
          "text": [
            "WARNING:absl:Found untraced functions such as dense_4_layer_call_fn, dense_4_layer_call_and_return_conditional_losses, embedding_4_layer_call_fn, embedding_4_layer_call_and_return_conditional_losses, query_layer_call_fn while saving (showing 5 of 130). These functions will not be directly callable after loading.\n",
            "WARNING:absl:Found untraced functions such as dense_4_layer_call_fn, dense_4_layer_call_and_return_conditional_losses, embedding_4_layer_call_fn, embedding_4_layer_call_and_return_conditional_losses, query_layer_call_fn while saving (showing 5 of 130). These functions will not be directly callable after loading.\n"
          ],
          "name": "stderr"
        },
        {
          "output_type": "stream",
          "text": [
            "INFO:tensorflow:Assets written to: /content/drive/MyDrive/02_Work/05_Experiments/TF-Transformer/Cifar10_VIT/210318_VIT_4x4_2hd_64proj/assets\n"
          ],
          "name": "stdout"
        },
        {
          "output_type": "stream",
          "text": [
            "INFO:tensorflow:Assets written to: /content/drive/MyDrive/02_Work/05_Experiments/TF-Transformer/Cifar10_VIT/210318_VIT_4x4_2hd_64proj/assets\n"
          ],
          "name": "stderr"
        },
        {
          "output_type": "stream",
          "text": [
            "Epoch 8/50\n",
            "196/196 [==============================] - 8s 41ms/step - loss: 1.2778 - sparse_categorical_accuracy: 0.5397 - val_loss: 1.1328 - val_sparse_categorical_accuracy: 0.5895\n"
          ],
          "name": "stdout"
        },
        {
          "output_type": "stream",
          "text": [
            "WARNING:absl:Found untraced functions such as dense_4_layer_call_fn, dense_4_layer_call_and_return_conditional_losses, embedding_4_layer_call_fn, embedding_4_layer_call_and_return_conditional_losses, query_layer_call_fn while saving (showing 5 of 130). These functions will not be directly callable after loading.\n",
            "WARNING:absl:Found untraced functions such as dense_4_layer_call_fn, dense_4_layer_call_and_return_conditional_losses, embedding_4_layer_call_fn, embedding_4_layer_call_and_return_conditional_losses, query_layer_call_fn while saving (showing 5 of 130). These functions will not be directly callable after loading.\n"
          ],
          "name": "stderr"
        },
        {
          "output_type": "stream",
          "text": [
            "INFO:tensorflow:Assets written to: /content/drive/MyDrive/02_Work/05_Experiments/TF-Transformer/Cifar10_VIT/210318_VIT_4x4_2hd_64proj/assets\n"
          ],
          "name": "stdout"
        },
        {
          "output_type": "stream",
          "text": [
            "INFO:tensorflow:Assets written to: /content/drive/MyDrive/02_Work/05_Experiments/TF-Transformer/Cifar10_VIT/210318_VIT_4x4_2hd_64proj/assets\n"
          ],
          "name": "stderr"
        },
        {
          "output_type": "stream",
          "text": [
            "Epoch 9/50\n",
            "196/196 [==============================] - 8s 41ms/step - loss: 1.2278 - sparse_categorical_accuracy: 0.5627 - val_loss: 1.0813 - val_sparse_categorical_accuracy: 0.6113\n"
          ],
          "name": "stdout"
        },
        {
          "output_type": "stream",
          "text": [
            "WARNING:absl:Found untraced functions such as dense_4_layer_call_fn, dense_4_layer_call_and_return_conditional_losses, embedding_4_layer_call_fn, embedding_4_layer_call_and_return_conditional_losses, query_layer_call_fn while saving (showing 5 of 130). These functions will not be directly callable after loading.\n",
            "WARNING:absl:Found untraced functions such as dense_4_layer_call_fn, dense_4_layer_call_and_return_conditional_losses, embedding_4_layer_call_fn, embedding_4_layer_call_and_return_conditional_losses, query_layer_call_fn while saving (showing 5 of 130). These functions will not be directly callable after loading.\n"
          ],
          "name": "stderr"
        },
        {
          "output_type": "stream",
          "text": [
            "INFO:tensorflow:Assets written to: /content/drive/MyDrive/02_Work/05_Experiments/TF-Transformer/Cifar10_VIT/210318_VIT_4x4_2hd_64proj/assets\n"
          ],
          "name": "stdout"
        },
        {
          "output_type": "stream",
          "text": [
            "INFO:tensorflow:Assets written to: /content/drive/MyDrive/02_Work/05_Experiments/TF-Transformer/Cifar10_VIT/210318_VIT_4x4_2hd_64proj/assets\n"
          ],
          "name": "stderr"
        },
        {
          "output_type": "stream",
          "text": [
            "Epoch 10/50\n",
            "196/196 [==============================] - 8s 41ms/step - loss: 1.1693 - sparse_categorical_accuracy: 0.5810 - val_loss: 1.0721 - val_sparse_categorical_accuracy: 0.6156\n"
          ],
          "name": "stdout"
        },
        {
          "output_type": "stream",
          "text": [
            "WARNING:absl:Found untraced functions such as dense_4_layer_call_fn, dense_4_layer_call_and_return_conditional_losses, embedding_4_layer_call_fn, embedding_4_layer_call_and_return_conditional_losses, query_layer_call_fn while saving (showing 5 of 130). These functions will not be directly callable after loading.\n",
            "WARNING:absl:Found untraced functions such as dense_4_layer_call_fn, dense_4_layer_call_and_return_conditional_losses, embedding_4_layer_call_fn, embedding_4_layer_call_and_return_conditional_losses, query_layer_call_fn while saving (showing 5 of 130). These functions will not be directly callable after loading.\n"
          ],
          "name": "stderr"
        },
        {
          "output_type": "stream",
          "text": [
            "INFO:tensorflow:Assets written to: /content/drive/MyDrive/02_Work/05_Experiments/TF-Transformer/Cifar10_VIT/210318_VIT_4x4_2hd_64proj/assets\n"
          ],
          "name": "stdout"
        },
        {
          "output_type": "stream",
          "text": [
            "INFO:tensorflow:Assets written to: /content/drive/MyDrive/02_Work/05_Experiments/TF-Transformer/Cifar10_VIT/210318_VIT_4x4_2hd_64proj/assets\n"
          ],
          "name": "stderr"
        },
        {
          "output_type": "stream",
          "text": [
            "Epoch 11/50\n",
            "196/196 [==============================] - 8s 41ms/step - loss: 1.1560 - sparse_categorical_accuracy: 0.5900 - val_loss: 1.0229 - val_sparse_categorical_accuracy: 0.6300\n"
          ],
          "name": "stdout"
        },
        {
          "output_type": "stream",
          "text": [
            "WARNING:absl:Found untraced functions such as dense_4_layer_call_fn, dense_4_layer_call_and_return_conditional_losses, embedding_4_layer_call_fn, embedding_4_layer_call_and_return_conditional_losses, query_layer_call_fn while saving (showing 5 of 130). These functions will not be directly callable after loading.\n",
            "WARNING:absl:Found untraced functions such as dense_4_layer_call_fn, dense_4_layer_call_and_return_conditional_losses, embedding_4_layer_call_fn, embedding_4_layer_call_and_return_conditional_losses, query_layer_call_fn while saving (showing 5 of 130). These functions will not be directly callable after loading.\n"
          ],
          "name": "stderr"
        },
        {
          "output_type": "stream",
          "text": [
            "INFO:tensorflow:Assets written to: /content/drive/MyDrive/02_Work/05_Experiments/TF-Transformer/Cifar10_VIT/210318_VIT_4x4_2hd_64proj/assets\n"
          ],
          "name": "stdout"
        },
        {
          "output_type": "stream",
          "text": [
            "INFO:tensorflow:Assets written to: /content/drive/MyDrive/02_Work/05_Experiments/TF-Transformer/Cifar10_VIT/210318_VIT_4x4_2hd_64proj/assets\n"
          ],
          "name": "stderr"
        },
        {
          "output_type": "stream",
          "text": [
            "Epoch 12/50\n",
            "196/196 [==============================] - 8s 41ms/step - loss: 1.1079 - sparse_categorical_accuracy: 0.6033 - val_loss: 1.0068 - val_sparse_categorical_accuracy: 0.6434\n"
          ],
          "name": "stdout"
        },
        {
          "output_type": "stream",
          "text": [
            "WARNING:absl:Found untraced functions such as dense_4_layer_call_fn, dense_4_layer_call_and_return_conditional_losses, embedding_4_layer_call_fn, embedding_4_layer_call_and_return_conditional_losses, query_layer_call_fn while saving (showing 5 of 130). These functions will not be directly callable after loading.\n",
            "WARNING:absl:Found untraced functions such as dense_4_layer_call_fn, dense_4_layer_call_and_return_conditional_losses, embedding_4_layer_call_fn, embedding_4_layer_call_and_return_conditional_losses, query_layer_call_fn while saving (showing 5 of 130). These functions will not be directly callable after loading.\n"
          ],
          "name": "stderr"
        },
        {
          "output_type": "stream",
          "text": [
            "INFO:tensorflow:Assets written to: /content/drive/MyDrive/02_Work/05_Experiments/TF-Transformer/Cifar10_VIT/210318_VIT_4x4_2hd_64proj/assets\n"
          ],
          "name": "stdout"
        },
        {
          "output_type": "stream",
          "text": [
            "INFO:tensorflow:Assets written to: /content/drive/MyDrive/02_Work/05_Experiments/TF-Transformer/Cifar10_VIT/210318_VIT_4x4_2hd_64proj/assets\n"
          ],
          "name": "stderr"
        },
        {
          "output_type": "stream",
          "text": [
            "Epoch 13/50\n",
            "196/196 [==============================] - 8s 41ms/step - loss: 1.0691 - sparse_categorical_accuracy: 0.6173 - val_loss: 0.9824 - val_sparse_categorical_accuracy: 0.6518\n"
          ],
          "name": "stdout"
        },
        {
          "output_type": "stream",
          "text": [
            "WARNING:absl:Found untraced functions such as dense_4_layer_call_fn, dense_4_layer_call_and_return_conditional_losses, embedding_4_layer_call_fn, embedding_4_layer_call_and_return_conditional_losses, query_layer_call_fn while saving (showing 5 of 130). These functions will not be directly callable after loading.\n",
            "WARNING:absl:Found untraced functions such as dense_4_layer_call_fn, dense_4_layer_call_and_return_conditional_losses, embedding_4_layer_call_fn, embedding_4_layer_call_and_return_conditional_losses, query_layer_call_fn while saving (showing 5 of 130). These functions will not be directly callable after loading.\n"
          ],
          "name": "stderr"
        },
        {
          "output_type": "stream",
          "text": [
            "INFO:tensorflow:Assets written to: /content/drive/MyDrive/02_Work/05_Experiments/TF-Transformer/Cifar10_VIT/210318_VIT_4x4_2hd_64proj/assets\n"
          ],
          "name": "stdout"
        },
        {
          "output_type": "stream",
          "text": [
            "INFO:tensorflow:Assets written to: /content/drive/MyDrive/02_Work/05_Experiments/TF-Transformer/Cifar10_VIT/210318_VIT_4x4_2hd_64proj/assets\n"
          ],
          "name": "stderr"
        },
        {
          "output_type": "stream",
          "text": [
            "Epoch 14/50\n",
            "196/196 [==============================] - 8s 41ms/step - loss: 1.0397 - sparse_categorical_accuracy: 0.6276 - val_loss: 0.9806 - val_sparse_categorical_accuracy: 0.6564\n"
          ],
          "name": "stdout"
        },
        {
          "output_type": "stream",
          "text": [
            "WARNING:absl:Found untraced functions such as dense_4_layer_call_fn, dense_4_layer_call_and_return_conditional_losses, embedding_4_layer_call_fn, embedding_4_layer_call_and_return_conditional_losses, query_layer_call_fn while saving (showing 5 of 130). These functions will not be directly callable after loading.\n",
            "WARNING:absl:Found untraced functions such as dense_4_layer_call_fn, dense_4_layer_call_and_return_conditional_losses, embedding_4_layer_call_fn, embedding_4_layer_call_and_return_conditional_losses, query_layer_call_fn while saving (showing 5 of 130). These functions will not be directly callable after loading.\n"
          ],
          "name": "stderr"
        },
        {
          "output_type": "stream",
          "text": [
            "INFO:tensorflow:Assets written to: /content/drive/MyDrive/02_Work/05_Experiments/TF-Transformer/Cifar10_VIT/210318_VIT_4x4_2hd_64proj/assets\n"
          ],
          "name": "stdout"
        },
        {
          "output_type": "stream",
          "text": [
            "INFO:tensorflow:Assets written to: /content/drive/MyDrive/02_Work/05_Experiments/TF-Transformer/Cifar10_VIT/210318_VIT_4x4_2hd_64proj/assets\n"
          ],
          "name": "stderr"
        },
        {
          "output_type": "stream",
          "text": [
            "Epoch 15/50\n",
            "196/196 [==============================] - 8s 41ms/step - loss: 1.0243 - sparse_categorical_accuracy: 0.6377 - val_loss: 0.9616 - val_sparse_categorical_accuracy: 0.6606\n"
          ],
          "name": "stdout"
        },
        {
          "output_type": "stream",
          "text": [
            "WARNING:absl:Found untraced functions such as dense_4_layer_call_fn, dense_4_layer_call_and_return_conditional_losses, embedding_4_layer_call_fn, embedding_4_layer_call_and_return_conditional_losses, query_layer_call_fn while saving (showing 5 of 130). These functions will not be directly callable after loading.\n",
            "WARNING:absl:Found untraced functions such as dense_4_layer_call_fn, dense_4_layer_call_and_return_conditional_losses, embedding_4_layer_call_fn, embedding_4_layer_call_and_return_conditional_losses, query_layer_call_fn while saving (showing 5 of 130). These functions will not be directly callable after loading.\n"
          ],
          "name": "stderr"
        },
        {
          "output_type": "stream",
          "text": [
            "INFO:tensorflow:Assets written to: /content/drive/MyDrive/02_Work/05_Experiments/TF-Transformer/Cifar10_VIT/210318_VIT_4x4_2hd_64proj/assets\n"
          ],
          "name": "stdout"
        },
        {
          "output_type": "stream",
          "text": [
            "INFO:tensorflow:Assets written to: /content/drive/MyDrive/02_Work/05_Experiments/TF-Transformer/Cifar10_VIT/210318_VIT_4x4_2hd_64proj/assets\n"
          ],
          "name": "stderr"
        },
        {
          "output_type": "stream",
          "text": [
            "Epoch 16/50\n",
            "196/196 [==============================] - 8s 42ms/step - loss: 0.9846 - sparse_categorical_accuracy: 0.6513 - val_loss: 0.9533 - val_sparse_categorical_accuracy: 0.6604\n",
            "Epoch 17/50\n",
            "196/196 [==============================] - 8s 41ms/step - loss: 0.9583 - sparse_categorical_accuracy: 0.6597 - val_loss: 0.9620 - val_sparse_categorical_accuracy: 0.6604\n",
            "Epoch 18/50\n",
            "196/196 [==============================] - 8s 41ms/step - loss: 0.9264 - sparse_categorical_accuracy: 0.6712 - val_loss: 0.9299 - val_sparse_categorical_accuracy: 0.6732\n"
          ],
          "name": "stdout"
        },
        {
          "output_type": "stream",
          "text": [
            "WARNING:absl:Found untraced functions such as dense_4_layer_call_fn, dense_4_layer_call_and_return_conditional_losses, embedding_4_layer_call_fn, embedding_4_layer_call_and_return_conditional_losses, query_layer_call_fn while saving (showing 5 of 130). These functions will not be directly callable after loading.\n",
            "WARNING:absl:Found untraced functions such as dense_4_layer_call_fn, dense_4_layer_call_and_return_conditional_losses, embedding_4_layer_call_fn, embedding_4_layer_call_and_return_conditional_losses, query_layer_call_fn while saving (showing 5 of 130). These functions will not be directly callable after loading.\n"
          ],
          "name": "stderr"
        },
        {
          "output_type": "stream",
          "text": [
            "INFO:tensorflow:Assets written to: /content/drive/MyDrive/02_Work/05_Experiments/TF-Transformer/Cifar10_VIT/210318_VIT_4x4_2hd_64proj/assets\n"
          ],
          "name": "stdout"
        },
        {
          "output_type": "stream",
          "text": [
            "INFO:tensorflow:Assets written to: /content/drive/MyDrive/02_Work/05_Experiments/TF-Transformer/Cifar10_VIT/210318_VIT_4x4_2hd_64proj/assets\n"
          ],
          "name": "stderr"
        },
        {
          "output_type": "stream",
          "text": [
            "Epoch 19/50\n",
            "196/196 [==============================] - 8s 41ms/step - loss: 0.9227 - sparse_categorical_accuracy: 0.6753 - val_loss: 0.9206 - val_sparse_categorical_accuracy: 0.6732\n",
            "Epoch 20/50\n",
            "196/196 [==============================] - 8s 41ms/step - loss: 0.8916 - sparse_categorical_accuracy: 0.6795 - val_loss: 0.9041 - val_sparse_categorical_accuracy: 0.6848\n"
          ],
          "name": "stdout"
        },
        {
          "output_type": "stream",
          "text": [
            "WARNING:absl:Found untraced functions such as dense_4_layer_call_fn, dense_4_layer_call_and_return_conditional_losses, embedding_4_layer_call_fn, embedding_4_layer_call_and_return_conditional_losses, query_layer_call_fn while saving (showing 5 of 130). These functions will not be directly callable after loading.\n",
            "WARNING:absl:Found untraced functions such as dense_4_layer_call_fn, dense_4_layer_call_and_return_conditional_losses, embedding_4_layer_call_fn, embedding_4_layer_call_and_return_conditional_losses, query_layer_call_fn while saving (showing 5 of 130). These functions will not be directly callable after loading.\n"
          ],
          "name": "stderr"
        },
        {
          "output_type": "stream",
          "text": [
            "INFO:tensorflow:Assets written to: /content/drive/MyDrive/02_Work/05_Experiments/TF-Transformer/Cifar10_VIT/210318_VIT_4x4_2hd_64proj/assets\n"
          ],
          "name": "stdout"
        },
        {
          "output_type": "stream",
          "text": [
            "INFO:tensorflow:Assets written to: /content/drive/MyDrive/02_Work/05_Experiments/TF-Transformer/Cifar10_VIT/210318_VIT_4x4_2hd_64proj/assets\n"
          ],
          "name": "stderr"
        },
        {
          "output_type": "stream",
          "text": [
            "Epoch 21/50\n",
            "196/196 [==============================] - 8s 41ms/step - loss: 0.8722 - sparse_categorical_accuracy: 0.6920 - val_loss: 0.9120 - val_sparse_categorical_accuracy: 0.6771\n",
            "Epoch 22/50\n",
            "196/196 [==============================] - 8s 41ms/step - loss: 0.8579 - sparse_categorical_accuracy: 0.6951 - val_loss: 0.8815 - val_sparse_categorical_accuracy: 0.6895\n"
          ],
          "name": "stdout"
        },
        {
          "output_type": "stream",
          "text": [
            "WARNING:absl:Found untraced functions such as dense_4_layer_call_fn, dense_4_layer_call_and_return_conditional_losses, embedding_4_layer_call_fn, embedding_4_layer_call_and_return_conditional_losses, query_layer_call_fn while saving (showing 5 of 130). These functions will not be directly callable after loading.\n",
            "WARNING:absl:Found untraced functions such as dense_4_layer_call_fn, dense_4_layer_call_and_return_conditional_losses, embedding_4_layer_call_fn, embedding_4_layer_call_and_return_conditional_losses, query_layer_call_fn while saving (showing 5 of 130). These functions will not be directly callable after loading.\n"
          ],
          "name": "stderr"
        },
        {
          "output_type": "stream",
          "text": [
            "INFO:tensorflow:Assets written to: /content/drive/MyDrive/02_Work/05_Experiments/TF-Transformer/Cifar10_VIT/210318_VIT_4x4_2hd_64proj/assets\n"
          ],
          "name": "stdout"
        },
        {
          "output_type": "stream",
          "text": [
            "INFO:tensorflow:Assets written to: /content/drive/MyDrive/02_Work/05_Experiments/TF-Transformer/Cifar10_VIT/210318_VIT_4x4_2hd_64proj/assets\n"
          ],
          "name": "stderr"
        },
        {
          "output_type": "stream",
          "text": [
            "Epoch 23/50\n",
            "196/196 [==============================] - 8s 41ms/step - loss: 0.8300 - sparse_categorical_accuracy: 0.7075 - val_loss: 0.8664 - val_sparse_categorical_accuracy: 0.6973\n"
          ],
          "name": "stdout"
        },
        {
          "output_type": "stream",
          "text": [
            "WARNING:absl:Found untraced functions such as dense_4_layer_call_fn, dense_4_layer_call_and_return_conditional_losses, embedding_4_layer_call_fn, embedding_4_layer_call_and_return_conditional_losses, query_layer_call_fn while saving (showing 5 of 130). These functions will not be directly callable after loading.\n",
            "WARNING:absl:Found untraced functions such as dense_4_layer_call_fn, dense_4_layer_call_and_return_conditional_losses, embedding_4_layer_call_fn, embedding_4_layer_call_and_return_conditional_losses, query_layer_call_fn while saving (showing 5 of 130). These functions will not be directly callable after loading.\n"
          ],
          "name": "stderr"
        },
        {
          "output_type": "stream",
          "text": [
            "INFO:tensorflow:Assets written to: /content/drive/MyDrive/02_Work/05_Experiments/TF-Transformer/Cifar10_VIT/210318_VIT_4x4_2hd_64proj/assets\n"
          ],
          "name": "stdout"
        },
        {
          "output_type": "stream",
          "text": [
            "INFO:tensorflow:Assets written to: /content/drive/MyDrive/02_Work/05_Experiments/TF-Transformer/Cifar10_VIT/210318_VIT_4x4_2hd_64proj/assets\n"
          ],
          "name": "stderr"
        },
        {
          "output_type": "stream",
          "text": [
            "Epoch 24/50\n",
            "196/196 [==============================] - 8s 41ms/step - loss: 0.8077 - sparse_categorical_accuracy: 0.7116 - val_loss: 0.8760 - val_sparse_categorical_accuracy: 0.6904\n",
            "Epoch 25/50\n",
            "196/196 [==============================] - 8s 41ms/step - loss: 0.7989 - sparse_categorical_accuracy: 0.7191 - val_loss: 0.8754 - val_sparse_categorical_accuracy: 0.6945\n",
            "Epoch 26/50\n",
            "196/196 [==============================] - 8s 41ms/step - loss: 0.7756 - sparse_categorical_accuracy: 0.7253 - val_loss: 0.8484 - val_sparse_categorical_accuracy: 0.7026\n"
          ],
          "name": "stdout"
        },
        {
          "output_type": "stream",
          "text": [
            "WARNING:absl:Found untraced functions such as dense_4_layer_call_fn, dense_4_layer_call_and_return_conditional_losses, embedding_4_layer_call_fn, embedding_4_layer_call_and_return_conditional_losses, query_layer_call_fn while saving (showing 5 of 130). These functions will not be directly callable after loading.\n",
            "WARNING:absl:Found untraced functions such as dense_4_layer_call_fn, dense_4_layer_call_and_return_conditional_losses, embedding_4_layer_call_fn, embedding_4_layer_call_and_return_conditional_losses, query_layer_call_fn while saving (showing 5 of 130). These functions will not be directly callable after loading.\n"
          ],
          "name": "stderr"
        },
        {
          "output_type": "stream",
          "text": [
            "INFO:tensorflow:Assets written to: /content/drive/MyDrive/02_Work/05_Experiments/TF-Transformer/Cifar10_VIT/210318_VIT_4x4_2hd_64proj/assets\n"
          ],
          "name": "stdout"
        },
        {
          "output_type": "stream",
          "text": [
            "INFO:tensorflow:Assets written to: /content/drive/MyDrive/02_Work/05_Experiments/TF-Transformer/Cifar10_VIT/210318_VIT_4x4_2hd_64proj/assets\n"
          ],
          "name": "stderr"
        },
        {
          "output_type": "stream",
          "text": [
            "Epoch 27/50\n",
            "196/196 [==============================] - 8s 42ms/step - loss: 0.7616 - sparse_categorical_accuracy: 0.7352 - val_loss: 0.8656 - val_sparse_categorical_accuracy: 0.7003\n",
            "Epoch 28/50\n",
            "196/196 [==============================] - 8s 41ms/step - loss: 0.7440 - sparse_categorical_accuracy: 0.7373 - val_loss: 0.8427 - val_sparse_categorical_accuracy: 0.7068\n"
          ],
          "name": "stdout"
        },
        {
          "output_type": "stream",
          "text": [
            "WARNING:absl:Found untraced functions such as dense_4_layer_call_fn, dense_4_layer_call_and_return_conditional_losses, embedding_4_layer_call_fn, embedding_4_layer_call_and_return_conditional_losses, query_layer_call_fn while saving (showing 5 of 130). These functions will not be directly callable after loading.\n",
            "WARNING:absl:Found untraced functions such as dense_4_layer_call_fn, dense_4_layer_call_and_return_conditional_losses, embedding_4_layer_call_fn, embedding_4_layer_call_and_return_conditional_losses, query_layer_call_fn while saving (showing 5 of 130). These functions will not be directly callable after loading.\n"
          ],
          "name": "stderr"
        },
        {
          "output_type": "stream",
          "text": [
            "INFO:tensorflow:Assets written to: /content/drive/MyDrive/02_Work/05_Experiments/TF-Transformer/Cifar10_VIT/210318_VIT_4x4_2hd_64proj/assets\n"
          ],
          "name": "stdout"
        },
        {
          "output_type": "stream",
          "text": [
            "INFO:tensorflow:Assets written to: /content/drive/MyDrive/02_Work/05_Experiments/TF-Transformer/Cifar10_VIT/210318_VIT_4x4_2hd_64proj/assets\n"
          ],
          "name": "stderr"
        },
        {
          "output_type": "stream",
          "text": [
            "Epoch 29/50\n",
            "196/196 [==============================] - 8s 41ms/step - loss: 0.7340 - sparse_categorical_accuracy: 0.7432 - val_loss: 0.8454 - val_sparse_categorical_accuracy: 0.7035\n",
            "Epoch 30/50\n",
            "196/196 [==============================] - 8s 41ms/step - loss: 0.7129 - sparse_categorical_accuracy: 0.7470 - val_loss: 0.8454 - val_sparse_categorical_accuracy: 0.7074\n"
          ],
          "name": "stdout"
        },
        {
          "output_type": "stream",
          "text": [
            "WARNING:absl:Found untraced functions such as dense_4_layer_call_fn, dense_4_layer_call_and_return_conditional_losses, embedding_4_layer_call_fn, embedding_4_layer_call_and_return_conditional_losses, query_layer_call_fn while saving (showing 5 of 130). These functions will not be directly callable after loading.\n",
            "WARNING:absl:Found untraced functions such as dense_4_layer_call_fn, dense_4_layer_call_and_return_conditional_losses, embedding_4_layer_call_fn, embedding_4_layer_call_and_return_conditional_losses, query_layer_call_fn while saving (showing 5 of 130). These functions will not be directly callable after loading.\n"
          ],
          "name": "stderr"
        },
        {
          "output_type": "stream",
          "text": [
            "INFO:tensorflow:Assets written to: /content/drive/MyDrive/02_Work/05_Experiments/TF-Transformer/Cifar10_VIT/210318_VIT_4x4_2hd_64proj/assets\n"
          ],
          "name": "stdout"
        },
        {
          "output_type": "stream",
          "text": [
            "INFO:tensorflow:Assets written to: /content/drive/MyDrive/02_Work/05_Experiments/TF-Transformer/Cifar10_VIT/210318_VIT_4x4_2hd_64proj/assets\n"
          ],
          "name": "stderr"
        },
        {
          "output_type": "stream",
          "text": [
            "Epoch 31/50\n",
            "196/196 [==============================] - 8s 41ms/step - loss: 0.7002 - sparse_categorical_accuracy: 0.7529 - val_loss: 0.8375 - val_sparse_categorical_accuracy: 0.7123\n"
          ],
          "name": "stdout"
        },
        {
          "output_type": "stream",
          "text": [
            "WARNING:absl:Found untraced functions such as dense_4_layer_call_fn, dense_4_layer_call_and_return_conditional_losses, embedding_4_layer_call_fn, embedding_4_layer_call_and_return_conditional_losses, query_layer_call_fn while saving (showing 5 of 130). These functions will not be directly callable after loading.\n",
            "WARNING:absl:Found untraced functions such as dense_4_layer_call_fn, dense_4_layer_call_and_return_conditional_losses, embedding_4_layer_call_fn, embedding_4_layer_call_and_return_conditional_losses, query_layer_call_fn while saving (showing 5 of 130). These functions will not be directly callable after loading.\n"
          ],
          "name": "stderr"
        },
        {
          "output_type": "stream",
          "text": [
            "INFO:tensorflow:Assets written to: /content/drive/MyDrive/02_Work/05_Experiments/TF-Transformer/Cifar10_VIT/210318_VIT_4x4_2hd_64proj/assets\n"
          ],
          "name": "stdout"
        },
        {
          "output_type": "stream",
          "text": [
            "INFO:tensorflow:Assets written to: /content/drive/MyDrive/02_Work/05_Experiments/TF-Transformer/Cifar10_VIT/210318_VIT_4x4_2hd_64proj/assets\n"
          ],
          "name": "stderr"
        },
        {
          "output_type": "stream",
          "text": [
            "Epoch 32/50\n",
            "196/196 [==============================] - 8s 41ms/step - loss: 0.6908 - sparse_categorical_accuracy: 0.7527 - val_loss: 0.8368 - val_sparse_categorical_accuracy: 0.7150\n"
          ],
          "name": "stdout"
        },
        {
          "output_type": "stream",
          "text": [
            "WARNING:absl:Found untraced functions such as dense_4_layer_call_fn, dense_4_layer_call_and_return_conditional_losses, embedding_4_layer_call_fn, embedding_4_layer_call_and_return_conditional_losses, query_layer_call_fn while saving (showing 5 of 130). These functions will not be directly callable after loading.\n",
            "WARNING:absl:Found untraced functions such as dense_4_layer_call_fn, dense_4_layer_call_and_return_conditional_losses, embedding_4_layer_call_fn, embedding_4_layer_call_and_return_conditional_losses, query_layer_call_fn while saving (showing 5 of 130). These functions will not be directly callable after loading.\n"
          ],
          "name": "stderr"
        },
        {
          "output_type": "stream",
          "text": [
            "INFO:tensorflow:Assets written to: /content/drive/MyDrive/02_Work/05_Experiments/TF-Transformer/Cifar10_VIT/210318_VIT_4x4_2hd_64proj/assets\n"
          ],
          "name": "stdout"
        },
        {
          "output_type": "stream",
          "text": [
            "INFO:tensorflow:Assets written to: /content/drive/MyDrive/02_Work/05_Experiments/TF-Transformer/Cifar10_VIT/210318_VIT_4x4_2hd_64proj/assets\n"
          ],
          "name": "stderr"
        },
        {
          "output_type": "stream",
          "text": [
            "Epoch 33/50\n",
            "196/196 [==============================] - 8s 41ms/step - loss: 0.6722 - sparse_categorical_accuracy: 0.7599 - val_loss: 0.8312 - val_sparse_categorical_accuracy: 0.7112\n",
            "Epoch 34/50\n",
            "196/196 [==============================] - 8s 41ms/step - loss: 0.6578 - sparse_categorical_accuracy: 0.7652 - val_loss: 0.8287 - val_sparse_categorical_accuracy: 0.7153\n"
          ],
          "name": "stdout"
        },
        {
          "output_type": "stream",
          "text": [
            "WARNING:absl:Found untraced functions such as dense_4_layer_call_fn, dense_4_layer_call_and_return_conditional_losses, embedding_4_layer_call_fn, embedding_4_layer_call_and_return_conditional_losses, query_layer_call_fn while saving (showing 5 of 130). These functions will not be directly callable after loading.\n",
            "WARNING:absl:Found untraced functions such as dense_4_layer_call_fn, dense_4_layer_call_and_return_conditional_losses, embedding_4_layer_call_fn, embedding_4_layer_call_and_return_conditional_losses, query_layer_call_fn while saving (showing 5 of 130). These functions will not be directly callable after loading.\n"
          ],
          "name": "stderr"
        },
        {
          "output_type": "stream",
          "text": [
            "INFO:tensorflow:Assets written to: /content/drive/MyDrive/02_Work/05_Experiments/TF-Transformer/Cifar10_VIT/210318_VIT_4x4_2hd_64proj/assets\n"
          ],
          "name": "stdout"
        },
        {
          "output_type": "stream",
          "text": [
            "INFO:tensorflow:Assets written to: /content/drive/MyDrive/02_Work/05_Experiments/TF-Transformer/Cifar10_VIT/210318_VIT_4x4_2hd_64proj/assets\n"
          ],
          "name": "stderr"
        },
        {
          "output_type": "stream",
          "text": [
            "Epoch 35/50\n",
            "196/196 [==============================] - 8s 42ms/step - loss: 0.6487 - sparse_categorical_accuracy: 0.7676 - val_loss: 0.8186 - val_sparse_categorical_accuracy: 0.7172\n"
          ],
          "name": "stdout"
        },
        {
          "output_type": "stream",
          "text": [
            "WARNING:absl:Found untraced functions such as dense_4_layer_call_fn, dense_4_layer_call_and_return_conditional_losses, embedding_4_layer_call_fn, embedding_4_layer_call_and_return_conditional_losses, query_layer_call_fn while saving (showing 5 of 130). These functions will not be directly callable after loading.\n",
            "WARNING:absl:Found untraced functions such as dense_4_layer_call_fn, dense_4_layer_call_and_return_conditional_losses, embedding_4_layer_call_fn, embedding_4_layer_call_and_return_conditional_losses, query_layer_call_fn while saving (showing 5 of 130). These functions will not be directly callable after loading.\n"
          ],
          "name": "stderr"
        },
        {
          "output_type": "stream",
          "text": [
            "INFO:tensorflow:Assets written to: /content/drive/MyDrive/02_Work/05_Experiments/TF-Transformer/Cifar10_VIT/210318_VIT_4x4_2hd_64proj/assets\n"
          ],
          "name": "stdout"
        },
        {
          "output_type": "stream",
          "text": [
            "INFO:tensorflow:Assets written to: /content/drive/MyDrive/02_Work/05_Experiments/TF-Transformer/Cifar10_VIT/210318_VIT_4x4_2hd_64proj/assets\n"
          ],
          "name": "stderr"
        },
        {
          "output_type": "stream",
          "text": [
            "Epoch 36/50\n",
            "196/196 [==============================] - 8s 42ms/step - loss: 0.6293 - sparse_categorical_accuracy: 0.7769 - val_loss: 0.8188 - val_sparse_categorical_accuracy: 0.7165\n",
            "Epoch 37/50\n",
            "196/196 [==============================] - 8s 41ms/step - loss: 0.6275 - sparse_categorical_accuracy: 0.7794 - val_loss: 0.8247 - val_sparse_categorical_accuracy: 0.7203\n"
          ],
          "name": "stdout"
        },
        {
          "output_type": "stream",
          "text": [
            "WARNING:absl:Found untraced functions such as dense_4_layer_call_fn, dense_4_layer_call_and_return_conditional_losses, embedding_4_layer_call_fn, embedding_4_layer_call_and_return_conditional_losses, query_layer_call_fn while saving (showing 5 of 130). These functions will not be directly callable after loading.\n",
            "WARNING:absl:Found untraced functions such as dense_4_layer_call_fn, dense_4_layer_call_and_return_conditional_losses, embedding_4_layer_call_fn, embedding_4_layer_call_and_return_conditional_losses, query_layer_call_fn while saving (showing 5 of 130). These functions will not be directly callable after loading.\n"
          ],
          "name": "stderr"
        },
        {
          "output_type": "stream",
          "text": [
            "INFO:tensorflow:Assets written to: /content/drive/MyDrive/02_Work/05_Experiments/TF-Transformer/Cifar10_VIT/210318_VIT_4x4_2hd_64proj/assets\n"
          ],
          "name": "stdout"
        },
        {
          "output_type": "stream",
          "text": [
            "INFO:tensorflow:Assets written to: /content/drive/MyDrive/02_Work/05_Experiments/TF-Transformer/Cifar10_VIT/210318_VIT_4x4_2hd_64proj/assets\n"
          ],
          "name": "stderr"
        },
        {
          "output_type": "stream",
          "text": [
            "Epoch 38/50\n",
            "196/196 [==============================] - 8s 42ms/step - loss: 0.6102 - sparse_categorical_accuracy: 0.7853 - val_loss: 0.8054 - val_sparse_categorical_accuracy: 0.7259\n"
          ],
          "name": "stdout"
        },
        {
          "output_type": "stream",
          "text": [
            "WARNING:absl:Found untraced functions such as dense_4_layer_call_fn, dense_4_layer_call_and_return_conditional_losses, embedding_4_layer_call_fn, embedding_4_layer_call_and_return_conditional_losses, query_layer_call_fn while saving (showing 5 of 130). These functions will not be directly callable after loading.\n",
            "WARNING:absl:Found untraced functions such as dense_4_layer_call_fn, dense_4_layer_call_and_return_conditional_losses, embedding_4_layer_call_fn, embedding_4_layer_call_and_return_conditional_losses, query_layer_call_fn while saving (showing 5 of 130). These functions will not be directly callable after loading.\n"
          ],
          "name": "stderr"
        },
        {
          "output_type": "stream",
          "text": [
            "INFO:tensorflow:Assets written to: /content/drive/MyDrive/02_Work/05_Experiments/TF-Transformer/Cifar10_VIT/210318_VIT_4x4_2hd_64proj/assets\n"
          ],
          "name": "stdout"
        },
        {
          "output_type": "stream",
          "text": [
            "INFO:tensorflow:Assets written to: /content/drive/MyDrive/02_Work/05_Experiments/TF-Transformer/Cifar10_VIT/210318_VIT_4x4_2hd_64proj/assets\n"
          ],
          "name": "stderr"
        },
        {
          "output_type": "stream",
          "text": [
            "Epoch 39/50\n",
            "196/196 [==============================] - 8s 41ms/step - loss: 0.6002 - sparse_categorical_accuracy: 0.7878 - val_loss: 0.8333 - val_sparse_categorical_accuracy: 0.7204\n",
            "Epoch 40/50\n",
            "196/196 [==============================] - 8s 41ms/step - loss: 0.5905 - sparse_categorical_accuracy: 0.7893 - val_loss: 0.8068 - val_sparse_categorical_accuracy: 0.7243\n",
            "Epoch 41/50\n",
            "196/196 [==============================] - 8s 41ms/step - loss: 0.5810 - sparse_categorical_accuracy: 0.7970 - val_loss: 0.8071 - val_sparse_categorical_accuracy: 0.7285\n"
          ],
          "name": "stdout"
        },
        {
          "output_type": "stream",
          "text": [
            "WARNING:absl:Found untraced functions such as dense_4_layer_call_fn, dense_4_layer_call_and_return_conditional_losses, embedding_4_layer_call_fn, embedding_4_layer_call_and_return_conditional_losses, query_layer_call_fn while saving (showing 5 of 130). These functions will not be directly callable after loading.\n",
            "WARNING:absl:Found untraced functions such as dense_4_layer_call_fn, dense_4_layer_call_and_return_conditional_losses, embedding_4_layer_call_fn, embedding_4_layer_call_and_return_conditional_losses, query_layer_call_fn while saving (showing 5 of 130). These functions will not be directly callable after loading.\n"
          ],
          "name": "stderr"
        },
        {
          "output_type": "stream",
          "text": [
            "INFO:tensorflow:Assets written to: /content/drive/MyDrive/02_Work/05_Experiments/TF-Transformer/Cifar10_VIT/210318_VIT_4x4_2hd_64proj/assets\n"
          ],
          "name": "stdout"
        },
        {
          "output_type": "stream",
          "text": [
            "INFO:tensorflow:Assets written to: /content/drive/MyDrive/02_Work/05_Experiments/TF-Transformer/Cifar10_VIT/210318_VIT_4x4_2hd_64proj/assets\n"
          ],
          "name": "stderr"
        },
        {
          "output_type": "stream",
          "text": [
            "Epoch 42/50\n",
            "196/196 [==============================] - 8s 41ms/step - loss: 0.5754 - sparse_categorical_accuracy: 0.7991 - val_loss: 0.8039 - val_sparse_categorical_accuracy: 0.7237\n",
            "Epoch 43/50\n",
            "196/196 [==============================] - 8s 41ms/step - loss: 0.5556 - sparse_categorical_accuracy: 0.8023 - val_loss: 0.8197 - val_sparse_categorical_accuracy: 0.7260\n",
            "Epoch 44/50\n",
            "196/196 [==============================] - 8s 41ms/step - loss: 0.5573 - sparse_categorical_accuracy: 0.8016 - val_loss: 0.8037 - val_sparse_categorical_accuracy: 0.7293\n"
          ],
          "name": "stdout"
        },
        {
          "output_type": "stream",
          "text": [
            "WARNING:absl:Found untraced functions such as dense_4_layer_call_fn, dense_4_layer_call_and_return_conditional_losses, embedding_4_layer_call_fn, embedding_4_layer_call_and_return_conditional_losses, query_layer_call_fn while saving (showing 5 of 130). These functions will not be directly callable after loading.\n",
            "WARNING:absl:Found untraced functions such as dense_4_layer_call_fn, dense_4_layer_call_and_return_conditional_losses, embedding_4_layer_call_fn, embedding_4_layer_call_and_return_conditional_losses, query_layer_call_fn while saving (showing 5 of 130). These functions will not be directly callable after loading.\n"
          ],
          "name": "stderr"
        },
        {
          "output_type": "stream",
          "text": [
            "INFO:tensorflow:Assets written to: /content/drive/MyDrive/02_Work/05_Experiments/TF-Transformer/Cifar10_VIT/210318_VIT_4x4_2hd_64proj/assets\n"
          ],
          "name": "stdout"
        },
        {
          "output_type": "stream",
          "text": [
            "INFO:tensorflow:Assets written to: /content/drive/MyDrive/02_Work/05_Experiments/TF-Transformer/Cifar10_VIT/210318_VIT_4x4_2hd_64proj/assets\n"
          ],
          "name": "stderr"
        },
        {
          "output_type": "stream",
          "text": [
            "Epoch 45/50\n",
            "196/196 [==============================] - 8s 42ms/step - loss: 0.5461 - sparse_categorical_accuracy: 0.8067 - val_loss: 0.8204 - val_sparse_categorical_accuracy: 0.7254\n",
            "Epoch 46/50\n",
            "196/196 [==============================] - 8s 41ms/step - loss: 0.5447 - sparse_categorical_accuracy: 0.8094 - val_loss: 0.8096 - val_sparse_categorical_accuracy: 0.7302\n"
          ],
          "name": "stdout"
        },
        {
          "output_type": "stream",
          "text": [
            "WARNING:absl:Found untraced functions such as dense_4_layer_call_fn, dense_4_layer_call_and_return_conditional_losses, embedding_4_layer_call_fn, embedding_4_layer_call_and_return_conditional_losses, query_layer_call_fn while saving (showing 5 of 130). These functions will not be directly callable after loading.\n",
            "WARNING:absl:Found untraced functions such as dense_4_layer_call_fn, dense_4_layer_call_and_return_conditional_losses, embedding_4_layer_call_fn, embedding_4_layer_call_and_return_conditional_losses, query_layer_call_fn while saving (showing 5 of 130). These functions will not be directly callable after loading.\n"
          ],
          "name": "stderr"
        },
        {
          "output_type": "stream",
          "text": [
            "INFO:tensorflow:Assets written to: /content/drive/MyDrive/02_Work/05_Experiments/TF-Transformer/Cifar10_VIT/210318_VIT_4x4_2hd_64proj/assets\n"
          ],
          "name": "stdout"
        },
        {
          "output_type": "stream",
          "text": [
            "INFO:tensorflow:Assets written to: /content/drive/MyDrive/02_Work/05_Experiments/TF-Transformer/Cifar10_VIT/210318_VIT_4x4_2hd_64proj/assets\n"
          ],
          "name": "stderr"
        },
        {
          "output_type": "stream",
          "text": [
            "Epoch 47/50\n",
            "196/196 [==============================] - 8s 42ms/step - loss: 0.5213 - sparse_categorical_accuracy: 0.8158 - val_loss: 0.7866 - val_sparse_categorical_accuracy: 0.7293\n",
            "Epoch 48/50\n",
            "196/196 [==============================] - 8s 41ms/step - loss: 0.5188 - sparse_categorical_accuracy: 0.8179 - val_loss: 0.8046 - val_sparse_categorical_accuracy: 0.7332\n"
          ],
          "name": "stdout"
        },
        {
          "output_type": "stream",
          "text": [
            "WARNING:absl:Found untraced functions such as dense_4_layer_call_fn, dense_4_layer_call_and_return_conditional_losses, embedding_4_layer_call_fn, embedding_4_layer_call_and_return_conditional_losses, query_layer_call_fn while saving (showing 5 of 130). These functions will not be directly callable after loading.\n",
            "WARNING:absl:Found untraced functions such as dense_4_layer_call_fn, dense_4_layer_call_and_return_conditional_losses, embedding_4_layer_call_fn, embedding_4_layer_call_and_return_conditional_losses, query_layer_call_fn while saving (showing 5 of 130). These functions will not be directly callable after loading.\n"
          ],
          "name": "stderr"
        },
        {
          "output_type": "stream",
          "text": [
            "INFO:tensorflow:Assets written to: /content/drive/MyDrive/02_Work/05_Experiments/TF-Transformer/Cifar10_VIT/210318_VIT_4x4_2hd_64proj/assets\n"
          ],
          "name": "stdout"
        },
        {
          "output_type": "stream",
          "text": [
            "INFO:tensorflow:Assets written to: /content/drive/MyDrive/02_Work/05_Experiments/TF-Transformer/Cifar10_VIT/210318_VIT_4x4_2hd_64proj/assets\n"
          ],
          "name": "stderr"
        },
        {
          "output_type": "stream",
          "text": [
            "Epoch 49/50\n",
            "196/196 [==============================] - 8s 41ms/step - loss: 0.5161 - sparse_categorical_accuracy: 0.8170 - val_loss: 0.8058 - val_sparse_categorical_accuracy: 0.7292\n",
            "Epoch 50/50\n",
            "196/196 [==============================] - 8s 41ms/step - loss: 0.5039 - sparse_categorical_accuracy: 0.8233 - val_loss: 0.7949 - val_sparse_categorical_accuracy: 0.7340\n"
          ],
          "name": "stdout"
        },
        {
          "output_type": "stream",
          "text": [
            "WARNING:absl:Found untraced functions such as dense_4_layer_call_fn, dense_4_layer_call_and_return_conditional_losses, embedding_4_layer_call_fn, embedding_4_layer_call_and_return_conditional_losses, query_layer_call_fn while saving (showing 5 of 130). These functions will not be directly callable after loading.\n",
            "WARNING:absl:Found untraced functions such as dense_4_layer_call_fn, dense_4_layer_call_and_return_conditional_losses, embedding_4_layer_call_fn, embedding_4_layer_call_and_return_conditional_losses, query_layer_call_fn while saving (showing 5 of 130). These functions will not be directly callable after loading.\n"
          ],
          "name": "stderr"
        },
        {
          "output_type": "stream",
          "text": [
            "INFO:tensorflow:Assets written to: /content/drive/MyDrive/02_Work/05_Experiments/TF-Transformer/Cifar10_VIT/210318_VIT_4x4_2hd_64proj/assets\n"
          ],
          "name": "stdout"
        },
        {
          "output_type": "stream",
          "text": [
            "INFO:tensorflow:Assets written to: /content/drive/MyDrive/02_Work/05_Experiments/TF-Transformer/Cifar10_VIT/210318_VIT_4x4_2hd_64proj/assets\n"
          ],
          "name": "stderr"
        },
        {
          "output_type": "stream",
          "text": [
            "Total training time 648.5395641326904 seconds\n"
          ],
          "name": "stdout"
        }
      ]
    },
    {
      "cell_type": "markdown",
      "metadata": {
        "id": "fkAIoRU6eLSa"
      },
      "source": [
        "#Results"
      ]
    },
    {
      "cell_type": "code",
      "metadata": {
        "id": "FTIXtnpherEQ",
        "outputId": "a11338b0-697e-4ecd-cdc2-0a9cef113a13",
        "colab": {
          "base_uri": "https://localhost:8080/",
          "height": 691
        }
      },
      "source": [
        "history = []\n",
        "history.append(np.load('/content/drive/MyDrive/02_Work/05_Experiments/TF-Transformer/Cifar10_VIT/210318_CNN/history.npy', allow_pickle='TRUE').item())\n",
        "history.append(np.load('/content/drive/MyDrive/02_Work/05_Experiments/TF-Transformer/Cifar10_VIT/210318_VIT_4x4_1hd/history.npy', allow_pickle='TRUE').item())\n",
        "history.append(np.load('/content/drive/MyDrive/02_Work/05_Experiments/TF-Transformer/Cifar10_VIT/210318_VIT_4x4_1hd_32proj/history.npy', allow_pickle='TRUE').item())\n",
        "history.append(np.load('/content/drive/MyDrive/02_Work/05_Experiments/TF-Transformer/Cifar10_VIT/210318_VIT_4x4_1hd_64proj/history.npy', allow_pickle='TRUE').item())\n",
        "\n",
        "legends = ['CNN', \n",
        "           'VIT_1hd', 'VIT_1hd_32proj', 'VIT_1hd_64proj']\n",
        "plot([(i['loss'], i['val_loss']) for i in history], \n",
        "     [(i['sparse_categorical_accuracy'],\n",
        "       i['val_sparse_categorical_accuracy']) for i in history],\n",
        "     legends,\n",
        "     subplot_title=['Loss', 'Accuracy'])\n",
        "\n",
        "history = []\n",
        "history.append(np.load('/content/drive/MyDrive/02_Work/05_Experiments/TF-Transformer/Cifar10_VIT/210318_CNN/history.npy', allow_pickle='TRUE').item())\n",
        "history.append(np.load('/content/drive/MyDrive/02_Work/05_Experiments/TF-Transformer/Cifar10_VIT/210318_VIT_4x4_2hd/history.npy', allow_pickle='TRUE').item())\n",
        "history.append(np.load('/content/drive/MyDrive/02_Work/05_Experiments/TF-Transformer/Cifar10_VIT/210318_VIT_4x4_2hd_32proj/history.npy', allow_pickle='TRUE').item())\n",
        "history.append(np.load('/content/drive/MyDrive/02_Work/05_Experiments/TF-Transformer/Cifar10_VIT/210318_VIT_4x4_2hd_64proj/history.npy', allow_pickle='TRUE').item())\n",
        "\n",
        "legends = ['CNN', \n",
        "           'VIT_2hd', 'VIT_2hd_32proj', 'VIT_2hd_64proj']\n",
        "plot([(i['loss'], i['val_loss']) for i in history], \n",
        "     [(i['sparse_categorical_accuracy'],\n",
        "       i['val_sparse_categorical_accuracy']) for i in history],\n",
        "     legends,\n",
        "     subplot_title=['Loss', 'Accuracy'])"
      ],
      "execution_count": 4,
      "outputs": [
        {
          "output_type": "display_data",
          "data": {
            "image/png": "[encoded data removed]",
            "text/plain": [
              "<Figure size 1440x360 with 2 Axes>"
            ]
          },
          "metadata": {
            "tags": [],
            "needs_background": "light"
          }
        },
        {
          "output_type": "display_data",
          "data": {
            "image/png": "[encoded data removed]",
            "text/plain": [
              "<Figure size 1440x360 with 2 Axes>"
            ]
          },
          "metadata": {
            "tags": [],
            "needs_background": "light"
          }
        }
      ]
    }
  ]
}