{
  "nbformat": 4,
  "nbformat_minor": 0,
  "metadata": {
    "colab": {
      "name": "sandbox.ipynb",
      "provenance": [],
      "collapsed_sections": [],
      "mount_file_id": "https://github.com/cheneeheng/Transformer-TF/blob/colab_dev/Cifar10_VIT.ipynb",
      "authorship_tag": "ABX9TyNZ8egwgV6/xaQGy6JZqy1C",
      "include_colab_link": true
    },
    "kernelspec": {
      "name": "python3",
      "display_name": "Python 3"
    },
    "accelerator": "GPU"
  },
  "cells": [
    {
      "cell_type": "markdown",
      "metadata": {
        "id": "view-in-github",
        "colab_type": "text"
      },
      "source": [
        "<a href=\"https://colab.research.google.com/github/cheneeheng/Transformer-TF/blob/colab_dev/Cifar10_VIT.ipynb\" target=\"_parent\"><img src=\"https://colab.research.google.com/assets/colab-badge.svg\" alt=\"Open In Colab\"/></a>"
      ]
    },
    {
      "cell_type": "markdown",
      "metadata": {
        "id": "gTYg3rNWKMt7"
      },
      "source": [
        "# **CIFAR10 Classification**\n",
        "\n",
        "Based on [CIFAR10_Keras_GPU.ipynb](https://github.com/katnoria/cifar10-native-vs-colab/blob/master/CIFAR10_Keras_GPU.ipynb) from [katnoria/cifar10-native-vs-colab](https://github.com/katnoria/cifar10-native-vs-colab) .\n",
        "\n",
        "General info about the dataset:\n",
        "- 50K Train, 10K Test\n",
        "- 10 object classes\n"
      ]
    },
    {
      "cell_type": "markdown",
      "metadata": {
        "id": "Ncg-GVYwK1TG"
      },
      "source": [
        "# Imports"
      ]
    },
    {
      "cell_type": "code",
      "metadata": {
        "id": "uV1eLcgmDsyN",
        "colab": {
          "base_uri": "https://localhost:8080/",
          "height": 35
        },
        "outputId": "adc0b0c0-531f-4cb6-85eb-a9940ece913b"
      },
      "source": [
        "import os\n",
        "os.environ['CUDA_VISIBLE_DEVICES'] = '0'\n",
        "\n",
        "from time import time\n",
        "import numpy as np\n",
        "from sklearn.model_selection import train_test_split\n",
        "import matplotlib.pyplot as plt\n",
        "plt.style.use('ggplot')\n",
        "%matplotlib inline\n",
        "\n",
        "import tensorflow as tf\n",
        "tf.__version__"
      ],
      "execution_count": 1,
      "outputs": [
        {
          "output_type": "execute_result",
          "data": {
            "application/vnd.google.colaboratory.intrinsic+json": {
              "type": "string"
            },
            "text/plain": [
              "'2.4.1'"
            ]
          },
          "metadata": {
            "tags": []
          },
          "execution_count": 1
        }
      ]
    },
    {
      "cell_type": "markdown",
      "metadata": {
        "id": "wnrIX5LiLGqz"
      },
      "source": [
        "# Data generator"
      ]
    },
    {
      "cell_type": "code",
      "metadata": {
        "id": "NwetmhNHLGPv",
        "colab": {
          "base_uri": "https://localhost:8080/"
        },
        "outputId": "45819bca-d08e-42a3-f5f4-abd670ce12bd"
      },
      "source": [
        "from tensorflow.keras.datasets import cifar10\n",
        "\n",
        "(x_trn_full, y_trn_full), (x_tst, y_tst) = cifar10.load_data()\n",
        "\n",
        "# remove the last dimension\n",
        "y_trn_full = y_trn_full.reshape(y_trn_full.shape[0],)\n",
        "y_tst = y_tst.reshape(y_tst.shape[0],)\n",
        "\n",
        "# perform in model.\n",
        "# # normalize data to 0..1\n",
        "# x_trn_full, x_tst = x_trn_full / 255.0, x_tst / 255.0\n",
        "\n",
        "# create validation split\n",
        "# split = 0.2\n",
        "# x_trn, x_val, y_trn, y_val = train_test_split(\n",
        "#     x_trn_full, y_trn_full, test_size=split, random_state=1969)\n",
        "x_trn, x_val, y_trn, y_val = x_trn_full, x_tst, y_trn_full, y_tst\n",
        "\n",
        "print(f'x_trn.shape: {x_trn.shape}')\n",
        "print(f'y_trn.shape: {y_trn.shape}')\n",
        "print(f'x_val.shape: {x_val.shape}')\n",
        "print(f'y_val.shape: {y_val.shape}')\n",
        "print(f'x_tst shape: {x_tst.shape}')\n",
        "print(f'y_tst.shape: {y_tst.shape}')"
      ],
      "execution_count": 2,
      "outputs": [
        {
          "output_type": "stream",
          "text": [
            "x_trn.shape: (50000, 32, 32, 3)\n",
            "y_trn.shape: (50000,)\n",
            "x_val.shape: (10000, 32, 32, 3)\n",
            "y_val.shape: (10000,)\n",
            "x_tst shape: (10000, 32, 32, 3)\n",
            "y_tst.shape: (10000,)\n"
          ],
          "name": "stdout"
        }
      ]
    },
    {
      "cell_type": "code",
      "metadata": {
        "id": "0JqdGbPROPRm",
        "colab": {
          "base_uri": "https://localhost:8080/",
          "height": 530
        },
        "outputId": "15107d15-0740-418b-e3d3-c1bc745492bd"
      },
      "source": [
        "# pick 25 random images and plot\n",
        "idxs = np.random.randint(x_trn.shape[0], size=25)\n",
        "images = x_trn[idxs]\n",
        "labels = y_trn[idxs]\n",
        "classnames = ['airplane', 'automobile', 'bird', 'cat', 'deer',\n",
        "              'dog', 'frog', 'horse', 'ship', 'truck']\n",
        "\n",
        "fig, axes = plt.subplots(5,5, figsize=(8,9))\n",
        "for i, ax in enumerate(axes.flat):\n",
        "  ax.imshow(images[i])\n",
        "  ax.axis('off')\n",
        "  idx = labels[i]\n",
        "  ax.set_title(classnames[idx])\n",
        "plt.show()"
      ],
      "execution_count": 3,
      "outputs": [
        {
          "output_type": "display_data",
          "data": {
            "image/png": "[encoded data removed]",
            "text/plain": [
              "<Figure size 576x648 with 25 Axes>"
            ]
          },
          "metadata": {
            "tags": [],
            "needs_background": "light"
          }
        }
      ]
    },
    {
      "cell_type": "code",
      "metadata": {
        "id": "hJ0WDLT4s00F"
      },
      "source": [
        "class Patches(tf.keras.layers.Layer):\n",
        "  \"\"\"Creates patches from an image. Implemented as a keras layer.\"\"\"\n",
        "  def __init__(self, patch_size: int):\n",
        "    super().__init__()\n",
        "    self.patch_size = patch_size\n",
        "\n",
        "  def call(self, x):\n",
        "    batch_size = tf.shape(x)[0]\n",
        "    patches = tf.image.extract_patches(\n",
        "        images=x,\n",
        "        sizes=[1, self.patch_size, self.patch_size, 1],\n",
        "        strides=[1, self.patch_size, self.patch_size, 1],\n",
        "        rates=[1, 1, 1, 1],\n",
        "        padding=\"VALID\",\n",
        "    )\n",
        "    patch_dims = patches.shape[-1]\n",
        "    patches = tf.reshape(patches, [batch_size, -1, patch_dims])\n",
        "    return patches\n",
        "\n",
        "  def get_config(self):\n",
        "    return {\"patch_size\": self.patch_size}\n",
        "\n",
        "  @classmethod\n",
        "  def from_config(cls, config):\n",
        "    return cls(**config)\n"
      ],
      "execution_count": 4,
      "outputs": []
    },
    {
      "cell_type": "code",
      "metadata": {
        "colab": {
          "base_uri": "https://localhost:8080/",
          "height": 551
        },
        "id": "vRUfSiYstKud",
        "outputId": "36714135-0b6f-49f0-efe7-df4640203db9"
      },
      "source": [
        "plt.figure(figsize=(4, 4))\n",
        "image = x_trn[np.random.choice(range(x_trn.shape[0]))]\n",
        "plt.imshow(image)\n",
        "plt.axis(\"off\")\n",
        "\n",
        "image_size = 32\n",
        "patch_size = 4\n",
        "\n",
        "resized_image = tf.image.resize(\n",
        "    tf.convert_to_tensor([image]), size=(image_size, image_size)\n",
        ")\n",
        "patches = Patches(patch_size)(resized_image)\n",
        "print(f\"Image size: {image_size} X {image_size}\")\n",
        "print(f\"Patch size: {patch_size} X {patch_size}\")\n",
        "print(f\"Patches per image: {patches.shape[1]}\")\n",
        "print(f\"Elements per patch: {patches.shape[-1]}\")\n",
        "\n",
        "n = int(np.sqrt(patches.shape[1]))\n",
        "plt.figure(figsize=(4, 4))\n",
        "for i, patch in enumerate(patches[0]):\n",
        "    ax = plt.subplot(n, n, i + 1)\n",
        "    patch_img = tf.reshape(patch, (patch_size, patch_size, 3))\n",
        "    plt.imshow(patch_img.numpy().astype(\"uint8\"))\n",
        "    plt.axis(\"off\")"
      ],
      "execution_count": 5,
      "outputs": [
        {
          "output_type": "stream",
          "text": [
            "Image size: 32 X 32\n",
            "Patch size: 4 X 4\n",
            "Patches per image: 64\n",
            "Elements per patch: 48\n"
          ],
          "name": "stdout"
        },
        {
          "output_type": "display_data",
          "data": {
            "image/png": "[encoded data removed]",
            "text/plain": [
              "<Figure size 288x288 with 1 Axes>"
            ]
          },
          "metadata": {
            "tags": [],
            "needs_background": "light"
          }
        },
        {
          "output_type": "display_data",
          "data": {
            "image/png": "[encoded data removed]",
            "text/plain": [
              "<Figure size 288x288 with 64 Axes>"
            ]
          },
          "metadata": {
            "tags": [],
            "needs_background": "light"
          }
        }
      ]
    },
    {
      "cell_type": "code",
      "metadata": {
        "id": "FHDdb2NJOVYU"
      },
      "source": [
        "def data_generator(split: str, batch_size: int, shuffle_buffer: int = 10000):\n",
        "  \"\"\"Creates a tf.data.Dataset instance.\n",
        "\n",
        "  Args:\n",
        "      split: The type of data to generate, ['train', 'val', 'test'].\n",
        "      batch_size: Batch size.\n",
        "      shuffle_buffer: Number of elements used for shuffling.\n",
        "\n",
        "  Returns:\n",
        "      A tf.data.Dataset instance.\n",
        "\n",
        "  Raises:\n",
        "      ValueError: If `split` is not ['train', 'val', 'test'].\n",
        "\n",
        "  \"\"\"\n",
        "  if split == 'train':\n",
        "    ds = tf.data.Dataset.from_tensor_slices((x_trn, y_trn))\n",
        "    ds = ds.shuffle(shuffle_buffer)\n",
        "  elif split == 'val':\n",
        "    ds = tf.data.Dataset.from_tensor_slices((x_val, y_val))\n",
        "  elif split == 'test':\n",
        "    ds = tf.data.Dataset.from_tensor_slices((x_tst, y_tst))\n",
        "  else:\n",
        "    raise ValueError(f\"Unknown data split : {split}\")\n",
        "  return ds.batch(batch_size)"
      ],
      "execution_count": 6,
      "outputs": []
    },
    {
      "cell_type": "markdown",
      "metadata": {
        "id": "lqkixwrjM7wE"
      },
      "source": [
        "# Model"
      ]
    },
    {
      "cell_type": "markdown",
      "metadata": {
        "id": "mn9ZY763Jg7x"
      },
      "source": [
        "A simple CNN example from the keras [CNN benchmark](https://github.com/keras-team/keras/blob/master/keras/benchmarks/keras_examples_benchmarks/cifar10_cnn_benchmark_test.py) .  \n",
        "It is based on this [CNN example](https://github.com/keras-team/keras/blob/master/examples/cifar10_cnn.py) but the example is no longer available.\n"
      ]
    },
    {
      "cell_type": "code",
      "metadata": {
        "id": "McvCeeVJJf8j"
      },
      "source": [
        "from tensorflow.keras import Input, Model\n",
        "from tensorflow.keras.layers import (\n",
        "  Conv2D, \n",
        "  BatchNormalization, \n",
        "  MaxPool2D,\n",
        "  Dropout,\n",
        "  Flatten,\n",
        "  Dense\n",
        ")\n",
        "from tensorflow.keras.initializers import TruncatedNormal, Constant, Zeros\n",
        "from tensorflow.keras.regularizers import L2\n",
        "from tensorflow.keras.activations import relu\n",
        "from tensorflow.keras.layers.experimental.preprocessing import (\n",
        "  RandomFlip,\n",
        "  RandomTranslation,\n",
        "  RandomRotation,\n",
        "  RandomZoom,\n",
        "  Normalization,\n",
        "  Rescaling,\n",
        "  Resizing\n",
        ")\n",
        "\n",
        "def conv2d(filters, kernel_size, strides=(1, 1), padding='valid', **kwargs):\n",
        "  return Conv2D(filters, \n",
        "                kernel_size, \n",
        "                strides, \n",
        "                padding=padding, \n",
        "                activation=relu,\n",
        "                **kwargs)\n",
        "  \n",
        "def maxpool2d(**kwargs):\n",
        "  return MaxPool2D([3, 3], 2, padding='valid', **kwargs)\n",
        "\n",
        "class SmallCNN(Model):\n",
        "  \"\"\"SmallCNN implementation.\n",
        "  \n",
        "  Changes compared to the original model:\n",
        "  - maxpool2d uses a kernel_size=3, stride=2.\n",
        "  \n",
        "  \"\"\"\n",
        "\n",
        "  def __init__(self, \n",
        "               num_classes: int, \n",
        "               image_height: int, \n",
        "               image_width: int,\n",
        "               preprocess: bool = False):\n",
        "    super().__init__()\n",
        "\n",
        "    self.num_classes = num_classes\n",
        "    self.image_height = image_height\n",
        "    self.image_width = image_width\n",
        "    self.preprocess = preprocess\n",
        "\n",
        "    self.rescale = Rescaling(1./255., name='rescale')\n",
        "    self.resize = Resizing(self.image_height, self.image_width, name='resize')\n",
        "\n",
        "    # Preprocessing\n",
        "    self.augs = [\n",
        "      RandomFlip(\"horizontal\", name='data_aug_flip'),\n",
        "      # RandomTranslation((-0.1, 0.1), (-0.1, 0.1), name='data_aug2'),\n",
        "      RandomRotation(0.02, name='data_aug_rot'),\n",
        "      RandomZoom(0.2, 0.2, name='data_aug_zoom'),\n",
        "    ]\n",
        "\n",
        "    # Model\n",
        "    self.conv1 = conv2d(32, 3, name='conv1', padding='same')\n",
        "    self.conv2 = conv2d(32, 3, name='conv2')\n",
        "    self.pool2 = maxpool2d(name='pool1')\n",
        "    self.drop2 = Dropout(0.5, name='drop2')\n",
        "    self.conv3 = conv2d(64, 3, name='conv3', padding='same')\n",
        "    self.conv4 = conv2d(64, 3, name='conv4')\n",
        "    self.pool4 = maxpool2d(name='pool4')\n",
        "    self.drop4 = Dropout(0.25, name='drop4')\n",
        "    self.flat5 = Flatten(name='flat5')\n",
        "    self.dens5 = Dense(512, activation=relu, name='dens5')\n",
        "    self.drop5 = Dropout(0.5, name='drop5')\n",
        "    self.dens6 = Dense(self.num_classes, name='logits')\n",
        "\n",
        "  def call(self, x, training: bool = None):\n",
        "    x = self.rescale(x)\n",
        "    x = self.resize(x)\n",
        "    if self.preprocess:\n",
        "      for aug_i in self.augs:\n",
        "        x = aug_i(x, training=training)\n",
        "    x = self.pool2(self.conv2(self.conv1(x)))\n",
        "    x = self.drop2(x, training=training)\n",
        "    x = self.pool4(self.conv4(self.conv3(x)))\n",
        "    x = self.drop4(x, training=training)\n",
        "    x = self.dens5(self.flat5(x))\n",
        "    x = self.drop5(x, training=training)\n",
        "    x = self.dens6(x)\n",
        "    return x\n",
        "  \n",
        "  # https://stackoverflow.com/questions/55235212\n",
        "  def model(self):\n",
        "    x = Input(shape=(32, 32, 3))\n",
        "    return Model(inputs=[x], outputs=self.call(x))\n",
        "  \n",
        "  def get_config(self):\n",
        "    return {\"num_classes\": self.num_classes,\n",
        "            \"image_height\": self.image_height,\n",
        "            \"image_width\": self.image_width,\n",
        "            \"preprocess\": self.preprocess}\n",
        "\n",
        "  @classmethod\n",
        "  def from_config(cls, config):\n",
        "    return cls(**config)"
      ],
      "execution_count": 7,
      "outputs": []
    },
    {
      "cell_type": "markdown",
      "metadata": {
        "id": "rGHzfefDfO5z"
      },
      "source": [
        "[Vision Transformer](https://arxiv.org/abs/2010.11929) by Alexey Dosovitskiy et al.  \n",
        "Code taken from this [example](https://keras.io/examples/vision/image_classification_with_vision_transformer/) ."
      ]
    },
    {
      "cell_type": "code",
      "metadata": {
        "id": "qfUPza88W8GY"
      },
      "source": [
        "from tensorflow.keras import Input, Model\n",
        "from tensorflow.keras.layers import (\n",
        "  Layer,\n",
        "  Add,\n",
        "  BatchNormalization, \n",
        "  Conv2D, \n",
        "  Dense,\n",
        "  Dropout,\n",
        "  Embedding,\n",
        "  Flatten,\n",
        "  LayerNormalization,\n",
        "  MaxPool2D,\n",
        "  MultiHeadAttention\n",
        ")\n",
        "from tensorflow.keras.initializers import TruncatedNormal, Constant, Zeros\n",
        "from tensorflow.keras.regularizers import L2\n",
        "from tensorflow.keras.activations import relu, gelu\n",
        "from tensorflow.keras.layers.experimental.preprocessing import (\n",
        "  Normalization,\n",
        "  RandomFlip,\n",
        "  RandomRotation,\n",
        "  RandomZoom,\n",
        "  Rescaling,\n",
        "  Resizing,\n",
        ")\n",
        "\n",
        "def mlp(hidden_units: list, dropout_rate: float, name: str = ''):\n",
        "  \"\"\"Multilayer perceptron.\"\"\"\n",
        "  layers = []\n",
        "  for idx, units in enumerate(hidden_units):\n",
        "    layers.append(Dense(units, activation=gelu, name=f'{name}/dens{idx}'))\n",
        "    layers.append(Dropout(dropout_rate, name=f'{name}/drop{idx}'))\n",
        "  return layers\n",
        "\n",
        "class MLP(Layer):\n",
        "  \"\"\"Multilayer perceptron.\"\"\"\n",
        "  def __init__(self, hidden_units: list, dropout_rate: float):\n",
        "    super().__init__()\n",
        "    self.hidden_units = hidden_units\n",
        "    self.dropout_rate = dropout_rate\n",
        "    \n",
        "    self.layers = []\n",
        "    self.dropouts = []\n",
        "    for idx, units in enumerate(self.hidden_units):\n",
        "      self.layers.append(Dense(units, activation=gelu, name=f'dens{idx}'))\n",
        "      self.dropouts.append(Dropout(dropout_rate))\n",
        "\n",
        "  def call(self, x, training: bool = None):\n",
        "    for layer_i, dropout_i in zip(self.layers, self.dropouts):\n",
        "        x = layer_i(x)\n",
        "        x = dropout_i(x, training=training)\n",
        "    return x\n",
        "  \n",
        "  def get_config(self):\n",
        "    return {\"hidden_units\": self.hidden_units,\n",
        "            \"dropout_rate\": self.dropout_rate}\n",
        "\n",
        "  @classmethod\n",
        "  def from_config(cls, config):\n",
        "    return cls(**config)\n",
        "\n",
        "\n",
        "class PatchEncoder(Layer):\n",
        "  \"\"\"Encoder for the image patches.\"\"\"\n",
        "  def __init__(self, num_patches: int, projection_dim: int):\n",
        "    super().__init__()\n",
        "    self.num_patches = num_patches\n",
        "    self.projection_dim = projection_dim\n",
        "    self.projection = Dense(units=self.projection_dim)\n",
        "    self.position_embedding = Embedding(input_dim=num_patches,\n",
        "                                        output_dim=self.projection_dim)\n",
        "\n",
        "  def call(self, x):\n",
        "    positions = tf.range(start=0, limit=self.num_patches, delta=1)\n",
        "    encoded = self.projection(x) + self.position_embedding(positions)\n",
        "    return encoded\n",
        "  \n",
        "  def get_config(self):\n",
        "    return {\"num_patches\": self.num_patches,\n",
        "            \"projection_dim\": self.projection_dim}\n",
        "\n",
        "  @classmethod\n",
        "  def from_config(cls, config):\n",
        "    return cls(**config)\n",
        "\n",
        "\n",
        "class VIT(Model):\n",
        "  \"\"\"Vision Transformer implementation.\n",
        "  \n",
        "  Changes compared to the original model:\n",
        "  - maxpool2d uses a kernel_size=3, stride=2.\n",
        "  \n",
        "  \"\"\"\n",
        "  def __init__(self, \n",
        "               num_classes: int, \n",
        "               image_height: int, \n",
        "               image_width: int,\n",
        "               patch_size: int, \n",
        "               projection_dim: int,\n",
        "               num_layers: int,\n",
        "               num_heads: int,\n",
        "               mlp_dims: list,\n",
        "               classifier_mlp_dims: list,\n",
        "               preprocess: bool = False):\n",
        "    super().__init__()\n",
        "    \n",
        "    self.num_classes = num_classes\n",
        "    self.image_height = image_height\n",
        "    self.image_width = image_width\n",
        "    self.patch_size = patch_size\n",
        "    self.projection_dim = projection_dim\n",
        "    self.num_layers = num_layers\n",
        "    self.num_heads = num_heads\n",
        "    self.mlp_dims = mlp_dims\n",
        "    self.classifier_mlp_dims = classifier_mlp_dims\n",
        "    self.preprocess = preprocess\n",
        "\n",
        "    self.rescale = Rescaling(1./255., name='rescale')\n",
        "    self.resize = Resizing(self.image_height, self.image_width, name='resize')\n",
        "\n",
        "    # Preprocessing\n",
        "    self.augs = [\n",
        "      RandomFlip(\"horizontal\", name='data_aug_flip'),\n",
        "      # RandomTranslation((-0.1, 0.1), (-0.1, 0.1), name='data_aug2'),\n",
        "      RandomRotation(0.02, name='data_aug_rot'),\n",
        "      RandomZoom(0.2, 0.2, name='data_aug_zoom'),\n",
        "    ]\n",
        "\n",
        "    # Patches\n",
        "    self.patch = Patches(self.patch_size)\n",
        "    num_patches = (self.image_height // self.patch_size) * \\\n",
        "                  (self.image_width // self.patch_size)\n",
        "    self.patch_enc = PatchEncoder(num_patches, self.projection_dim)\n",
        "\n",
        "    # Model\n",
        "    self.transformer_blocks = []\n",
        "    for idx in range(self.num_layers):\n",
        "      block = []\n",
        "      block += [LayerNormalization(epsilon=1e-6, name=f'ln{idx + 1}_1')]\n",
        "      block += [MultiHeadAttention(self.num_heads, \n",
        "                                   self.projection_dim, \n",
        "                                   dropout=0.1, \n",
        "                                   name=f'mha{idx + 1}')]\n",
        "      block += [Add(name=f'skip{idx + 1}_1')]\n",
        "      block += [LayerNormalization(epsilon=1e-6, name=f'ln{idx + 1}_2')]\n",
        "      block += [mlp(mlp_dims, dropout_rate=0.1, name=f'mlp{idx + 1}')]\n",
        "      block += [Add(name=f'skip{idx + 1}_2')]\n",
        "      self.transformer_blocks.append(block)\n",
        "\n",
        "    self.lnorm = LayerNormalization(epsilon=1e-6, name='classifier_ln')\n",
        "    self.flat = Flatten(name='classifier_flat')\n",
        "    self.drop = Dropout(0.5, name='classifier_drop')\n",
        "    self.mlp = mlp(self.classifier_mlp_dims, dropout_rate=0.5, \n",
        "                   name='classifier_mlp')\n",
        "    self.logits = Dense(self.num_classes, name='logits')\n",
        "\n",
        "  def call(self, x, training: bool = None):\n",
        "    x = self.rescale(x)\n",
        "    x = self.resize(x)\n",
        "\n",
        "    if self.preprocess:\n",
        "      for aug_i in self.augs:\n",
        "        x = aug_i(x, training=training)\n",
        "\n",
        "    x = self.patch(x)\n",
        "    x = self.patch_enc(x)\n",
        "    \n",
        "    for block in self.transformer_blocks:\n",
        "      x_layer_norm_1 = block[0](x)\n",
        "      x_attention    = block[1](x_layer_norm_1, x_layer_norm_1)\n",
        "      x_skip         = block[2]([x_attention, x])\n",
        "      x_layer_norm_2 = block[3](x_skip)\n",
        "      x_mlp          = self._iterate_mlp(block[4], x_layer_norm_2)\n",
        "      x              = block[5]([x_mlp, x_skip])\n",
        "    \n",
        "    x = self.lnorm(x)\n",
        "    x = self.flat(x)\n",
        "    x = self.drop(x, training=training)\n",
        "    x = self._iterate_mlp(self.mlp, x)\n",
        "    x = self.logits(x)\n",
        "    return x\n",
        "  \n",
        "  @staticmethod\n",
        "  def _iterate_mlp(mlp_layers: list, x: tf.Tensor):\n",
        "    _x = x\n",
        "    for mlp_i in mlp_layers:\n",
        "      _x = mlp_i(_x)\n",
        "    return _x\n",
        "\n",
        "  # https://stackoverflow.com/questions/55235212\n",
        "  def model(self):\n",
        "    x = Input(shape=(32, 32, 3))\n",
        "    return Model(inputs=[x], outputs=self.call(x))\n",
        "  \n",
        "  def get_config(self):\n",
        "      return {\"num_classes\": self.num_classes,\n",
        "              \"image_height\": self.image_height,\n",
        "              \"image_width\": self.image_width,\n",
        "              \"patch_size\": self.patch_size,\n",
        "              \"projection_dim\": self.projection_dim,\n",
        "              \"num_layers\": self.num_layers,\n",
        "              \"num_heads\": self.num_heads,\n",
        "              \"mlp_dims\": self.mlp_dims,\n",
        "              \"classifier_mlp_dims\": self.classifier_mlp_dims,\n",
        "              \"preprocess\": self.preprocess}\n",
        "\n",
        "  @classmethod\n",
        "  def from_config(cls, config):\n",
        "      return cls(**config)"
      ],
      "execution_count": 8,
      "outputs": []
    },
    {
      "cell_type": "markdown",
      "metadata": {
        "id": "_SRpqgwZUhg2"
      },
      "source": [
        "Save an initial copy of the weights.  \n",
        "The weights will be used to initialize all the experiments, allowing for fair comparison.\n"
      ]
    },
    {
      "cell_type": "code",
      "metadata": {
        "id": "qX0AlyjijjZg",
        "colab": {
          "base_uri": "https://localhost:8080/"
        },
        "outputId": "0b9996ad-d18b-4c02-8823-045ea79d595d"
      },
      "source": [
        "# Saves a full copy of the model.\n",
        "model_SmallCNN = SmallCNN(num_classes=10, \n",
        "                          image_height=32, \n",
        "                          image_width=32,\n",
        "                          preprocess=False).model()\n",
        "model_SmallCNN.save('model_SmallCNN')\n",
        "\n",
        "# Loads model\n",
        "model_SmallCNN = tf.keras.models.load_model('model_SmallCNN')\n",
        "model_SmallCNN.summary()\n",
        "\n",
        "# Saves a full copy of the model.\n",
        "model_VIT = VIT(num_classes=10, \n",
        "                image_height=32, \n",
        "                image_width=32,\n",
        "                patch_size=4, \n",
        "                projection_dim=64,\n",
        "                num_layers=4,\n",
        "                num_heads=4,\n",
        "                mlp_dims=[128, 64],\n",
        "                classifier_mlp_dims=[512, 256],\n",
        "                preprocess=False).model()\n",
        "model_VIT.save('model_VIT')\n",
        "\n",
        "# Loads model\n",
        "model_VIT = tf.keras.models.load_model('model_VIT')\n",
        "model_VIT.summary()\n",
        "\n",
        "# # Saves only the weights of the model.\n",
        "# model = SmallCNN(num_classes=10)\n",
        "# model(tf.zeros([1,32,32,3]))\n",
        "# model.save_weights('model.h5')\n",
        "\n",
        "# # Loads weights\n",
        "# model.load_weights('model.h5')\n",
        "# model.preprocess = True\n",
        "# for layer in model.model().layers:\n",
        "#   print(layer.output)\n",
        "# model.model().summary()"
      ],
      "execution_count": 9,
      "outputs": [
        {
          "output_type": "stream",
          "text": [
            "INFO:tensorflow:Assets written to: model_SmallCNN/assets\n",
            "WARNING:tensorflow:No training configuration found in save file, so the model was *not* compiled. Compile it manually.\n",
            "Model: \"model\"\n",
            "_________________________________________________________________\n",
            "Layer (type)                 Output Shape              Param #   \n",
            "=================================================================\n",
            "input_1 (InputLayer)         [(None, 32, 32, 3)]       0         \n",
            "_________________________________________________________________\n",
            "rescale (Rescaling)          (None, 32, 32, 3)         0         \n",
            "_________________________________________________________________\n",
            "resize (Resizing)            (None, 32, 32, 3)         0         \n",
            "_________________________________________________________________\n",
            "conv1 (Conv2D)               (None, 32, 32, 32)        896       \n",
            "_________________________________________________________________\n",
            "conv2 (Conv2D)               (None, 30, 30, 32)        9248      \n",
            "_________________________________________________________________\n",
            "pool1 (MaxPooling2D)         (None, 14, 14, 32)        0         \n",
            "_________________________________________________________________\n",
            "drop2 (Dropout)              (None, 14, 14, 32)        0         \n",
            "_________________________________________________________________\n",
            "conv3 (Conv2D)               (None, 14, 14, 64)        18496     \n",
            "_________________________________________________________________\n",
            "conv4 (Conv2D)               (None, 12, 12, 64)        36928     \n",
            "_________________________________________________________________\n",
            "pool4 (MaxPooling2D)         (None, 5, 5, 64)          0         \n",
            "_________________________________________________________________\n",
            "drop4 (Dropout)              (None, 5, 5, 64)          0         \n",
            "_________________________________________________________________\n",
            "flat5 (Flatten)              (None, 1600)              0         \n",
            "_________________________________________________________________\n",
            "dens5 (Dense)                (None, 512)               819712    \n",
            "_________________________________________________________________\n",
            "drop5 (Dropout)              (None, 512)               0         \n",
            "_________________________________________________________________\n",
            "logits (Dense)               (None, 10)                5130      \n",
            "=================================================================\n",
            "Total params: 890,410\n",
            "Trainable params: 890,410\n",
            "Non-trainable params: 0\n",
            "_________________________________________________________________\n"
          ],
          "name": "stdout"
        },
        {
          "output_type": "stream",
          "text": [
            "WARNING:absl:Found untraced functions such as dense_layer_call_fn, dense_layer_call_and_return_conditional_losses, embedding_layer_call_fn, embedding_layer_call_and_return_conditional_losses, query_layer_call_fn while saving (showing 5 of 130). These functions will not be directly callable after loading.\n",
            "WARNING:absl:Found untraced functions such as dense_layer_call_fn, dense_layer_call_and_return_conditional_losses, embedding_layer_call_fn, embedding_layer_call_and_return_conditional_losses, query_layer_call_fn while saving (showing 5 of 130). These functions will not be directly callable after loading.\n"
          ],
          "name": "stderr"
        },
        {
          "output_type": "stream",
          "text": [
            "INFO:tensorflow:Assets written to: model_VIT/assets\n"
          ],
          "name": "stdout"
        },
        {
          "output_type": "stream",
          "text": [
            "INFO:tensorflow:Assets written to: model_VIT/assets\n"
          ],
          "name": "stderr"
        },
        {
          "output_type": "stream",
          "text": [
            "WARNING:tensorflow:No training configuration found in save file, so the model was *not* compiled. Compile it manually.\n"
          ],
          "name": "stdout"
        },
        {
          "output_type": "stream",
          "text": [
            "WARNING:tensorflow:No training configuration found in save file, so the model was *not* compiled. Compile it manually.\n"
          ],
          "name": "stderr"
        },
        {
          "output_type": "stream",
          "text": [
            "Model: \"model_1\"\n",
            "__________________________________________________________________________________________________\n",
            "Layer (type)                    Output Shape         Param #     Connected to                     \n",
            "==================================================================================================\n",
            "input_2 (InputLayer)            [(None, 32, 32, 3)]  0                                            \n",
            "__________________________________________________________________________________________________\n",
            "rescale (Rescaling)             (None, 32, 32, 3)    0           input_2[0][0]                    \n",
            "__________________________________________________________________________________________________\n",
            "resize (Resizing)               (None, 32, 32, 3)    0           rescale[0][0]                    \n",
            "__________________________________________________________________________________________________\n",
            "patches_1 (Patches)             (None, None, 48)     0           resize[0][0]                     \n",
            "__________________________________________________________________________________________________\n",
            "patch_encoder (PatchEncoder)    (None, 64, 64)       7232        patches_1[0][0]                  \n",
            "__________________________________________________________________________________________________\n",
            "ln1_1 (LayerNormalization)      (None, 64, 64)       128         patch_encoder[0][0]              \n",
            "__________________________________________________________________________________________________\n",
            "mha1 (MultiHeadAttention)       (None, 64, 64)       66368       ln1_1[0][0]                      \n",
            "                                                                 ln1_1[0][0]                      \n",
            "__________________________________________________________________________________________________\n",
            "skip1_1 (Add)                   (None, 64, 64)       0           mha1[0][0]                       \n",
            "                                                                 patch_encoder[0][0]              \n",
            "__________________________________________________________________________________________________\n",
            "ln1_2 (LayerNormalization)      (None, 64, 64)       128         skip1_1[0][0]                    \n",
            "__________________________________________________________________________________________________\n",
            "mlp1/dens0 (Dense)              (None, 64, 128)      8320        ln1_2[0][0]                      \n",
            "__________________________________________________________________________________________________\n",
            "mlp1/drop0 (Dropout)            (None, 64, 128)      0           mlp1/dens0[0][0]                 \n",
            "__________________________________________________________________________________________________\n",
            "mlp1/dens1 (Dense)              (None, 64, 64)       8256        mlp1/drop0[0][0]                 \n",
            "__________________________________________________________________________________________________\n",
            "mlp1/drop1 (Dropout)            (None, 64, 64)       0           mlp1/dens1[0][0]                 \n",
            "__________________________________________________________________________________________________\n",
            "skip1_2 (Add)                   (None, 64, 64)       0           mlp1/drop1[0][0]                 \n",
            "                                                                 skip1_1[0][0]                    \n",
            "__________________________________________________________________________________________________\n",
            "ln2_1 (LayerNormalization)      (None, 64, 64)       128         skip1_2[0][0]                    \n",
            "__________________________________________________________________________________________________\n",
            "mha2 (MultiHeadAttention)       (None, 64, 64)       66368       ln2_1[0][0]                      \n",
            "                                                                 ln2_1[0][0]                      \n",
            "__________________________________________________________________________________________________\n",
            "skip2_1 (Add)                   (None, 64, 64)       0           mha2[0][0]                       \n",
            "                                                                 skip1_2[0][0]                    \n",
            "__________________________________________________________________________________________________\n",
            "ln2_2 (LayerNormalization)      (None, 64, 64)       128         skip2_1[0][0]                    \n",
            "__________________________________________________________________________________________________\n",
            "mlp2/dens0 (Dense)              (None, 64, 128)      8320        ln2_2[0][0]                      \n",
            "__________________________________________________________________________________________________\n",
            "mlp2/drop0 (Dropout)            (None, 64, 128)      0           mlp2/dens0[0][0]                 \n",
            "__________________________________________________________________________________________________\n",
            "mlp2/dens1 (Dense)              (None, 64, 64)       8256        mlp2/drop0[0][0]                 \n",
            "__________________________________________________________________________________________________\n",
            "mlp2/drop1 (Dropout)            (None, 64, 64)       0           mlp2/dens1[0][0]                 \n",
            "__________________________________________________________________________________________________\n",
            "skip2_2 (Add)                   (None, 64, 64)       0           mlp2/drop1[0][0]                 \n",
            "                                                                 skip2_1[0][0]                    \n",
            "__________________________________________________________________________________________________\n",
            "ln3_1 (LayerNormalization)      (None, 64, 64)       128         skip2_2[0][0]                    \n",
            "__________________________________________________________________________________________________\n",
            "mha3 (MultiHeadAttention)       (None, 64, 64)       66368       ln3_1[0][0]                      \n",
            "                                                                 ln3_1[0][0]                      \n",
            "__________________________________________________________________________________________________\n",
            "skip3_1 (Add)                   (None, 64, 64)       0           mha3[0][0]                       \n",
            "                                                                 skip2_2[0][0]                    \n",
            "__________________________________________________________________________________________________\n",
            "ln3_2 (LayerNormalization)      (None, 64, 64)       128         skip3_1[0][0]                    \n",
            "__________________________________________________________________________________________________\n",
            "mlp3/dens0 (Dense)              (None, 64, 128)      8320        ln3_2[0][0]                      \n",
            "__________________________________________________________________________________________________\n",
            "mlp3/drop0 (Dropout)            (None, 64, 128)      0           mlp3/dens0[0][0]                 \n",
            "__________________________________________________________________________________________________\n",
            "mlp3/dens1 (Dense)              (None, 64, 64)       8256        mlp3/drop0[0][0]                 \n",
            "__________________________________________________________________________________________________\n",
            "mlp3/drop1 (Dropout)            (None, 64, 64)       0           mlp3/dens1[0][0]                 \n",
            "__________________________________________________________________________________________________\n",
            "skip3_2 (Add)                   (None, 64, 64)       0           mlp3/drop1[0][0]                 \n",
            "                                                                 skip3_1[0][0]                    \n",
            "__________________________________________________________________________________________________\n",
            "ln4_1 (LayerNormalization)      (None, 64, 64)       128         skip3_2[0][0]                    \n",
            "__________________________________________________________________________________________________\n",
            "mha4 (MultiHeadAttention)       (None, 64, 64)       66368       ln4_1[0][0]                      \n",
            "                                                                 ln4_1[0][0]                      \n",
            "__________________________________________________________________________________________________\n",
            "skip4_1 (Add)                   (None, 64, 64)       0           mha4[0][0]                       \n",
            "                                                                 skip3_2[0][0]                    \n",
            "__________________________________________________________________________________________________\n",
            "ln4_2 (LayerNormalization)      (None, 64, 64)       128         skip4_1[0][0]                    \n",
            "__________________________________________________________________________________________________\n",
            "mlp4/dens0 (Dense)              (None, 64, 128)      8320        ln4_2[0][0]                      \n",
            "__________________________________________________________________________________________________\n",
            "mlp4/drop0 (Dropout)            (None, 64, 128)      0           mlp4/dens0[0][0]                 \n",
            "__________________________________________________________________________________________________\n",
            "mlp4/dens1 (Dense)              (None, 64, 64)       8256        mlp4/drop0[0][0]                 \n",
            "__________________________________________________________________________________________________\n",
            "mlp4/drop1 (Dropout)            (None, 64, 64)       0           mlp4/dens1[0][0]                 \n",
            "__________________________________________________________________________________________________\n",
            "skip4_2 (Add)                   (None, 64, 64)       0           mlp4/drop1[0][0]                 \n",
            "                                                                 skip4_1[0][0]                    \n",
            "__________________________________________________________________________________________________\n",
            "classifier_ln (LayerNormalizati (None, 64, 64)       128         skip4_2[0][0]                    \n",
            "__________________________________________________________________________________________________\n",
            "classifier_flat (Flatten)       (None, 4096)         0           classifier_ln[0][0]              \n",
            "__________________________________________________________________________________________________\n",
            "classifier_drop (Dropout)       (None, 4096)         0           classifier_flat[0][0]            \n",
            "__________________________________________________________________________________________________\n",
            "classifier_mlp/dens0 (Dense)    (None, 512)          2097664     classifier_drop[0][0]            \n",
            "__________________________________________________________________________________________________\n",
            "classifier_mlp/drop0 (Dropout)  (None, 512)          0           classifier_mlp/dens0[0][0]       \n",
            "__________________________________________________________________________________________________\n",
            "classifier_mlp/dens1 (Dense)    (None, 256)          131328      classifier_mlp/drop0[0][0]       \n",
            "__________________________________________________________________________________________________\n",
            "classifier_mlp/drop1 (Dropout)  (None, 256)          0           classifier_mlp/dens1[0][0]       \n",
            "__________________________________________________________________________________________________\n",
            "logits (Dense)                  (None, 10)           2570        classifier_mlp/drop1[0][0]       \n",
            "==================================================================================================\n",
            "Total params: 2,571,722\n",
            "Trainable params: 2,571,722\n",
            "Non-trainable params: 0\n",
            "__________________________________________________________________________________________________\n"
          ],
          "name": "stdout"
        }
      ]
    },
    {
      "cell_type": "markdown",
      "metadata": {
        "id": "470J_-chCJN-"
      },
      "source": [
        "# Train"
      ]
    },
    {
      "cell_type": "markdown",
      "metadata": {
        "id": "9A3t5koq9X5x"
      },
      "source": [
        "Training configs."
      ]
    },
    {
      "cell_type": "code",
      "metadata": {
        "id": "L0rfLzW6CKvI"
      },
      "source": [
        "loss_fn = tf.keras.losses.SparseCategoricalCrossentropy(from_logits=True)\n",
        "acc_metric_fn = tf.keras.metrics.SparseCategoricalAccuracy\n",
        "batch_size = 512\n",
        "shuffle_buffer = 50000\n",
        "epochs = 50\n",
        "learning_rate = 1e-3"
      ],
      "execution_count": 10,
      "outputs": []
    },
    {
      "cell_type": "markdown",
      "metadata": {
        "id": "ZK_xHPHD81nx"
      },
      "source": [
        "Keras model.compile(...) and model.fit(...) .\n"
      ]
    },
    {
      "cell_type": "code",
      "metadata": {
        "id": "x83Opo2GCQWY"
      },
      "source": [
        "def train_and_eval(_model, _checkpoint_filepath):\n",
        "  \"\"\"Wrapper code for training and evaluating.\n",
        "\n",
        "  Args:\n",
        "      _model: A keras Model.\n",
        "      _checkpoint_filepath: Path to save a checkpoint.\n",
        "\n",
        "  Returns:\n",
        "      A history instance that contains logged values per epoch.\n",
        "\n",
        "  \"\"\"\n",
        "  _model.compile(\n",
        "      optimizer=tf.keras.optimizers.Adam(learning_rate=learning_rate),\n",
        "      loss=loss_fn,\n",
        "      metrics=[acc_metric_fn(name='sparse_categorical_accuracy')]\n",
        "  )\n",
        "  checkpoint_callback = tf.keras.callbacks.ModelCheckpoint(\n",
        "      _checkpoint_filepath,\n",
        "      monitor=\"val_sparse_categorical_accuracy\",\n",
        "      save_best_only=True,\n",
        "  )\n",
        "  start = time()\n",
        "  history = _model.fit(\n",
        "      data_generator('train', batch_size, shuffle_buffer), \n",
        "      epochs=epochs, \n",
        "      steps_per_epoch=len(data_generator('train', batch_size, shuffle_buffer)),\n",
        "      validation_data=data_generator('val', batch_size),\n",
        "      callbacks=[checkpoint_callback],\n",
        "  )\n",
        "  end = time()\n",
        "  print(f'Total training time {end - start} seconds')\n",
        "  return history"
      ],
      "execution_count": 11,
      "outputs": []
    },
    {
      "cell_type": "markdown",
      "metadata": {
        "id": "7hngMmgl87ln"
      },
      "source": [
        "Native TF with GradientTape.  \n",
        "This is exactly the same as using compite(...) and fit(...) in keras.  \n",
        "However, this exposes the gradient and the train loop, allowing for more flexibility."
      ]
    },
    {
      "cell_type": "code",
      "metadata": {
        "id": "unJNqufNCaCe"
      },
      "source": [
        "%%script false\n",
        "# This is just for reference.\n",
        "\n",
        "train_loss = tf.keras.metrics.Mean(name='train_loss')\n",
        "train_accuracy = acc_metric_fn(name='sparse_categorical_accuracy')\n",
        "val_loss = tf.keras.metrics.Mean(name='val_loss')\n",
        "val_accuracy = acc_metric_fn(name='val_sparse_categorical_accuracy')\n",
        "\n",
        "@tf.function\n",
        "def train_step(images, labels):\n",
        "  with tf.GradientTape() as tape:\n",
        "    # training=True is only needed if there are layers with different\n",
        "    # behavior during training versus inference (e.g. Dropout).\n",
        "    predictions = model(images, training=True)\n",
        "    loss = loss_fn(labels, predictions)\n",
        "  gradients = tape.gradient(loss, model.trainable_variables)\n",
        "  optimizer.apply_gradients(zip(gradients, model.trainable_variables))\n",
        "  # Container to keep the results.\n",
        "  train_loss(loss)\n",
        "  train_accuracy(labels, predictions)\n",
        "\n",
        "@tf.function\n",
        "def val_step(images, labels):\n",
        "  # training=False is only needed if there are layers with different\n",
        "  # behavior during training versus inference (e.g. Dropout).\n",
        "  predictions = model(images, training=False)\n",
        "  v_loss = loss_fn(labels, predictions)\n",
        "  # Container to keep the results.\n",
        "  val_loss(v_loss)\n",
        "  val_accuracy(labels, predictions)\n",
        "\n",
        "train_losses, train_accuracies = [], []\n",
        "val_losses, val_accuracies = [], []\n",
        "progbar = tf.keras.utils.Progbar\n",
        "trn_ds = data_generator('train', batch_size, shuffle_buffer)\n",
        "val_ds = data_generator('val', batch_size)\n",
        "\n",
        "start = time()\n",
        "for epoch in range(epochs):\n",
        "  # Reset the metrics at the start of the next epoch\n",
        "  train_loss.reset_states()\n",
        "  train_accuracy.reset_states()\n",
        "  val_loss.reset_states()\n",
        "  val_accuracy.reset_states()\n",
        "\n",
        "  print(f\"Epoch {epoch+1}/{epochs}\")\n",
        "  pb_i = progbar(steps_per_epoch=len(trn_ds), \n",
        "                 stateful_metrics=['Loss', 'Accuracy',\n",
        "                                   'Val Loss', 'Val Accuracy'])\n",
        "  \n",
        "  for idx, (images, labels) in enumerate(trn_ds):\n",
        "    train_step(images, labels)\n",
        "    if idx + 1 < mini_batches:\n",
        "      pb_i.add(1, values=[('Loss', train_loss.result()), \n",
        "                          ('Accuracy', train_accuracy.result())])\n",
        "\n",
        "  for val_images, val_labels in val_ds:\n",
        "    val_step(val_images, val_labels)\n",
        "  pb_i.add(1, values=[('Loss', train_loss.result()), \n",
        "                      ('Accuracy', train_accuracy.result()),\n",
        "                      ('Val Loss', val_loss.result()), \n",
        "                      ('Val Accuracy', val_accuracy.result())])\n",
        "\n",
        "  train_losses.append(train_loss.result())\n",
        "  train_accuracies.append(train_accuracy.result())\n",
        "  val_losses.append(val_loss.result())\n",
        "  val_accuracies.append(val_accuracy.result())\n",
        "\n",
        "end = time()\n",
        "\n",
        "print(f'Total training time {end - start} seconds')"
      ],
      "execution_count": 12,
      "outputs": []
    },
    {
      "cell_type": "markdown",
      "metadata": {
        "id": "2XKFICEKCZxE"
      },
      "source": [
        "**Experiment 2**  \n",
        "Model : VIT  \n",
        "Preprocessing : False  \n",
        "Batch size : 512"
      ]
    },
    {
      "cell_type": "code",
      "metadata": {
        "colab": {
          "base_uri": "https://localhost:8080/"
        },
        "id": "6lyrU-_sXgkU",
        "outputId": "ed9ff0e7-b0f2-4cc6-a908-39aee4009698"
      },
      "source": [
        "model_VIT = tf.keras.models.load_model('model_VIT')\n",
        "model_VIT.summary()\n",
        "history_vit_bs512 = train_and_eval(model_VIT, '/content/drive/MyDrive/02_Work/05_Experiments/TF-Transformer/Cifar10_VIT/Cifar10_VIT_210318')"
      ],
      "execution_count": 13,
      "outputs": [
        {
          "output_type": "stream",
          "text": [
            "WARNING:tensorflow:No training configuration found in save file, so the model was *not* compiled. Compile it manually.\n"
          ],
          "name": "stdout"
        },
        {
          "output_type": "stream",
          "text": [
            "WARNING:tensorflow:No training configuration found in save file, so the model was *not* compiled. Compile it manually.\n"
          ],
          "name": "stderr"
        },
        {
          "output_type": "stream",
          "text": [
            "Model: \"model_1\"\n",
            "__________________________________________________________________________________________________\n",
            "Layer (type)                    Output Shape         Param #     Connected to                     \n",
            "==================================================================================================\n",
            "input_2 (InputLayer)            [(None, 32, 32, 3)]  0                                            \n",
            "__________________________________________________________________________________________________\n",
            "rescale (Rescaling)             (None, 32, 32, 3)    0           input_2[0][0]                    \n",
            "__________________________________________________________________________________________________\n",
            "resize (Resizing)               (None, 32, 32, 3)    0           rescale[0][0]                    \n",
            "__________________________________________________________________________________________________\n",
            "patches_1 (Patches)             (None, None, 48)     0           resize[0][0]                     \n",
            "__________________________________________________________________________________________________\n",
            "patch_encoder (PatchEncoder)    (None, 64, 64)       7232        patches_1[0][0]                  \n",
            "__________________________________________________________________________________________________\n",
            "ln1_1 (LayerNormalization)      (None, 64, 64)       128         patch_encoder[0][0]              \n",
            "__________________________________________________________________________________________________\n",
            "mha1 (MultiHeadAttention)       (None, 64, 64)       66368       ln1_1[0][0]                      \n",
            "                                                                 ln1_1[0][0]                      \n",
            "__________________________________________________________________________________________________\n",
            "skip1_1 (Add)                   (None, 64, 64)       0           mha1[0][0]                       \n",
            "                                                                 patch_encoder[0][0]              \n",
            "__________________________________________________________________________________________________\n",
            "ln1_2 (LayerNormalization)      (None, 64, 64)       128         skip1_1[0][0]                    \n",
            "__________________________________________________________________________________________________\n",
            "mlp1/dens0 (Dense)              (None, 64, 128)      8320        ln1_2[0][0]                      \n",
            "__________________________________________________________________________________________________\n",
            "mlp1/drop0 (Dropout)            (None, 64, 128)      0           mlp1/dens0[0][0]                 \n",
            "__________________________________________________________________________________________________\n",
            "mlp1/dens1 (Dense)              (None, 64, 64)       8256        mlp1/drop0[0][0]                 \n",
            "__________________________________________________________________________________________________\n",
            "mlp1/drop1 (Dropout)            (None, 64, 64)       0           mlp1/dens1[0][0]                 \n",
            "__________________________________________________________________________________________________\n",
            "skip1_2 (Add)                   (None, 64, 64)       0           mlp1/drop1[0][0]                 \n",
            "                                                                 skip1_1[0][0]                    \n",
            "__________________________________________________________________________________________________\n",
            "ln2_1 (LayerNormalization)      (None, 64, 64)       128         skip1_2[0][0]                    \n",
            "__________________________________________________________________________________________________\n",
            "mha2 (MultiHeadAttention)       (None, 64, 64)       66368       ln2_1[0][0]                      \n",
            "                                                                 ln2_1[0][0]                      \n",
            "__________________________________________________________________________________________________\n",
            "skip2_1 (Add)                   (None, 64, 64)       0           mha2[0][0]                       \n",
            "                                                                 skip1_2[0][0]                    \n",
            "__________________________________________________________________________________________________\n",
            "ln2_2 (LayerNormalization)      (None, 64, 64)       128         skip2_1[0][0]                    \n",
            "__________________________________________________________________________________________________\n",
            "mlp2/dens0 (Dense)              (None, 64, 128)      8320        ln2_2[0][0]                      \n",
            "__________________________________________________________________________________________________\n",
            "mlp2/drop0 (Dropout)            (None, 64, 128)      0           mlp2/dens0[0][0]                 \n",
            "__________________________________________________________________________________________________\n",
            "mlp2/dens1 (Dense)              (None, 64, 64)       8256        mlp2/drop0[0][0]                 \n",
            "__________________________________________________________________________________________________\n",
            "mlp2/drop1 (Dropout)            (None, 64, 64)       0           mlp2/dens1[0][0]                 \n",
            "__________________________________________________________________________________________________\n",
            "skip2_2 (Add)                   (None, 64, 64)       0           mlp2/drop1[0][0]                 \n",
            "                                                                 skip2_1[0][0]                    \n",
            "__________________________________________________________________________________________________\n",
            "ln3_1 (LayerNormalization)      (None, 64, 64)       128         skip2_2[0][0]                    \n",
            "__________________________________________________________________________________________________\n",
            "mha3 (MultiHeadAttention)       (None, 64, 64)       66368       ln3_1[0][0]                      \n",
            "                                                                 ln3_1[0][0]                      \n",
            "__________________________________________________________________________________________________\n",
            "skip3_1 (Add)                   (None, 64, 64)       0           mha3[0][0]                       \n",
            "                                                                 skip2_2[0][0]                    \n",
            "__________________________________________________________________________________________________\n",
            "ln3_2 (LayerNormalization)      (None, 64, 64)       128         skip3_1[0][0]                    \n",
            "__________________________________________________________________________________________________\n",
            "mlp3/dens0 (Dense)              (None, 64, 128)      8320        ln3_2[0][0]                      \n",
            "__________________________________________________________________________________________________\n",
            "mlp3/drop0 (Dropout)            (None, 64, 128)      0           mlp3/dens0[0][0]                 \n",
            "__________________________________________________________________________________________________\n",
            "mlp3/dens1 (Dense)              (None, 64, 64)       8256        mlp3/drop0[0][0]                 \n",
            "__________________________________________________________________________________________________\n",
            "mlp3/drop1 (Dropout)            (None, 64, 64)       0           mlp3/dens1[0][0]                 \n",
            "__________________________________________________________________________________________________\n",
            "skip3_2 (Add)                   (None, 64, 64)       0           mlp3/drop1[0][0]                 \n",
            "                                                                 skip3_1[0][0]                    \n",
            "__________________________________________________________________________________________________\n",
            "ln4_1 (LayerNormalization)      (None, 64, 64)       128         skip3_2[0][0]                    \n",
            "__________________________________________________________________________________________________\n",
            "mha4 (MultiHeadAttention)       (None, 64, 64)       66368       ln4_1[0][0]                      \n",
            "                                                                 ln4_1[0][0]                      \n",
            "__________________________________________________________________________________________________\n",
            "skip4_1 (Add)                   (None, 64, 64)       0           mha4[0][0]                       \n",
            "                                                                 skip3_2[0][0]                    \n",
            "__________________________________________________________________________________________________\n",
            "ln4_2 (LayerNormalization)      (None, 64, 64)       128         skip4_1[0][0]                    \n",
            "__________________________________________________________________________________________________\n",
            "mlp4/dens0 (Dense)              (None, 64, 128)      8320        ln4_2[0][0]                      \n",
            "__________________________________________________________________________________________________\n",
            "mlp4/drop0 (Dropout)            (None, 64, 128)      0           mlp4/dens0[0][0]                 \n",
            "__________________________________________________________________________________________________\n",
            "mlp4/dens1 (Dense)              (None, 64, 64)       8256        mlp4/drop0[0][0]                 \n",
            "__________________________________________________________________________________________________\n",
            "mlp4/drop1 (Dropout)            (None, 64, 64)       0           mlp4/dens1[0][0]                 \n",
            "__________________________________________________________________________________________________\n",
            "skip4_2 (Add)                   (None, 64, 64)       0           mlp4/drop1[0][0]                 \n",
            "                                                                 skip4_1[0][0]                    \n",
            "__________________________________________________________________________________________________\n",
            "classifier_ln (LayerNormalizati (None, 64, 64)       128         skip4_2[0][0]                    \n",
            "__________________________________________________________________________________________________\n",
            "classifier_flat (Flatten)       (None, 4096)         0           classifier_ln[0][0]              \n",
            "__________________________________________________________________________________________________\n",
            "classifier_drop (Dropout)       (None, 4096)         0           classifier_flat[0][0]            \n",
            "__________________________________________________________________________________________________\n",
            "classifier_mlp/dens0 (Dense)    (None, 512)          2097664     classifier_drop[0][0]            \n",
            "__________________________________________________________________________________________________\n",
            "classifier_mlp/drop0 (Dropout)  (None, 512)          0           classifier_mlp/dens0[0][0]       \n",
            "__________________________________________________________________________________________________\n",
            "classifier_mlp/dens1 (Dense)    (None, 256)          131328      classifier_mlp/drop0[0][0]       \n",
            "__________________________________________________________________________________________________\n",
            "classifier_mlp/drop1 (Dropout)  (None, 256)          0           classifier_mlp/dens1[0][0]       \n",
            "__________________________________________________________________________________________________\n",
            "logits (Dense)                  (None, 10)           2570        classifier_mlp/drop1[0][0]       \n",
            "==================================================================================================\n",
            "Total params: 2,571,722\n",
            "Trainable params: 2,571,722\n",
            "Non-trainable params: 0\n",
            "__________________________________________________________________________________________________\n",
            "Epoch 1/50\n",
            "98/98 [==============================] - 19s 145ms/step - loss: 2.6186 - sparse_categorical_accuracy: 0.1141 - val_loss: 2.1452 - val_sparse_categorical_accuracy: 0.1967\n"
          ],
          "name": "stdout"
        },
        {
          "output_type": "stream",
          "text": [
            "WARNING:absl:Found untraced functions such as dense_layer_call_fn, dense_layer_call_and_return_conditional_losses, embedding_layer_call_fn, embedding_layer_call_and_return_conditional_losses, query_layer_call_fn while saving (showing 5 of 130). These functions will not be directly callable after loading.\n",
            "WARNING:absl:Found untraced functions such as dense_layer_call_fn, dense_layer_call_and_return_conditional_losses, embedding_layer_call_fn, embedding_layer_call_and_return_conditional_losses, query_layer_call_fn while saving (showing 5 of 130). These functions will not be directly callable after loading.\n"
          ],
          "name": "stderr"
        },
        {
          "output_type": "stream",
          "text": [
            "INFO:tensorflow:Assets written to: /content/drive/MyDrive/02_Work/05_Experiments/TF-Transformer/Cifar10_VIT/Cifar10_VIT_210318/assets\n"
          ],
          "name": "stdout"
        },
        {
          "output_type": "stream",
          "text": [
            "INFO:tensorflow:Assets written to: /content/drive/MyDrive/02_Work/05_Experiments/TF-Transformer/Cifar10_VIT/Cifar10_VIT_210318/assets\n"
          ],
          "name": "stderr"
        },
        {
          "output_type": "stream",
          "text": [
            "Epoch 2/50\n",
            "98/98 [==============================] - 13s 137ms/step - loss: 2.1729 - sparse_categorical_accuracy: 0.1601 - val_loss: 1.9608 - val_sparse_categorical_accuracy: 0.2518\n"
          ],
          "name": "stdout"
        },
        {
          "output_type": "stream",
          "text": [
            "WARNING:absl:Found untraced functions such as dense_layer_call_fn, dense_layer_call_and_return_conditional_losses, embedding_layer_call_fn, embedding_layer_call_and_return_conditional_losses, query_layer_call_fn while saving (showing 5 of 130). These functions will not be directly callable after loading.\n",
            "WARNING:absl:Found untraced functions such as dense_layer_call_fn, dense_layer_call_and_return_conditional_losses, embedding_layer_call_fn, embedding_layer_call_and_return_conditional_losses, query_layer_call_fn while saving (showing 5 of 130). These functions will not be directly callable after loading.\n"
          ],
          "name": "stderr"
        },
        {
          "output_type": "stream",
          "text": [
            "INFO:tensorflow:Assets written to: /content/drive/MyDrive/02_Work/05_Experiments/TF-Transformer/Cifar10_VIT/Cifar10_VIT_210318/assets\n"
          ],
          "name": "stdout"
        },
        {
          "output_type": "stream",
          "text": [
            "INFO:tensorflow:Assets written to: /content/drive/MyDrive/02_Work/05_Experiments/TF-Transformer/Cifar10_VIT/Cifar10_VIT_210318/assets\n"
          ],
          "name": "stderr"
        },
        {
          "output_type": "stream",
          "text": [
            "Epoch 3/50\n",
            "98/98 [==============================] - 13s 136ms/step - loss: 2.0554 - sparse_categorical_accuracy: 0.2005 - val_loss: 1.8758 - val_sparse_categorical_accuracy: 0.2644\n"
          ],
          "name": "stdout"
        },
        {
          "output_type": "stream",
          "text": [
            "WARNING:absl:Found untraced functions such as dense_layer_call_fn, dense_layer_call_and_return_conditional_losses, embedding_layer_call_fn, embedding_layer_call_and_return_conditional_losses, query_layer_call_fn while saving (showing 5 of 130). These functions will not be directly callable after loading.\n",
            "WARNING:absl:Found untraced functions such as dense_layer_call_fn, dense_layer_call_and_return_conditional_losses, embedding_layer_call_fn, embedding_layer_call_and_return_conditional_losses, query_layer_call_fn while saving (showing 5 of 130). These functions will not be directly callable after loading.\n"
          ],
          "name": "stderr"
        },
        {
          "output_type": "stream",
          "text": [
            "INFO:tensorflow:Assets written to: /content/drive/MyDrive/02_Work/05_Experiments/TF-Transformer/Cifar10_VIT/Cifar10_VIT_210318/assets\n"
          ],
          "name": "stdout"
        },
        {
          "output_type": "stream",
          "text": [
            "INFO:tensorflow:Assets written to: /content/drive/MyDrive/02_Work/05_Experiments/TF-Transformer/Cifar10_VIT/Cifar10_VIT_210318/assets\n"
          ],
          "name": "stderr"
        },
        {
          "output_type": "stream",
          "text": [
            "Epoch 4/50\n",
            "98/98 [==============================] - 14s 137ms/step - loss: 1.9389 - sparse_categorical_accuracy: 0.2437 - val_loss: 1.7932 - val_sparse_categorical_accuracy: 0.3179\n"
          ],
          "name": "stdout"
        },
        {
          "output_type": "stream",
          "text": [
            "WARNING:absl:Found untraced functions such as dense_layer_call_fn, dense_layer_call_and_return_conditional_losses, embedding_layer_call_fn, embedding_layer_call_and_return_conditional_losses, query_layer_call_fn while saving (showing 5 of 130). These functions will not be directly callable after loading.\n",
            "WARNING:absl:Found untraced functions such as dense_layer_call_fn, dense_layer_call_and_return_conditional_losses, embedding_layer_call_fn, embedding_layer_call_and_return_conditional_losses, query_layer_call_fn while saving (showing 5 of 130). These functions will not be directly callable after loading.\n"
          ],
          "name": "stderr"
        },
        {
          "output_type": "stream",
          "text": [
            "INFO:tensorflow:Assets written to: /content/drive/MyDrive/02_Work/05_Experiments/TF-Transformer/Cifar10_VIT/Cifar10_VIT_210318/assets\n"
          ],
          "name": "stdout"
        },
        {
          "output_type": "stream",
          "text": [
            "INFO:tensorflow:Assets written to: /content/drive/MyDrive/02_Work/05_Experiments/TF-Transformer/Cifar10_VIT/Cifar10_VIT_210318/assets\n"
          ],
          "name": "stderr"
        },
        {
          "output_type": "stream",
          "text": [
            "Epoch 5/50\n",
            "98/98 [==============================] - 14s 137ms/step - loss: 1.8318 - sparse_categorical_accuracy: 0.2807 - val_loss: 1.6824 - val_sparse_categorical_accuracy: 0.3640\n"
          ],
          "name": "stdout"
        },
        {
          "output_type": "stream",
          "text": [
            "WARNING:absl:Found untraced functions such as dense_layer_call_fn, dense_layer_call_and_return_conditional_losses, embedding_layer_call_fn, embedding_layer_call_and_return_conditional_losses, query_layer_call_fn while saving (showing 5 of 130). These functions will not be directly callable after loading.\n",
            "WARNING:absl:Found untraced functions such as dense_layer_call_fn, dense_layer_call_and_return_conditional_losses, embedding_layer_call_fn, embedding_layer_call_and_return_conditional_losses, query_layer_call_fn while saving (showing 5 of 130). These functions will not be directly callable after loading.\n"
          ],
          "name": "stderr"
        },
        {
          "output_type": "stream",
          "text": [
            "INFO:tensorflow:Assets written to: /content/drive/MyDrive/02_Work/05_Experiments/TF-Transformer/Cifar10_VIT/Cifar10_VIT_210318/assets\n"
          ],
          "name": "stdout"
        },
        {
          "output_type": "stream",
          "text": [
            "INFO:tensorflow:Assets written to: /content/drive/MyDrive/02_Work/05_Experiments/TF-Transformer/Cifar10_VIT/Cifar10_VIT_210318/assets\n"
          ],
          "name": "stderr"
        },
        {
          "output_type": "stream",
          "text": [
            "Epoch 6/50\n",
            "98/98 [==============================] - 14s 137ms/step - loss: 1.7520 - sparse_categorical_accuracy: 0.3213 - val_loss: 1.6430 - val_sparse_categorical_accuracy: 0.3776\n"
          ],
          "name": "stdout"
        },
        {
          "output_type": "stream",
          "text": [
            "WARNING:absl:Found untraced functions such as dense_layer_call_fn, dense_layer_call_and_return_conditional_losses, embedding_layer_call_fn, embedding_layer_call_and_return_conditional_losses, query_layer_call_fn while saving (showing 5 of 130). These functions will not be directly callable after loading.\n",
            "WARNING:absl:Found untraced functions such as dense_layer_call_fn, dense_layer_call_and_return_conditional_losses, embedding_layer_call_fn, embedding_layer_call_and_return_conditional_losses, query_layer_call_fn while saving (showing 5 of 130). These functions will not be directly callable after loading.\n"
          ],
          "name": "stderr"
        },
        {
          "output_type": "stream",
          "text": [
            "INFO:tensorflow:Assets written to: /content/drive/MyDrive/02_Work/05_Experiments/TF-Transformer/Cifar10_VIT/Cifar10_VIT_210318/assets\n"
          ],
          "name": "stdout"
        },
        {
          "output_type": "stream",
          "text": [
            "INFO:tensorflow:Assets written to: /content/drive/MyDrive/02_Work/05_Experiments/TF-Transformer/Cifar10_VIT/Cifar10_VIT_210318/assets\n"
          ],
          "name": "stderr"
        },
        {
          "output_type": "stream",
          "text": [
            "Epoch 7/50\n",
            "98/98 [==============================] - 14s 137ms/step - loss: 1.6979 - sparse_categorical_accuracy: 0.3492 - val_loss: 1.5918 - val_sparse_categorical_accuracy: 0.4034\n"
          ],
          "name": "stdout"
        },
        {
          "output_type": "stream",
          "text": [
            "WARNING:absl:Found untraced functions such as dense_layer_call_fn, dense_layer_call_and_return_conditional_losses, embedding_layer_call_fn, embedding_layer_call_and_return_conditional_losses, query_layer_call_fn while saving (showing 5 of 130). These functions will not be directly callable after loading.\n",
            "WARNING:absl:Found untraced functions such as dense_layer_call_fn, dense_layer_call_and_return_conditional_losses, embedding_layer_call_fn, embedding_layer_call_and_return_conditional_losses, query_layer_call_fn while saving (showing 5 of 130). These functions will not be directly callable after loading.\n"
          ],
          "name": "stderr"
        },
        {
          "output_type": "stream",
          "text": [
            "INFO:tensorflow:Assets written to: /content/drive/MyDrive/02_Work/05_Experiments/TF-Transformer/Cifar10_VIT/Cifar10_VIT_210318/assets\n"
          ],
          "name": "stdout"
        },
        {
          "output_type": "stream",
          "text": [
            "INFO:tensorflow:Assets written to: /content/drive/MyDrive/02_Work/05_Experiments/TF-Transformer/Cifar10_VIT/Cifar10_VIT_210318/assets\n"
          ],
          "name": "stderr"
        },
        {
          "output_type": "stream",
          "text": [
            "Epoch 8/50\n",
            "98/98 [==============================] - 14s 137ms/step - loss: 1.6291 - sparse_categorical_accuracy: 0.3862 - val_loss: 1.5719 - val_sparse_categorical_accuracy: 0.4241\n"
          ],
          "name": "stdout"
        },
        {
          "output_type": "stream",
          "text": [
            "WARNING:absl:Found untraced functions such as dense_layer_call_fn, dense_layer_call_and_return_conditional_losses, embedding_layer_call_fn, embedding_layer_call_and_return_conditional_losses, query_layer_call_fn while saving (showing 5 of 130). These functions will not be directly callable after loading.\n",
            "WARNING:absl:Found untraced functions such as dense_layer_call_fn, dense_layer_call_and_return_conditional_losses, embedding_layer_call_fn, embedding_layer_call_and_return_conditional_losses, query_layer_call_fn while saving (showing 5 of 130). These functions will not be directly callable after loading.\n"
          ],
          "name": "stderr"
        },
        {
          "output_type": "stream",
          "text": [
            "INFO:tensorflow:Assets written to: /content/drive/MyDrive/02_Work/05_Experiments/TF-Transformer/Cifar10_VIT/Cifar10_VIT_210318/assets\n"
          ],
          "name": "stdout"
        },
        {
          "output_type": "stream",
          "text": [
            "INFO:tensorflow:Assets written to: /content/drive/MyDrive/02_Work/05_Experiments/TF-Transformer/Cifar10_VIT/Cifar10_VIT_210318/assets\n"
          ],
          "name": "stderr"
        },
        {
          "output_type": "stream",
          "text": [
            "Epoch 9/50\n",
            "98/98 [==============================] - 14s 137ms/step - loss: 1.5618 - sparse_categorical_accuracy: 0.4185 - val_loss: 1.4637 - val_sparse_categorical_accuracy: 0.4886\n"
          ],
          "name": "stdout"
        },
        {
          "output_type": "stream",
          "text": [
            "WARNING:absl:Found untraced functions such as dense_layer_call_fn, dense_layer_call_and_return_conditional_losses, embedding_layer_call_fn, embedding_layer_call_and_return_conditional_losses, query_layer_call_fn while saving (showing 5 of 130). These functions will not be directly callable after loading.\n",
            "WARNING:absl:Found untraced functions such as dense_layer_call_fn, dense_layer_call_and_return_conditional_losses, embedding_layer_call_fn, embedding_layer_call_and_return_conditional_losses, query_layer_call_fn while saving (showing 5 of 130). These functions will not be directly callable after loading.\n"
          ],
          "name": "stderr"
        },
        {
          "output_type": "stream",
          "text": [
            "INFO:tensorflow:Assets written to: /content/drive/MyDrive/02_Work/05_Experiments/TF-Transformer/Cifar10_VIT/Cifar10_VIT_210318/assets\n"
          ],
          "name": "stdout"
        },
        {
          "output_type": "stream",
          "text": [
            "INFO:tensorflow:Assets written to: /content/drive/MyDrive/02_Work/05_Experiments/TF-Transformer/Cifar10_VIT/Cifar10_VIT_210318/assets\n"
          ],
          "name": "stderr"
        },
        {
          "output_type": "stream",
          "text": [
            "Epoch 10/50\n",
            "98/98 [==============================] - 14s 137ms/step - loss: 1.4966 - sparse_categorical_accuracy: 0.4446 - val_loss: 1.4015 - val_sparse_categorical_accuracy: 0.5049\n"
          ],
          "name": "stdout"
        },
        {
          "output_type": "stream",
          "text": [
            "WARNING:absl:Found untraced functions such as dense_layer_call_fn, dense_layer_call_and_return_conditional_losses, embedding_layer_call_fn, embedding_layer_call_and_return_conditional_losses, query_layer_call_fn while saving (showing 5 of 130). These functions will not be directly callable after loading.\n",
            "WARNING:absl:Found untraced functions such as dense_layer_call_fn, dense_layer_call_and_return_conditional_losses, embedding_layer_call_fn, embedding_layer_call_and_return_conditional_losses, query_layer_call_fn while saving (showing 5 of 130). These functions will not be directly callable after loading.\n"
          ],
          "name": "stderr"
        },
        {
          "output_type": "stream",
          "text": [
            "INFO:tensorflow:Assets written to: /content/drive/MyDrive/02_Work/05_Experiments/TF-Transformer/Cifar10_VIT/Cifar10_VIT_210318/assets\n"
          ],
          "name": "stdout"
        },
        {
          "output_type": "stream",
          "text": [
            "INFO:tensorflow:Assets written to: /content/drive/MyDrive/02_Work/05_Experiments/TF-Transformer/Cifar10_VIT/Cifar10_VIT_210318/assets\n"
          ],
          "name": "stderr"
        },
        {
          "output_type": "stream",
          "text": [
            "Epoch 11/50\n",
            "98/98 [==============================] - 14s 138ms/step - loss: 1.4466 - sparse_categorical_accuracy: 0.4711 - val_loss: 1.3773 - val_sparse_categorical_accuracy: 0.5135\n"
          ],
          "name": "stdout"
        },
        {
          "output_type": "stream",
          "text": [
            "WARNING:absl:Found untraced functions such as dense_layer_call_fn, dense_layer_call_and_return_conditional_losses, embedding_layer_call_fn, embedding_layer_call_and_return_conditional_losses, query_layer_call_fn while saving (showing 5 of 130). These functions will not be directly callable after loading.\n",
            "WARNING:absl:Found untraced functions such as dense_layer_call_fn, dense_layer_call_and_return_conditional_losses, embedding_layer_call_fn, embedding_layer_call_and_return_conditional_losses, query_layer_call_fn while saving (showing 5 of 130). These functions will not be directly callable after loading.\n"
          ],
          "name": "stderr"
        },
        {
          "output_type": "stream",
          "text": [
            "INFO:tensorflow:Assets written to: /content/drive/MyDrive/02_Work/05_Experiments/TF-Transformer/Cifar10_VIT/Cifar10_VIT_210318/assets\n"
          ],
          "name": "stdout"
        },
        {
          "output_type": "stream",
          "text": [
            "INFO:tensorflow:Assets written to: /content/drive/MyDrive/02_Work/05_Experiments/TF-Transformer/Cifar10_VIT/Cifar10_VIT_210318/assets\n"
          ],
          "name": "stderr"
        },
        {
          "output_type": "stream",
          "text": [
            "Epoch 12/50\n",
            "98/98 [==============================] - 14s 138ms/step - loss: 1.4137 - sparse_categorical_accuracy: 0.4849 - val_loss: 1.3222 - val_sparse_categorical_accuracy: 0.5389\n"
          ],
          "name": "stdout"
        },
        {
          "output_type": "stream",
          "text": [
            "WARNING:absl:Found untraced functions such as dense_layer_call_fn, dense_layer_call_and_return_conditional_losses, embedding_layer_call_fn, embedding_layer_call_and_return_conditional_losses, query_layer_call_fn while saving (showing 5 of 130). These functions will not be directly callable after loading.\n",
            "WARNING:absl:Found untraced functions such as dense_layer_call_fn, dense_layer_call_and_return_conditional_losses, embedding_layer_call_fn, embedding_layer_call_and_return_conditional_losses, query_layer_call_fn while saving (showing 5 of 130). These functions will not be directly callable after loading.\n"
          ],
          "name": "stderr"
        },
        {
          "output_type": "stream",
          "text": [
            "INFO:tensorflow:Assets written to: /content/drive/MyDrive/02_Work/05_Experiments/TF-Transformer/Cifar10_VIT/Cifar10_VIT_210318/assets\n"
          ],
          "name": "stdout"
        },
        {
          "output_type": "stream",
          "text": [
            "INFO:tensorflow:Assets written to: /content/drive/MyDrive/02_Work/05_Experiments/TF-Transformer/Cifar10_VIT/Cifar10_VIT_210318/assets\n"
          ],
          "name": "stderr"
        },
        {
          "output_type": "stream",
          "text": [
            "Epoch 13/50\n",
            "98/98 [==============================] - 14s 138ms/step - loss: 1.3474 - sparse_categorical_accuracy: 0.5161 - val_loss: 1.3036 - val_sparse_categorical_accuracy: 0.5491\n"
          ],
          "name": "stdout"
        },
        {
          "output_type": "stream",
          "text": [
            "WARNING:absl:Found untraced functions such as dense_layer_call_fn, dense_layer_call_and_return_conditional_losses, embedding_layer_call_fn, embedding_layer_call_and_return_conditional_losses, query_layer_call_fn while saving (showing 5 of 130). These functions will not be directly callable after loading.\n",
            "WARNING:absl:Found untraced functions such as dense_layer_call_fn, dense_layer_call_and_return_conditional_losses, embedding_layer_call_fn, embedding_layer_call_and_return_conditional_losses, query_layer_call_fn while saving (showing 5 of 130). These functions will not be directly callable after loading.\n"
          ],
          "name": "stderr"
        },
        {
          "output_type": "stream",
          "text": [
            "INFO:tensorflow:Assets written to: /content/drive/MyDrive/02_Work/05_Experiments/TF-Transformer/Cifar10_VIT/Cifar10_VIT_210318/assets\n"
          ],
          "name": "stdout"
        },
        {
          "output_type": "stream",
          "text": [
            "INFO:tensorflow:Assets written to: /content/drive/MyDrive/02_Work/05_Experiments/TF-Transformer/Cifar10_VIT/Cifar10_VIT_210318/assets\n"
          ],
          "name": "stderr"
        },
        {
          "output_type": "stream",
          "text": [
            "Epoch 14/50\n",
            "98/98 [==============================] - 14s 138ms/step - loss: 1.3083 - sparse_categorical_accuracy: 0.5290 - val_loss: 1.2483 - val_sparse_categorical_accuracy: 0.5644\n"
          ],
          "name": "stdout"
        },
        {
          "output_type": "stream",
          "text": [
            "WARNING:absl:Found untraced functions such as dense_layer_call_fn, dense_layer_call_and_return_conditional_losses, embedding_layer_call_fn, embedding_layer_call_and_return_conditional_losses, query_layer_call_fn while saving (showing 5 of 130). These functions will not be directly callable after loading.\n",
            "WARNING:absl:Found untraced functions such as dense_layer_call_fn, dense_layer_call_and_return_conditional_losses, embedding_layer_call_fn, embedding_layer_call_and_return_conditional_losses, query_layer_call_fn while saving (showing 5 of 130). These functions will not be directly callable after loading.\n"
          ],
          "name": "stderr"
        },
        {
          "output_type": "stream",
          "text": [
            "INFO:tensorflow:Assets written to: /content/drive/MyDrive/02_Work/05_Experiments/TF-Transformer/Cifar10_VIT/Cifar10_VIT_210318/assets\n"
          ],
          "name": "stdout"
        },
        {
          "output_type": "stream",
          "text": [
            "INFO:tensorflow:Assets written to: /content/drive/MyDrive/02_Work/05_Experiments/TF-Transformer/Cifar10_VIT/Cifar10_VIT_210318/assets\n"
          ],
          "name": "stderr"
        },
        {
          "output_type": "stream",
          "text": [
            "Epoch 15/50\n",
            "98/98 [==============================] - 14s 138ms/step - loss: 1.2673 - sparse_categorical_accuracy: 0.5445 - val_loss: 1.2476 - val_sparse_categorical_accuracy: 0.5621\n",
            "Epoch 16/50\n",
            "98/98 [==============================] - 14s 138ms/step - loss: 1.2456 - sparse_categorical_accuracy: 0.5537 - val_loss: 1.2184 - val_sparse_categorical_accuracy: 0.5770\n"
          ],
          "name": "stdout"
        },
        {
          "output_type": "stream",
          "text": [
            "WARNING:absl:Found untraced functions such as dense_layer_call_fn, dense_layer_call_and_return_conditional_losses, embedding_layer_call_fn, embedding_layer_call_and_return_conditional_losses, query_layer_call_fn while saving (showing 5 of 130). These functions will not be directly callable after loading.\n",
            "WARNING:absl:Found untraced functions such as dense_layer_call_fn, dense_layer_call_and_return_conditional_losses, embedding_layer_call_fn, embedding_layer_call_and_return_conditional_losses, query_layer_call_fn while saving (showing 5 of 130). These functions will not be directly callable after loading.\n"
          ],
          "name": "stderr"
        },
        {
          "output_type": "stream",
          "text": [
            "INFO:tensorflow:Assets written to: /content/drive/MyDrive/02_Work/05_Experiments/TF-Transformer/Cifar10_VIT/Cifar10_VIT_210318/assets\n"
          ],
          "name": "stdout"
        },
        {
          "output_type": "stream",
          "text": [
            "INFO:tensorflow:Assets written to: /content/drive/MyDrive/02_Work/05_Experiments/TF-Transformer/Cifar10_VIT/Cifar10_VIT_210318/assets\n"
          ],
          "name": "stderr"
        },
        {
          "output_type": "stream",
          "text": [
            "Epoch 17/50\n",
            "98/98 [==============================] - 14s 138ms/step - loss: 1.1964 - sparse_categorical_accuracy: 0.5729 - val_loss: 1.1697 - val_sparse_categorical_accuracy: 0.5906\n"
          ],
          "name": "stdout"
        },
        {
          "output_type": "stream",
          "text": [
            "WARNING:absl:Found untraced functions such as dense_layer_call_fn, dense_layer_call_and_return_conditional_losses, embedding_layer_call_fn, embedding_layer_call_and_return_conditional_losses, query_layer_call_fn while saving (showing 5 of 130). These functions will not be directly callable after loading.\n",
            "WARNING:absl:Found untraced functions such as dense_layer_call_fn, dense_layer_call_and_return_conditional_losses, embedding_layer_call_fn, embedding_layer_call_and_return_conditional_losses, query_layer_call_fn while saving (showing 5 of 130). These functions will not be directly callable after loading.\n"
          ],
          "name": "stderr"
        },
        {
          "output_type": "stream",
          "text": [
            "INFO:tensorflow:Assets written to: /content/drive/MyDrive/02_Work/05_Experiments/TF-Transformer/Cifar10_VIT/Cifar10_VIT_210318/assets\n"
          ],
          "name": "stdout"
        },
        {
          "output_type": "stream",
          "text": [
            "INFO:tensorflow:Assets written to: /content/drive/MyDrive/02_Work/05_Experiments/TF-Transformer/Cifar10_VIT/Cifar10_VIT_210318/assets\n"
          ],
          "name": "stderr"
        },
        {
          "output_type": "stream",
          "text": [
            "Epoch 18/50\n",
            "98/98 [==============================] - 14s 138ms/step - loss: 1.1732 - sparse_categorical_accuracy: 0.5802 - val_loss: 1.1149 - val_sparse_categorical_accuracy: 0.6045\n"
          ],
          "name": "stdout"
        },
        {
          "output_type": "stream",
          "text": [
            "WARNING:absl:Found untraced functions such as dense_layer_call_fn, dense_layer_call_and_return_conditional_losses, embedding_layer_call_fn, embedding_layer_call_and_return_conditional_losses, query_layer_call_fn while saving (showing 5 of 130). These functions will not be directly callable after loading.\n",
            "WARNING:absl:Found untraced functions such as dense_layer_call_fn, dense_layer_call_and_return_conditional_losses, embedding_layer_call_fn, embedding_layer_call_and_return_conditional_losses, query_layer_call_fn while saving (showing 5 of 130). These functions will not be directly callable after loading.\n"
          ],
          "name": "stderr"
        },
        {
          "output_type": "stream",
          "text": [
            "INFO:tensorflow:Assets written to: /content/drive/MyDrive/02_Work/05_Experiments/TF-Transformer/Cifar10_VIT/Cifar10_VIT_210318/assets\n"
          ],
          "name": "stdout"
        },
        {
          "output_type": "stream",
          "text": [
            "INFO:tensorflow:Assets written to: /content/drive/MyDrive/02_Work/05_Experiments/TF-Transformer/Cifar10_VIT/Cifar10_VIT_210318/assets\n"
          ],
          "name": "stderr"
        },
        {
          "output_type": "stream",
          "text": [
            "Epoch 19/50\n",
            "98/98 [==============================] - 14s 138ms/step - loss: 1.1170 - sparse_categorical_accuracy: 0.5977 - val_loss: 1.1128 - val_sparse_categorical_accuracy: 0.6035\n",
            "Epoch 20/50\n",
            "98/98 [==============================] - 14s 138ms/step - loss: 1.0893 - sparse_categorical_accuracy: 0.6111 - val_loss: 1.0912 - val_sparse_categorical_accuracy: 0.6006\n",
            "Epoch 21/50\n",
            "98/98 [==============================] - 14s 139ms/step - loss: 1.0583 - sparse_categorical_accuracy: 0.6214 - val_loss: 1.0917 - val_sparse_categorical_accuracy: 0.6113\n"
          ],
          "name": "stdout"
        },
        {
          "output_type": "stream",
          "text": [
            "WARNING:absl:Found untraced functions such as dense_layer_call_fn, dense_layer_call_and_return_conditional_losses, embedding_layer_call_fn, embedding_layer_call_and_return_conditional_losses, query_layer_call_fn while saving (showing 5 of 130). These functions will not be directly callable after loading.\n",
            "WARNING:absl:Found untraced functions such as dense_layer_call_fn, dense_layer_call_and_return_conditional_losses, embedding_layer_call_fn, embedding_layer_call_and_return_conditional_losses, query_layer_call_fn while saving (showing 5 of 130). These functions will not be directly callable after loading.\n"
          ],
          "name": "stderr"
        },
        {
          "output_type": "stream",
          "text": [
            "INFO:tensorflow:Assets written to: /content/drive/MyDrive/02_Work/05_Experiments/TF-Transformer/Cifar10_VIT/Cifar10_VIT_210318/assets\n"
          ],
          "name": "stdout"
        },
        {
          "output_type": "stream",
          "text": [
            "INFO:tensorflow:Assets written to: /content/drive/MyDrive/02_Work/05_Experiments/TF-Transformer/Cifar10_VIT/Cifar10_VIT_210318/assets\n"
          ],
          "name": "stderr"
        },
        {
          "output_type": "stream",
          "text": [
            "Epoch 22/50\n",
            "98/98 [==============================] - 14s 139ms/step - loss: 1.0248 - sparse_categorical_accuracy: 0.6318 - val_loss: 1.0327 - val_sparse_categorical_accuracy: 0.6339\n"
          ],
          "name": "stdout"
        },
        {
          "output_type": "stream",
          "text": [
            "WARNING:absl:Found untraced functions such as dense_layer_call_fn, dense_layer_call_and_return_conditional_losses, embedding_layer_call_fn, embedding_layer_call_and_return_conditional_losses, query_layer_call_fn while saving (showing 5 of 130). These functions will not be directly callable after loading.\n",
            "WARNING:absl:Found untraced functions such as dense_layer_call_fn, dense_layer_call_and_return_conditional_losses, embedding_layer_call_fn, embedding_layer_call_and_return_conditional_losses, query_layer_call_fn while saving (showing 5 of 130). These functions will not be directly callable after loading.\n"
          ],
          "name": "stderr"
        },
        {
          "output_type": "stream",
          "text": [
            "INFO:tensorflow:Assets written to: /content/drive/MyDrive/02_Work/05_Experiments/TF-Transformer/Cifar10_VIT/Cifar10_VIT_210318/assets\n"
          ],
          "name": "stdout"
        },
        {
          "output_type": "stream",
          "text": [
            "INFO:tensorflow:Assets written to: /content/drive/MyDrive/02_Work/05_Experiments/TF-Transformer/Cifar10_VIT/Cifar10_VIT_210318/assets\n"
          ],
          "name": "stderr"
        },
        {
          "output_type": "stream",
          "text": [
            "Epoch 23/50\n",
            "98/98 [==============================] - 14s 138ms/step - loss: 0.9879 - sparse_categorical_accuracy: 0.6503 - val_loss: 1.0291 - val_sparse_categorical_accuracy: 0.6401\n"
          ],
          "name": "stdout"
        },
        {
          "output_type": "stream",
          "text": [
            "WARNING:absl:Found untraced functions such as dense_layer_call_fn, dense_layer_call_and_return_conditional_losses, embedding_layer_call_fn, embedding_layer_call_and_return_conditional_losses, query_layer_call_fn while saving (showing 5 of 130). These functions will not be directly callable after loading.\n",
            "WARNING:absl:Found untraced functions such as dense_layer_call_fn, dense_layer_call_and_return_conditional_losses, embedding_layer_call_fn, embedding_layer_call_and_return_conditional_losses, query_layer_call_fn while saving (showing 5 of 130). These functions will not be directly callable after loading.\n"
          ],
          "name": "stderr"
        },
        {
          "output_type": "stream",
          "text": [
            "INFO:tensorflow:Assets written to: /content/drive/MyDrive/02_Work/05_Experiments/TF-Transformer/Cifar10_VIT/Cifar10_VIT_210318/assets\n"
          ],
          "name": "stdout"
        },
        {
          "output_type": "stream",
          "text": [
            "INFO:tensorflow:Assets written to: /content/drive/MyDrive/02_Work/05_Experiments/TF-Transformer/Cifar10_VIT/Cifar10_VIT_210318/assets\n"
          ],
          "name": "stderr"
        },
        {
          "output_type": "stream",
          "text": [
            "Epoch 24/50\n",
            "98/98 [==============================] - 14s 138ms/step - loss: 0.9662 - sparse_categorical_accuracy: 0.6584 - val_loss: 1.0081 - val_sparse_categorical_accuracy: 0.6426\n"
          ],
          "name": "stdout"
        },
        {
          "output_type": "stream",
          "text": [
            "WARNING:absl:Found untraced functions such as dense_layer_call_fn, dense_layer_call_and_return_conditional_losses, embedding_layer_call_fn, embedding_layer_call_and_return_conditional_losses, query_layer_call_fn while saving (showing 5 of 130). These functions will not be directly callable after loading.\n",
            "WARNING:absl:Found untraced functions such as dense_layer_call_fn, dense_layer_call_and_return_conditional_losses, embedding_layer_call_fn, embedding_layer_call_and_return_conditional_losses, query_layer_call_fn while saving (showing 5 of 130). These functions will not be directly callable after loading.\n"
          ],
          "name": "stderr"
        },
        {
          "output_type": "stream",
          "text": [
            "INFO:tensorflow:Assets written to: /content/drive/MyDrive/02_Work/05_Experiments/TF-Transformer/Cifar10_VIT/Cifar10_VIT_210318/assets\n"
          ],
          "name": "stdout"
        },
        {
          "output_type": "stream",
          "text": [
            "INFO:tensorflow:Assets written to: /content/drive/MyDrive/02_Work/05_Experiments/TF-Transformer/Cifar10_VIT/Cifar10_VIT_210318/assets\n"
          ],
          "name": "stderr"
        },
        {
          "output_type": "stream",
          "text": [
            "Epoch 25/50\n",
            "98/98 [==============================] - 14s 138ms/step - loss: 0.9354 - sparse_categorical_accuracy: 0.6691 - val_loss: 1.0011 - val_sparse_categorical_accuracy: 0.6452\n"
          ],
          "name": "stdout"
        },
        {
          "output_type": "stream",
          "text": [
            "WARNING:absl:Found untraced functions such as dense_layer_call_fn, dense_layer_call_and_return_conditional_losses, embedding_layer_call_fn, embedding_layer_call_and_return_conditional_losses, query_layer_call_fn while saving (showing 5 of 130). These functions will not be directly callable after loading.\n",
            "WARNING:absl:Found untraced functions such as dense_layer_call_fn, dense_layer_call_and_return_conditional_losses, embedding_layer_call_fn, embedding_layer_call_and_return_conditional_losses, query_layer_call_fn while saving (showing 5 of 130). These functions will not be directly callable after loading.\n"
          ],
          "name": "stderr"
        },
        {
          "output_type": "stream",
          "text": [
            "INFO:tensorflow:Assets written to: /content/drive/MyDrive/02_Work/05_Experiments/TF-Transformer/Cifar10_VIT/Cifar10_VIT_210318/assets\n"
          ],
          "name": "stdout"
        },
        {
          "output_type": "stream",
          "text": [
            "INFO:tensorflow:Assets written to: /content/drive/MyDrive/02_Work/05_Experiments/TF-Transformer/Cifar10_VIT/Cifar10_VIT_210318/assets\n"
          ],
          "name": "stderr"
        },
        {
          "output_type": "stream",
          "text": [
            "Epoch 26/50\n",
            "98/98 [==============================] - 14s 138ms/step - loss: 0.9336 - sparse_categorical_accuracy: 0.6671 - val_loss: 0.9780 - val_sparse_categorical_accuracy: 0.6556\n"
          ],
          "name": "stdout"
        },
        {
          "output_type": "stream",
          "text": [
            "WARNING:absl:Found untraced functions such as dense_layer_call_fn, dense_layer_call_and_return_conditional_losses, embedding_layer_call_fn, embedding_layer_call_and_return_conditional_losses, query_layer_call_fn while saving (showing 5 of 130). These functions will not be directly callable after loading.\n",
            "WARNING:absl:Found untraced functions such as dense_layer_call_fn, dense_layer_call_and_return_conditional_losses, embedding_layer_call_fn, embedding_layer_call_and_return_conditional_losses, query_layer_call_fn while saving (showing 5 of 130). These functions will not be directly callable after loading.\n"
          ],
          "name": "stderr"
        },
        {
          "output_type": "stream",
          "text": [
            "INFO:tensorflow:Assets written to: /content/drive/MyDrive/02_Work/05_Experiments/TF-Transformer/Cifar10_VIT/Cifar10_VIT_210318/assets\n"
          ],
          "name": "stdout"
        },
        {
          "output_type": "stream",
          "text": [
            "INFO:tensorflow:Assets written to: /content/drive/MyDrive/02_Work/05_Experiments/TF-Transformer/Cifar10_VIT/Cifar10_VIT_210318/assets\n"
          ],
          "name": "stderr"
        },
        {
          "output_type": "stream",
          "text": [
            "Epoch 27/50\n",
            "98/98 [==============================] - 14s 138ms/step - loss: 0.8885 - sparse_categorical_accuracy: 0.6838 - val_loss: 0.9731 - val_sparse_categorical_accuracy: 0.6579\n"
          ],
          "name": "stdout"
        },
        {
          "output_type": "stream",
          "text": [
            "WARNING:absl:Found untraced functions such as dense_layer_call_fn, dense_layer_call_and_return_conditional_losses, embedding_layer_call_fn, embedding_layer_call_and_return_conditional_losses, query_layer_call_fn while saving (showing 5 of 130). These functions will not be directly callable after loading.\n",
            "WARNING:absl:Found untraced functions such as dense_layer_call_fn, dense_layer_call_and_return_conditional_losses, embedding_layer_call_fn, embedding_layer_call_and_return_conditional_losses, query_layer_call_fn while saving (showing 5 of 130). These functions will not be directly callable after loading.\n"
          ],
          "name": "stderr"
        },
        {
          "output_type": "stream",
          "text": [
            "INFO:tensorflow:Assets written to: /content/drive/MyDrive/02_Work/05_Experiments/TF-Transformer/Cifar10_VIT/Cifar10_VIT_210318/assets\n"
          ],
          "name": "stdout"
        },
        {
          "output_type": "stream",
          "text": [
            "INFO:tensorflow:Assets written to: /content/drive/MyDrive/02_Work/05_Experiments/TF-Transformer/Cifar10_VIT/Cifar10_VIT_210318/assets\n"
          ],
          "name": "stderr"
        },
        {
          "output_type": "stream",
          "text": [
            "Epoch 28/50\n",
            "98/98 [==============================] - 14s 139ms/step - loss: 0.8751 - sparse_categorical_accuracy: 0.6885 - val_loss: 0.9524 - val_sparse_categorical_accuracy: 0.6621\n"
          ],
          "name": "stdout"
        },
        {
          "output_type": "stream",
          "text": [
            "WARNING:absl:Found untraced functions such as dense_layer_call_fn, dense_layer_call_and_return_conditional_losses, embedding_layer_call_fn, embedding_layer_call_and_return_conditional_losses, query_layer_call_fn while saving (showing 5 of 130). These functions will not be directly callable after loading.\n",
            "WARNING:absl:Found untraced functions such as dense_layer_call_fn, dense_layer_call_and_return_conditional_losses, embedding_layer_call_fn, embedding_layer_call_and_return_conditional_losses, query_layer_call_fn while saving (showing 5 of 130). These functions will not be directly callable after loading.\n"
          ],
          "name": "stderr"
        },
        {
          "output_type": "stream",
          "text": [
            "INFO:tensorflow:Assets written to: /content/drive/MyDrive/02_Work/05_Experiments/TF-Transformer/Cifar10_VIT/Cifar10_VIT_210318/assets\n"
          ],
          "name": "stdout"
        },
        {
          "output_type": "stream",
          "text": [
            "INFO:tensorflow:Assets written to: /content/drive/MyDrive/02_Work/05_Experiments/TF-Transformer/Cifar10_VIT/Cifar10_VIT_210318/assets\n"
          ],
          "name": "stderr"
        },
        {
          "output_type": "stream",
          "text": [
            "Epoch 29/50\n",
            "98/98 [==============================] - 14s 138ms/step - loss: 0.8537 - sparse_categorical_accuracy: 0.6944 - val_loss: 0.9576 - val_sparse_categorical_accuracy: 0.6651\n"
          ],
          "name": "stdout"
        },
        {
          "output_type": "stream",
          "text": [
            "WARNING:absl:Found untraced functions such as dense_layer_call_fn, dense_layer_call_and_return_conditional_losses, embedding_layer_call_fn, embedding_layer_call_and_return_conditional_losses, query_layer_call_fn while saving (showing 5 of 130). These functions will not be directly callable after loading.\n",
            "WARNING:absl:Found untraced functions such as dense_layer_call_fn, dense_layer_call_and_return_conditional_losses, embedding_layer_call_fn, embedding_layer_call_and_return_conditional_losses, query_layer_call_fn while saving (showing 5 of 130). These functions will not be directly callable after loading.\n"
          ],
          "name": "stderr"
        },
        {
          "output_type": "stream",
          "text": [
            "INFO:tensorflow:Assets written to: /content/drive/MyDrive/02_Work/05_Experiments/TF-Transformer/Cifar10_VIT/Cifar10_VIT_210318/assets\n"
          ],
          "name": "stdout"
        },
        {
          "output_type": "stream",
          "text": [
            "INFO:tensorflow:Assets written to: /content/drive/MyDrive/02_Work/05_Experiments/TF-Transformer/Cifar10_VIT/Cifar10_VIT_210318/assets\n"
          ],
          "name": "stderr"
        },
        {
          "output_type": "stream",
          "text": [
            "Epoch 30/50\n",
            "98/98 [==============================] - 14s 138ms/step - loss: 0.8320 - sparse_categorical_accuracy: 0.7039 - val_loss: 0.9622 - val_sparse_categorical_accuracy: 0.6610\n",
            "Epoch 31/50\n",
            "98/98 [==============================] - 14s 138ms/step - loss: 0.8146 - sparse_categorical_accuracy: 0.7071 - val_loss: 0.9572 - val_sparse_categorical_accuracy: 0.6700\n"
          ],
          "name": "stdout"
        },
        {
          "output_type": "stream",
          "text": [
            "WARNING:absl:Found untraced functions such as dense_layer_call_fn, dense_layer_call_and_return_conditional_losses, embedding_layer_call_fn, embedding_layer_call_and_return_conditional_losses, query_layer_call_fn while saving (showing 5 of 130). These functions will not be directly callable after loading.\n",
            "WARNING:absl:Found untraced functions such as dense_layer_call_fn, dense_layer_call_and_return_conditional_losses, embedding_layer_call_fn, embedding_layer_call_and_return_conditional_losses, query_layer_call_fn while saving (showing 5 of 130). These functions will not be directly callable after loading.\n"
          ],
          "name": "stderr"
        },
        {
          "output_type": "stream",
          "text": [
            "INFO:tensorflow:Assets written to: /content/drive/MyDrive/02_Work/05_Experiments/TF-Transformer/Cifar10_VIT/Cifar10_VIT_210318/assets\n"
          ],
          "name": "stdout"
        },
        {
          "output_type": "stream",
          "text": [
            "INFO:tensorflow:Assets written to: /content/drive/MyDrive/02_Work/05_Experiments/TF-Transformer/Cifar10_VIT/Cifar10_VIT_210318/assets\n"
          ],
          "name": "stderr"
        },
        {
          "output_type": "stream",
          "text": [
            "Epoch 32/50\n",
            "98/98 [==============================] - 14s 138ms/step - loss: 0.7885 - sparse_categorical_accuracy: 0.7183 - val_loss: 0.9379 - val_sparse_categorical_accuracy: 0.6753\n"
          ],
          "name": "stdout"
        },
        {
          "output_type": "stream",
          "text": [
            "WARNING:absl:Found untraced functions such as dense_layer_call_fn, dense_layer_call_and_return_conditional_losses, embedding_layer_call_fn, embedding_layer_call_and_return_conditional_losses, query_layer_call_fn while saving (showing 5 of 130). These functions will not be directly callable after loading.\n",
            "WARNING:absl:Found untraced functions such as dense_layer_call_fn, dense_layer_call_and_return_conditional_losses, embedding_layer_call_fn, embedding_layer_call_and_return_conditional_losses, query_layer_call_fn while saving (showing 5 of 130). These functions will not be directly callable after loading.\n"
          ],
          "name": "stderr"
        },
        {
          "output_type": "stream",
          "text": [
            "INFO:tensorflow:Assets written to: /content/drive/MyDrive/02_Work/05_Experiments/TF-Transformer/Cifar10_VIT/Cifar10_VIT_210318/assets\n"
          ],
          "name": "stdout"
        },
        {
          "output_type": "stream",
          "text": [
            "INFO:tensorflow:Assets written to: /content/drive/MyDrive/02_Work/05_Experiments/TF-Transformer/Cifar10_VIT/Cifar10_VIT_210318/assets\n"
          ],
          "name": "stderr"
        },
        {
          "output_type": "stream",
          "text": [
            "Epoch 33/50\n",
            "98/98 [==============================] - 14s 139ms/step - loss: 0.7581 - sparse_categorical_accuracy: 0.7295 - val_loss: 0.9262 - val_sparse_categorical_accuracy: 0.6756\n"
          ],
          "name": "stdout"
        },
        {
          "output_type": "stream",
          "text": [
            "WARNING:absl:Found untraced functions such as dense_layer_call_fn, dense_layer_call_and_return_conditional_losses, embedding_layer_call_fn, embedding_layer_call_and_return_conditional_losses, query_layer_call_fn while saving (showing 5 of 130). These functions will not be directly callable after loading.\n",
            "WARNING:absl:Found untraced functions such as dense_layer_call_fn, dense_layer_call_and_return_conditional_losses, embedding_layer_call_fn, embedding_layer_call_and_return_conditional_losses, query_layer_call_fn while saving (showing 5 of 130). These functions will not be directly callable after loading.\n"
          ],
          "name": "stderr"
        },
        {
          "output_type": "stream",
          "text": [
            "INFO:tensorflow:Assets written to: /content/drive/MyDrive/02_Work/05_Experiments/TF-Transformer/Cifar10_VIT/Cifar10_VIT_210318/assets\n"
          ],
          "name": "stdout"
        },
        {
          "output_type": "stream",
          "text": [
            "INFO:tensorflow:Assets written to: /content/drive/MyDrive/02_Work/05_Experiments/TF-Transformer/Cifar10_VIT/Cifar10_VIT_210318/assets\n"
          ],
          "name": "stderr"
        },
        {
          "output_type": "stream",
          "text": [
            "Epoch 34/50\n",
            "98/98 [==============================] - 14s 141ms/step - loss: 0.7463 - sparse_categorical_accuracy: 0.7368 - val_loss: 0.9944 - val_sparse_categorical_accuracy: 0.6700\n",
            "Epoch 35/50\n",
            "98/98 [==============================] - 14s 140ms/step - loss: 0.7334 - sparse_categorical_accuracy: 0.7378 - val_loss: 0.9120 - val_sparse_categorical_accuracy: 0.6869\n"
          ],
          "name": "stdout"
        },
        {
          "output_type": "stream",
          "text": [
            "WARNING:absl:Found untraced functions such as dense_layer_call_fn, dense_layer_call_and_return_conditional_losses, embedding_layer_call_fn, embedding_layer_call_and_return_conditional_losses, query_layer_call_fn while saving (showing 5 of 130). These functions will not be directly callable after loading.\n",
            "WARNING:absl:Found untraced functions such as dense_layer_call_fn, dense_layer_call_and_return_conditional_losses, embedding_layer_call_fn, embedding_layer_call_and_return_conditional_losses, query_layer_call_fn while saving (showing 5 of 130). These functions will not be directly callable after loading.\n"
          ],
          "name": "stderr"
        },
        {
          "output_type": "stream",
          "text": [
            "INFO:tensorflow:Assets written to: /content/drive/MyDrive/02_Work/05_Experiments/TF-Transformer/Cifar10_VIT/Cifar10_VIT_210318/assets\n"
          ],
          "name": "stdout"
        },
        {
          "output_type": "stream",
          "text": [
            "INFO:tensorflow:Assets written to: /content/drive/MyDrive/02_Work/05_Experiments/TF-Transformer/Cifar10_VIT/Cifar10_VIT_210318/assets\n"
          ],
          "name": "stderr"
        },
        {
          "output_type": "stream",
          "text": [
            "Epoch 36/50\n",
            "98/98 [==============================] - 14s 140ms/step - loss: 0.7104 - sparse_categorical_accuracy: 0.7462 - val_loss: 0.9174 - val_sparse_categorical_accuracy: 0.6851\n",
            "Epoch 37/50\n",
            "98/98 [==============================] - 14s 140ms/step - loss: 0.7031 - sparse_categorical_accuracy: 0.7463 - val_loss: 0.9300 - val_sparse_categorical_accuracy: 0.6850\n",
            "Epoch 38/50\n",
            "98/98 [==============================] - 14s 140ms/step - loss: 0.6767 - sparse_categorical_accuracy: 0.7575 - val_loss: 0.9211 - val_sparse_categorical_accuracy: 0.6859\n",
            "Epoch 39/50\n",
            "98/98 [==============================] - 14s 140ms/step - loss: 0.6597 - sparse_categorical_accuracy: 0.7621 - val_loss: 0.9029 - val_sparse_categorical_accuracy: 0.6925\n"
          ],
          "name": "stdout"
        },
        {
          "output_type": "stream",
          "text": [
            "WARNING:absl:Found untraced functions such as dense_layer_call_fn, dense_layer_call_and_return_conditional_losses, embedding_layer_call_fn, embedding_layer_call_and_return_conditional_losses, query_layer_call_fn while saving (showing 5 of 130). These functions will not be directly callable after loading.\n",
            "WARNING:absl:Found untraced functions such as dense_layer_call_fn, dense_layer_call_and_return_conditional_losses, embedding_layer_call_fn, embedding_layer_call_and_return_conditional_losses, query_layer_call_fn while saving (showing 5 of 130). These functions will not be directly callable after loading.\n"
          ],
          "name": "stderr"
        },
        {
          "output_type": "stream",
          "text": [
            "INFO:tensorflow:Assets written to: /content/drive/MyDrive/02_Work/05_Experiments/TF-Transformer/Cifar10_VIT/Cifar10_VIT_210318/assets\n"
          ],
          "name": "stdout"
        },
        {
          "output_type": "stream",
          "text": [
            "INFO:tensorflow:Assets written to: /content/drive/MyDrive/02_Work/05_Experiments/TF-Transformer/Cifar10_VIT/Cifar10_VIT_210318/assets\n"
          ],
          "name": "stderr"
        },
        {
          "output_type": "stream",
          "text": [
            "Epoch 40/50\n",
            "98/98 [==============================] - 14s 140ms/step - loss: 0.6425 - sparse_categorical_accuracy: 0.7706 - val_loss: 0.9330 - val_sparse_categorical_accuracy: 0.6900\n",
            "Epoch 41/50\n",
            "98/98 [==============================] - 14s 140ms/step - loss: 0.6427 - sparse_categorical_accuracy: 0.7718 - val_loss: 0.9245 - val_sparse_categorical_accuracy: 0.6912\n",
            "Epoch 42/50\n",
            "98/98 [==============================] - 14s 140ms/step - loss: 0.6154 - sparse_categorical_accuracy: 0.7785 - val_loss: 0.9296 - val_sparse_categorical_accuracy: 0.6926\n"
          ],
          "name": "stdout"
        },
        {
          "output_type": "stream",
          "text": [
            "WARNING:absl:Found untraced functions such as dense_layer_call_fn, dense_layer_call_and_return_conditional_losses, embedding_layer_call_fn, embedding_layer_call_and_return_conditional_losses, query_layer_call_fn while saving (showing 5 of 130). These functions will not be directly callable after loading.\n",
            "WARNING:absl:Found untraced functions such as dense_layer_call_fn, dense_layer_call_and_return_conditional_losses, embedding_layer_call_fn, embedding_layer_call_and_return_conditional_losses, query_layer_call_fn while saving (showing 5 of 130). These functions will not be directly callable after loading.\n"
          ],
          "name": "stderr"
        },
        {
          "output_type": "stream",
          "text": [
            "INFO:tensorflow:Assets written to: /content/drive/MyDrive/02_Work/05_Experiments/TF-Transformer/Cifar10_VIT/Cifar10_VIT_210318/assets\n"
          ],
          "name": "stdout"
        },
        {
          "output_type": "stream",
          "text": [
            "INFO:tensorflow:Assets written to: /content/drive/MyDrive/02_Work/05_Experiments/TF-Transformer/Cifar10_VIT/Cifar10_VIT_210318/assets\n"
          ],
          "name": "stderr"
        },
        {
          "output_type": "stream",
          "text": [
            "Epoch 43/50\n",
            "98/98 [==============================] - 14s 139ms/step - loss: 0.6045 - sparse_categorical_accuracy: 0.7819 - val_loss: 0.9075 - val_sparse_categorical_accuracy: 0.6965\n"
          ],
          "name": "stdout"
        },
        {
          "output_type": "stream",
          "text": [
            "WARNING:absl:Found untraced functions such as dense_layer_call_fn, dense_layer_call_and_return_conditional_losses, embedding_layer_call_fn, embedding_layer_call_and_return_conditional_losses, query_layer_call_fn while saving (showing 5 of 130). These functions will not be directly callable after loading.\n",
            "WARNING:absl:Found untraced functions such as dense_layer_call_fn, dense_layer_call_and_return_conditional_losses, embedding_layer_call_fn, embedding_layer_call_and_return_conditional_losses, query_layer_call_fn while saving (showing 5 of 130). These functions will not be directly callable after loading.\n"
          ],
          "name": "stderr"
        },
        {
          "output_type": "stream",
          "text": [
            "INFO:tensorflow:Assets written to: /content/drive/MyDrive/02_Work/05_Experiments/TF-Transformer/Cifar10_VIT/Cifar10_VIT_210318/assets\n"
          ],
          "name": "stdout"
        },
        {
          "output_type": "stream",
          "text": [
            "INFO:tensorflow:Assets written to: /content/drive/MyDrive/02_Work/05_Experiments/TF-Transformer/Cifar10_VIT/Cifar10_VIT_210318/assets\n"
          ],
          "name": "stderr"
        },
        {
          "output_type": "stream",
          "text": [
            "Epoch 44/50\n",
            "98/98 [==============================] - 14s 139ms/step - loss: 0.5891 - sparse_categorical_accuracy: 0.7904 - val_loss: 0.9155 - val_sparse_categorical_accuracy: 0.7029\n"
          ],
          "name": "stdout"
        },
        {
          "output_type": "stream",
          "text": [
            "WARNING:absl:Found untraced functions such as dense_layer_call_fn, dense_layer_call_and_return_conditional_losses, embedding_layer_call_fn, embedding_layer_call_and_return_conditional_losses, query_layer_call_fn while saving (showing 5 of 130). These functions will not be directly callable after loading.\n",
            "WARNING:absl:Found untraced functions such as dense_layer_call_fn, dense_layer_call_and_return_conditional_losses, embedding_layer_call_fn, embedding_layer_call_and_return_conditional_losses, query_layer_call_fn while saving (showing 5 of 130). These functions will not be directly callable after loading.\n"
          ],
          "name": "stderr"
        },
        {
          "output_type": "stream",
          "text": [
            "INFO:tensorflow:Assets written to: /content/drive/MyDrive/02_Work/05_Experiments/TF-Transformer/Cifar10_VIT/Cifar10_VIT_210318/assets\n"
          ],
          "name": "stdout"
        },
        {
          "output_type": "stream",
          "text": [
            "INFO:tensorflow:Assets written to: /content/drive/MyDrive/02_Work/05_Experiments/TF-Transformer/Cifar10_VIT/Cifar10_VIT_210318/assets\n"
          ],
          "name": "stderr"
        },
        {
          "output_type": "stream",
          "text": [
            "Epoch 45/50\n",
            "98/98 [==============================] - 14s 139ms/step - loss: 0.5732 - sparse_categorical_accuracy: 0.7929 - val_loss: 0.9063 - val_sparse_categorical_accuracy: 0.7068\n"
          ],
          "name": "stdout"
        },
        {
          "output_type": "stream",
          "text": [
            "WARNING:absl:Found untraced functions such as dense_layer_call_fn, dense_layer_call_and_return_conditional_losses, embedding_layer_call_fn, embedding_layer_call_and_return_conditional_losses, query_layer_call_fn while saving (showing 5 of 130). These functions will not be directly callable after loading.\n",
            "WARNING:absl:Found untraced functions such as dense_layer_call_fn, dense_layer_call_and_return_conditional_losses, embedding_layer_call_fn, embedding_layer_call_and_return_conditional_losses, query_layer_call_fn while saving (showing 5 of 130). These functions will not be directly callable after loading.\n"
          ],
          "name": "stderr"
        },
        {
          "output_type": "stream",
          "text": [
            "INFO:tensorflow:Assets written to: /content/drive/MyDrive/02_Work/05_Experiments/TF-Transformer/Cifar10_VIT/Cifar10_VIT_210318/assets\n"
          ],
          "name": "stdout"
        },
        {
          "output_type": "stream",
          "text": [
            "INFO:tensorflow:Assets written to: /content/drive/MyDrive/02_Work/05_Experiments/TF-Transformer/Cifar10_VIT/Cifar10_VIT_210318/assets\n"
          ],
          "name": "stderr"
        },
        {
          "output_type": "stream",
          "text": [
            "Epoch 46/50\n",
            "98/98 [==============================] - 14s 139ms/step - loss: 0.5663 - sparse_categorical_accuracy: 0.7961 - val_loss: 0.9188 - val_sparse_categorical_accuracy: 0.6998\n",
            "Epoch 47/50\n",
            "98/98 [==============================] - 14s 139ms/step - loss: 0.5518 - sparse_categorical_accuracy: 0.8037 - val_loss: 0.9157 - val_sparse_categorical_accuracy: 0.7022\n",
            "Epoch 48/50\n",
            "98/98 [==============================] - 14s 140ms/step - loss: 0.5533 - sparse_categorical_accuracy: 0.8018 - val_loss: 0.9082 - val_sparse_categorical_accuracy: 0.7046\n",
            "Epoch 49/50\n",
            "98/98 [==============================] - 14s 140ms/step - loss: 0.5360 - sparse_categorical_accuracy: 0.8069 - val_loss: 0.9462 - val_sparse_categorical_accuracy: 0.6999\n",
            "Epoch 50/50\n",
            "98/98 [==============================] - 14s 140ms/step - loss: 0.5229 - sparse_categorical_accuracy: 0.8123 - val_loss: 0.9337 - val_sparse_categorical_accuracy: 0.6991\n",
            "Total training time 931.0499205589294 seconds\n"
          ],
          "name": "stdout"
        }
      ]
    },
    {
      "cell_type": "markdown",
      "metadata": {
        "id": "lBFk329fU0D1"
      },
      "source": [
        "**Experiment 1**  \n",
        "Model : CNN  \n",
        "Preprocessing : False  \n",
        "Batch size : 512"
      ]
    },
    {
      "cell_type": "code",
      "metadata": {
        "colab": {
          "base_uri": "https://localhost:8080/"
        },
        "id": "I2h3TyCICccj",
        "outputId": "c479a2a9-c3f3-4be2-c7aa-db362222031b"
      },
      "source": [
        "model_SmallCNN = tf.keras.models.load_model('model_SmallCNN')\n",
        "model_SmallCNN.summary()\n",
        "history_cnn_bs512 = train_and_eval(model_SmallCNN, '/content/drive/MyDrive/02_Work/05_Experiments/TF-Transformer/Cifar10_VIT/Cifar10_CNN_210318')"
      ],
      "execution_count": 14,
      "outputs": [
        {
          "output_type": "stream",
          "text": [
            "WARNING:tensorflow:No training configuration found in save file, so the model was *not* compiled. Compile it manually.\n"
          ],
          "name": "stdout"
        },
        {
          "output_type": "stream",
          "text": [
            "WARNING:tensorflow:No training configuration found in save file, so the model was *not* compiled. Compile it manually.\n"
          ],
          "name": "stderr"
        },
        {
          "output_type": "stream",
          "text": [
            "Model: \"model\"\n",
            "_________________________________________________________________\n",
            "Layer (type)                 Output Shape              Param #   \n",
            "=================================================================\n",
            "input_1 (InputLayer)         [(None, 32, 32, 3)]       0         \n",
            "_________________________________________________________________\n",
            "rescale (Rescaling)          (None, 32, 32, 3)         0         \n",
            "_________________________________________________________________\n",
            "resize (Resizing)            (None, 32, 32, 3)         0         \n",
            "_________________________________________________________________\n",
            "conv1 (Conv2D)               (None, 32, 32, 32)        896       \n",
            "_________________________________________________________________\n",
            "conv2 (Conv2D)               (None, 30, 30, 32)        9248      \n",
            "_________________________________________________________________\n",
            "pool1 (MaxPooling2D)         (None, 14, 14, 32)        0         \n",
            "_________________________________________________________________\n",
            "drop2 (Dropout)              (None, 14, 14, 32)        0         \n",
            "_________________________________________________________________\n",
            "conv3 (Conv2D)               (None, 14, 14, 64)        18496     \n",
            "_________________________________________________________________\n",
            "conv4 (Conv2D)               (None, 12, 12, 64)        36928     \n",
            "_________________________________________________________________\n",
            "pool4 (MaxPooling2D)         (None, 5, 5, 64)          0         \n",
            "_________________________________________________________________\n",
            "drop4 (Dropout)              (None, 5, 5, 64)          0         \n",
            "_________________________________________________________________\n",
            "flat5 (Flatten)              (None, 1600)              0         \n",
            "_________________________________________________________________\n",
            "dens5 (Dense)                (None, 512)               819712    \n",
            "_________________________________________________________________\n",
            "drop5 (Dropout)              (None, 512)               0         \n",
            "_________________________________________________________________\n",
            "logits (Dense)               (None, 10)                5130      \n",
            "=================================================================\n",
            "Total params: 890,410\n",
            "Trainable params: 890,410\n",
            "Non-trainable params: 0\n",
            "_________________________________________________________________\n",
            "Epoch 1/50\n",
            "98/98 [==============================] - 34s 40ms/step - loss: 2.1098 - sparse_categorical_accuracy: 0.2080 - val_loss: 1.6045 - val_sparse_categorical_accuracy: 0.4216\n",
            "INFO:tensorflow:Assets written to: /content/drive/MyDrive/02_Work/05_Experiments/TF-Transformer/Cifar10_VIT/Cifar10_CNN_210318/assets\n"
          ],
          "name": "stdout"
        },
        {
          "output_type": "stream",
          "text": [
            "INFO:tensorflow:Assets written to: /content/drive/MyDrive/02_Work/05_Experiments/TF-Transformer/Cifar10_VIT/Cifar10_CNN_210318/assets\n"
          ],
          "name": "stderr"
        },
        {
          "output_type": "stream",
          "text": [
            "Epoch 2/50\n",
            "98/98 [==============================] - 3s 33ms/step - loss: 1.5668 - sparse_categorical_accuracy: 0.4256 - val_loss: 1.3748 - val_sparse_categorical_accuracy: 0.5007\n",
            "INFO:tensorflow:Assets written to: /content/drive/MyDrive/02_Work/05_Experiments/TF-Transformer/Cifar10_VIT/Cifar10_CNN_210318/assets\n"
          ],
          "name": "stdout"
        },
        {
          "output_type": "stream",
          "text": [
            "INFO:tensorflow:Assets written to: /content/drive/MyDrive/02_Work/05_Experiments/TF-Transformer/Cifar10_VIT/Cifar10_CNN_210318/assets\n"
          ],
          "name": "stderr"
        },
        {
          "output_type": "stream",
          "text": [
            "Epoch 3/50\n",
            "98/98 [==============================] - 3s 33ms/step - loss: 1.3821 - sparse_categorical_accuracy: 0.4975 - val_loss: 1.2228 - val_sparse_categorical_accuracy: 0.5635\n",
            "INFO:tensorflow:Assets written to: /content/drive/MyDrive/02_Work/05_Experiments/TF-Transformer/Cifar10_VIT/Cifar10_CNN_210318/assets\n"
          ],
          "name": "stdout"
        },
        {
          "output_type": "stream",
          "text": [
            "INFO:tensorflow:Assets written to: /content/drive/MyDrive/02_Work/05_Experiments/TF-Transformer/Cifar10_VIT/Cifar10_CNN_210318/assets\n"
          ],
          "name": "stderr"
        },
        {
          "output_type": "stream",
          "text": [
            "Epoch 4/50\n",
            "98/98 [==============================] - 3s 33ms/step - loss: 1.2582 - sparse_categorical_accuracy: 0.5495 - val_loss: 1.1054 - val_sparse_categorical_accuracy: 0.6107\n",
            "INFO:tensorflow:Assets written to: /content/drive/MyDrive/02_Work/05_Experiments/TF-Transformer/Cifar10_VIT/Cifar10_CNN_210318/assets\n"
          ],
          "name": "stdout"
        },
        {
          "output_type": "stream",
          "text": [
            "INFO:tensorflow:Assets written to: /content/drive/MyDrive/02_Work/05_Experiments/TF-Transformer/Cifar10_VIT/Cifar10_CNN_210318/assets\n"
          ],
          "name": "stderr"
        },
        {
          "output_type": "stream",
          "text": [
            "Epoch 5/50\n",
            "98/98 [==============================] - 3s 33ms/step - loss: 1.1658 - sparse_categorical_accuracy: 0.5850 - val_loss: 1.0242 - val_sparse_categorical_accuracy: 0.6383\n",
            "INFO:tensorflow:Assets written to: /content/drive/MyDrive/02_Work/05_Experiments/TF-Transformer/Cifar10_VIT/Cifar10_CNN_210318/assets\n"
          ],
          "name": "stdout"
        },
        {
          "output_type": "stream",
          "text": [
            "INFO:tensorflow:Assets written to: /content/drive/MyDrive/02_Work/05_Experiments/TF-Transformer/Cifar10_VIT/Cifar10_CNN_210318/assets\n"
          ],
          "name": "stderr"
        },
        {
          "output_type": "stream",
          "text": [
            "Epoch 6/50\n",
            "98/98 [==============================] - 3s 33ms/step - loss: 1.0970 - sparse_categorical_accuracy: 0.6135 - val_loss: 0.9655 - val_sparse_categorical_accuracy: 0.6603\n",
            "INFO:tensorflow:Assets written to: /content/drive/MyDrive/02_Work/05_Experiments/TF-Transformer/Cifar10_VIT/Cifar10_CNN_210318/assets\n"
          ],
          "name": "stdout"
        },
        {
          "output_type": "stream",
          "text": [
            "INFO:tensorflow:Assets written to: /content/drive/MyDrive/02_Work/05_Experiments/TF-Transformer/Cifar10_VIT/Cifar10_CNN_210318/assets\n"
          ],
          "name": "stderr"
        },
        {
          "output_type": "stream",
          "text": [
            "Epoch 7/50\n",
            "98/98 [==============================] - 3s 34ms/step - loss: 1.0244 - sparse_categorical_accuracy: 0.6354 - val_loss: 0.9090 - val_sparse_categorical_accuracy: 0.6832\n",
            "INFO:tensorflow:Assets written to: /content/drive/MyDrive/02_Work/05_Experiments/TF-Transformer/Cifar10_VIT/Cifar10_CNN_210318/assets\n"
          ],
          "name": "stdout"
        },
        {
          "output_type": "stream",
          "text": [
            "INFO:tensorflow:Assets written to: /content/drive/MyDrive/02_Work/05_Experiments/TF-Transformer/Cifar10_VIT/Cifar10_CNN_210318/assets\n"
          ],
          "name": "stderr"
        },
        {
          "output_type": "stream",
          "text": [
            "Epoch 8/50\n",
            "98/98 [==============================] - 3s 33ms/step - loss: 0.9765 - sparse_categorical_accuracy: 0.6507 - val_loss: 0.8599 - val_sparse_categorical_accuracy: 0.6986\n",
            "INFO:tensorflow:Assets written to: /content/drive/MyDrive/02_Work/05_Experiments/TF-Transformer/Cifar10_VIT/Cifar10_CNN_210318/assets\n"
          ],
          "name": "stdout"
        },
        {
          "output_type": "stream",
          "text": [
            "INFO:tensorflow:Assets written to: /content/drive/MyDrive/02_Work/05_Experiments/TF-Transformer/Cifar10_VIT/Cifar10_CNN_210318/assets\n"
          ],
          "name": "stderr"
        },
        {
          "output_type": "stream",
          "text": [
            "Epoch 9/50\n",
            "98/98 [==============================] - 3s 33ms/step - loss: 0.9275 - sparse_categorical_accuracy: 0.6767 - val_loss: 0.8281 - val_sparse_categorical_accuracy: 0.7091\n",
            "INFO:tensorflow:Assets written to: /content/drive/MyDrive/02_Work/05_Experiments/TF-Transformer/Cifar10_VIT/Cifar10_CNN_210318/assets\n"
          ],
          "name": "stdout"
        },
        {
          "output_type": "stream",
          "text": [
            "INFO:tensorflow:Assets written to: /content/drive/MyDrive/02_Work/05_Experiments/TF-Transformer/Cifar10_VIT/Cifar10_CNN_210318/assets\n"
          ],
          "name": "stderr"
        },
        {
          "output_type": "stream",
          "text": [
            "Epoch 10/50\n",
            "98/98 [==============================] - 3s 33ms/step - loss: 0.8931 - sparse_categorical_accuracy: 0.6850 - val_loss: 0.8113 - val_sparse_categorical_accuracy: 0.7200\n",
            "INFO:tensorflow:Assets written to: /content/drive/MyDrive/02_Work/05_Experiments/TF-Transformer/Cifar10_VIT/Cifar10_CNN_210318/assets\n"
          ],
          "name": "stdout"
        },
        {
          "output_type": "stream",
          "text": [
            "INFO:tensorflow:Assets written to: /content/drive/MyDrive/02_Work/05_Experiments/TF-Transformer/Cifar10_VIT/Cifar10_CNN_210318/assets\n"
          ],
          "name": "stderr"
        },
        {
          "output_type": "stream",
          "text": [
            "Epoch 11/50\n",
            "98/98 [==============================] - 3s 33ms/step - loss: 0.8599 - sparse_categorical_accuracy: 0.6987 - val_loss: 0.7852 - val_sparse_categorical_accuracy: 0.7275\n",
            "INFO:tensorflow:Assets written to: /content/drive/MyDrive/02_Work/05_Experiments/TF-Transformer/Cifar10_VIT/Cifar10_CNN_210318/assets\n"
          ],
          "name": "stdout"
        },
        {
          "output_type": "stream",
          "text": [
            "INFO:tensorflow:Assets written to: /content/drive/MyDrive/02_Work/05_Experiments/TF-Transformer/Cifar10_VIT/Cifar10_CNN_210318/assets\n"
          ],
          "name": "stderr"
        },
        {
          "output_type": "stream",
          "text": [
            "Epoch 12/50\n",
            "98/98 [==============================] - 3s 33ms/step - loss: 0.8303 - sparse_categorical_accuracy: 0.7063 - val_loss: 0.7412 - val_sparse_categorical_accuracy: 0.7464\n",
            "INFO:tensorflow:Assets written to: /content/drive/MyDrive/02_Work/05_Experiments/TF-Transformer/Cifar10_VIT/Cifar10_CNN_210318/assets\n"
          ],
          "name": "stdout"
        },
        {
          "output_type": "stream",
          "text": [
            "INFO:tensorflow:Assets written to: /content/drive/MyDrive/02_Work/05_Experiments/TF-Transformer/Cifar10_VIT/Cifar10_CNN_210318/assets\n"
          ],
          "name": "stderr"
        },
        {
          "output_type": "stream",
          "text": [
            "Epoch 13/50\n",
            "98/98 [==============================] - 3s 33ms/step - loss: 0.7917 - sparse_categorical_accuracy: 0.7244 - val_loss: 0.7193 - val_sparse_categorical_accuracy: 0.7513\n",
            "INFO:tensorflow:Assets written to: /content/drive/MyDrive/02_Work/05_Experiments/TF-Transformer/Cifar10_VIT/Cifar10_CNN_210318/assets\n"
          ],
          "name": "stdout"
        },
        {
          "output_type": "stream",
          "text": [
            "INFO:tensorflow:Assets written to: /content/drive/MyDrive/02_Work/05_Experiments/TF-Transformer/Cifar10_VIT/Cifar10_CNN_210318/assets\n"
          ],
          "name": "stderr"
        },
        {
          "output_type": "stream",
          "text": [
            "Epoch 14/50\n",
            "98/98 [==============================] - 3s 33ms/step - loss: 0.7796 - sparse_categorical_accuracy: 0.7277 - val_loss: 0.7128 - val_sparse_categorical_accuracy: 0.7486\n",
            "Epoch 15/50\n",
            "98/98 [==============================] - 3s 33ms/step - loss: 0.7607 - sparse_categorical_accuracy: 0.7329 - val_loss: 0.7235 - val_sparse_categorical_accuracy: 0.7514\n",
            "INFO:tensorflow:Assets written to: /content/drive/MyDrive/02_Work/05_Experiments/TF-Transformer/Cifar10_VIT/Cifar10_CNN_210318/assets\n"
          ],
          "name": "stdout"
        },
        {
          "output_type": "stream",
          "text": [
            "INFO:tensorflow:Assets written to: /content/drive/MyDrive/02_Work/05_Experiments/TF-Transformer/Cifar10_VIT/Cifar10_CNN_210318/assets\n"
          ],
          "name": "stderr"
        },
        {
          "output_type": "stream",
          "text": [
            "Epoch 16/50\n",
            "98/98 [==============================] - 3s 33ms/step - loss: 0.7429 - sparse_categorical_accuracy: 0.7389 - val_loss: 0.6978 - val_sparse_categorical_accuracy: 0.7627\n",
            "INFO:tensorflow:Assets written to: /content/drive/MyDrive/02_Work/05_Experiments/TF-Transformer/Cifar10_VIT/Cifar10_CNN_210318/assets\n"
          ],
          "name": "stdout"
        },
        {
          "output_type": "stream",
          "text": [
            "INFO:tensorflow:Assets written to: /content/drive/MyDrive/02_Work/05_Experiments/TF-Transformer/Cifar10_VIT/Cifar10_CNN_210318/assets\n"
          ],
          "name": "stderr"
        },
        {
          "output_type": "stream",
          "text": [
            "Epoch 17/50\n",
            "98/98 [==============================] - 3s 33ms/step - loss: 0.7203 - sparse_categorical_accuracy: 0.7468 - val_loss: 0.6827 - val_sparse_categorical_accuracy: 0.7690\n",
            "INFO:tensorflow:Assets written to: /content/drive/MyDrive/02_Work/05_Experiments/TF-Transformer/Cifar10_VIT/Cifar10_CNN_210318/assets\n"
          ],
          "name": "stdout"
        },
        {
          "output_type": "stream",
          "text": [
            "INFO:tensorflow:Assets written to: /content/drive/MyDrive/02_Work/05_Experiments/TF-Transformer/Cifar10_VIT/Cifar10_CNN_210318/assets\n"
          ],
          "name": "stderr"
        },
        {
          "output_type": "stream",
          "text": [
            "Epoch 18/50\n",
            "98/98 [==============================] - 3s 33ms/step - loss: 0.7131 - sparse_categorical_accuracy: 0.7518 - val_loss: 0.6701 - val_sparse_categorical_accuracy: 0.7684\n",
            "Epoch 19/50\n",
            "98/98 [==============================] - 3s 33ms/step - loss: 0.6931 - sparse_categorical_accuracy: 0.7578 - val_loss: 0.6787 - val_sparse_categorical_accuracy: 0.7682\n",
            "Epoch 20/50\n",
            "98/98 [==============================] - 3s 33ms/step - loss: 0.6829 - sparse_categorical_accuracy: 0.7611 - val_loss: 0.6526 - val_sparse_categorical_accuracy: 0.7753\n",
            "INFO:tensorflow:Assets written to: /content/drive/MyDrive/02_Work/05_Experiments/TF-Transformer/Cifar10_VIT/Cifar10_CNN_210318/assets\n"
          ],
          "name": "stdout"
        },
        {
          "output_type": "stream",
          "text": [
            "INFO:tensorflow:Assets written to: /content/drive/MyDrive/02_Work/05_Experiments/TF-Transformer/Cifar10_VIT/Cifar10_CNN_210318/assets\n"
          ],
          "name": "stderr"
        },
        {
          "output_type": "stream",
          "text": [
            "Epoch 21/50\n",
            "98/98 [==============================] - 3s 33ms/step - loss: 0.6609 - sparse_categorical_accuracy: 0.7692 - val_loss: 0.6543 - val_sparse_categorical_accuracy: 0.7769\n",
            "INFO:tensorflow:Assets written to: /content/drive/MyDrive/02_Work/05_Experiments/TF-Transformer/Cifar10_VIT/Cifar10_CNN_210318/assets\n"
          ],
          "name": "stdout"
        },
        {
          "output_type": "stream",
          "text": [
            "INFO:tensorflow:Assets written to: /content/drive/MyDrive/02_Work/05_Experiments/TF-Transformer/Cifar10_VIT/Cifar10_CNN_210318/assets\n"
          ],
          "name": "stderr"
        },
        {
          "output_type": "stream",
          "text": [
            "Epoch 22/50\n",
            "98/98 [==============================] - 3s 33ms/step - loss: 0.6439 - sparse_categorical_accuracy: 0.7711 - val_loss: 0.6489 - val_sparse_categorical_accuracy: 0.7762\n",
            "Epoch 23/50\n",
            "98/98 [==============================] - 3s 33ms/step - loss: 0.6330 - sparse_categorical_accuracy: 0.7779 - val_loss: 0.6438 - val_sparse_categorical_accuracy: 0.7772\n",
            "INFO:tensorflow:Assets written to: /content/drive/MyDrive/02_Work/05_Experiments/TF-Transformer/Cifar10_VIT/Cifar10_CNN_210318/assets\n"
          ],
          "name": "stdout"
        },
        {
          "output_type": "stream",
          "text": [
            "INFO:tensorflow:Assets written to: /content/drive/MyDrive/02_Work/05_Experiments/TF-Transformer/Cifar10_VIT/Cifar10_CNN_210318/assets\n"
          ],
          "name": "stderr"
        },
        {
          "output_type": "stream",
          "text": [
            "Epoch 24/50\n",
            "98/98 [==============================] - 3s 34ms/step - loss: 0.6292 - sparse_categorical_accuracy: 0.7773 - val_loss: 0.6296 - val_sparse_categorical_accuracy: 0.7863\n",
            "INFO:tensorflow:Assets written to: /content/drive/MyDrive/02_Work/05_Experiments/TF-Transformer/Cifar10_VIT/Cifar10_CNN_210318/assets\n"
          ],
          "name": "stdout"
        },
        {
          "output_type": "stream",
          "text": [
            "INFO:tensorflow:Assets written to: /content/drive/MyDrive/02_Work/05_Experiments/TF-Transformer/Cifar10_VIT/Cifar10_CNN_210318/assets\n"
          ],
          "name": "stderr"
        },
        {
          "output_type": "stream",
          "text": [
            "Epoch 25/50\n",
            "98/98 [==============================] - 3s 33ms/step - loss: 0.6081 - sparse_categorical_accuracy: 0.7846 - val_loss: 0.6313 - val_sparse_categorical_accuracy: 0.7835\n",
            "Epoch 26/50\n",
            "98/98 [==============================] - 3s 33ms/step - loss: 0.6056 - sparse_categorical_accuracy: 0.7874 - val_loss: 0.6448 - val_sparse_categorical_accuracy: 0.7839\n",
            "Epoch 27/50\n",
            "98/98 [==============================] - 3s 33ms/step - loss: 0.6010 - sparse_categorical_accuracy: 0.7895 - val_loss: 0.6189 - val_sparse_categorical_accuracy: 0.7882\n",
            "INFO:tensorflow:Assets written to: /content/drive/MyDrive/02_Work/05_Experiments/TF-Transformer/Cifar10_VIT/Cifar10_CNN_210318/assets\n"
          ],
          "name": "stdout"
        },
        {
          "output_type": "stream",
          "text": [
            "INFO:tensorflow:Assets written to: /content/drive/MyDrive/02_Work/05_Experiments/TF-Transformer/Cifar10_VIT/Cifar10_CNN_210318/assets\n"
          ],
          "name": "stderr"
        },
        {
          "output_type": "stream",
          "text": [
            "Epoch 28/50\n",
            "98/98 [==============================] - 3s 33ms/step - loss: 0.5764 - sparse_categorical_accuracy: 0.7971 - val_loss: 0.6268 - val_sparse_categorical_accuracy: 0.7863\n",
            "Epoch 29/50\n",
            "98/98 [==============================] - 3s 33ms/step - loss: 0.5801 - sparse_categorical_accuracy: 0.7931 - val_loss: 0.6112 - val_sparse_categorical_accuracy: 0.7934\n",
            "INFO:tensorflow:Assets written to: /content/drive/MyDrive/02_Work/05_Experiments/TF-Transformer/Cifar10_VIT/Cifar10_CNN_210318/assets\n"
          ],
          "name": "stdout"
        },
        {
          "output_type": "stream",
          "text": [
            "INFO:tensorflow:Assets written to: /content/drive/MyDrive/02_Work/05_Experiments/TF-Transformer/Cifar10_VIT/Cifar10_CNN_210318/assets\n"
          ],
          "name": "stderr"
        },
        {
          "output_type": "stream",
          "text": [
            "Epoch 30/50\n",
            "98/98 [==============================] - 3s 33ms/step - loss: 0.5690 - sparse_categorical_accuracy: 0.8001 - val_loss: 0.6008 - val_sparse_categorical_accuracy: 0.7940\n",
            "INFO:tensorflow:Assets written to: /content/drive/MyDrive/02_Work/05_Experiments/TF-Transformer/Cifar10_VIT/Cifar10_CNN_210318/assets\n"
          ],
          "name": "stdout"
        },
        {
          "output_type": "stream",
          "text": [
            "INFO:tensorflow:Assets written to: /content/drive/MyDrive/02_Work/05_Experiments/TF-Transformer/Cifar10_VIT/Cifar10_CNN_210318/assets\n"
          ],
          "name": "stderr"
        },
        {
          "output_type": "stream",
          "text": [
            "Epoch 31/50\n",
            "98/98 [==============================] - 3s 33ms/step - loss: 0.5615 - sparse_categorical_accuracy: 0.8007 - val_loss: 0.5869 - val_sparse_categorical_accuracy: 0.7993\n",
            "INFO:tensorflow:Assets written to: /content/drive/MyDrive/02_Work/05_Experiments/TF-Transformer/Cifar10_VIT/Cifar10_CNN_210318/assets\n"
          ],
          "name": "stdout"
        },
        {
          "output_type": "stream",
          "text": [
            "INFO:tensorflow:Assets written to: /content/drive/MyDrive/02_Work/05_Experiments/TF-Transformer/Cifar10_VIT/Cifar10_CNN_210318/assets\n"
          ],
          "name": "stderr"
        },
        {
          "output_type": "stream",
          "text": [
            "Epoch 32/50\n",
            "98/98 [==============================] - 3s 33ms/step - loss: 0.5436 - sparse_categorical_accuracy: 0.8075 - val_loss: 0.6054 - val_sparse_categorical_accuracy: 0.7923\n",
            "Epoch 33/50\n",
            "98/98 [==============================] - 3s 33ms/step - loss: 0.5378 - sparse_categorical_accuracy: 0.8112 - val_loss: 0.5885 - val_sparse_categorical_accuracy: 0.7984\n",
            "Epoch 34/50\n",
            "98/98 [==============================] - 3s 33ms/step - loss: 0.5382 - sparse_categorical_accuracy: 0.8095 - val_loss: 0.5994 - val_sparse_categorical_accuracy: 0.7955\n",
            "Epoch 35/50\n",
            "98/98 [==============================] - 3s 33ms/step - loss: 0.5307 - sparse_categorical_accuracy: 0.8126 - val_loss: 0.5924 - val_sparse_categorical_accuracy: 0.7985\n",
            "Epoch 36/50\n",
            "98/98 [==============================] - 3s 33ms/step - loss: 0.5169 - sparse_categorical_accuracy: 0.8175 - val_loss: 0.5992 - val_sparse_categorical_accuracy: 0.7922\n",
            "Epoch 37/50\n",
            "98/98 [==============================] - 3s 33ms/step - loss: 0.5209 - sparse_categorical_accuracy: 0.8141 - val_loss: 0.5771 - val_sparse_categorical_accuracy: 0.8049\n",
            "INFO:tensorflow:Assets written to: /content/drive/MyDrive/02_Work/05_Experiments/TF-Transformer/Cifar10_VIT/Cifar10_CNN_210318/assets\n"
          ],
          "name": "stdout"
        },
        {
          "output_type": "stream",
          "text": [
            "INFO:tensorflow:Assets written to: /content/drive/MyDrive/02_Work/05_Experiments/TF-Transformer/Cifar10_VIT/Cifar10_CNN_210318/assets\n"
          ],
          "name": "stderr"
        },
        {
          "output_type": "stream",
          "text": [
            "Epoch 38/50\n",
            "98/98 [==============================] - 3s 33ms/step - loss: 0.4988 - sparse_categorical_accuracy: 0.8235 - val_loss: 0.6063 - val_sparse_categorical_accuracy: 0.7924\n",
            "Epoch 39/50\n",
            "98/98 [==============================] - 3s 33ms/step - loss: 0.4907 - sparse_categorical_accuracy: 0.8283 - val_loss: 0.5817 - val_sparse_categorical_accuracy: 0.8032\n",
            "Epoch 40/50\n",
            "98/98 [==============================] - 3s 33ms/step - loss: 0.4960 - sparse_categorical_accuracy: 0.8204 - val_loss: 0.5938 - val_sparse_categorical_accuracy: 0.7998\n",
            "Epoch 41/50\n",
            "98/98 [==============================] - 3s 33ms/step - loss: 0.4894 - sparse_categorical_accuracy: 0.8261 - val_loss: 0.5788 - val_sparse_categorical_accuracy: 0.8036\n",
            "Epoch 42/50\n",
            "98/98 [==============================] - 3s 33ms/step - loss: 0.4784 - sparse_categorical_accuracy: 0.8296 - val_loss: 0.5796 - val_sparse_categorical_accuracy: 0.8035\n",
            "Epoch 43/50\n",
            "98/98 [==============================] - 3s 33ms/step - loss: 0.4736 - sparse_categorical_accuracy: 0.8324 - val_loss: 0.5891 - val_sparse_categorical_accuracy: 0.8024\n",
            "Epoch 44/50\n",
            "98/98 [==============================] - 3s 33ms/step - loss: 0.4646 - sparse_categorical_accuracy: 0.8346 - val_loss: 0.5814 - val_sparse_categorical_accuracy: 0.8054\n",
            "INFO:tensorflow:Assets written to: /content/drive/MyDrive/02_Work/05_Experiments/TF-Transformer/Cifar10_VIT/Cifar10_CNN_210318/assets\n"
          ],
          "name": "stdout"
        },
        {
          "output_type": "stream",
          "text": [
            "INFO:tensorflow:Assets written to: /content/drive/MyDrive/02_Work/05_Experiments/TF-Transformer/Cifar10_VIT/Cifar10_CNN_210318/assets\n"
          ],
          "name": "stderr"
        },
        {
          "output_type": "stream",
          "text": [
            "Epoch 45/50\n",
            "98/98 [==============================] - 3s 34ms/step - loss: 0.4603 - sparse_categorical_accuracy: 0.8355 - val_loss: 0.5736 - val_sparse_categorical_accuracy: 0.8074\n",
            "INFO:tensorflow:Assets written to: /content/drive/MyDrive/02_Work/05_Experiments/TF-Transformer/Cifar10_VIT/Cifar10_CNN_210318/assets\n"
          ],
          "name": "stdout"
        },
        {
          "output_type": "stream",
          "text": [
            "INFO:tensorflow:Assets written to: /content/drive/MyDrive/02_Work/05_Experiments/TF-Transformer/Cifar10_VIT/Cifar10_CNN_210318/assets\n"
          ],
          "name": "stderr"
        },
        {
          "output_type": "stream",
          "text": [
            "Epoch 46/50\n",
            "98/98 [==============================] - 3s 33ms/step - loss: 0.4552 - sparse_categorical_accuracy: 0.8364 - val_loss: 0.5936 - val_sparse_categorical_accuracy: 0.8034\n",
            "Epoch 47/50\n",
            "98/98 [==============================] - 3s 33ms/step - loss: 0.4554 - sparse_categorical_accuracy: 0.8354 - val_loss: 0.5800 - val_sparse_categorical_accuracy: 0.8051\n",
            "Epoch 48/50\n",
            "98/98 [==============================] - 3s 33ms/step - loss: 0.4516 - sparse_categorical_accuracy: 0.8404 - val_loss: 0.5699 - val_sparse_categorical_accuracy: 0.8099\n",
            "INFO:tensorflow:Assets written to: /content/drive/MyDrive/02_Work/05_Experiments/TF-Transformer/Cifar10_VIT/Cifar10_CNN_210318/assets\n"
          ],
          "name": "stdout"
        },
        {
          "output_type": "stream",
          "text": [
            "INFO:tensorflow:Assets written to: /content/drive/MyDrive/02_Work/05_Experiments/TF-Transformer/Cifar10_VIT/Cifar10_CNN_210318/assets\n"
          ],
          "name": "stderr"
        },
        {
          "output_type": "stream",
          "text": [
            "Epoch 49/50\n",
            "98/98 [==============================] - 3s 33ms/step - loss: 0.4547 - sparse_categorical_accuracy: 0.8384 - val_loss: 0.5778 - val_sparse_categorical_accuracy: 0.8061\n",
            "Epoch 50/50\n",
            "98/98 [==============================] - 3s 33ms/step - loss: 0.4395 - sparse_categorical_accuracy: 0.8431 - val_loss: 0.5793 - val_sparse_categorical_accuracy: 0.8059\n",
            "Total training time 236.0085940361023 seconds\n"
          ],
          "name": "stdout"
        }
      ]
    },
    {
      "cell_type": "markdown",
      "metadata": {
        "id": "2n8bpH3YC3jZ"
      },
      "source": [
        "# Loss and accuracy plots"
      ]
    },
    {
      "cell_type": "code",
      "metadata": {
        "id": "oYmEyrccDQBr"
      },
      "source": [
        "def plot(losses: list, accuracies: list, legend_labels: list, subplot_title: list):\n",
        "  fig, (ax1, ax2) = plt.subplots(1, 2, figsize=(14,4))\n",
        "  \n",
        "  for x, ll in zip(losses, legend_labels):\n",
        "    ax1.plot(x, label=ll)\n",
        "  ax1.set_xlabel('Epochs')\n",
        "  ax1.set_ylabel('Loss')\n",
        "  ax1.set_title(subplot_title[0])\n",
        "  ax1.legend()    \n",
        "  \n",
        "  for x, ll in zip(accuracies, legend_labels):\n",
        "    ax2.plot(x, label=ll)\n",
        "  ax2.set_xlabel('Epochs')\n",
        "  ax2.set_ylabel('Accuracy')\n",
        "  ax2.set_title(subplot_title[1])\n",
        "  ax2.legend()    \n",
        "\n",
        "  plt.show()"
      ],
      "execution_count": 15,
      "outputs": []
    },
    {
      "cell_type": "code",
      "metadata": {
        "colab": {
          "base_uri": "https://localhost:8080/",
          "height": 581
        },
        "id": "7wiv5v_yDQ4M",
        "outputId": "2f86afca-eb61-42dd-82bc-80ec9e4e1dd2"
      },
      "source": [
        "legends = ['CNN, 512', 'VIT, 512']\n",
        "histories = [history_cnn_bs512, history_vit_bs512]\n",
        "\n",
        "plot([i.history['loss'] for i in histories], \n",
        "     [i.history['sparse_categorical_accuracy'] for i in histories],\n",
        "     legends,\n",
        "     subplot_title=['Training Loss', 'Training Accuracy'])\n",
        "plot([i.history['val_loss'] for i in histories], \n",
        "     [i.history['val_sparse_categorical_accuracy'] for i in histories],\n",
        "     legends,\n",
        "     subplot_title=['Validation Loss', 'Validation Accuracy'])"
      ],
      "execution_count": 16,
      "outputs": [
        {
          "output_type": "display_data",
          "data": {
            "image/png": "[encoded data removed]",
            "text/plain": [
              "<Figure size 1008x288 with 2 Axes>"
            ]
          },
          "metadata": {
            "tags": [],
            "needs_background": "light"
          }
        },
        {
          "output_type": "display_data",
          "data": {
            "image/png": "[encoded data removed]",
            "text/plain": [
              "<Figure size 1008x288 with 2 Axes>"
            ]
          },
          "metadata": {
            "tags": [],
            "needs_background": "light"
          }
        }
      ]
    }
  ]
}